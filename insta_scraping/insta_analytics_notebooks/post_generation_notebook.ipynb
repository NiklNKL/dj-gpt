{
 "cells": [
  {
   "cell_type": "code",
   "execution_count": 1,
   "id": "e98d9ccb",
   "metadata": {},
   "outputs": [
    {
     "name": "stdout",
     "output_type": "stream",
     "text": [
      "Added /home/developing_nacho/fhdw/web_social_analytics/dj-gpt/insta_scraping to Python path.\n",
      "Changed working directory to /home/developing_nacho/fhdw/web_social_analytics/dj-gpt/insta_scraping.\n"
     ]
    }
   ],
   "source": [
    "import sys\n",
    "import os\n",
    "\n",
    "_path_added = False\n",
    "\n",
    "def add_project_root_to_path():\n",
    "    \"\"\"\n",
    "    Check if the project root directory is in the Python path.\n",
    "    If not, add it to sys.path and change the working directory to the project root.\n",
    "    \"\"\"\n",
    "    global _path_added\n",
    "\n",
    "    if _path_added:\n",
    "        return\n",
    "    \n",
    "    root_dir = os.path.abspath(os.path.join(os.getcwd(), '..'))\n",
    "\n",
    "    if root_dir not in sys.path:\n",
    "        sys.path.append(root_dir)\n",
    "        print(f\"Added {root_dir} to Python path.\")\n",
    "    \n",
    "    if os.getcwd() != root_dir:\n",
    "        os.chdir(root_dir)\n",
    "        print(f\"Changed working directory to {root_dir}.\")\n",
    "    _path_added = True\n",
    "\n",
    "\n",
    "add_project_root_to_path()"
   ]
  },
  {
   "cell_type": "code",
   "execution_count": 2,
   "id": "4fd7fcd6",
   "metadata": {},
   "outputs": [
    {
     "name": "stdout",
     "output_type": "stream",
     "text": [
      "/home/developing_nacho/fhdw/web_social_analytics/dj-gpt/insta_scraping\n"
     ]
    }
   ],
   "source": [
    "from sqlalchemy import create_engine\n",
    "from sqlalchemy.orm import sessionmaker\n",
    "from dorfterror_database.database_structure import Base, Post, Profile\n",
    "from pathlib import Path\n",
    "\n",
    "root_path = Path(\".\").resolve()\n",
    "print(root_path)\n",
    "\n",
    "engine = create_engine(f\"sqlite:///{root_path}/dorfterror_database/dorfterror.db\")\n",
    "Base.metadata.create_all(engine)\n",
    "\n",
    "Session = sessionmaker(bind=engine)\n",
    "session = Session()"
   ]
  },
  {
   "cell_type": "code",
   "execution_count": 3,
   "id": "f3bf0b93",
   "metadata": {},
   "outputs": [
    {
     "name": "stdout",
     "output_type": "stream",
     "text": [
      "[<dorfterror_database.database_structure.Post object at 0x76305a8f21b0>, <dorfterror_database.database_structure.Post object at 0x76305a8f1ca0>, <dorfterror_database.database_structure.Post object at 0x76305a8f14c0>, <dorfterror_database.database_structure.Post object at 0x76305a8f2210>, <dorfterror_database.database_structure.Post object at 0x76305a8f2240>, <dorfterror_database.database_structure.Post object at 0x76305a8f22a0>, <dorfterror_database.database_structure.Post object at 0x76305a8f2300>, <dorfterror_database.database_structure.Post object at 0x76305a8f2330>, <dorfterror_database.database_structure.Post object at 0x76305a8f2360>, <dorfterror_database.database_structure.Post object at 0x76305a8f2390>, <dorfterror_database.database_structure.Post object at 0x76305a8f23f0>, <dorfterror_database.database_structure.Post object at 0x76305a8f2450>, <dorfterror_database.database_structure.Post object at 0x76305a8f2480>, <dorfterror_database.database_structure.Post object at 0x76305a8f24b0>, <dorfterror_database.database_structure.Post object at 0x76305a8f24e0>, <dorfterror_database.database_structure.Post object at 0x76305a8f2570>, <dorfterror_database.database_structure.Post object at 0x76305a8f25a0>, <dorfterror_database.database_structure.Post object at 0x76305a8f25d0>, <dorfterror_database.database_structure.Post object at 0x76305a8f2600>, <dorfterror_database.database_structure.Post object at 0x76305a8f2660>, <dorfterror_database.database_structure.Post object at 0x76305a8f2690>, <dorfterror_database.database_structure.Post object at 0x76305a8f26c0>, <dorfterror_database.database_structure.Post object at 0x76305a8f26f0>, <dorfterror_database.database_structure.Post object at 0x76305a8f2720>, <dorfterror_database.database_structure.Post object at 0x76305a8f2750>, <dorfterror_database.database_structure.Post object at 0x76305a8f2780>, <dorfterror_database.database_structure.Post object at 0x76305a8f27e0>, <dorfterror_database.database_structure.Post object at 0x76305a8f2840>, <dorfterror_database.database_structure.Post object at 0x76305a8f28d0>, <dorfterror_database.database_structure.Post object at 0x76305a8f2930>, <dorfterror_database.database_structure.Post object at 0x76305a8f29c0>, <dorfterror_database.database_structure.Post object at 0x76305a8f2a20>, <dorfterror_database.database_structure.Post object at 0x76305a8f2a80>, <dorfterror_database.database_structure.Post object at 0x76305a8f2ae0>, <dorfterror_database.database_structure.Post object at 0x76305a8f2b40>, <dorfterror_database.database_structure.Post object at 0x76305a8f2ba0>, <dorfterror_database.database_structure.Post object at 0x76305a8f2c00>, <dorfterror_database.database_structure.Post object at 0x76305a8f2c60>, <dorfterror_database.database_structure.Post object at 0x76305a8f2cc0>, <dorfterror_database.database_structure.Post object at 0x76305a8f2d50>, <dorfterror_database.database_structure.Post object at 0x76305a8f2de0>, <dorfterror_database.database_structure.Post object at 0x76305a8f2e70>, <dorfterror_database.database_structure.Post object at 0x76305a8f2ed0>, <dorfterror_database.database_structure.Post object at 0x76305a8f2f30>, <dorfterror_database.database_structure.Post object at 0x76305a8f2f90>, <dorfterror_database.database_structure.Post object at 0x76305a8f2ff0>, <dorfterror_database.database_structure.Post object at 0x76305a8f3050>, <dorfterror_database.database_structure.Post object at 0x76305a8f30b0>, <dorfterror_database.database_structure.Post object at 0x76305a8f3110>, <dorfterror_database.database_structure.Post object at 0x76305a8f3170>, <dorfterror_database.database_structure.Post object at 0x76305a8f3200>, <dorfterror_database.database_structure.Post object at 0x76305a8f3290>, <dorfterror_database.database_structure.Post object at 0x76305a8f32f0>, <dorfterror_database.database_structure.Post object at 0x76305a8f3380>, <dorfterror_database.database_structure.Post object at 0x76305a8f33e0>, <dorfterror_database.database_structure.Post object at 0x76305a8f3440>, <dorfterror_database.database_structure.Post object at 0x76305a8f34a0>, <dorfterror_database.database_structure.Post object at 0x76305a8f3500>, <dorfterror_database.database_structure.Post object at 0x76305a8f3560>, <dorfterror_database.database_structure.Post object at 0x76305a8f35f0>, <dorfterror_database.database_structure.Post object at 0x76305a8f3650>, <dorfterror_database.database_structure.Post object at 0x76305a8f36e0>, <dorfterror_database.database_structure.Post object at 0x76305a8f3740>, <dorfterror_database.database_structure.Post object at 0x76305a8f37a0>, <dorfterror_database.database_structure.Post object at 0x76305a8f3830>, <dorfterror_database.database_structure.Post object at 0x76305a8f38c0>, <dorfterror_database.database_structure.Post object at 0x76305a8f3920>, <dorfterror_database.database_structure.Post object at 0x76305a8f3980>, <dorfterror_database.database_structure.Post object at 0x76305a8f39e0>, <dorfterror_database.database_structure.Post object at 0x76305a8f3a70>, <dorfterror_database.database_structure.Post object at 0x76305a8f3ad0>, <dorfterror_database.database_structure.Post object at 0x76305a8f3b30>, <dorfterror_database.database_structure.Post object at 0x76305a8f3b90>, <dorfterror_database.database_structure.Post object at 0x76305a8f3bf0>, <dorfterror_database.database_structure.Post object at 0x76305a8f3c50>, <dorfterror_database.database_structure.Post object at 0x76305a8f3ce0>, <dorfterror_database.database_structure.Post object at 0x76305a8f3d40>, <dorfterror_database.database_structure.Post object at 0x76305a8f3da0>, <dorfterror_database.database_structure.Post object at 0x76305a8f3e00>, <dorfterror_database.database_structure.Post object at 0x76305a8f3e60>, <dorfterror_database.database_structure.Post object at 0x76305a8f3ec0>, <dorfterror_database.database_structure.Post object at 0x76305a8f3f20>, <dorfterror_database.database_structure.Post object at 0x76305a8f3f80>, <dorfterror_database.database_structure.Post object at 0x76305a8f3fe0>, <dorfterror_database.database_structure.Post object at 0x76305a91c080>, <dorfterror_database.database_structure.Post object at 0x76305a91c0e0>, <dorfterror_database.database_structure.Post object at 0x76305a91c170>, <dorfterror_database.database_structure.Post object at 0x76305a91c230>, <dorfterror_database.database_structure.Post object at 0x76305a91c290>, <dorfterror_database.database_structure.Post object at 0x76305a91c2f0>, <dorfterror_database.database_structure.Post object at 0x76305a91c350>, <dorfterror_database.database_structure.Post object at 0x76305a91c3e0>, <dorfterror_database.database_structure.Post object at 0x76305a91c4a0>, <dorfterror_database.database_structure.Post object at 0x76305a91c500>, <dorfterror_database.database_structure.Post object at 0x76305a91c560>, <dorfterror_database.database_structure.Post object at 0x76305a91c5c0>, <dorfterror_database.database_structure.Post object at 0x76305a91c620>, <dorfterror_database.database_structure.Post object at 0x76305a91c6b0>, <dorfterror_database.database_structure.Post object at 0x76305a91c710>, <dorfterror_database.database_structure.Post object at 0x76305a91c770>, <dorfterror_database.database_structure.Post object at 0x76305a91c7d0>, <dorfterror_database.database_structure.Post object at 0x76305a91c830>, <dorfterror_database.database_structure.Post object at 0x76305a91c890>, <dorfterror_database.database_structure.Post object at 0x76305a91c8f0>, <dorfterror_database.database_structure.Post object at 0x76305a91c950>, <dorfterror_database.database_structure.Post object at 0x76305a91c9b0>, <dorfterror_database.database_structure.Post object at 0x76305a91ca10>, <dorfterror_database.database_structure.Post object at 0x76305a91ca70>, <dorfterror_database.database_structure.Post object at 0x76305a91cad0>, <dorfterror_database.database_structure.Post object at 0x76305a91cb30>, <dorfterror_database.database_structure.Post object at 0x76305a91cb90>, <dorfterror_database.database_structure.Post object at 0x76305a91cbf0>, <dorfterror_database.database_structure.Post object at 0x76305a91cc50>, <dorfterror_database.database_structure.Post object at 0x76305a91ccb0>, <dorfterror_database.database_structure.Post object at 0x76305a91cd10>, <dorfterror_database.database_structure.Post object at 0x76305a91cda0>, <dorfterror_database.database_structure.Post object at 0x76305a91ce00>, <dorfterror_database.database_structure.Post object at 0x76305a91ce60>, <dorfterror_database.database_structure.Post object at 0x76305a91cf20>, <dorfterror_database.database_structure.Post object at 0x76305a91cf80>, <dorfterror_database.database_structure.Post object at 0x76305a91cfe0>, <dorfterror_database.database_structure.Post object at 0x76305a91d0d0>, <dorfterror_database.database_structure.Post object at 0x76305a91d130>, <dorfterror_database.database_structure.Post object at 0x76305a91d1f0>, <dorfterror_database.database_structure.Post object at 0x76305a91d250>, <dorfterror_database.database_structure.Post object at 0x76305a91d2b0>, <dorfterror_database.database_structure.Post object at 0x76305a91d310>, <dorfterror_database.database_structure.Post object at 0x76305a91d370>, <dorfterror_database.database_structure.Post object at 0x76305a91d3d0>, <dorfterror_database.database_structure.Post object at 0x76305a91d430>, <dorfterror_database.database_structure.Post object at 0x76305a91d490>, <dorfterror_database.database_structure.Post object at 0x76305a91d4f0>, <dorfterror_database.database_structure.Post object at 0x76305a91d580>, <dorfterror_database.database_structure.Post object at 0x76305a91d5e0>, <dorfterror_database.database_structure.Post object at 0x76305a91d670>, <dorfterror_database.database_structure.Post object at 0x76305a91d6d0>, <dorfterror_database.database_structure.Post object at 0x76305a91d790>, <dorfterror_database.database_structure.Post object at 0x76305a91d820>, <dorfterror_database.database_structure.Post object at 0x76305a91d880>, <dorfterror_database.database_structure.Post object at 0x76305a91d910>, <dorfterror_database.database_structure.Post object at 0x76305a91d970>, <dorfterror_database.database_structure.Post object at 0x76305a91da30>, <dorfterror_database.database_structure.Post object at 0x76305a91da90>, <dorfterror_database.database_structure.Post object at 0x76305a91daf0>, <dorfterror_database.database_structure.Post object at 0x76305a91db80>, <dorfterror_database.database_structure.Post object at 0x76305a91dc40>, <dorfterror_database.database_structure.Post object at 0x76305a91dca0>, <dorfterror_database.database_structure.Post object at 0x76305a91dd00>, <dorfterror_database.database_structure.Post object at 0x76305a91dd60>, <dorfterror_database.database_structure.Post object at 0x76305a91ddc0>, <dorfterror_database.database_structure.Post object at 0x76305a91de50>, <dorfterror_database.database_structure.Post object at 0x76305a91dee0>, <dorfterror_database.database_structure.Post object at 0x76305a91df70>, <dorfterror_database.database_structure.Post object at 0x76305a91dfd0>, <dorfterror_database.database_structure.Post object at 0x76305a91e060>, <dorfterror_database.database_structure.Post object at 0x76305a91e0f0>, <dorfterror_database.database_structure.Post object at 0x76305a91e150>, <dorfterror_database.database_structure.Post object at 0x76305a91e1b0>, <dorfterror_database.database_structure.Post object at 0x76305a91e210>, <dorfterror_database.database_structure.Post object at 0x76305a91e270>, <dorfterror_database.database_structure.Post object at 0x76305a91e2d0>, <dorfterror_database.database_structure.Post object at 0x76305a91e330>, <dorfterror_database.database_structure.Post object at 0x76305a91e390>, <dorfterror_database.database_structure.Post object at 0x76305a91e3f0>, <dorfterror_database.database_structure.Post object at 0x76305a91e450>, <dorfterror_database.database_structure.Post object at 0x76305a91e4b0>, <dorfterror_database.database_structure.Post object at 0x76305a91e510>, <dorfterror_database.database_structure.Post object at 0x76305a91e570>, <dorfterror_database.database_structure.Post object at 0x76305a91e5d0>, <dorfterror_database.database_structure.Post object at 0x76305a91e660>, <dorfterror_database.database_structure.Post object at 0x76305a91e6c0>, <dorfterror_database.database_structure.Post object at 0x76305a91e720>, <dorfterror_database.database_structure.Post object at 0x76305a91e7b0>, <dorfterror_database.database_structure.Post object at 0x76305a91e840>, <dorfterror_database.database_structure.Post object at 0x76305a91e8d0>, <dorfterror_database.database_structure.Post object at 0x76305a91e930>, <dorfterror_database.database_structure.Post object at 0x76305a91e990>, <dorfterror_database.database_structure.Post object at 0x76305a91ea20>, <dorfterror_database.database_structure.Post object at 0x76305a91ea80>, <dorfterror_database.database_structure.Post object at 0x76305a91eb10>, <dorfterror_database.database_structure.Post object at 0x76305a91eb70>, <dorfterror_database.database_structure.Post object at 0x76305a91ec00>, <dorfterror_database.database_structure.Post object at 0x76305a91ec60>, <dorfterror_database.database_structure.Post object at 0x76305a91ed20>, <dorfterror_database.database_structure.Post object at 0x76305a91edb0>, <dorfterror_database.database_structure.Post object at 0x76305a91ee40>, <dorfterror_database.database_structure.Post object at 0x76305a91eea0>, <dorfterror_database.database_structure.Post object at 0x76305a91ef30>, <dorfterror_database.database_structure.Post object at 0x76305a91ef90>, <dorfterror_database.database_structure.Post object at 0x76305a91f020>, <dorfterror_database.database_structure.Post object at 0x76305a91f080>, <dorfterror_database.database_structure.Post object at 0x76305a91f0e0>, <dorfterror_database.database_structure.Post object at 0x76305a91f140>, <dorfterror_database.database_structure.Post object at 0x76305a91f1a0>, <dorfterror_database.database_structure.Post object at 0x76305a91f200>, <dorfterror_database.database_structure.Post object at 0x76305a91f260>, <dorfterror_database.database_structure.Post object at 0x76305a91f2c0>, <dorfterror_database.database_structure.Post object at 0x76305a91f320>, <dorfterror_database.database_structure.Post object at 0x76305a91f380>, <dorfterror_database.database_structure.Post object at 0x76305a91f3e0>, <dorfterror_database.database_structure.Post object at 0x76305a91f440>, <dorfterror_database.database_structure.Post object at 0x76305a91f4d0>, <dorfterror_database.database_structure.Post object at 0x76305a91f530>, <dorfterror_database.database_structure.Post object at 0x76305a91f590>, <dorfterror_database.database_structure.Post object at 0x76305a91f620>, <dorfterror_database.database_structure.Post object at 0x76305a91f680>, <dorfterror_database.database_structure.Post object at 0x76305a91f6e0>, <dorfterror_database.database_structure.Post object at 0x76305a91f740>, <dorfterror_database.database_structure.Post object at 0x76305a91f7d0>, <dorfterror_database.database_structure.Post object at 0x76305a91f860>, <dorfterror_database.database_structure.Post object at 0x76305a91f8f0>, <dorfterror_database.database_structure.Post object at 0x76305a91f950>, <dorfterror_database.database_structure.Post object at 0x76305a91f9e0>, <dorfterror_database.database_structure.Post object at 0x76305a91faa0>, <dorfterror_database.database_structure.Post object at 0x76305a91fb00>, <dorfterror_database.database_structure.Post object at 0x76305a91fb60>, <dorfterror_database.database_structure.Post object at 0x76305a91fbc0>, <dorfterror_database.database_structure.Post object at 0x76305a91fc20>, <dorfterror_database.database_structure.Post object at 0x76305a91fc80>, <dorfterror_database.database_structure.Post object at 0x76305a91fd10>, <dorfterror_database.database_structure.Post object at 0x76305a91fd70>, <dorfterror_database.database_structure.Post object at 0x76305a91fdd0>, <dorfterror_database.database_structure.Post object at 0x76305a91fe60>, <dorfterror_database.database_structure.Post object at 0x76305a91fef0>, <dorfterror_database.database_structure.Post object at 0x76305a91ff50>, <dorfterror_database.database_structure.Post object at 0x76305a91ffe0>, <dorfterror_database.database_structure.Post object at 0x76305a934080>, <dorfterror_database.database_structure.Post object at 0x76305a934110>, <dorfterror_database.database_structure.Post object at 0x76305a934170>, <dorfterror_database.database_structure.Post object at 0x76305a9341d0>, <dorfterror_database.database_structure.Post object at 0x76305a934260>, <dorfterror_database.database_structure.Post object at 0x76305a9342c0>, <dorfterror_database.database_structure.Post object at 0x76305a934350>, <dorfterror_database.database_structure.Post object at 0x76305a9343b0>, <dorfterror_database.database_structure.Post object at 0x76305a934410>, <dorfterror_database.database_structure.Post object at 0x76305a9344a0>, <dorfterror_database.database_structure.Post object at 0x76305a934500>, <dorfterror_database.database_structure.Post object at 0x76305a934560>, <dorfterror_database.database_structure.Post object at 0x76305a9345c0>, <dorfterror_database.database_structure.Post object at 0x76305a934620>, <dorfterror_database.database_structure.Post object at 0x76305a934680>, <dorfterror_database.database_structure.Post object at 0x76305a9346e0>, <dorfterror_database.database_structure.Post object at 0x76305a934740>, <dorfterror_database.database_structure.Post object at 0x76305a9347a0>, <dorfterror_database.database_structure.Post object at 0x76305a934800>, <dorfterror_database.database_structure.Post object at 0x76305a934860>, <dorfterror_database.database_structure.Post object at 0x76305a9348f0>, <dorfterror_database.database_structure.Post object at 0x76305a934980>, <dorfterror_database.database_structure.Post object at 0x76305a934a10>, <dorfterror_database.database_structure.Post object at 0x76305a934aa0>, <dorfterror_database.database_structure.Post object at 0x76305a934b00>, <dorfterror_database.database_structure.Post object at 0x76305a934b60>, <dorfterror_database.database_structure.Post object at 0x76305a934bf0>, <dorfterror_database.database_structure.Post object at 0x76305a934c50>, <dorfterror_database.database_structure.Post object at 0x76305a934d10>, <dorfterror_database.database_structure.Post object at 0x76305a934da0>, <dorfterror_database.database_structure.Post object at 0x76305a934e00>, <dorfterror_database.database_structure.Post object at 0x76305a934e60>, <dorfterror_database.database_structure.Post object at 0x76305a934ec0>, <dorfterror_database.database_structure.Post object at 0x76305a934f20>, <dorfterror_database.database_structure.Post object at 0x76305a934fb0>, <dorfterror_database.database_structure.Post object at 0x76305a935040>, <dorfterror_database.database_structure.Post object at 0x76305a9350a0>, <dorfterror_database.database_structure.Post object at 0x76305a935100>, <dorfterror_database.database_structure.Post object at 0x76305a935160>, <dorfterror_database.database_structure.Post object at 0x76305a9351c0>, <dorfterror_database.database_structure.Post object at 0x76305a935220>, <dorfterror_database.database_structure.Post object at 0x76305a935280>, <dorfterror_database.database_structure.Post object at 0x76305a9352e0>, <dorfterror_database.database_structure.Post object at 0x76305a935370>, <dorfterror_database.database_structure.Post object at 0x76305a9353d0>, <dorfterror_database.database_structure.Post object at 0x76305a935430>, <dorfterror_database.database_structure.Post object at 0x76305a935490>, <dorfterror_database.database_structure.Post object at 0x76305a9354f0>, <dorfterror_database.database_structure.Post object at 0x76305a935550>, <dorfterror_database.database_structure.Post object at 0x76305a9355b0>, <dorfterror_database.database_structure.Post object at 0x76305a935610>, <dorfterror_database.database_structure.Post object at 0x76305a9356a0>, <dorfterror_database.database_structure.Post object at 0x76305a935730>, <dorfterror_database.database_structure.Post object at 0x76305a935790>, <dorfterror_database.database_structure.Post object at 0x76305a9357f0>, <dorfterror_database.database_structure.Post object at 0x76305a935880>, <dorfterror_database.database_structure.Post object at 0x76305a9358e0>, <dorfterror_database.database_structure.Post object at 0x76305a935940>, <dorfterror_database.database_structure.Post object at 0x76305a9359d0>, <dorfterror_database.database_structure.Post object at 0x76305a935a30>, <dorfterror_database.database_structure.Post object at 0x76305a935ac0>, <dorfterror_database.database_structure.Post object at 0x76305a935b20>, <dorfterror_database.database_structure.Post object at 0x76305a935bb0>, <dorfterror_database.database_structure.Post object at 0x76305a935c10>, <dorfterror_database.database_structure.Post object at 0x76305a935cd0>, <dorfterror_database.database_structure.Post object at 0x76305a935d30>, <dorfterror_database.database_structure.Post object at 0x76305a935dc0>, <dorfterror_database.database_structure.Post object at 0x76305a935e20>, <dorfterror_database.database_structure.Post object at 0x76305a935eb0>, <dorfterror_database.database_structure.Post object at 0x76305a935f40>, <dorfterror_database.database_structure.Post object at 0x76305a936000>, <dorfterror_database.database_structure.Post object at 0x76305a9360c0>, <dorfterror_database.database_structure.Post object at 0x76305a936150>, <dorfterror_database.database_structure.Post object at 0x76305a9361e0>, <dorfterror_database.database_structure.Post object at 0x76305a936270>, <dorfterror_database.database_structure.Post object at 0x76305a936300>, <dorfterror_database.database_structure.Post object at 0x76305a936360>, <dorfterror_database.database_structure.Post object at 0x76305a9363c0>, <dorfterror_database.database_structure.Post object at 0x76305a936420>, <dorfterror_database.database_structure.Post object at 0x76305a936480>, <dorfterror_database.database_structure.Post object at 0x76305a936510>, <dorfterror_database.database_structure.Post object at 0x76305a936570>, <dorfterror_database.database_structure.Post object at 0x76305a936630>, <dorfterror_database.database_structure.Post object at 0x76305a936690>, <dorfterror_database.database_structure.Post object at 0x76305a936720>, <dorfterror_database.database_structure.Post object at 0x76305a936780>, <dorfterror_database.database_structure.Post object at 0x76305a936840>, <dorfterror_database.database_structure.Post object at 0x76305a9368a0>, <dorfterror_database.database_structure.Post object at 0x76305a936960>, <dorfterror_database.database_structure.Post object at 0x76305a9369c0>, <dorfterror_database.database_structure.Post object at 0x76305a936a80>, <dorfterror_database.database_structure.Post object at 0x76305a936ae0>, <dorfterror_database.database_structure.Post object at 0x76305a936ba0>, <dorfterror_database.database_structure.Post object at 0x76305a936c00>, <dorfterror_database.database_structure.Post object at 0x76305a936c90>, <dorfterror_database.database_structure.Post object at 0x76305a936cf0>, <dorfterror_database.database_structure.Post object at 0x76305a936d50>, <dorfterror_database.database_structure.Post object at 0x76305a936db0>, <dorfterror_database.database_structure.Post object at 0x76305a936e10>, <dorfterror_database.database_structure.Post object at 0x76305a936ea0>, <dorfterror_database.database_structure.Post object at 0x76305a936f30>, <dorfterror_database.database_structure.Post object at 0x76305a936fc0>, <dorfterror_database.database_structure.Post object at 0x76305a937020>, <dorfterror_database.database_structure.Post object at 0x76305a9370b0>, <dorfterror_database.database_structure.Post object at 0x76305a937110>, <dorfterror_database.database_structure.Post object at 0x76305a937170>, <dorfterror_database.database_structure.Post object at 0x76305a9371d0>, <dorfterror_database.database_structure.Post object at 0x76305a937260>, <dorfterror_database.database_structure.Post object at 0x76305a9372c0>, <dorfterror_database.database_structure.Post object at 0x76305a937320>, <dorfterror_database.database_structure.Post object at 0x76305a9373b0>, <dorfterror_database.database_structure.Post object at 0x76305a937440>, <dorfterror_database.database_structure.Post object at 0x76305a9374a0>, <dorfterror_database.database_structure.Post object at 0x76305a937500>, <dorfterror_database.database_structure.Post object at 0x76305a937590>, <dorfterror_database.database_structure.Post object at 0x76305a9375f0>, <dorfterror_database.database_structure.Post object at 0x76305a937680>, <dorfterror_database.database_structure.Post object at 0x76305a937710>, <dorfterror_database.database_structure.Post object at 0x76305a937770>, <dorfterror_database.database_structure.Post object at 0x76305a937830>, <dorfterror_database.database_structure.Post object at 0x76305a9378c0>, <dorfterror_database.database_structure.Post object at 0x76305a937950>, <dorfterror_database.database_structure.Post object at 0x76305a9379b0>, <dorfterror_database.database_structure.Post object at 0x76305a937a10>, <dorfterror_database.database_structure.Post object at 0x76305a937a70>, <dorfterror_database.database_structure.Post object at 0x76305a937ad0>, <dorfterror_database.database_structure.Post object at 0x76305a937b30>, <dorfterror_database.database_structure.Post object at 0x76305a937b90>, <dorfterror_database.database_structure.Post object at 0x76305a937bf0>, <dorfterror_database.database_structure.Post object at 0x76305a937c80>, <dorfterror_database.database_structure.Post object at 0x76305a937ce0>, <dorfterror_database.database_structure.Post object at 0x76305a937d70>, <dorfterror_database.database_structure.Post object at 0x76305a937e00>, <dorfterror_database.database_structure.Post object at 0x76305a937e60>, <dorfterror_database.database_structure.Post object at 0x76305a937ec0>, <dorfterror_database.database_structure.Post object at 0x76305a937f20>, <dorfterror_database.database_structure.Post object at 0x76305a937f80>, <dorfterror_database.database_structure.Post object at 0x76305a937fe0>, <dorfterror_database.database_structure.Post object at 0x76305a964080>, <dorfterror_database.database_structure.Post object at 0x76305a964110>, <dorfterror_database.database_structure.Post object at 0x76305a964170>, <dorfterror_database.database_structure.Post object at 0x76305a964200>, <dorfterror_database.database_structure.Post object at 0x76305a964260>, <dorfterror_database.database_structure.Post object at 0x76305a9642c0>, <dorfterror_database.database_structure.Post object at 0x76305a964320>, <dorfterror_database.database_structure.Post object at 0x76305a964380>, <dorfterror_database.database_structure.Post object at 0x76305a9643e0>, <dorfterror_database.database_structure.Post object at 0x76305a964470>, <dorfterror_database.database_structure.Post object at 0x76305a964530>, <dorfterror_database.database_structure.Post object at 0x76305a964590>, <dorfterror_database.database_structure.Post object at 0x76305a9645f0>, <dorfterror_database.database_structure.Post object at 0x76305a964650>, <dorfterror_database.database_structure.Post object at 0x76305a9646b0>, <dorfterror_database.database_structure.Post object at 0x76305a964710>, <dorfterror_database.database_structure.Post object at 0x76305a964770>, <dorfterror_database.database_structure.Post object at 0x76305a964800>, <dorfterror_database.database_structure.Post object at 0x76305a964890>, <dorfterror_database.database_structure.Post object at 0x76305a964920>, <dorfterror_database.database_structure.Post object at 0x76305a964980>, <dorfterror_database.database_structure.Post object at 0x76305a964a10>, <dorfterror_database.database_structure.Post object at 0x76305a964a70>, <dorfterror_database.database_structure.Post object at 0x76305a964ad0>, <dorfterror_database.database_structure.Post object at 0x76305a964b60>, <dorfterror_database.database_structure.Post object at 0x76305a964bc0>, <dorfterror_database.database_structure.Post object at 0x76305a964c20>, <dorfterror_database.database_structure.Post object at 0x76305a964cb0>, <dorfterror_database.database_structure.Post object at 0x76305a964d70>, <dorfterror_database.database_structure.Post object at 0x76305a964dd0>, <dorfterror_database.database_structure.Post object at 0x76305a964e60>, <dorfterror_database.database_structure.Post object at 0x76305a964ec0>, <dorfterror_database.database_structure.Post object at 0x76305a964f50>, <dorfterror_database.database_structure.Post object at 0x76305a964fb0>, <dorfterror_database.database_structure.Post object at 0x76305a965070>, <dorfterror_database.database_structure.Post object at 0x76305a965100>, <dorfterror_database.database_structure.Post object at 0x76305a965190>, <dorfterror_database.database_structure.Post object at 0x76305a9651f0>, <dorfterror_database.database_structure.Post object at 0x76305a965250>, <dorfterror_database.database_structure.Post object at 0x76305a9652b0>, <dorfterror_database.database_structure.Post object at 0x76305a965310>, <dorfterror_database.database_structure.Post object at 0x76305a9653a0>, <dorfterror_database.database_structure.Post object at 0x76305a965400>, <dorfterror_database.database_structure.Post object at 0x76305a965460>, <dorfterror_database.database_structure.Post object at 0x76305a9654c0>, <dorfterror_database.database_structure.Post object at 0x76305a965520>, <dorfterror_database.database_structure.Post object at 0x76305a9655b0>, <dorfterror_database.database_structure.Post object at 0x76305a965610>, <dorfterror_database.database_structure.Post object at 0x76305a9656a0>, <dorfterror_database.database_structure.Post object at 0x76305a965700>, <dorfterror_database.database_structure.Post object at 0x76305a965790>, <dorfterror_database.database_structure.Post object at 0x76305a9657f0>, <dorfterror_database.database_structure.Post object at 0x76305a9658b0>, <dorfterror_database.database_structure.Post object at 0x76305a965910>, <dorfterror_database.database_structure.Post object at 0x76305a965970>, <dorfterror_database.database_structure.Post object at 0x76305a9659d0>, <dorfterror_database.database_structure.Post object at 0x76305a965a60>, <dorfterror_database.database_structure.Post object at 0x76305a965ac0>, <dorfterror_database.database_structure.Post object at 0x76305a965b20>, <dorfterror_database.database_structure.Post object at 0x76305a965b80>, <dorfterror_database.database_structure.Post object at 0x76305a965be0>, <dorfterror_database.database_structure.Post object at 0x76305a965c40>, <dorfterror_database.database_structure.Post object at 0x76305a965ca0>, <dorfterror_database.database_structure.Post object at 0x76305a965d30>, <dorfterror_database.database_structure.Post object at 0x76305a965d90>, <dorfterror_database.database_structure.Post object at 0x76305a965e20>, <dorfterror_database.database_structure.Post object at 0x76305a965eb0>, <dorfterror_database.database_structure.Post object at 0x76305a965f10>, <dorfterror_database.database_structure.Post object at 0x76305a965fd0>, <dorfterror_database.database_structure.Post object at 0x76305a966030>, <dorfterror_database.database_structure.Post object at 0x76305a9660c0>, <dorfterror_database.database_structure.Post object at 0x76305a966120>, <dorfterror_database.database_structure.Post object at 0x76305a9661b0>, <dorfterror_database.database_structure.Post object at 0x76305a966210>, <dorfterror_database.database_structure.Post object at 0x76305a9662a0>, <dorfterror_database.database_structure.Post object at 0x76305a966300>, <dorfterror_database.database_structure.Post object at 0x76305a966360>, <dorfterror_database.database_structure.Post object at 0x76305a9663f0>, <dorfterror_database.database_structure.Post object at 0x76305a966450>, <dorfterror_database.database_structure.Post object at 0x76305a9664b0>, <dorfterror_database.database_structure.Post object at 0x76305a966540>, <dorfterror_database.database_structure.Post object at 0x76305a966600>, <dorfterror_database.database_structure.Post object at 0x76305a966660>, <dorfterror_database.database_structure.Post object at 0x76305a9666c0>, <dorfterror_database.database_structure.Post object at 0x76305a966750>, <dorfterror_database.database_structure.Post object at 0x76305a9667b0>, <dorfterror_database.database_structure.Post object at 0x76305a966810>, <dorfterror_database.database_structure.Post object at 0x76305a966870>, <dorfterror_database.database_structure.Post object at 0x76305a9668d0>, <dorfterror_database.database_structure.Post object at 0x76305a966930>, <dorfterror_database.database_structure.Post object at 0x76305a966990>, <dorfterror_database.database_structure.Post object at 0x76305a966a20>, <dorfterror_database.database_structure.Post object at 0x76305a966a80>, <dorfterror_database.database_structure.Post object at 0x76305a966b10>, <dorfterror_database.database_structure.Post object at 0x76305a966b70>, <dorfterror_database.database_structure.Post object at 0x76305a966bd0>, <dorfterror_database.database_structure.Post object at 0x76305a966c60>, <dorfterror_database.database_structure.Post object at 0x76305a966cc0>, <dorfterror_database.database_structure.Post object at 0x76305a966d20>, <dorfterror_database.database_structure.Post object at 0x76305a966db0>, <dorfterror_database.database_structure.Post object at 0x76305a966e10>, <dorfterror_database.database_structure.Post object at 0x76305a966ea0>, <dorfterror_database.database_structure.Post object at 0x76305a966f00>, <dorfterror_database.database_structure.Post object at 0x76305a966f60>, <dorfterror_database.database_structure.Post object at 0x76305a966ff0>, <dorfterror_database.database_structure.Post object at 0x76305a967050>, <dorfterror_database.database_structure.Post object at 0x76305a9670b0>, <dorfterror_database.database_structure.Post object at 0x76305a967140>, <dorfterror_database.database_structure.Post object at 0x76305a9671a0>, <dorfterror_database.database_structure.Post object at 0x76305a967200>, <dorfterror_database.database_structure.Post object at 0x76305a967290>, <dorfterror_database.database_structure.Post object at 0x76305a9672f0>, <dorfterror_database.database_structure.Post object at 0x76305a967380>, <dorfterror_database.database_structure.Post object at 0x76305a9673e0>, <dorfterror_database.database_structure.Post object at 0x76305a967470>, <dorfterror_database.database_structure.Post object at 0x76305a967500>, <dorfterror_database.database_structure.Post object at 0x76305a967560>, <dorfterror_database.database_structure.Post object at 0x76305a9675c0>, <dorfterror_database.database_structure.Post object at 0x76305a967620>, <dorfterror_database.database_structure.Post object at 0x76305a967680>, <dorfterror_database.database_structure.Post object at 0x76305a9676e0>, <dorfterror_database.database_structure.Post object at 0x76305a967770>, <dorfterror_database.database_structure.Post object at 0x76305a9677d0>, <dorfterror_database.database_structure.Post object at 0x76305a967890>, <dorfterror_database.database_structure.Post object at 0x76305a9678f0>, <dorfterror_database.database_structure.Post object at 0x76305a967950>, <dorfterror_database.database_structure.Post object at 0x76305a9679b0>, <dorfterror_database.database_structure.Post object at 0x76305a967a10>, <dorfterror_database.database_structure.Post object at 0x76305a967aa0>, <dorfterror_database.database_structure.Post object at 0x76305a967b00>, <dorfterror_database.database_structure.Post object at 0x76305a967b90>, <dorfterror_database.database_structure.Post object at 0x76305a967bf0>, <dorfterror_database.database_structure.Post object at 0x76305a967c80>, <dorfterror_database.database_structure.Post object at 0x76305a967d10>, <dorfterror_database.database_structure.Post object at 0x76305a967d70>, <dorfterror_database.database_structure.Post object at 0x76305a967e00>, <dorfterror_database.database_structure.Post object at 0x76305a967e60>, <dorfterror_database.database_structure.Post object at 0x76305a967f20>, <dorfterror_database.database_structure.Post object at 0x76305a967f80>, <dorfterror_database.database_structure.Post object at 0x76305a98c050>, <dorfterror_database.database_structure.Post object at 0x76305a98c0b0>, <dorfterror_database.database_structure.Post object at 0x76305a98c110>, <dorfterror_database.database_structure.Post object at 0x76305a98c170>, <dorfterror_database.database_structure.Post object at 0x76305a98c200>, <dorfterror_database.database_structure.Post object at 0x76305a98c2c0>, <dorfterror_database.database_structure.Post object at 0x76305a98c320>, <dorfterror_database.database_structure.Post object at 0x76305a98c3b0>, <dorfterror_database.database_structure.Post object at 0x76305a98c410>, <dorfterror_database.database_structure.Post object at 0x76305a98c470>, <dorfterror_database.database_structure.Post object at 0x76305a98c4d0>, <dorfterror_database.database_structure.Post object at 0x76305a98c530>, <dorfterror_database.database_structure.Post object at 0x76305a98c590>, <dorfterror_database.database_structure.Post object at 0x76305a98c5f0>, <dorfterror_database.database_structure.Post object at 0x76305a98c680>, <dorfterror_database.database_structure.Post object at 0x76305a98c6e0>, <dorfterror_database.database_structure.Post object at 0x76305a98c770>, <dorfterror_database.database_structure.Post object at 0x76305a98c7d0>, <dorfterror_database.database_structure.Post object at 0x76305a98c860>, <dorfterror_database.database_structure.Post object at 0x76305a98c8c0>, <dorfterror_database.database_structure.Post object at 0x76305a98c920>, <dorfterror_database.database_structure.Post object at 0x76305a98c980>, <dorfterror_database.database_structure.Post object at 0x76305a98c9e0>, <dorfterror_database.database_structure.Post object at 0x76305a98ca40>, <dorfterror_database.database_structure.Post object at 0x76305a98cad0>, <dorfterror_database.database_structure.Post object at 0x76305a98cb90>, <dorfterror_database.database_structure.Post object at 0x76305a98cbf0>, <dorfterror_database.database_structure.Post object at 0x76305a98ccb0>, <dorfterror_database.database_structure.Post object at 0x76305a98cd10>, <dorfterror_database.database_structure.Post object at 0x76305a98cda0>, <dorfterror_database.database_structure.Post object at 0x76305a98ce00>, <dorfterror_database.database_structure.Post object at 0x76305a98ce60>, <dorfterror_database.database_structure.Post object at 0x76305a98cec0>, <dorfterror_database.database_structure.Post object at 0x76305a98cf50>, <dorfterror_database.database_structure.Post object at 0x76305a98cfb0>, <dorfterror_database.database_structure.Post object at 0x76305a98d010>, <dorfterror_database.database_structure.Post object at 0x76305a98d070>, <dorfterror_database.database_structure.Post object at 0x76305a98d100>, <dorfterror_database.database_structure.Post object at 0x76305a98d160>, <dorfterror_database.database_structure.Post object at 0x76305a98d1f0>, <dorfterror_database.database_structure.Post object at 0x76305a98d280>, <dorfterror_database.database_structure.Post object at 0x76305a98d2e0>, <dorfterror_database.database_structure.Post object at 0x76305a98d340>, <dorfterror_database.database_structure.Post object at 0x76305a98d3d0>, <dorfterror_database.database_structure.Post object at 0x76305a98d430>, <dorfterror_database.database_structure.Post object at 0x76305a98d4c0>, <dorfterror_database.database_structure.Post object at 0x76305a98d520>, <dorfterror_database.database_structure.Post object at 0x76305a98d5e0>, <dorfterror_database.database_structure.Post object at 0x76305a98d640>, <dorfterror_database.database_structure.Post object at 0x76305a98d6a0>, <dorfterror_database.database_structure.Post object at 0x76305a98d700>, <dorfterror_database.database_structure.Post object at 0x76305a98d760>, <dorfterror_database.database_structure.Post object at 0x76305a98d7f0>, <dorfterror_database.database_structure.Post object at 0x76305a98d850>, <dorfterror_database.database_structure.Post object at 0x76305a98d8b0>, <dorfterror_database.database_structure.Post object at 0x76305a98d910>, <dorfterror_database.database_structure.Post object at 0x76305a98d970>, <dorfterror_database.database_structure.Post object at 0x76305a98da00>, <dorfterror_database.database_structure.Post object at 0x76305a98dac0>]\n",
      "Anzahl der Posts: 562\n"
     ]
    }
   ],
   "source": [
    "total_posts = session.query(Post).count()\n",
    "\n",
    "# Top 25% erfolgreichste Posts\n",
    "top_posts = (\n",
    "    session.query(Post)\n",
    "    .order_by(Post.like_count.desc())\n",
    "    #.limit( int(total_posts * 0.25) )\n",
    "    .all()\n",
    ")\n",
    "\n",
    "print(top_posts)\n",
    "print(f\"Anzahl der Posts: {len(top_posts)}\")"
   ]
  },
  {
   "cell_type": "code",
   "execution_count": 4,
   "id": "e4bd268b",
   "metadata": {},
   "outputs": [],
   "source": [
    "from openai import OpenAI\n",
    "\n",
    "# Initialize LM Studio client\n",
    "client = OpenAI(base_url=\"http://192.168.178.85:1200/v1\", api_key=\"lm-studio\")\n",
    "MODEL = \"google/gemma-3-12b\"\n"
   ]
  },
  {
   "cell_type": "code",
   "execution_count": 5,
   "id": "3c456f70",
   "metadata": {},
   "outputs": [],
   "source": [
    "def get_category_of_user_request(user_request):\n",
    "    \"\"\"\n",
    "    Get the category of a user request using the LM Studio client.\n",
    "    \"\"\"\n",
    "    response = client.chat.completions.create(\n",
    "        model=MODEL,\n",
    "        messages=[\n",
    "            {\n",
    "                \"role\": \"system\",\n",
    "                \"content\": \"Du bist eine Expertin darin, Instagram-Posts anhand ihres Inhalts zu kategorisieren. Diese Kategorien kannst du verwenden: „Musik & Releases“ (für z.B. neue Musik, Song-Hintergründe, Musikvideos oder Studio-Sessions), „Live & Tour“ (für z.B. Tourdaten, Konzertankündigungen, Fotos und Videos nach Auftritten oder Backstage/Behind-the-scenes Inhalte), „Bandalltag“ (für z.B. Proberaum-Szenen, Mitglieder vorstellen oder Throwbacks und Jubiläumsposts), „Politisches Engagement“ (für z.B. politische Themen und gesellschaftskritische Beiträge), „Merchandise“ (für z.B. Verlinkungen zum Shop, Merchandise Ankündigungen oder Rabattaktionen). \",\n",
    "            },\n",
    "            {\n",
    "                \"role\": \"user\",\n",
    "                \"content\": f\"Du bekommst nun eine Anfrage von einem Nutzer, der einen neuen Instagram-Post erstellen möchte. Deine Aufgabe ist es, die Anfrage in eine der oben genannten Kategorien einzuordnen. Antworte nur mit der Kategorie, ohne weitere Erklärungen oder Kommentare: {user_request}\",\n",
    "            },\n",
    "        ],\n",
    "        max_tokens=500,\n",
    "        temperature=0.5,\n",
    "    )\n",
    "    \n",
    "    return response.choices[0].message.content.strip()"
   ]
  },
  {
   "cell_type": "code",
   "execution_count": 6,
   "id": "6f0dbf73",
   "metadata": {},
   "outputs": [],
   "source": [
    "def get_posts_from_category(category, top_percent=1.0):\n",
    "    \"\"\"\n",
    "    Get posts from a specific category.\n",
    "    Ensures at least 5 posts are returned for top 5%.\n",
    "    \"\"\"\n",
    "    total_posts = session.query(Post).filter(Post.category == category).count()\n",
    "\n",
    "    if top_percent == 0.05:\n",
    "        limit = max(5, int(total_posts * top_percent))\n",
    "    else:\n",
    "        limit = int(total_posts * top_percent)\n",
    "\n",
    "    posts = (session.query(Post)\n",
    "             .filter(Post.category == category)\n",
    "             .order_by(Post.like_count.desc())\n",
    "             .limit(limit)\n",
    "             .all())\n",
    "\n",
    "    return posts"
   ]
  },
  {
   "cell_type": "code",
   "execution_count": 7,
   "id": "3e05f894",
   "metadata": {},
   "outputs": [],
   "source": [
    "import random\n",
    "\n",
    "def get_context_posts(top_5percent_posts, top_80percent_posts):\n",
    "    \"\"\"    Get a sample of posts for context, ensuring no overlap between top 5% and top 80% posts.\n",
    "    Returns a list of 5 posts: 3 from top 5% and 2 from top 80%, ensuring no overlap.\n",
    "    \"\"\"\n",
    "    # Ensure no overlap between top_5percent_posts and top_80percent_posts\n",
    "    top_5_ids = {post.id for post in top_5percent_posts}\n",
    "    top_80_filtered = [post for post in top_80percent_posts if post.id not in top_5_ids]\n",
    "\n",
    "    # Sample without replacement\n",
    "    sample_5 = random.sample(top_5percent_posts, min(3, len(top_5percent_posts)))\n",
    "    sample_80 = random.sample(top_80_filtered, min(2, len(top_80_filtered)))\n",
    "\n",
    "    # Combine into one list\n",
    "    context_posts = sample_5 + sample_80\n",
    "\n",
    "    # (Optional) Shuffle final list\n",
    "    random.shuffle(context_posts)\n",
    "\n",
    "    return context_posts"
   ]
  },
  {
   "cell_type": "code",
   "execution_count": 8,
   "id": "742f447c",
   "metadata": {},
   "outputs": [],
   "source": [
    "def generate_post(user_request, top_5percent_posts, top_80percent_posts):\n",
    "    \"\"\"\n",
    "    Generate a post based on user request and context posts.\n",
    "    \"\"\"\n",
    "    category = get_category_of_user_request(user_request)\n",
    "    \n",
    "    # Get context posts\n",
    "    context_posts = get_context_posts(top_5percent_posts, top_80percent_posts)\n",
    "    \n",
    "    # Prepare context for the model\n",
    "    context_text = [post.caption for post in context_posts]\n",
    "    \n",
    "    # Generate post content using the LM Studio client\n",
    "    response = client.chat.completions.create(\n",
    "        model=MODEL,\n",
    "        messages=[\n",
    "            {\n",
    "                \"role\": \"system\",\n",
    "                \"content\": \"Du bist eine Expertin darin, Instagram-Posts zu generieren. Verwende die bereitgestellten Kontext-Posts, um einen neuen Post zu erstellen.\",\n",
    "            },\n",
    "            {\n",
    "                \"role\": \"user\",\n",
    "                \"content\": f\"Hier sind einige Kontext-Posts:\\n{context_text}\\n\\nErstelle einen neuen Post für die Kategorie '{category}' basierend auf der Anfrage: {user_request}\",\n",
    "            },\n",
    "        ],\n",
    "        max_tokens=500,\n",
    "        temperature=0.5,\n",
    "    )\n",
    "    \n",
    "    return response.choices[0].message.content.strip()"
   ]
  },
  {
   "cell_type": "code",
   "execution_count": 11,
   "id": "15e75fc7",
   "metadata": {},
   "outputs": [
    {
     "name": "stdout",
     "output_type": "stream",
     "text": [
      "Die Kategorie für den Post lautet: Musik & Releases\n",
      "Generierter Post: Okay, hier ist ein Instagram-Postentwurf, der auf den bereitgestellten Kontexten basiert und deine Anfrage berücksichtigt:\n",
      "\n",
      "---\n",
      "\n",
      "🎉 **SAVE THE DATE!** 🎉\n",
      "\n",
      "Wir haben riesige Neuigkeiten für euch! Am 03.10.25 droppen wir unsere brandneue Single \"Drei Akkorde, trotzdem nice\" – und das ist erst der Anfang! 🔥\n",
      "\n",
      "Diese Single ist der erste Vorgeschmack auf unser kommendes Album, an dem wir mit viel Herzblut gearbeitet haben. Lasst euch überraschen, was noch kommt! 🤫\n",
      "\n",
      "Bleibt dran für weitere Infos & Updates! Wir können es kaum erwarten, unsere neue Musik mit euch zu teilen! ❤️\n",
      "\n",
      "#neuesingle #dreiakkordetrotztnice #albumankündigung #punkrock #newmusic #comingsoon #musik #release #vorfreude [DeinBandName] 🤘\n",
      "---\n",
      "\n",
      "**Warum dieser Post so funktioniert:**\n",
      "\n",
      "*   **Aufmerksamkeitsstark:** Der Anfang mit \"SAVE THE DATE!\" und den Emojis fängt die Aufmerksamkeit ein.\n",
      "*   **Klar & Prägnant:** Die wichtigsten Informationen (Datum, Songtitel, Albumankündigung) sind sofort ersichtlich.\n",
      "*   **Geheimnisvoll:** Das Versprechen von Überraschungen weckt Neugierde.\n",
      "*   **Call to Action:** \"Bleibt dran für weitere Infos\" fordert die Follower zur Interaktion auf.\n",
      "*   **Hashtags:** Eine Mischung aus allgemeinen und spezifischen Hashtags erhöht die Reichweite. (Anpassen!)\n",
      "*   **Bandname:** Füge deinen Bandnamen hinzu, damit der Post direkt zu dir führt!\n",
      "\n",
      "**Zusätzliche Tipps:**\n",
      "\n",
      "*   **Visuelles:**  Ein passendes Bild oder Video (z.B. ein Teaser-Clip, Cover-Artwork) ist entscheidend für einen erfolgreichen Post.\n",
      "*   **Story:** Nutze Instagram Stories, um mehr Details über die Single und das kommende Album zu verraten.\n",
      "*   **Interaktion:** Stelle Fragen in der Caption, um Kommentare und Diskussionen anzuregen (z.B. \"Was wünscht ihr euch von unserem neuen Album?\").\n"
     ]
    }
   ],
   "source": [
    "\n",
    "user_prompt = input(\"Bitte beschreibe deinen Instagram-Post, welchen du erstellen willst: \")\n",
    "\n",
    "user_prompt_category = get_category_of_user_request(user_prompt)\n",
    "\n",
    "print(f\"Die Kategorie für den Post lautet: {user_prompt_category}\")\n",
    "\n",
    "top_5percent_posts = get_posts_from_category(user_prompt_category, top_percent=0.05)\n",
    "\n",
    "top_80percent_posts = get_posts_from_category(user_prompt_category, top_percent=0.8)\n",
    "\n",
    "generated_post = generate_post(user_prompt, top_5percent_posts, top_80percent_posts)\n",
    "\n",
    "print(f\"Generierter Post: {generated_post}\")\n"
   ]
  }
 ],
 "metadata": {
  "kernelspec": {
   "display_name": "dj-gpt",
   "language": "python",
   "name": "python3"
  },
  "language_info": {
   "codemirror_mode": {
    "name": "ipython",
    "version": 3
   },
   "file_extension": ".py",
   "mimetype": "text/x-python",
   "name": "python",
   "nbconvert_exporter": "python",
   "pygments_lexer": "ipython3",
   "version": "3.12.3"
  }
 },
 "nbformat": 4,
 "nbformat_minor": 5
}
