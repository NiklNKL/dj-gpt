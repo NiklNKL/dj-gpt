{
 "cells": [
  {
   "cell_type": "code",
   "execution_count": 46,
   "id": "9fa4eb86",
   "metadata": {},
   "outputs": [
    {
     "name": "stdout",
     "output_type": "stream",
     "text": [
      "Added /home/developing_nacho/fhdw/web_social_analytics/dj-gpt to Python path.\n",
      "Changed working directory to /home/developing_nacho/fhdw/web_social_analytics/dj-gpt.\n"
     ]
    }
   ],
   "source": [
    "import sys\n",
    "import os\n",
    "\n",
    "_path_added = False\n",
    "\n",
    "def add_project_root_to_path():\n",
    "    \"\"\"\n",
    "    Check if the project root directory is in the Python path.\n",
    "    If not, add it to sys.path and change the working directory to the project root.\n",
    "    \"\"\"\n",
    "    global _path_added\n",
    "\n",
    "    if _path_added:\n",
    "        return\n",
    "    \n",
    "    root_dir = os.path.abspath(os.path.join(os.getcwd(), '..'))\n",
    "\n",
    "    if root_dir not in sys.path:\n",
    "        sys.path.append(root_dir)\n",
    "        print(f\"Added {root_dir} to Python path.\")\n",
    "    \n",
    "    if os.getcwd() != root_dir:\n",
    "        os.chdir(root_dir)\n",
    "        print(f\"Changed working directory to {root_dir}.\")\n",
    "    _path_added = True\n",
    "\n",
    "\n",
    "add_project_root_to_path()"
   ]
  },
  {
   "cell_type": "code",
   "execution_count": 47,
   "id": "b826f918",
   "metadata": {},
   "outputs": [],
   "source": [
    "os.chdir(\"/home/developing_nacho/fhdw/web_social_analytics/dj-gpt/insta_scraping\")"
   ]
  },
  {
   "cell_type": "code",
   "execution_count": 48,
   "id": "e7b0ac5b",
   "metadata": {},
   "outputs": [
    {
     "name": "stdout",
     "output_type": "stream",
     "text": [
      "/home/developing_nacho/fhdw/web_social_analytics/dj-gpt/insta_scraping\n"
     ]
    }
   ],
   "source": [
    "import pandas as pd\n",
    "import networkx as nx\n",
    "import requests\n",
    "from io import BytesIO\n",
    "from PIL import Image\n",
    "from sqlalchemy.orm import sessionmaker\n",
    "from sqlalchemy import create_engine, func, extract\n",
    "from collections import Counter\n",
    "from dorfterror_database.database_structure import Base, Post, Profile, Collaborator, Comment, Likes, Follower\n",
    "from pathlib import Path\n",
    "import plotly.express as px\n",
    "import plotly.graph_objects as go\n",
    "from collections import defaultdict\n",
    "from datetime import datetime\n",
    "\n",
    "# Dein ORM-Modelle hier importieren, z.B. Profile, Post, Comment, Collaborator\n",
    "# from models import Profile, Post, Comment, Collaborator\n",
    "\n",
    "root_path = Path(\".\").resolve()\n",
    "print(root_path)\n",
    "\n",
    "engine = create_engine(f\"sqlite:///{root_path}/dorfterror_database/dorfterror.db\")\n",
    "Base.metadata.create_all(engine)\n",
    "\n",
    "Session = sessionmaker(bind=engine)\n",
    "session = Session()"
   ]
  },
  {
   "cell_type": "code",
   "execution_count": 49,
   "id": "446e1e8a",
   "metadata": {},
   "outputs": [
    {
     "data": {
      "application/vnd.plotly.v1+json": {
       "config": {
        "plotlyServerURL": "https://plot.ly"
       },
       "data": [
        {
         "hovertemplate": "Wochentag=%{x}<br>Anzahl Posts=%{marker.color}<extra></extra>",
         "legendgroup": "",
         "marker": {
          "color": {
           "bdata": "V2VWRU05VQ==",
           "dtype": "i1"
          },
          "coloraxis": "coloraxis",
          "pattern": {
           "shape": ""
          }
         },
         "name": "",
         "orientation": "v",
         "showlegend": false,
         "textposition": "auto",
         "type": "bar",
         "x": [
          "Monday",
          "Tuesday",
          "Wednesday",
          "Thursday",
          "Friday",
          "Saturday",
          "Sunday"
         ],
         "xaxis": "x",
         "y": {
          "bdata": "V2VWRU05VQ==",
          "dtype": "i1"
         },
         "yaxis": "y"
        }
       ],
       "layout": {
        "barmode": "relative",
        "coloraxis": {
         "colorbar": {
          "title": {
           "text": "Anzahl Posts"
          }
         },
         "colorscale": [
          [
           0,
           "#440154"
          ],
          [
           0.1111111111111111,
           "#482878"
          ],
          [
           0.2222222222222222,
           "#3e4989"
          ],
          [
           0.3333333333333333,
           "#31688e"
          ],
          [
           0.4444444444444444,
           "#26828e"
          ],
          [
           0.5555555555555556,
           "#1f9e89"
          ],
          [
           0.6666666666666666,
           "#35b779"
          ],
          [
           0.7777777777777778,
           "#6ece58"
          ],
          [
           0.8888888888888888,
           "#b5de2b"
          ],
          [
           1,
           "#fde725"
          ]
         ]
        },
        "legend": {
         "tracegroupgap": 0
        },
        "margin": {
         "b": 150,
         "t": 50
        },
        "template": {
         "data": {
          "bar": [
           {
            "error_x": {
             "color": "#2a3f5f"
            },
            "error_y": {
             "color": "#2a3f5f"
            },
            "marker": {
             "line": {
              "color": "#E5ECF6",
              "width": 0.5
             },
             "pattern": {
              "fillmode": "overlay",
              "size": 10,
              "solidity": 0.2
             }
            },
            "type": "bar"
           }
          ],
          "barpolar": [
           {
            "marker": {
             "line": {
              "color": "#E5ECF6",
              "width": 0.5
             },
             "pattern": {
              "fillmode": "overlay",
              "size": 10,
              "solidity": 0.2
             }
            },
            "type": "barpolar"
           }
          ],
          "carpet": [
           {
            "aaxis": {
             "endlinecolor": "#2a3f5f",
             "gridcolor": "white",
             "linecolor": "white",
             "minorgridcolor": "white",
             "startlinecolor": "#2a3f5f"
            },
            "baxis": {
             "endlinecolor": "#2a3f5f",
             "gridcolor": "white",
             "linecolor": "white",
             "minorgridcolor": "white",
             "startlinecolor": "#2a3f5f"
            },
            "type": "carpet"
           }
          ],
          "choropleth": [
           {
            "colorbar": {
             "outlinewidth": 0,
             "ticks": ""
            },
            "type": "choropleth"
           }
          ],
          "contour": [
           {
            "colorbar": {
             "outlinewidth": 0,
             "ticks": ""
            },
            "colorscale": [
             [
              0,
              "#0d0887"
             ],
             [
              0.1111111111111111,
              "#46039f"
             ],
             [
              0.2222222222222222,
              "#7201a8"
             ],
             [
              0.3333333333333333,
              "#9c179e"
             ],
             [
              0.4444444444444444,
              "#bd3786"
             ],
             [
              0.5555555555555556,
              "#d8576b"
             ],
             [
              0.6666666666666666,
              "#ed7953"
             ],
             [
              0.7777777777777778,
              "#fb9f3a"
             ],
             [
              0.8888888888888888,
              "#fdca26"
             ],
             [
              1,
              "#f0f921"
             ]
            ],
            "type": "contour"
           }
          ],
          "contourcarpet": [
           {
            "colorbar": {
             "outlinewidth": 0,
             "ticks": ""
            },
            "type": "contourcarpet"
           }
          ],
          "heatmap": [
           {
            "colorbar": {
             "outlinewidth": 0,
             "ticks": ""
            },
            "colorscale": [
             [
              0,
              "#0d0887"
             ],
             [
              0.1111111111111111,
              "#46039f"
             ],
             [
              0.2222222222222222,
              "#7201a8"
             ],
             [
              0.3333333333333333,
              "#9c179e"
             ],
             [
              0.4444444444444444,
              "#bd3786"
             ],
             [
              0.5555555555555556,
              "#d8576b"
             ],
             [
              0.6666666666666666,
              "#ed7953"
             ],
             [
              0.7777777777777778,
              "#fb9f3a"
             ],
             [
              0.8888888888888888,
              "#fdca26"
             ],
             [
              1,
              "#f0f921"
             ]
            ],
            "type": "heatmap"
           }
          ],
          "histogram": [
           {
            "marker": {
             "pattern": {
              "fillmode": "overlay",
              "size": 10,
              "solidity": 0.2
             }
            },
            "type": "histogram"
           }
          ],
          "histogram2d": [
           {
            "colorbar": {
             "outlinewidth": 0,
             "ticks": ""
            },
            "colorscale": [
             [
              0,
              "#0d0887"
             ],
             [
              0.1111111111111111,
              "#46039f"
             ],
             [
              0.2222222222222222,
              "#7201a8"
             ],
             [
              0.3333333333333333,
              "#9c179e"
             ],
             [
              0.4444444444444444,
              "#bd3786"
             ],
             [
              0.5555555555555556,
              "#d8576b"
             ],
             [
              0.6666666666666666,
              "#ed7953"
             ],
             [
              0.7777777777777778,
              "#fb9f3a"
             ],
             [
              0.8888888888888888,
              "#fdca26"
             ],
             [
              1,
              "#f0f921"
             ]
            ],
            "type": "histogram2d"
           }
          ],
          "histogram2dcontour": [
           {
            "colorbar": {
             "outlinewidth": 0,
             "ticks": ""
            },
            "colorscale": [
             [
              0,
              "#0d0887"
             ],
             [
              0.1111111111111111,
              "#46039f"
             ],
             [
              0.2222222222222222,
              "#7201a8"
             ],
             [
              0.3333333333333333,
              "#9c179e"
             ],
             [
              0.4444444444444444,
              "#bd3786"
             ],
             [
              0.5555555555555556,
              "#d8576b"
             ],
             [
              0.6666666666666666,
              "#ed7953"
             ],
             [
              0.7777777777777778,
              "#fb9f3a"
             ],
             [
              0.8888888888888888,
              "#fdca26"
             ],
             [
              1,
              "#f0f921"
             ]
            ],
            "type": "histogram2dcontour"
           }
          ],
          "mesh3d": [
           {
            "colorbar": {
             "outlinewidth": 0,
             "ticks": ""
            },
            "type": "mesh3d"
           }
          ],
          "parcoords": [
           {
            "line": {
             "colorbar": {
              "outlinewidth": 0,
              "ticks": ""
             }
            },
            "type": "parcoords"
           }
          ],
          "pie": [
           {
            "automargin": true,
            "type": "pie"
           }
          ],
          "scatter": [
           {
            "fillpattern": {
             "fillmode": "overlay",
             "size": 10,
             "solidity": 0.2
            },
            "type": "scatter"
           }
          ],
          "scatter3d": [
           {
            "line": {
             "colorbar": {
              "outlinewidth": 0,
              "ticks": ""
             }
            },
            "marker": {
             "colorbar": {
              "outlinewidth": 0,
              "ticks": ""
             }
            },
            "type": "scatter3d"
           }
          ],
          "scattercarpet": [
           {
            "marker": {
             "colorbar": {
              "outlinewidth": 0,
              "ticks": ""
             }
            },
            "type": "scattercarpet"
           }
          ],
          "scattergeo": [
           {
            "marker": {
             "colorbar": {
              "outlinewidth": 0,
              "ticks": ""
             }
            },
            "type": "scattergeo"
           }
          ],
          "scattergl": [
           {
            "marker": {
             "colorbar": {
              "outlinewidth": 0,
              "ticks": ""
             }
            },
            "type": "scattergl"
           }
          ],
          "scattermap": [
           {
            "marker": {
             "colorbar": {
              "outlinewidth": 0,
              "ticks": ""
             }
            },
            "type": "scattermap"
           }
          ],
          "scattermapbox": [
           {
            "marker": {
             "colorbar": {
              "outlinewidth": 0,
              "ticks": ""
             }
            },
            "type": "scattermapbox"
           }
          ],
          "scatterpolar": [
           {
            "marker": {
             "colorbar": {
              "outlinewidth": 0,
              "ticks": ""
             }
            },
            "type": "scatterpolar"
           }
          ],
          "scatterpolargl": [
           {
            "marker": {
             "colorbar": {
              "outlinewidth": 0,
              "ticks": ""
             }
            },
            "type": "scatterpolargl"
           }
          ],
          "scatterternary": [
           {
            "marker": {
             "colorbar": {
              "outlinewidth": 0,
              "ticks": ""
             }
            },
            "type": "scatterternary"
           }
          ],
          "surface": [
           {
            "colorbar": {
             "outlinewidth": 0,
             "ticks": ""
            },
            "colorscale": [
             [
              0,
              "#0d0887"
             ],
             [
              0.1111111111111111,
              "#46039f"
             ],
             [
              0.2222222222222222,
              "#7201a8"
             ],
             [
              0.3333333333333333,
              "#9c179e"
             ],
             [
              0.4444444444444444,
              "#bd3786"
             ],
             [
              0.5555555555555556,
              "#d8576b"
             ],
             [
              0.6666666666666666,
              "#ed7953"
             ],
             [
              0.7777777777777778,
              "#fb9f3a"
             ],
             [
              0.8888888888888888,
              "#fdca26"
             ],
             [
              1,
              "#f0f921"
             ]
            ],
            "type": "surface"
           }
          ],
          "table": [
           {
            "cells": {
             "fill": {
              "color": "#EBF0F8"
             },
             "line": {
              "color": "white"
             }
            },
            "header": {
             "fill": {
              "color": "#C8D4E3"
             },
             "line": {
              "color": "white"
             }
            },
            "type": "table"
           }
          ]
         },
         "layout": {
          "annotationdefaults": {
           "arrowcolor": "#2a3f5f",
           "arrowhead": 0,
           "arrowwidth": 1
          },
          "autotypenumbers": "strict",
          "coloraxis": {
           "colorbar": {
            "outlinewidth": 0,
            "ticks": ""
           }
          },
          "colorscale": {
           "diverging": [
            [
             0,
             "#8e0152"
            ],
            [
             0.1,
             "#c51b7d"
            ],
            [
             0.2,
             "#de77ae"
            ],
            [
             0.3,
             "#f1b6da"
            ],
            [
             0.4,
             "#fde0ef"
            ],
            [
             0.5,
             "#f7f7f7"
            ],
            [
             0.6,
             "#e6f5d0"
            ],
            [
             0.7,
             "#b8e186"
            ],
            [
             0.8,
             "#7fbc41"
            ],
            [
             0.9,
             "#4d9221"
            ],
            [
             1,
             "#276419"
            ]
           ],
           "sequential": [
            [
             0,
             "#0d0887"
            ],
            [
             0.1111111111111111,
             "#46039f"
            ],
            [
             0.2222222222222222,
             "#7201a8"
            ],
            [
             0.3333333333333333,
             "#9c179e"
            ],
            [
             0.4444444444444444,
             "#bd3786"
            ],
            [
             0.5555555555555556,
             "#d8576b"
            ],
            [
             0.6666666666666666,
             "#ed7953"
            ],
            [
             0.7777777777777778,
             "#fb9f3a"
            ],
            [
             0.8888888888888888,
             "#fdca26"
            ],
            [
             1,
             "#f0f921"
            ]
           ],
           "sequentialminus": [
            [
             0,
             "#0d0887"
            ],
            [
             0.1111111111111111,
             "#46039f"
            ],
            [
             0.2222222222222222,
             "#7201a8"
            ],
            [
             0.3333333333333333,
             "#9c179e"
            ],
            [
             0.4444444444444444,
             "#bd3786"
            ],
            [
             0.5555555555555556,
             "#d8576b"
            ],
            [
             0.6666666666666666,
             "#ed7953"
            ],
            [
             0.7777777777777778,
             "#fb9f3a"
            ],
            [
             0.8888888888888888,
             "#fdca26"
            ],
            [
             1,
             "#f0f921"
            ]
           ]
          },
          "colorway": [
           "#636efa",
           "#EF553B",
           "#00cc96",
           "#ab63fa",
           "#FFA15A",
           "#19d3f3",
           "#FF6692",
           "#B6E880",
           "#FF97FF",
           "#FECB52"
          ],
          "font": {
           "color": "#2a3f5f"
          },
          "geo": {
           "bgcolor": "white",
           "lakecolor": "white",
           "landcolor": "#E5ECF6",
           "showlakes": true,
           "showland": true,
           "subunitcolor": "white"
          },
          "hoverlabel": {
           "align": "left"
          },
          "hovermode": "closest",
          "mapbox": {
           "style": "light"
          },
          "paper_bgcolor": "white",
          "plot_bgcolor": "#E5ECF6",
          "polar": {
           "angularaxis": {
            "gridcolor": "white",
            "linecolor": "white",
            "ticks": ""
           },
           "bgcolor": "#E5ECF6",
           "radialaxis": {
            "gridcolor": "white",
            "linecolor": "white",
            "ticks": ""
           }
          },
          "scene": {
           "xaxis": {
            "backgroundcolor": "#E5ECF6",
            "gridcolor": "white",
            "gridwidth": 2,
            "linecolor": "white",
            "showbackground": true,
            "ticks": "",
            "zerolinecolor": "white"
           },
           "yaxis": {
            "backgroundcolor": "#E5ECF6",
            "gridcolor": "white",
            "gridwidth": 2,
            "linecolor": "white",
            "showbackground": true,
            "ticks": "",
            "zerolinecolor": "white"
           },
           "zaxis": {
            "backgroundcolor": "#E5ECF6",
            "gridcolor": "white",
            "gridwidth": 2,
            "linecolor": "white",
            "showbackground": true,
            "ticks": "",
            "zerolinecolor": "white"
           }
          },
          "shapedefaults": {
           "line": {
            "color": "#2a3f5f"
           }
          },
          "ternary": {
           "aaxis": {
            "gridcolor": "white",
            "linecolor": "white",
            "ticks": ""
           },
           "baxis": {
            "gridcolor": "white",
            "linecolor": "white",
            "ticks": ""
           },
           "bgcolor": "#E5ECF6",
           "caxis": {
            "gridcolor": "white",
            "linecolor": "white",
            "ticks": ""
           }
          },
          "title": {
           "x": 0.05
          },
          "xaxis": {
           "automargin": true,
           "gridcolor": "white",
           "linecolor": "white",
           "ticks": "",
           "title": {
            "standoff": 15
           },
           "zerolinecolor": "white",
           "zerolinewidth": 2
          },
          "yaxis": {
           "automargin": true,
           "gridcolor": "white",
           "linecolor": "white",
           "ticks": "",
           "title": {
            "standoff": 15
           },
           "zerolinecolor": "white",
           "zerolinewidth": 2
          }
         }
        },
        "title": {
         "text": "Anzahl der Posts pro Wochentag"
        },
        "xaxis": {
         "anchor": "y",
         "domain": [
          0,
          1
         ],
         "tickangle": 45,
         "title": {
          "text": "Wochentag"
         }
        },
        "yaxis": {
         "anchor": "x",
         "domain": [
          0,
          1
         ],
         "title": {
          "text": "Anzahl Posts"
         }
        }
       }
      }
     },
     "metadata": {},
     "output_type": "display_data"
    }
   ],
   "source": [
    "# DataFrame vorbereiten (falls noch nicht geschehen)\n",
    "posts = session.query(Post).all()\n",
    "df_posts = pd.DataFrame([{\n",
    "    'id': p.id,\n",
    "    'date_local': p.date_local,\n",
    "    'content_type': p.content_type,\n",
    "    'like_count': p.like_count or 0,\n",
    "    'comment_count': p.comment_count or 0,\n",
    "    'caption_hashtags': p.caption_hashtags or [],\n",
    "    'caption_mentions': p.caption_mentions or []\n",
    "} for p in posts])\n",
    "\n",
    "# Wochentag als Name extrahieren\n",
    "df_posts['weekday'] = df_posts['date_local'].dt.day_name()\n",
    "\n",
    "# Reihenfolge der Wochentage\n",
    "ordered_days = ['Monday', 'Tuesday', 'Wednesday', 'Thursday', 'Friday', 'Saturday', 'Sunday']\n",
    "\n",
    "# Post-Anzahl pro Wochentag\n",
    "weekday_counts = df_posts['weekday'].value_counts().reindex(ordered_days).fillna(0)\n",
    "\n",
    "# DataFrame für Plotly\n",
    "df_weekdays = pd.DataFrame({\n",
    "    'Wochentag': weekday_counts.index,\n",
    "    'Anzahl Posts': weekday_counts.values\n",
    "})\n",
    "\n",
    "fig = px.bar(\n",
    "    df_weekdays,\n",
    "    x='Wochentag',\n",
    "    y='Anzahl Posts',\n",
    "    title='Anzahl der Posts pro Wochentag',\n",
    "    labels={'Anzahl Posts': 'Anzahl Posts', 'Wochentag': 'Wochentag'},\n",
    "    color='Anzahl Posts',\n",
    "    color_continuous_scale='Viridis'\n",
    ")\n",
    "\n",
    "fig.update_layout(\n",
    "    xaxis_tickangle=45,\n",
    "    margin=dict(t=50, b=150)\n",
    ")\n",
    "\n",
    "fig.show()\n"
   ]
  },
  {
   "cell_type": "code",
   "execution_count": 50,
   "id": "d3dcfbbd",
   "metadata": {},
   "outputs": [
    {
     "data": {
      "application/vnd.plotly.v1+json": {
       "config": {
        "plotlyServerURL": "https://plot.ly"
       },
       "data": [
        {
         "hovertemplate": "Uhrzeit=%{x}<br>Anzahl der Posts=%{y}<extra></extra>",
         "legendgroup": "",
         "marker": {
          "color": "skyblue",
          "pattern": {
           "shape": ""
          }
         },
         "name": "",
         "orientation": "v",
         "showlegend": false,
         "textposition": "auto",
         "type": "bar",
         "x": [
          "00:00 - 01:00",
          "01:00 - 02:00",
          "04:00 - 05:00",
          "05:00 - 06:00",
          "06:00 - 07:00",
          "07:00 - 08:00",
          "08:00 - 09:00",
          "09:00 - 10:00",
          "10:00 - 11:00",
          "11:00 - 12:00",
          "12:00 - 13:00",
          "13:00 - 14:00",
          "14:00 - 15:00",
          "15:00 - 16:00",
          "16:00 - 17:00",
          "17:00 - 18:00",
          "18:00 - 19:00",
          "19:00 - 20:00",
          "20:00 - 21:00",
          "21:00 - 22:00",
          "22:00 - 23:00",
          "23:00 - 24:00"
         ],
         "xaxis": "x",
         "y": {
          "bdata": "AQEDCQgYHi0iJisqLy0tLCEbFQ4DBQ==",
          "dtype": "i1"
         },
         "yaxis": "y"
        }
       ],
       "layout": {
        "barmode": "relative",
        "legend": {
         "tracegroupgap": 0
        },
        "margin": {
         "b": 150,
         "t": 50
        },
        "template": {
         "data": {
          "bar": [
           {
            "error_x": {
             "color": "#2a3f5f"
            },
            "error_y": {
             "color": "#2a3f5f"
            },
            "marker": {
             "line": {
              "color": "#E5ECF6",
              "width": 0.5
             },
             "pattern": {
              "fillmode": "overlay",
              "size": 10,
              "solidity": 0.2
             }
            },
            "type": "bar"
           }
          ],
          "barpolar": [
           {
            "marker": {
             "line": {
              "color": "#E5ECF6",
              "width": 0.5
             },
             "pattern": {
              "fillmode": "overlay",
              "size": 10,
              "solidity": 0.2
             }
            },
            "type": "barpolar"
           }
          ],
          "carpet": [
           {
            "aaxis": {
             "endlinecolor": "#2a3f5f",
             "gridcolor": "white",
             "linecolor": "white",
             "minorgridcolor": "white",
             "startlinecolor": "#2a3f5f"
            },
            "baxis": {
             "endlinecolor": "#2a3f5f",
             "gridcolor": "white",
             "linecolor": "white",
             "minorgridcolor": "white",
             "startlinecolor": "#2a3f5f"
            },
            "type": "carpet"
           }
          ],
          "choropleth": [
           {
            "colorbar": {
             "outlinewidth": 0,
             "ticks": ""
            },
            "type": "choropleth"
           }
          ],
          "contour": [
           {
            "colorbar": {
             "outlinewidth": 0,
             "ticks": ""
            },
            "colorscale": [
             [
              0,
              "#0d0887"
             ],
             [
              0.1111111111111111,
              "#46039f"
             ],
             [
              0.2222222222222222,
              "#7201a8"
             ],
             [
              0.3333333333333333,
              "#9c179e"
             ],
             [
              0.4444444444444444,
              "#bd3786"
             ],
             [
              0.5555555555555556,
              "#d8576b"
             ],
             [
              0.6666666666666666,
              "#ed7953"
             ],
             [
              0.7777777777777778,
              "#fb9f3a"
             ],
             [
              0.8888888888888888,
              "#fdca26"
             ],
             [
              1,
              "#f0f921"
             ]
            ],
            "type": "contour"
           }
          ],
          "contourcarpet": [
           {
            "colorbar": {
             "outlinewidth": 0,
             "ticks": ""
            },
            "type": "contourcarpet"
           }
          ],
          "heatmap": [
           {
            "colorbar": {
             "outlinewidth": 0,
             "ticks": ""
            },
            "colorscale": [
             [
              0,
              "#0d0887"
             ],
             [
              0.1111111111111111,
              "#46039f"
             ],
             [
              0.2222222222222222,
              "#7201a8"
             ],
             [
              0.3333333333333333,
              "#9c179e"
             ],
             [
              0.4444444444444444,
              "#bd3786"
             ],
             [
              0.5555555555555556,
              "#d8576b"
             ],
             [
              0.6666666666666666,
              "#ed7953"
             ],
             [
              0.7777777777777778,
              "#fb9f3a"
             ],
             [
              0.8888888888888888,
              "#fdca26"
             ],
             [
              1,
              "#f0f921"
             ]
            ],
            "type": "heatmap"
           }
          ],
          "histogram": [
           {
            "marker": {
             "pattern": {
              "fillmode": "overlay",
              "size": 10,
              "solidity": 0.2
             }
            },
            "type": "histogram"
           }
          ],
          "histogram2d": [
           {
            "colorbar": {
             "outlinewidth": 0,
             "ticks": ""
            },
            "colorscale": [
             [
              0,
              "#0d0887"
             ],
             [
              0.1111111111111111,
              "#46039f"
             ],
             [
              0.2222222222222222,
              "#7201a8"
             ],
             [
              0.3333333333333333,
              "#9c179e"
             ],
             [
              0.4444444444444444,
              "#bd3786"
             ],
             [
              0.5555555555555556,
              "#d8576b"
             ],
             [
              0.6666666666666666,
              "#ed7953"
             ],
             [
              0.7777777777777778,
              "#fb9f3a"
             ],
             [
              0.8888888888888888,
              "#fdca26"
             ],
             [
              1,
              "#f0f921"
             ]
            ],
            "type": "histogram2d"
           }
          ],
          "histogram2dcontour": [
           {
            "colorbar": {
             "outlinewidth": 0,
             "ticks": ""
            },
            "colorscale": [
             [
              0,
              "#0d0887"
             ],
             [
              0.1111111111111111,
              "#46039f"
             ],
             [
              0.2222222222222222,
              "#7201a8"
             ],
             [
              0.3333333333333333,
              "#9c179e"
             ],
             [
              0.4444444444444444,
              "#bd3786"
             ],
             [
              0.5555555555555556,
              "#d8576b"
             ],
             [
              0.6666666666666666,
              "#ed7953"
             ],
             [
              0.7777777777777778,
              "#fb9f3a"
             ],
             [
              0.8888888888888888,
              "#fdca26"
             ],
             [
              1,
              "#f0f921"
             ]
            ],
            "type": "histogram2dcontour"
           }
          ],
          "mesh3d": [
           {
            "colorbar": {
             "outlinewidth": 0,
             "ticks": ""
            },
            "type": "mesh3d"
           }
          ],
          "parcoords": [
           {
            "line": {
             "colorbar": {
              "outlinewidth": 0,
              "ticks": ""
             }
            },
            "type": "parcoords"
           }
          ],
          "pie": [
           {
            "automargin": true,
            "type": "pie"
           }
          ],
          "scatter": [
           {
            "fillpattern": {
             "fillmode": "overlay",
             "size": 10,
             "solidity": 0.2
            },
            "type": "scatter"
           }
          ],
          "scatter3d": [
           {
            "line": {
             "colorbar": {
              "outlinewidth": 0,
              "ticks": ""
             }
            },
            "marker": {
             "colorbar": {
              "outlinewidth": 0,
              "ticks": ""
             }
            },
            "type": "scatter3d"
           }
          ],
          "scattercarpet": [
           {
            "marker": {
             "colorbar": {
              "outlinewidth": 0,
              "ticks": ""
             }
            },
            "type": "scattercarpet"
           }
          ],
          "scattergeo": [
           {
            "marker": {
             "colorbar": {
              "outlinewidth": 0,
              "ticks": ""
             }
            },
            "type": "scattergeo"
           }
          ],
          "scattergl": [
           {
            "marker": {
             "colorbar": {
              "outlinewidth": 0,
              "ticks": ""
             }
            },
            "type": "scattergl"
           }
          ],
          "scattermap": [
           {
            "marker": {
             "colorbar": {
              "outlinewidth": 0,
              "ticks": ""
             }
            },
            "type": "scattermap"
           }
          ],
          "scattermapbox": [
           {
            "marker": {
             "colorbar": {
              "outlinewidth": 0,
              "ticks": ""
             }
            },
            "type": "scattermapbox"
           }
          ],
          "scatterpolar": [
           {
            "marker": {
             "colorbar": {
              "outlinewidth": 0,
              "ticks": ""
             }
            },
            "type": "scatterpolar"
           }
          ],
          "scatterpolargl": [
           {
            "marker": {
             "colorbar": {
              "outlinewidth": 0,
              "ticks": ""
             }
            },
            "type": "scatterpolargl"
           }
          ],
          "scatterternary": [
           {
            "marker": {
             "colorbar": {
              "outlinewidth": 0,
              "ticks": ""
             }
            },
            "type": "scatterternary"
           }
          ],
          "surface": [
           {
            "colorbar": {
             "outlinewidth": 0,
             "ticks": ""
            },
            "colorscale": [
             [
              0,
              "#0d0887"
             ],
             [
              0.1111111111111111,
              "#46039f"
             ],
             [
              0.2222222222222222,
              "#7201a8"
             ],
             [
              0.3333333333333333,
              "#9c179e"
             ],
             [
              0.4444444444444444,
              "#bd3786"
             ],
             [
              0.5555555555555556,
              "#d8576b"
             ],
             [
              0.6666666666666666,
              "#ed7953"
             ],
             [
              0.7777777777777778,
              "#fb9f3a"
             ],
             [
              0.8888888888888888,
              "#fdca26"
             ],
             [
              1,
              "#f0f921"
             ]
            ],
            "type": "surface"
           }
          ],
          "table": [
           {
            "cells": {
             "fill": {
              "color": "#EBF0F8"
             },
             "line": {
              "color": "white"
             }
            },
            "header": {
             "fill": {
              "color": "#C8D4E3"
             },
             "line": {
              "color": "white"
             }
            },
            "type": "table"
           }
          ]
         },
         "layout": {
          "annotationdefaults": {
           "arrowcolor": "#2a3f5f",
           "arrowhead": 0,
           "arrowwidth": 1
          },
          "autotypenumbers": "strict",
          "coloraxis": {
           "colorbar": {
            "outlinewidth": 0,
            "ticks": ""
           }
          },
          "colorscale": {
           "diverging": [
            [
             0,
             "#8e0152"
            ],
            [
             0.1,
             "#c51b7d"
            ],
            [
             0.2,
             "#de77ae"
            ],
            [
             0.3,
             "#f1b6da"
            ],
            [
             0.4,
             "#fde0ef"
            ],
            [
             0.5,
             "#f7f7f7"
            ],
            [
             0.6,
             "#e6f5d0"
            ],
            [
             0.7,
             "#b8e186"
            ],
            [
             0.8,
             "#7fbc41"
            ],
            [
             0.9,
             "#4d9221"
            ],
            [
             1,
             "#276419"
            ]
           ],
           "sequential": [
            [
             0,
             "#0d0887"
            ],
            [
             0.1111111111111111,
             "#46039f"
            ],
            [
             0.2222222222222222,
             "#7201a8"
            ],
            [
             0.3333333333333333,
             "#9c179e"
            ],
            [
             0.4444444444444444,
             "#bd3786"
            ],
            [
             0.5555555555555556,
             "#d8576b"
            ],
            [
             0.6666666666666666,
             "#ed7953"
            ],
            [
             0.7777777777777778,
             "#fb9f3a"
            ],
            [
             0.8888888888888888,
             "#fdca26"
            ],
            [
             1,
             "#f0f921"
            ]
           ],
           "sequentialminus": [
            [
             0,
             "#0d0887"
            ],
            [
             0.1111111111111111,
             "#46039f"
            ],
            [
             0.2222222222222222,
             "#7201a8"
            ],
            [
             0.3333333333333333,
             "#9c179e"
            ],
            [
             0.4444444444444444,
             "#bd3786"
            ],
            [
             0.5555555555555556,
             "#d8576b"
            ],
            [
             0.6666666666666666,
             "#ed7953"
            ],
            [
             0.7777777777777778,
             "#fb9f3a"
            ],
            [
             0.8888888888888888,
             "#fdca26"
            ],
            [
             1,
             "#f0f921"
            ]
           ]
          },
          "colorway": [
           "#636efa",
           "#EF553B",
           "#00cc96",
           "#ab63fa",
           "#FFA15A",
           "#19d3f3",
           "#FF6692",
           "#B6E880",
           "#FF97FF",
           "#FECB52"
          ],
          "font": {
           "color": "#2a3f5f"
          },
          "geo": {
           "bgcolor": "white",
           "lakecolor": "white",
           "landcolor": "#E5ECF6",
           "showlakes": true,
           "showland": true,
           "subunitcolor": "white"
          },
          "hoverlabel": {
           "align": "left"
          },
          "hovermode": "closest",
          "mapbox": {
           "style": "light"
          },
          "paper_bgcolor": "white",
          "plot_bgcolor": "#E5ECF6",
          "polar": {
           "angularaxis": {
            "gridcolor": "white",
            "linecolor": "white",
            "ticks": ""
           },
           "bgcolor": "#E5ECF6",
           "radialaxis": {
            "gridcolor": "white",
            "linecolor": "white",
            "ticks": ""
           }
          },
          "scene": {
           "xaxis": {
            "backgroundcolor": "#E5ECF6",
            "gridcolor": "white",
            "gridwidth": 2,
            "linecolor": "white",
            "showbackground": true,
            "ticks": "",
            "zerolinecolor": "white"
           },
           "yaxis": {
            "backgroundcolor": "#E5ECF6",
            "gridcolor": "white",
            "gridwidth": 2,
            "linecolor": "white",
            "showbackground": true,
            "ticks": "",
            "zerolinecolor": "white"
           },
           "zaxis": {
            "backgroundcolor": "#E5ECF6",
            "gridcolor": "white",
            "gridwidth": 2,
            "linecolor": "white",
            "showbackground": true,
            "ticks": "",
            "zerolinecolor": "white"
           }
          },
          "shapedefaults": {
           "line": {
            "color": "#2a3f5f"
           }
          },
          "ternary": {
           "aaxis": {
            "gridcolor": "white",
            "linecolor": "white",
            "ticks": ""
           },
           "baxis": {
            "gridcolor": "white",
            "linecolor": "white",
            "ticks": ""
           },
           "bgcolor": "#E5ECF6",
           "caxis": {
            "gridcolor": "white",
            "linecolor": "white",
            "ticks": ""
           }
          },
          "title": {
           "x": 0.05
          },
          "xaxis": {
           "automargin": true,
           "gridcolor": "white",
           "linecolor": "white",
           "ticks": "",
           "title": {
            "standoff": 15
           },
           "zerolinecolor": "white",
           "zerolinewidth": 2
          },
          "yaxis": {
           "automargin": true,
           "gridcolor": "white",
           "linecolor": "white",
           "ticks": "",
           "title": {
            "standoff": 15
           },
           "zerolinecolor": "white",
           "zerolinewidth": 2
          }
         }
        },
        "title": {
         "text": "Verteilung der Posts nach Uhrzeit"
        },
        "xaxis": {
         "anchor": "y",
         "domain": [
          0,
          1
         ],
         "tickangle": -45,
         "title": {
          "text": "Uhrzeit"
         }
        },
        "yaxis": {
         "anchor": "x",
         "domain": [
          0,
          1
         ],
         "showgrid": true,
         "title": {
          "text": "Anzahl der Posts"
         }
        }
       }
      }
     },
     "metadata": {},
     "output_type": "display_data"
    }
   ],
   "source": [
    "# Sicherstellen, dass 'date_local' datetime ist\n",
    "df_posts['date_local'] = pd.to_datetime(df_posts['date_local'])\n",
    "\n",
    "# Stunde extrahieren\n",
    "df_posts['hour'] = df_posts['date_local'].dt.hour\n",
    "\n",
    "# Anzahl Posts pro Stunde zählen und sortieren\n",
    "post_counts_per_hour = df_posts['hour'].value_counts().sort_index()\n",
    "\n",
    "# Achsenlabels\n",
    "labels = [f\"{h:02d}:00 - {h+1:02d}:00\" for h in post_counts_per_hour.index]\n",
    "\n",
    "# DataFrame für Plotly\n",
    "df_hourly = pd.DataFrame({\n",
    "    'Uhrzeit': labels,\n",
    "    'Anzahl Posts': post_counts_per_hour.values\n",
    "})\n",
    "\n",
    "fig = px.bar(\n",
    "    df_hourly,\n",
    "    x='Uhrzeit',\n",
    "    y='Anzahl Posts',\n",
    "    title='Verteilung der Posts nach Uhrzeit',\n",
    "    labels={'Anzahl Posts': 'Anzahl der Posts', 'Uhrzeit': 'Uhrzeit'},\n",
    "    color_discrete_sequence=['skyblue']\n",
    ")\n",
    "\n",
    "fig.update_layout(\n",
    "    xaxis_tickangle=-45,\n",
    "    yaxis=dict(showgrid=True),\n",
    "    margin=dict(t=50, b=150)\n",
    ")\n",
    "\n",
    "fig.show()\n"
   ]
  },
  {
   "cell_type": "code",
   "execution_count": 51,
   "id": "8087417c",
   "metadata": {},
   "outputs": [
    {
     "data": {
      "application/vnd.plotly.v1+json": {
       "config": {
        "plotlyServerURL": "https://plot.ly"
       },
       "data": [
        {
         "hovertemplate": "Wochentag=%{x}<br>Gesamtzahl der Likes=%{y}<extra></extra>",
         "legendgroup": "",
         "marker": {
          "color": "mediumseagreen",
          "pattern": {
           "shape": ""
          }
         },
         "name": "",
         "orientation": "v",
         "showlegend": false,
         "textposition": "auto",
         "type": "bar",
         "x": [
          "Montag",
          "Dienstag",
          "Mittwoch",
          "Donnerstag",
          "Freitag",
          "Samstag",
          "Sonntag"
         ],
         "xaxis": "x",
         "y": {
          "bdata": "ACtuK/4mnBwpId8hlyU=",
          "dtype": "i2"
         },
         "yaxis": "y"
        }
       ],
       "layout": {
        "barmode": "relative",
        "legend": {
         "tracegroupgap": 0
        },
        "template": {
         "data": {
          "bar": [
           {
            "error_x": {
             "color": "#2a3f5f"
            },
            "error_y": {
             "color": "#2a3f5f"
            },
            "marker": {
             "line": {
              "color": "#E5ECF6",
              "width": 0.5
             },
             "pattern": {
              "fillmode": "overlay",
              "size": 10,
              "solidity": 0.2
             }
            },
            "type": "bar"
           }
          ],
          "barpolar": [
           {
            "marker": {
             "line": {
              "color": "#E5ECF6",
              "width": 0.5
             },
             "pattern": {
              "fillmode": "overlay",
              "size": 10,
              "solidity": 0.2
             }
            },
            "type": "barpolar"
           }
          ],
          "carpet": [
           {
            "aaxis": {
             "endlinecolor": "#2a3f5f",
             "gridcolor": "white",
             "linecolor": "white",
             "minorgridcolor": "white",
             "startlinecolor": "#2a3f5f"
            },
            "baxis": {
             "endlinecolor": "#2a3f5f",
             "gridcolor": "white",
             "linecolor": "white",
             "minorgridcolor": "white",
             "startlinecolor": "#2a3f5f"
            },
            "type": "carpet"
           }
          ],
          "choropleth": [
           {
            "colorbar": {
             "outlinewidth": 0,
             "ticks": ""
            },
            "type": "choropleth"
           }
          ],
          "contour": [
           {
            "colorbar": {
             "outlinewidth": 0,
             "ticks": ""
            },
            "colorscale": [
             [
              0,
              "#0d0887"
             ],
             [
              0.1111111111111111,
              "#46039f"
             ],
             [
              0.2222222222222222,
              "#7201a8"
             ],
             [
              0.3333333333333333,
              "#9c179e"
             ],
             [
              0.4444444444444444,
              "#bd3786"
             ],
             [
              0.5555555555555556,
              "#d8576b"
             ],
             [
              0.6666666666666666,
              "#ed7953"
             ],
             [
              0.7777777777777778,
              "#fb9f3a"
             ],
             [
              0.8888888888888888,
              "#fdca26"
             ],
             [
              1,
              "#f0f921"
             ]
            ],
            "type": "contour"
           }
          ],
          "contourcarpet": [
           {
            "colorbar": {
             "outlinewidth": 0,
             "ticks": ""
            },
            "type": "contourcarpet"
           }
          ],
          "heatmap": [
           {
            "colorbar": {
             "outlinewidth": 0,
             "ticks": ""
            },
            "colorscale": [
             [
              0,
              "#0d0887"
             ],
             [
              0.1111111111111111,
              "#46039f"
             ],
             [
              0.2222222222222222,
              "#7201a8"
             ],
             [
              0.3333333333333333,
              "#9c179e"
             ],
             [
              0.4444444444444444,
              "#bd3786"
             ],
             [
              0.5555555555555556,
              "#d8576b"
             ],
             [
              0.6666666666666666,
              "#ed7953"
             ],
             [
              0.7777777777777778,
              "#fb9f3a"
             ],
             [
              0.8888888888888888,
              "#fdca26"
             ],
             [
              1,
              "#f0f921"
             ]
            ],
            "type": "heatmap"
           }
          ],
          "histogram": [
           {
            "marker": {
             "pattern": {
              "fillmode": "overlay",
              "size": 10,
              "solidity": 0.2
             }
            },
            "type": "histogram"
           }
          ],
          "histogram2d": [
           {
            "colorbar": {
             "outlinewidth": 0,
             "ticks": ""
            },
            "colorscale": [
             [
              0,
              "#0d0887"
             ],
             [
              0.1111111111111111,
              "#46039f"
             ],
             [
              0.2222222222222222,
              "#7201a8"
             ],
             [
              0.3333333333333333,
              "#9c179e"
             ],
             [
              0.4444444444444444,
              "#bd3786"
             ],
             [
              0.5555555555555556,
              "#d8576b"
             ],
             [
              0.6666666666666666,
              "#ed7953"
             ],
             [
              0.7777777777777778,
              "#fb9f3a"
             ],
             [
              0.8888888888888888,
              "#fdca26"
             ],
             [
              1,
              "#f0f921"
             ]
            ],
            "type": "histogram2d"
           }
          ],
          "histogram2dcontour": [
           {
            "colorbar": {
             "outlinewidth": 0,
             "ticks": ""
            },
            "colorscale": [
             [
              0,
              "#0d0887"
             ],
             [
              0.1111111111111111,
              "#46039f"
             ],
             [
              0.2222222222222222,
              "#7201a8"
             ],
             [
              0.3333333333333333,
              "#9c179e"
             ],
             [
              0.4444444444444444,
              "#bd3786"
             ],
             [
              0.5555555555555556,
              "#d8576b"
             ],
             [
              0.6666666666666666,
              "#ed7953"
             ],
             [
              0.7777777777777778,
              "#fb9f3a"
             ],
             [
              0.8888888888888888,
              "#fdca26"
             ],
             [
              1,
              "#f0f921"
             ]
            ],
            "type": "histogram2dcontour"
           }
          ],
          "mesh3d": [
           {
            "colorbar": {
             "outlinewidth": 0,
             "ticks": ""
            },
            "type": "mesh3d"
           }
          ],
          "parcoords": [
           {
            "line": {
             "colorbar": {
              "outlinewidth": 0,
              "ticks": ""
             }
            },
            "type": "parcoords"
           }
          ],
          "pie": [
           {
            "automargin": true,
            "type": "pie"
           }
          ],
          "scatter": [
           {
            "fillpattern": {
             "fillmode": "overlay",
             "size": 10,
             "solidity": 0.2
            },
            "type": "scatter"
           }
          ],
          "scatter3d": [
           {
            "line": {
             "colorbar": {
              "outlinewidth": 0,
              "ticks": ""
             }
            },
            "marker": {
             "colorbar": {
              "outlinewidth": 0,
              "ticks": ""
             }
            },
            "type": "scatter3d"
           }
          ],
          "scattercarpet": [
           {
            "marker": {
             "colorbar": {
              "outlinewidth": 0,
              "ticks": ""
             }
            },
            "type": "scattercarpet"
           }
          ],
          "scattergeo": [
           {
            "marker": {
             "colorbar": {
              "outlinewidth": 0,
              "ticks": ""
             }
            },
            "type": "scattergeo"
           }
          ],
          "scattergl": [
           {
            "marker": {
             "colorbar": {
              "outlinewidth": 0,
              "ticks": ""
             }
            },
            "type": "scattergl"
           }
          ],
          "scattermap": [
           {
            "marker": {
             "colorbar": {
              "outlinewidth": 0,
              "ticks": ""
             }
            },
            "type": "scattermap"
           }
          ],
          "scattermapbox": [
           {
            "marker": {
             "colorbar": {
              "outlinewidth": 0,
              "ticks": ""
             }
            },
            "type": "scattermapbox"
           }
          ],
          "scatterpolar": [
           {
            "marker": {
             "colorbar": {
              "outlinewidth": 0,
              "ticks": ""
             }
            },
            "type": "scatterpolar"
           }
          ],
          "scatterpolargl": [
           {
            "marker": {
             "colorbar": {
              "outlinewidth": 0,
              "ticks": ""
             }
            },
            "type": "scatterpolargl"
           }
          ],
          "scatterternary": [
           {
            "marker": {
             "colorbar": {
              "outlinewidth": 0,
              "ticks": ""
             }
            },
            "type": "scatterternary"
           }
          ],
          "surface": [
           {
            "colorbar": {
             "outlinewidth": 0,
             "ticks": ""
            },
            "colorscale": [
             [
              0,
              "#0d0887"
             ],
             [
              0.1111111111111111,
              "#46039f"
             ],
             [
              0.2222222222222222,
              "#7201a8"
             ],
             [
              0.3333333333333333,
              "#9c179e"
             ],
             [
              0.4444444444444444,
              "#bd3786"
             ],
             [
              0.5555555555555556,
              "#d8576b"
             ],
             [
              0.6666666666666666,
              "#ed7953"
             ],
             [
              0.7777777777777778,
              "#fb9f3a"
             ],
             [
              0.8888888888888888,
              "#fdca26"
             ],
             [
              1,
              "#f0f921"
             ]
            ],
            "type": "surface"
           }
          ],
          "table": [
           {
            "cells": {
             "fill": {
              "color": "#EBF0F8"
             },
             "line": {
              "color": "white"
             }
            },
            "header": {
             "fill": {
              "color": "#C8D4E3"
             },
             "line": {
              "color": "white"
             }
            },
            "type": "table"
           }
          ]
         },
         "layout": {
          "annotationdefaults": {
           "arrowcolor": "#2a3f5f",
           "arrowhead": 0,
           "arrowwidth": 1
          },
          "autotypenumbers": "strict",
          "coloraxis": {
           "colorbar": {
            "outlinewidth": 0,
            "ticks": ""
           }
          },
          "colorscale": {
           "diverging": [
            [
             0,
             "#8e0152"
            ],
            [
             0.1,
             "#c51b7d"
            ],
            [
             0.2,
             "#de77ae"
            ],
            [
             0.3,
             "#f1b6da"
            ],
            [
             0.4,
             "#fde0ef"
            ],
            [
             0.5,
             "#f7f7f7"
            ],
            [
             0.6,
             "#e6f5d0"
            ],
            [
             0.7,
             "#b8e186"
            ],
            [
             0.8,
             "#7fbc41"
            ],
            [
             0.9,
             "#4d9221"
            ],
            [
             1,
             "#276419"
            ]
           ],
           "sequential": [
            [
             0,
             "#0d0887"
            ],
            [
             0.1111111111111111,
             "#46039f"
            ],
            [
             0.2222222222222222,
             "#7201a8"
            ],
            [
             0.3333333333333333,
             "#9c179e"
            ],
            [
             0.4444444444444444,
             "#bd3786"
            ],
            [
             0.5555555555555556,
             "#d8576b"
            ],
            [
             0.6666666666666666,
             "#ed7953"
            ],
            [
             0.7777777777777778,
             "#fb9f3a"
            ],
            [
             0.8888888888888888,
             "#fdca26"
            ],
            [
             1,
             "#f0f921"
            ]
           ],
           "sequentialminus": [
            [
             0,
             "#0d0887"
            ],
            [
             0.1111111111111111,
             "#46039f"
            ],
            [
             0.2222222222222222,
             "#7201a8"
            ],
            [
             0.3333333333333333,
             "#9c179e"
            ],
            [
             0.4444444444444444,
             "#bd3786"
            ],
            [
             0.5555555555555556,
             "#d8576b"
            ],
            [
             0.6666666666666666,
             "#ed7953"
            ],
            [
             0.7777777777777778,
             "#fb9f3a"
            ],
            [
             0.8888888888888888,
             "#fdca26"
            ],
            [
             1,
             "#f0f921"
            ]
           ]
          },
          "colorway": [
           "#636efa",
           "#EF553B",
           "#00cc96",
           "#ab63fa",
           "#FFA15A",
           "#19d3f3",
           "#FF6692",
           "#B6E880",
           "#FF97FF",
           "#FECB52"
          ],
          "font": {
           "color": "#2a3f5f"
          },
          "geo": {
           "bgcolor": "white",
           "lakecolor": "white",
           "landcolor": "#E5ECF6",
           "showlakes": true,
           "showland": true,
           "subunitcolor": "white"
          },
          "hoverlabel": {
           "align": "left"
          },
          "hovermode": "closest",
          "mapbox": {
           "style": "light"
          },
          "paper_bgcolor": "white",
          "plot_bgcolor": "#E5ECF6",
          "polar": {
           "angularaxis": {
            "gridcolor": "white",
            "linecolor": "white",
            "ticks": ""
           },
           "bgcolor": "#E5ECF6",
           "radialaxis": {
            "gridcolor": "white",
            "linecolor": "white",
            "ticks": ""
           }
          },
          "scene": {
           "xaxis": {
            "backgroundcolor": "#E5ECF6",
            "gridcolor": "white",
            "gridwidth": 2,
            "linecolor": "white",
            "showbackground": true,
            "ticks": "",
            "zerolinecolor": "white"
           },
           "yaxis": {
            "backgroundcolor": "#E5ECF6",
            "gridcolor": "white",
            "gridwidth": 2,
            "linecolor": "white",
            "showbackground": true,
            "ticks": "",
            "zerolinecolor": "white"
           },
           "zaxis": {
            "backgroundcolor": "#E5ECF6",
            "gridcolor": "white",
            "gridwidth": 2,
            "linecolor": "white",
            "showbackground": true,
            "ticks": "",
            "zerolinecolor": "white"
           }
          },
          "shapedefaults": {
           "line": {
            "color": "#2a3f5f"
           }
          },
          "ternary": {
           "aaxis": {
            "gridcolor": "white",
            "linecolor": "white",
            "ticks": ""
           },
           "baxis": {
            "gridcolor": "white",
            "linecolor": "white",
            "ticks": ""
           },
           "bgcolor": "#E5ECF6",
           "caxis": {
            "gridcolor": "white",
            "linecolor": "white",
            "ticks": ""
           }
          },
          "title": {
           "x": 0.05
          },
          "xaxis": {
           "automargin": true,
           "gridcolor": "white",
           "linecolor": "white",
           "ticks": "",
           "title": {
            "standoff": 15
           },
           "zerolinecolor": "white",
           "zerolinewidth": 2
          },
          "yaxis": {
           "automargin": true,
           "gridcolor": "white",
           "linecolor": "white",
           "ticks": "",
           "title": {
            "standoff": 15
           },
           "zerolinecolor": "white",
           "zerolinewidth": 2
          }
         }
        },
        "title": {
         "text": "Gesamte Likes nach Wochentag"
        },
        "xaxis": {
         "anchor": "y",
         "domain": [
          0,
          1
         ],
         "title": {
          "text": "Wochentag"
         }
        },
        "yaxis": {
         "anchor": "x",
         "domain": [
          0,
          1
         ],
         "showgrid": true,
         "title": {
          "text": "Gesamtzahl der Likes"
         }
        }
       }
      }
     },
     "metadata": {},
     "output_type": "display_data"
    }
   ],
   "source": [
    "# Sicherstellen, dass 'date_local' datetime ist\n",
    "df_posts['date_local'] = pd.to_datetime(df_posts['date_local'])\n",
    "\n",
    "# Wochentag extrahieren (0=Montag,...)\n",
    "df_posts['weekday'] = df_posts['date_local'].dt.dayofweek\n",
    "\n",
    "# Wochentagsnamen\n",
    "weekday_labels = ['Montag', 'Dienstag', 'Mittwoch', 'Donnerstag', 'Freitag', 'Samstag', 'Sonntag']\n",
    "\n",
    "# Likes pro Wochentag summieren (reindex für alle Tage)\n",
    "likes_per_weekday = df_posts.groupby('weekday')['like_count'].sum().reindex(range(7)).fillna(0)\n",
    "\n",
    "# DataFrame für Plotly\n",
    "df_likes_weekday = pd.DataFrame({\n",
    "    'Wochentag': weekday_labels,\n",
    "    'Likes': likes_per_weekday.values\n",
    "})\n",
    "\n",
    "fig = px.bar(\n",
    "    df_likes_weekday,\n",
    "    x='Wochentag',\n",
    "    y='Likes',\n",
    "    title='Gesamte Likes nach Wochentag',\n",
    "    labels={'Likes': 'Gesamtzahl der Likes', 'Wochentag': 'Wochentag'},\n",
    "    color_discrete_sequence=['mediumseagreen']\n",
    ")\n",
    "\n",
    "fig.update_layout(yaxis=dict(showgrid=True))\n",
    "\n",
    "fig.show()\n"
   ]
  },
  {
   "cell_type": "code",
   "execution_count": 52,
   "id": "5adf7ab2",
   "metadata": {},
   "outputs": [
    {
     "data": {
      "application/vnd.plotly.v1+json": {
       "config": {
        "plotlyServerURL": "https://plot.ly"
       },
       "data": [
        {
         "domain": {
          "x": [
           0,
           1
          ],
          "y": [
           0,
           1
          ]
         },
         "hovertemplate": "Content Format=%{label}<br>Anzahl=%{value}<extra></extra>",
         "labels": [
          "Image",
          "Carousel",
          "Reel",
          "Video"
         ],
         "legendgroup": "",
         "name": "",
         "showlegend": true,
         "type": "pie",
         "values": {
          "bdata": "EwGhAGIAHAA=",
          "dtype": "i2"
         }
        }
       ],
       "layout": {
        "legend": {
         "tracegroupgap": 0
        },
        "piecolorway": [
         "rgb(102, 197, 204)",
         "rgb(246, 207, 113)",
         "rgb(248, 156, 116)",
         "rgb(220, 176, 242)",
         "rgb(135, 197, 95)",
         "rgb(158, 185, 243)",
         "rgb(254, 136, 177)",
         "rgb(201, 219, 116)",
         "rgb(139, 224, 164)",
         "rgb(180, 151, 231)",
         "rgb(179, 179, 179)"
        ],
        "template": {
         "data": {
          "bar": [
           {
            "error_x": {
             "color": "#2a3f5f"
            },
            "error_y": {
             "color": "#2a3f5f"
            },
            "marker": {
             "line": {
              "color": "#E5ECF6",
              "width": 0.5
             },
             "pattern": {
              "fillmode": "overlay",
              "size": 10,
              "solidity": 0.2
             }
            },
            "type": "bar"
           }
          ],
          "barpolar": [
           {
            "marker": {
             "line": {
              "color": "#E5ECF6",
              "width": 0.5
             },
             "pattern": {
              "fillmode": "overlay",
              "size": 10,
              "solidity": 0.2
             }
            },
            "type": "barpolar"
           }
          ],
          "carpet": [
           {
            "aaxis": {
             "endlinecolor": "#2a3f5f",
             "gridcolor": "white",
             "linecolor": "white",
             "minorgridcolor": "white",
             "startlinecolor": "#2a3f5f"
            },
            "baxis": {
             "endlinecolor": "#2a3f5f",
             "gridcolor": "white",
             "linecolor": "white",
             "minorgridcolor": "white",
             "startlinecolor": "#2a3f5f"
            },
            "type": "carpet"
           }
          ],
          "choropleth": [
           {
            "colorbar": {
             "outlinewidth": 0,
             "ticks": ""
            },
            "type": "choropleth"
           }
          ],
          "contour": [
           {
            "colorbar": {
             "outlinewidth": 0,
             "ticks": ""
            },
            "colorscale": [
             [
              0,
              "#0d0887"
             ],
             [
              0.1111111111111111,
              "#46039f"
             ],
             [
              0.2222222222222222,
              "#7201a8"
             ],
             [
              0.3333333333333333,
              "#9c179e"
             ],
             [
              0.4444444444444444,
              "#bd3786"
             ],
             [
              0.5555555555555556,
              "#d8576b"
             ],
             [
              0.6666666666666666,
              "#ed7953"
             ],
             [
              0.7777777777777778,
              "#fb9f3a"
             ],
             [
              0.8888888888888888,
              "#fdca26"
             ],
             [
              1,
              "#f0f921"
             ]
            ],
            "type": "contour"
           }
          ],
          "contourcarpet": [
           {
            "colorbar": {
             "outlinewidth": 0,
             "ticks": ""
            },
            "type": "contourcarpet"
           }
          ],
          "heatmap": [
           {
            "colorbar": {
             "outlinewidth": 0,
             "ticks": ""
            },
            "colorscale": [
             [
              0,
              "#0d0887"
             ],
             [
              0.1111111111111111,
              "#46039f"
             ],
             [
              0.2222222222222222,
              "#7201a8"
             ],
             [
              0.3333333333333333,
              "#9c179e"
             ],
             [
              0.4444444444444444,
              "#bd3786"
             ],
             [
              0.5555555555555556,
              "#d8576b"
             ],
             [
              0.6666666666666666,
              "#ed7953"
             ],
             [
              0.7777777777777778,
              "#fb9f3a"
             ],
             [
              0.8888888888888888,
              "#fdca26"
             ],
             [
              1,
              "#f0f921"
             ]
            ],
            "type": "heatmap"
           }
          ],
          "histogram": [
           {
            "marker": {
             "pattern": {
              "fillmode": "overlay",
              "size": 10,
              "solidity": 0.2
             }
            },
            "type": "histogram"
           }
          ],
          "histogram2d": [
           {
            "colorbar": {
             "outlinewidth": 0,
             "ticks": ""
            },
            "colorscale": [
             [
              0,
              "#0d0887"
             ],
             [
              0.1111111111111111,
              "#46039f"
             ],
             [
              0.2222222222222222,
              "#7201a8"
             ],
             [
              0.3333333333333333,
              "#9c179e"
             ],
             [
              0.4444444444444444,
              "#bd3786"
             ],
             [
              0.5555555555555556,
              "#d8576b"
             ],
             [
              0.6666666666666666,
              "#ed7953"
             ],
             [
              0.7777777777777778,
              "#fb9f3a"
             ],
             [
              0.8888888888888888,
              "#fdca26"
             ],
             [
              1,
              "#f0f921"
             ]
            ],
            "type": "histogram2d"
           }
          ],
          "histogram2dcontour": [
           {
            "colorbar": {
             "outlinewidth": 0,
             "ticks": ""
            },
            "colorscale": [
             [
              0,
              "#0d0887"
             ],
             [
              0.1111111111111111,
              "#46039f"
             ],
             [
              0.2222222222222222,
              "#7201a8"
             ],
             [
              0.3333333333333333,
              "#9c179e"
             ],
             [
              0.4444444444444444,
              "#bd3786"
             ],
             [
              0.5555555555555556,
              "#d8576b"
             ],
             [
              0.6666666666666666,
              "#ed7953"
             ],
             [
              0.7777777777777778,
              "#fb9f3a"
             ],
             [
              0.8888888888888888,
              "#fdca26"
             ],
             [
              1,
              "#f0f921"
             ]
            ],
            "type": "histogram2dcontour"
           }
          ],
          "mesh3d": [
           {
            "colorbar": {
             "outlinewidth": 0,
             "ticks": ""
            },
            "type": "mesh3d"
           }
          ],
          "parcoords": [
           {
            "line": {
             "colorbar": {
              "outlinewidth": 0,
              "ticks": ""
             }
            },
            "type": "parcoords"
           }
          ],
          "pie": [
           {
            "automargin": true,
            "type": "pie"
           }
          ],
          "scatter": [
           {
            "fillpattern": {
             "fillmode": "overlay",
             "size": 10,
             "solidity": 0.2
            },
            "type": "scatter"
           }
          ],
          "scatter3d": [
           {
            "line": {
             "colorbar": {
              "outlinewidth": 0,
              "ticks": ""
             }
            },
            "marker": {
             "colorbar": {
              "outlinewidth": 0,
              "ticks": ""
             }
            },
            "type": "scatter3d"
           }
          ],
          "scattercarpet": [
           {
            "marker": {
             "colorbar": {
              "outlinewidth": 0,
              "ticks": ""
             }
            },
            "type": "scattercarpet"
           }
          ],
          "scattergeo": [
           {
            "marker": {
             "colorbar": {
              "outlinewidth": 0,
              "ticks": ""
             }
            },
            "type": "scattergeo"
           }
          ],
          "scattergl": [
           {
            "marker": {
             "colorbar": {
              "outlinewidth": 0,
              "ticks": ""
             }
            },
            "type": "scattergl"
           }
          ],
          "scattermap": [
           {
            "marker": {
             "colorbar": {
              "outlinewidth": 0,
              "ticks": ""
             }
            },
            "type": "scattermap"
           }
          ],
          "scattermapbox": [
           {
            "marker": {
             "colorbar": {
              "outlinewidth": 0,
              "ticks": ""
             }
            },
            "type": "scattermapbox"
           }
          ],
          "scatterpolar": [
           {
            "marker": {
             "colorbar": {
              "outlinewidth": 0,
              "ticks": ""
             }
            },
            "type": "scatterpolar"
           }
          ],
          "scatterpolargl": [
           {
            "marker": {
             "colorbar": {
              "outlinewidth": 0,
              "ticks": ""
             }
            },
            "type": "scatterpolargl"
           }
          ],
          "scatterternary": [
           {
            "marker": {
             "colorbar": {
              "outlinewidth": 0,
              "ticks": ""
             }
            },
            "type": "scatterternary"
           }
          ],
          "surface": [
           {
            "colorbar": {
             "outlinewidth": 0,
             "ticks": ""
            },
            "colorscale": [
             [
              0,
              "#0d0887"
             ],
             [
              0.1111111111111111,
              "#46039f"
             ],
             [
              0.2222222222222222,
              "#7201a8"
             ],
             [
              0.3333333333333333,
              "#9c179e"
             ],
             [
              0.4444444444444444,
              "#bd3786"
             ],
             [
              0.5555555555555556,
              "#d8576b"
             ],
             [
              0.6666666666666666,
              "#ed7953"
             ],
             [
              0.7777777777777778,
              "#fb9f3a"
             ],
             [
              0.8888888888888888,
              "#fdca26"
             ],
             [
              1,
              "#f0f921"
             ]
            ],
            "type": "surface"
           }
          ],
          "table": [
           {
            "cells": {
             "fill": {
              "color": "#EBF0F8"
             },
             "line": {
              "color": "white"
             }
            },
            "header": {
             "fill": {
              "color": "#C8D4E3"
             },
             "line": {
              "color": "white"
             }
            },
            "type": "table"
           }
          ]
         },
         "layout": {
          "annotationdefaults": {
           "arrowcolor": "#2a3f5f",
           "arrowhead": 0,
           "arrowwidth": 1
          },
          "autotypenumbers": "strict",
          "coloraxis": {
           "colorbar": {
            "outlinewidth": 0,
            "ticks": ""
           }
          },
          "colorscale": {
           "diverging": [
            [
             0,
             "#8e0152"
            ],
            [
             0.1,
             "#c51b7d"
            ],
            [
             0.2,
             "#de77ae"
            ],
            [
             0.3,
             "#f1b6da"
            ],
            [
             0.4,
             "#fde0ef"
            ],
            [
             0.5,
             "#f7f7f7"
            ],
            [
             0.6,
             "#e6f5d0"
            ],
            [
             0.7,
             "#b8e186"
            ],
            [
             0.8,
             "#7fbc41"
            ],
            [
             0.9,
             "#4d9221"
            ],
            [
             1,
             "#276419"
            ]
           ],
           "sequential": [
            [
             0,
             "#0d0887"
            ],
            [
             0.1111111111111111,
             "#46039f"
            ],
            [
             0.2222222222222222,
             "#7201a8"
            ],
            [
             0.3333333333333333,
             "#9c179e"
            ],
            [
             0.4444444444444444,
             "#bd3786"
            ],
            [
             0.5555555555555556,
             "#d8576b"
            ],
            [
             0.6666666666666666,
             "#ed7953"
            ],
            [
             0.7777777777777778,
             "#fb9f3a"
            ],
            [
             0.8888888888888888,
             "#fdca26"
            ],
            [
             1,
             "#f0f921"
            ]
           ],
           "sequentialminus": [
            [
             0,
             "#0d0887"
            ],
            [
             0.1111111111111111,
             "#46039f"
            ],
            [
             0.2222222222222222,
             "#7201a8"
            ],
            [
             0.3333333333333333,
             "#9c179e"
            ],
            [
             0.4444444444444444,
             "#bd3786"
            ],
            [
             0.5555555555555556,
             "#d8576b"
            ],
            [
             0.6666666666666666,
             "#ed7953"
            ],
            [
             0.7777777777777778,
             "#fb9f3a"
            ],
            [
             0.8888888888888888,
             "#fdca26"
            ],
            [
             1,
             "#f0f921"
            ]
           ]
          },
          "colorway": [
           "#636efa",
           "#EF553B",
           "#00cc96",
           "#ab63fa",
           "#FFA15A",
           "#19d3f3",
           "#FF6692",
           "#B6E880",
           "#FF97FF",
           "#FECB52"
          ],
          "font": {
           "color": "#2a3f5f"
          },
          "geo": {
           "bgcolor": "white",
           "lakecolor": "white",
           "landcolor": "#E5ECF6",
           "showlakes": true,
           "showland": true,
           "subunitcolor": "white"
          },
          "hoverlabel": {
           "align": "left"
          },
          "hovermode": "closest",
          "mapbox": {
           "style": "light"
          },
          "paper_bgcolor": "white",
          "plot_bgcolor": "#E5ECF6",
          "polar": {
           "angularaxis": {
            "gridcolor": "white",
            "linecolor": "white",
            "ticks": ""
           },
           "bgcolor": "#E5ECF6",
           "radialaxis": {
            "gridcolor": "white",
            "linecolor": "white",
            "ticks": ""
           }
          },
          "scene": {
           "xaxis": {
            "backgroundcolor": "#E5ECF6",
            "gridcolor": "white",
            "gridwidth": 2,
            "linecolor": "white",
            "showbackground": true,
            "ticks": "",
            "zerolinecolor": "white"
           },
           "yaxis": {
            "backgroundcolor": "#E5ECF6",
            "gridcolor": "white",
            "gridwidth": 2,
            "linecolor": "white",
            "showbackground": true,
            "ticks": "",
            "zerolinecolor": "white"
           },
           "zaxis": {
            "backgroundcolor": "#E5ECF6",
            "gridcolor": "white",
            "gridwidth": 2,
            "linecolor": "white",
            "showbackground": true,
            "ticks": "",
            "zerolinecolor": "white"
           }
          },
          "shapedefaults": {
           "line": {
            "color": "#2a3f5f"
           }
          },
          "ternary": {
           "aaxis": {
            "gridcolor": "white",
            "linecolor": "white",
            "ticks": ""
           },
           "baxis": {
            "gridcolor": "white",
            "linecolor": "white",
            "ticks": ""
           },
           "bgcolor": "#E5ECF6",
           "caxis": {
            "gridcolor": "white",
            "linecolor": "white",
            "ticks": ""
           }
          },
          "title": {
           "x": 0.05
          },
          "xaxis": {
           "automargin": true,
           "gridcolor": "white",
           "linecolor": "white",
           "ticks": "",
           "title": {
            "standoff": 15
           },
           "zerolinecolor": "white",
           "zerolinewidth": 2
          },
          "yaxis": {
           "automargin": true,
           "gridcolor": "white",
           "linecolor": "white",
           "ticks": "",
           "title": {
            "standoff": 15
           },
           "zerolinecolor": "white",
           "zerolinewidth": 2
          }
         }
        },
        "title": {
         "text": "Verteilung der Content-Formate"
        }
       }
      }
     },
     "metadata": {},
     "output_type": "display_data"
    }
   ],
   "source": [
    "content_counts = df_posts['content_type'].value_counts().reset_index()\n",
    "content_counts.columns = ['Content Format', 'Anzahl']\n",
    "\n",
    "fig = px.pie(\n",
    "    content_counts,\n",
    "    values='Anzahl',\n",
    "    names='Content Format',\n",
    "    title='Verteilung der Content-Formate',\n",
    "    color_discrete_sequence=px.colors.qualitative.Pastel\n",
    ")\n",
    "\n",
    "fig.show()\n"
   ]
  },
  {
   "cell_type": "code",
   "execution_count": 53,
   "id": "addfac94",
   "metadata": {},
   "outputs": [
    {
     "data": {
      "application/vnd.plotly.v1+json": {
       "config": {
        "plotlyServerURL": "https://plot.ly"
       },
       "data": [
        {
         "hovertemplate": "Content-Format=%{x}<br>Anteil (%)=%{marker.color}<extra></extra>",
         "legendgroup": "",
         "marker": {
          "color": {
           "bdata": "EBcV5wqkQkArkLqXFTlDQGR0QfJkLjRAlPR8QGhdEEA=",
           "dtype": "f8"
          },
          "coloraxis": "coloraxis",
          "pattern": {
           "shape": ""
          }
         },
         "name": "",
         "orientation": "v",
         "showlegend": false,
         "textposition": "auto",
         "type": "bar",
         "x": [
          "Carousel",
          "Image",
          "Reel",
          "Video"
         ],
         "xaxis": "x",
         "y": {
          "bdata": "EBcV5wqkQkArkLqXFTlDQGR0QfJkLjRAlPR8QGhdEEA=",
          "dtype": "f8"
         },
         "yaxis": "y"
        }
       ],
       "layout": {
        "barmode": "relative",
        "coloraxis": {
         "colorbar": {
          "title": {
           "text": "Anteil (%)"
          }
         },
         "colorscale": [
          [
           0,
           "#00224e"
          ],
          [
           0.1111111111111111,
           "#123570"
          ],
          [
           0.2222222222222222,
           "#3b496c"
          ],
          [
           0.3333333333333333,
           "#575d6d"
          ],
          [
           0.4444444444444444,
           "#707173"
          ],
          [
           0.5555555555555556,
           "#8a8678"
          ],
          [
           0.6666666666666666,
           "#a59c74"
          ],
          [
           0.7777777777777778,
           "#c3b369"
          ],
          [
           0.8888888888888888,
           "#e1cc55"
          ],
          [
           1,
           "#fee838"
          ]
         ]
        },
        "legend": {
         "tracegroupgap": 0
        },
        "template": {
         "data": {
          "bar": [
           {
            "error_x": {
             "color": "#2a3f5f"
            },
            "error_y": {
             "color": "#2a3f5f"
            },
            "marker": {
             "line": {
              "color": "#E5ECF6",
              "width": 0.5
             },
             "pattern": {
              "fillmode": "overlay",
              "size": 10,
              "solidity": 0.2
             }
            },
            "type": "bar"
           }
          ],
          "barpolar": [
           {
            "marker": {
             "line": {
              "color": "#E5ECF6",
              "width": 0.5
             },
             "pattern": {
              "fillmode": "overlay",
              "size": 10,
              "solidity": 0.2
             }
            },
            "type": "barpolar"
           }
          ],
          "carpet": [
           {
            "aaxis": {
             "endlinecolor": "#2a3f5f",
             "gridcolor": "white",
             "linecolor": "white",
             "minorgridcolor": "white",
             "startlinecolor": "#2a3f5f"
            },
            "baxis": {
             "endlinecolor": "#2a3f5f",
             "gridcolor": "white",
             "linecolor": "white",
             "minorgridcolor": "white",
             "startlinecolor": "#2a3f5f"
            },
            "type": "carpet"
           }
          ],
          "choropleth": [
           {
            "colorbar": {
             "outlinewidth": 0,
             "ticks": ""
            },
            "type": "choropleth"
           }
          ],
          "contour": [
           {
            "colorbar": {
             "outlinewidth": 0,
             "ticks": ""
            },
            "colorscale": [
             [
              0,
              "#0d0887"
             ],
             [
              0.1111111111111111,
              "#46039f"
             ],
             [
              0.2222222222222222,
              "#7201a8"
             ],
             [
              0.3333333333333333,
              "#9c179e"
             ],
             [
              0.4444444444444444,
              "#bd3786"
             ],
             [
              0.5555555555555556,
              "#d8576b"
             ],
             [
              0.6666666666666666,
              "#ed7953"
             ],
             [
              0.7777777777777778,
              "#fb9f3a"
             ],
             [
              0.8888888888888888,
              "#fdca26"
             ],
             [
              1,
              "#f0f921"
             ]
            ],
            "type": "contour"
           }
          ],
          "contourcarpet": [
           {
            "colorbar": {
             "outlinewidth": 0,
             "ticks": ""
            },
            "type": "contourcarpet"
           }
          ],
          "heatmap": [
           {
            "colorbar": {
             "outlinewidth": 0,
             "ticks": ""
            },
            "colorscale": [
             [
              0,
              "#0d0887"
             ],
             [
              0.1111111111111111,
              "#46039f"
             ],
             [
              0.2222222222222222,
              "#7201a8"
             ],
             [
              0.3333333333333333,
              "#9c179e"
             ],
             [
              0.4444444444444444,
              "#bd3786"
             ],
             [
              0.5555555555555556,
              "#d8576b"
             ],
             [
              0.6666666666666666,
              "#ed7953"
             ],
             [
              0.7777777777777778,
              "#fb9f3a"
             ],
             [
              0.8888888888888888,
              "#fdca26"
             ],
             [
              1,
              "#f0f921"
             ]
            ],
            "type": "heatmap"
           }
          ],
          "histogram": [
           {
            "marker": {
             "pattern": {
              "fillmode": "overlay",
              "size": 10,
              "solidity": 0.2
             }
            },
            "type": "histogram"
           }
          ],
          "histogram2d": [
           {
            "colorbar": {
             "outlinewidth": 0,
             "ticks": ""
            },
            "colorscale": [
             [
              0,
              "#0d0887"
             ],
             [
              0.1111111111111111,
              "#46039f"
             ],
             [
              0.2222222222222222,
              "#7201a8"
             ],
             [
              0.3333333333333333,
              "#9c179e"
             ],
             [
              0.4444444444444444,
              "#bd3786"
             ],
             [
              0.5555555555555556,
              "#d8576b"
             ],
             [
              0.6666666666666666,
              "#ed7953"
             ],
             [
              0.7777777777777778,
              "#fb9f3a"
             ],
             [
              0.8888888888888888,
              "#fdca26"
             ],
             [
              1,
              "#f0f921"
             ]
            ],
            "type": "histogram2d"
           }
          ],
          "histogram2dcontour": [
           {
            "colorbar": {
             "outlinewidth": 0,
             "ticks": ""
            },
            "colorscale": [
             [
              0,
              "#0d0887"
             ],
             [
              0.1111111111111111,
              "#46039f"
             ],
             [
              0.2222222222222222,
              "#7201a8"
             ],
             [
              0.3333333333333333,
              "#9c179e"
             ],
             [
              0.4444444444444444,
              "#bd3786"
             ],
             [
              0.5555555555555556,
              "#d8576b"
             ],
             [
              0.6666666666666666,
              "#ed7953"
             ],
             [
              0.7777777777777778,
              "#fb9f3a"
             ],
             [
              0.8888888888888888,
              "#fdca26"
             ],
             [
              1,
              "#f0f921"
             ]
            ],
            "type": "histogram2dcontour"
           }
          ],
          "mesh3d": [
           {
            "colorbar": {
             "outlinewidth": 0,
             "ticks": ""
            },
            "type": "mesh3d"
           }
          ],
          "parcoords": [
           {
            "line": {
             "colorbar": {
              "outlinewidth": 0,
              "ticks": ""
             }
            },
            "type": "parcoords"
           }
          ],
          "pie": [
           {
            "automargin": true,
            "type": "pie"
           }
          ],
          "scatter": [
           {
            "fillpattern": {
             "fillmode": "overlay",
             "size": 10,
             "solidity": 0.2
            },
            "type": "scatter"
           }
          ],
          "scatter3d": [
           {
            "line": {
             "colorbar": {
              "outlinewidth": 0,
              "ticks": ""
             }
            },
            "marker": {
             "colorbar": {
              "outlinewidth": 0,
              "ticks": ""
             }
            },
            "type": "scatter3d"
           }
          ],
          "scattercarpet": [
           {
            "marker": {
             "colorbar": {
              "outlinewidth": 0,
              "ticks": ""
             }
            },
            "type": "scattercarpet"
           }
          ],
          "scattergeo": [
           {
            "marker": {
             "colorbar": {
              "outlinewidth": 0,
              "ticks": ""
             }
            },
            "type": "scattergeo"
           }
          ],
          "scattergl": [
           {
            "marker": {
             "colorbar": {
              "outlinewidth": 0,
              "ticks": ""
             }
            },
            "type": "scattergl"
           }
          ],
          "scattermap": [
           {
            "marker": {
             "colorbar": {
              "outlinewidth": 0,
              "ticks": ""
             }
            },
            "type": "scattermap"
           }
          ],
          "scattermapbox": [
           {
            "marker": {
             "colorbar": {
              "outlinewidth": 0,
              "ticks": ""
             }
            },
            "type": "scattermapbox"
           }
          ],
          "scatterpolar": [
           {
            "marker": {
             "colorbar": {
              "outlinewidth": 0,
              "ticks": ""
             }
            },
            "type": "scatterpolar"
           }
          ],
          "scatterpolargl": [
           {
            "marker": {
             "colorbar": {
              "outlinewidth": 0,
              "ticks": ""
             }
            },
            "type": "scatterpolargl"
           }
          ],
          "scatterternary": [
           {
            "marker": {
             "colorbar": {
              "outlinewidth": 0,
              "ticks": ""
             }
            },
            "type": "scatterternary"
           }
          ],
          "surface": [
           {
            "colorbar": {
             "outlinewidth": 0,
             "ticks": ""
            },
            "colorscale": [
             [
              0,
              "#0d0887"
             ],
             [
              0.1111111111111111,
              "#46039f"
             ],
             [
              0.2222222222222222,
              "#7201a8"
             ],
             [
              0.3333333333333333,
              "#9c179e"
             ],
             [
              0.4444444444444444,
              "#bd3786"
             ],
             [
              0.5555555555555556,
              "#d8576b"
             ],
             [
              0.6666666666666666,
              "#ed7953"
             ],
             [
              0.7777777777777778,
              "#fb9f3a"
             ],
             [
              0.8888888888888888,
              "#fdca26"
             ],
             [
              1,
              "#f0f921"
             ]
            ],
            "type": "surface"
           }
          ],
          "table": [
           {
            "cells": {
             "fill": {
              "color": "#EBF0F8"
             },
             "line": {
              "color": "white"
             }
            },
            "header": {
             "fill": {
              "color": "#C8D4E3"
             },
             "line": {
              "color": "white"
             }
            },
            "type": "table"
           }
          ]
         },
         "layout": {
          "annotationdefaults": {
           "arrowcolor": "#2a3f5f",
           "arrowhead": 0,
           "arrowwidth": 1
          },
          "autotypenumbers": "strict",
          "coloraxis": {
           "colorbar": {
            "outlinewidth": 0,
            "ticks": ""
           }
          },
          "colorscale": {
           "diverging": [
            [
             0,
             "#8e0152"
            ],
            [
             0.1,
             "#c51b7d"
            ],
            [
             0.2,
             "#de77ae"
            ],
            [
             0.3,
             "#f1b6da"
            ],
            [
             0.4,
             "#fde0ef"
            ],
            [
             0.5,
             "#f7f7f7"
            ],
            [
             0.6,
             "#e6f5d0"
            ],
            [
             0.7,
             "#b8e186"
            ],
            [
             0.8,
             "#7fbc41"
            ],
            [
             0.9,
             "#4d9221"
            ],
            [
             1,
             "#276419"
            ]
           ],
           "sequential": [
            [
             0,
             "#0d0887"
            ],
            [
             0.1111111111111111,
             "#46039f"
            ],
            [
             0.2222222222222222,
             "#7201a8"
            ],
            [
             0.3333333333333333,
             "#9c179e"
            ],
            [
             0.4444444444444444,
             "#bd3786"
            ],
            [
             0.5555555555555556,
             "#d8576b"
            ],
            [
             0.6666666666666666,
             "#ed7953"
            ],
            [
             0.7777777777777778,
             "#fb9f3a"
            ],
            [
             0.8888888888888888,
             "#fdca26"
            ],
            [
             1,
             "#f0f921"
            ]
           ],
           "sequentialminus": [
            [
             0,
             "#0d0887"
            ],
            [
             0.1111111111111111,
             "#46039f"
            ],
            [
             0.2222222222222222,
             "#7201a8"
            ],
            [
             0.3333333333333333,
             "#9c179e"
            ],
            [
             0.4444444444444444,
             "#bd3786"
            ],
            [
             0.5555555555555556,
             "#d8576b"
            ],
            [
             0.6666666666666666,
             "#ed7953"
            ],
            [
             0.7777777777777778,
             "#fb9f3a"
            ],
            [
             0.8888888888888888,
             "#fdca26"
            ],
            [
             1,
             "#f0f921"
            ]
           ]
          },
          "colorway": [
           "#636efa",
           "#EF553B",
           "#00cc96",
           "#ab63fa",
           "#FFA15A",
           "#19d3f3",
           "#FF6692",
           "#B6E880",
           "#FF97FF",
           "#FECB52"
          ],
          "font": {
           "color": "#2a3f5f"
          },
          "geo": {
           "bgcolor": "white",
           "lakecolor": "white",
           "landcolor": "#E5ECF6",
           "showlakes": true,
           "showland": true,
           "subunitcolor": "white"
          },
          "hoverlabel": {
           "align": "left"
          },
          "hovermode": "closest",
          "mapbox": {
           "style": "light"
          },
          "paper_bgcolor": "white",
          "plot_bgcolor": "#E5ECF6",
          "polar": {
           "angularaxis": {
            "gridcolor": "white",
            "linecolor": "white",
            "ticks": ""
           },
           "bgcolor": "#E5ECF6",
           "radialaxis": {
            "gridcolor": "white",
            "linecolor": "white",
            "ticks": ""
           }
          },
          "scene": {
           "xaxis": {
            "backgroundcolor": "#E5ECF6",
            "gridcolor": "white",
            "gridwidth": 2,
            "linecolor": "white",
            "showbackground": true,
            "ticks": "",
            "zerolinecolor": "white"
           },
           "yaxis": {
            "backgroundcolor": "#E5ECF6",
            "gridcolor": "white",
            "gridwidth": 2,
            "linecolor": "white",
            "showbackground": true,
            "ticks": "",
            "zerolinecolor": "white"
           },
           "zaxis": {
            "backgroundcolor": "#E5ECF6",
            "gridcolor": "white",
            "gridwidth": 2,
            "linecolor": "white",
            "showbackground": true,
            "ticks": "",
            "zerolinecolor": "white"
           }
          },
          "shapedefaults": {
           "line": {
            "color": "#2a3f5f"
           }
          },
          "ternary": {
           "aaxis": {
            "gridcolor": "white",
            "linecolor": "white",
            "ticks": ""
           },
           "baxis": {
            "gridcolor": "white",
            "linecolor": "white",
            "ticks": ""
           },
           "bgcolor": "#E5ECF6",
           "caxis": {
            "gridcolor": "white",
            "linecolor": "white",
            "ticks": ""
           }
          },
          "title": {
           "x": 0.05
          },
          "xaxis": {
           "automargin": true,
           "gridcolor": "white",
           "linecolor": "white",
           "ticks": "",
           "title": {
            "standoff": 15
           },
           "zerolinecolor": "white",
           "zerolinewidth": 2
          },
          "yaxis": {
           "automargin": true,
           "gridcolor": "white",
           "linecolor": "white",
           "ticks": "",
           "title": {
            "standoff": 15
           },
           "zerolinecolor": "white",
           "zerolinewidth": 2
          }
         }
        },
        "title": {
         "text": "Prozentualer Anteil Likes pro Content-Format"
        },
        "xaxis": {
         "anchor": "y",
         "domain": [
          0,
          1
         ],
         "tickangle": -45,
         "title": {
          "text": "Content-Format"
         }
        },
        "yaxis": {
         "anchor": "x",
         "domain": [
          0,
          1
         ],
         "title": {
          "text": "Anteil (%)"
         }
        }
       }
      }
     },
     "metadata": {},
     "output_type": "display_data"
    }
   ],
   "source": [
    "likes_by_format = df_posts.groupby('content_type')['like_count'].sum()\n",
    "likes_pct = (likes_by_format / likes_by_format.sum()) * 100\n",
    "\n",
    "df_likes_pct = likes_pct.reset_index()\n",
    "df_likes_pct.columns = ['Content Format', 'Prozentualer Anteil (%)']\n",
    "\n",
    "fig = px.bar(\n",
    "    df_likes_pct,\n",
    "    x='Content Format',\n",
    "    y='Prozentualer Anteil (%)',\n",
    "    title='Prozentualer Anteil Likes pro Content-Format',\n",
    "    labels={'Prozentualer Anteil (%)': 'Anteil (%)', 'Content Format': 'Content-Format'},\n",
    "    color='Prozentualer Anteil (%)',\n",
    "    color_continuous_scale='cividis'\n",
    ")\n",
    "\n",
    "fig.update_layout(\n",
    "    xaxis_tickangle=-45,\n",
    "    yaxis=dict(title='Anteil (%)'),\n",
    "    xaxis=dict(title='Content-Format'),\n",
    "    coloraxis_colorbar=dict(title=\"Anteil (%)\")\n",
    ")\n",
    "\n",
    "fig.show()"
   ]
  },
  {
   "cell_type": "code",
   "execution_count": 54,
   "id": "7eae9f18",
   "metadata": {},
   "outputs": [
    {
     "data": {
      "application/vnd.plotly.v1+json": {
       "config": {
        "plotlyServerURL": "https://plot.ly"
       },
       "data": [
        {
         "hovertemplate": "Content-Format=%{x}<br>Anteil (%)=%{marker.color}<extra></extra>",
         "legendgroup": "",
         "marker": {
          "color": {
           "bdata": "9QOh50gqQkAUKg6s3h9CQOklckzVADhAK/B7YdxWC0A=",
           "dtype": "f8"
          },
          "coloraxis": "coloraxis",
          "pattern": {
           "shape": ""
          }
         },
         "name": "",
         "orientation": "v",
         "showlegend": false,
         "textposition": "auto",
         "type": "bar",
         "x": [
          "Carousel",
          "Image",
          "Reel",
          "Video"
         ],
         "xaxis": "x",
         "y": {
          "bdata": "9QOh50gqQkAUKg6s3h9CQOklckzVADhAK/B7YdxWC0A=",
          "dtype": "f8"
         },
         "yaxis": "y"
        }
       ],
       "layout": {
        "barmode": "relative",
        "coloraxis": {
         "colorbar": {
          "title": {
           "text": "Anteil (%)"
          }
         },
         "colorscale": [
          [
           0,
           "#440154"
          ],
          [
           0.1111111111111111,
           "#482878"
          ],
          [
           0.2222222222222222,
           "#3e4989"
          ],
          [
           0.3333333333333333,
           "#31688e"
          ],
          [
           0.4444444444444444,
           "#26828e"
          ],
          [
           0.5555555555555556,
           "#1f9e89"
          ],
          [
           0.6666666666666666,
           "#35b779"
          ],
          [
           0.7777777777777778,
           "#6ece58"
          ],
          [
           0.8888888888888888,
           "#b5de2b"
          ],
          [
           1,
           "#fde725"
          ]
         ]
        },
        "legend": {
         "tracegroupgap": 0
        },
        "template": {
         "data": {
          "bar": [
           {
            "error_x": {
             "color": "#2a3f5f"
            },
            "error_y": {
             "color": "#2a3f5f"
            },
            "marker": {
             "line": {
              "color": "#E5ECF6",
              "width": 0.5
             },
             "pattern": {
              "fillmode": "overlay",
              "size": 10,
              "solidity": 0.2
             }
            },
            "type": "bar"
           }
          ],
          "barpolar": [
           {
            "marker": {
             "line": {
              "color": "#E5ECF6",
              "width": 0.5
             },
             "pattern": {
              "fillmode": "overlay",
              "size": 10,
              "solidity": 0.2
             }
            },
            "type": "barpolar"
           }
          ],
          "carpet": [
           {
            "aaxis": {
             "endlinecolor": "#2a3f5f",
             "gridcolor": "white",
             "linecolor": "white",
             "minorgridcolor": "white",
             "startlinecolor": "#2a3f5f"
            },
            "baxis": {
             "endlinecolor": "#2a3f5f",
             "gridcolor": "white",
             "linecolor": "white",
             "minorgridcolor": "white",
             "startlinecolor": "#2a3f5f"
            },
            "type": "carpet"
           }
          ],
          "choropleth": [
           {
            "colorbar": {
             "outlinewidth": 0,
             "ticks": ""
            },
            "type": "choropleth"
           }
          ],
          "contour": [
           {
            "colorbar": {
             "outlinewidth": 0,
             "ticks": ""
            },
            "colorscale": [
             [
              0,
              "#0d0887"
             ],
             [
              0.1111111111111111,
              "#46039f"
             ],
             [
              0.2222222222222222,
              "#7201a8"
             ],
             [
              0.3333333333333333,
              "#9c179e"
             ],
             [
              0.4444444444444444,
              "#bd3786"
             ],
             [
              0.5555555555555556,
              "#d8576b"
             ],
             [
              0.6666666666666666,
              "#ed7953"
             ],
             [
              0.7777777777777778,
              "#fb9f3a"
             ],
             [
              0.8888888888888888,
              "#fdca26"
             ],
             [
              1,
              "#f0f921"
             ]
            ],
            "type": "contour"
           }
          ],
          "contourcarpet": [
           {
            "colorbar": {
             "outlinewidth": 0,
             "ticks": ""
            },
            "type": "contourcarpet"
           }
          ],
          "heatmap": [
           {
            "colorbar": {
             "outlinewidth": 0,
             "ticks": ""
            },
            "colorscale": [
             [
              0,
              "#0d0887"
             ],
             [
              0.1111111111111111,
              "#46039f"
             ],
             [
              0.2222222222222222,
              "#7201a8"
             ],
             [
              0.3333333333333333,
              "#9c179e"
             ],
             [
              0.4444444444444444,
              "#bd3786"
             ],
             [
              0.5555555555555556,
              "#d8576b"
             ],
             [
              0.6666666666666666,
              "#ed7953"
             ],
             [
              0.7777777777777778,
              "#fb9f3a"
             ],
             [
              0.8888888888888888,
              "#fdca26"
             ],
             [
              1,
              "#f0f921"
             ]
            ],
            "type": "heatmap"
           }
          ],
          "histogram": [
           {
            "marker": {
             "pattern": {
              "fillmode": "overlay",
              "size": 10,
              "solidity": 0.2
             }
            },
            "type": "histogram"
           }
          ],
          "histogram2d": [
           {
            "colorbar": {
             "outlinewidth": 0,
             "ticks": ""
            },
            "colorscale": [
             [
              0,
              "#0d0887"
             ],
             [
              0.1111111111111111,
              "#46039f"
             ],
             [
              0.2222222222222222,
              "#7201a8"
             ],
             [
              0.3333333333333333,
              "#9c179e"
             ],
             [
              0.4444444444444444,
              "#bd3786"
             ],
             [
              0.5555555555555556,
              "#d8576b"
             ],
             [
              0.6666666666666666,
              "#ed7953"
             ],
             [
              0.7777777777777778,
              "#fb9f3a"
             ],
             [
              0.8888888888888888,
              "#fdca26"
             ],
             [
              1,
              "#f0f921"
             ]
            ],
            "type": "histogram2d"
           }
          ],
          "histogram2dcontour": [
           {
            "colorbar": {
             "outlinewidth": 0,
             "ticks": ""
            },
            "colorscale": [
             [
              0,
              "#0d0887"
             ],
             [
              0.1111111111111111,
              "#46039f"
             ],
             [
              0.2222222222222222,
              "#7201a8"
             ],
             [
              0.3333333333333333,
              "#9c179e"
             ],
             [
              0.4444444444444444,
              "#bd3786"
             ],
             [
              0.5555555555555556,
              "#d8576b"
             ],
             [
              0.6666666666666666,
              "#ed7953"
             ],
             [
              0.7777777777777778,
              "#fb9f3a"
             ],
             [
              0.8888888888888888,
              "#fdca26"
             ],
             [
              1,
              "#f0f921"
             ]
            ],
            "type": "histogram2dcontour"
           }
          ],
          "mesh3d": [
           {
            "colorbar": {
             "outlinewidth": 0,
             "ticks": ""
            },
            "type": "mesh3d"
           }
          ],
          "parcoords": [
           {
            "line": {
             "colorbar": {
              "outlinewidth": 0,
              "ticks": ""
             }
            },
            "type": "parcoords"
           }
          ],
          "pie": [
           {
            "automargin": true,
            "type": "pie"
           }
          ],
          "scatter": [
           {
            "fillpattern": {
             "fillmode": "overlay",
             "size": 10,
             "solidity": 0.2
            },
            "type": "scatter"
           }
          ],
          "scatter3d": [
           {
            "line": {
             "colorbar": {
              "outlinewidth": 0,
              "ticks": ""
             }
            },
            "marker": {
             "colorbar": {
              "outlinewidth": 0,
              "ticks": ""
             }
            },
            "type": "scatter3d"
           }
          ],
          "scattercarpet": [
           {
            "marker": {
             "colorbar": {
              "outlinewidth": 0,
              "ticks": ""
             }
            },
            "type": "scattercarpet"
           }
          ],
          "scattergeo": [
           {
            "marker": {
             "colorbar": {
              "outlinewidth": 0,
              "ticks": ""
             }
            },
            "type": "scattergeo"
           }
          ],
          "scattergl": [
           {
            "marker": {
             "colorbar": {
              "outlinewidth": 0,
              "ticks": ""
             }
            },
            "type": "scattergl"
           }
          ],
          "scattermap": [
           {
            "marker": {
             "colorbar": {
              "outlinewidth": 0,
              "ticks": ""
             }
            },
            "type": "scattermap"
           }
          ],
          "scattermapbox": [
           {
            "marker": {
             "colorbar": {
              "outlinewidth": 0,
              "ticks": ""
             }
            },
            "type": "scattermapbox"
           }
          ],
          "scatterpolar": [
           {
            "marker": {
             "colorbar": {
              "outlinewidth": 0,
              "ticks": ""
             }
            },
            "type": "scatterpolar"
           }
          ],
          "scatterpolargl": [
           {
            "marker": {
             "colorbar": {
              "outlinewidth": 0,
              "ticks": ""
             }
            },
            "type": "scatterpolargl"
           }
          ],
          "scatterternary": [
           {
            "marker": {
             "colorbar": {
              "outlinewidth": 0,
              "ticks": ""
             }
            },
            "type": "scatterternary"
           }
          ],
          "surface": [
           {
            "colorbar": {
             "outlinewidth": 0,
             "ticks": ""
            },
            "colorscale": [
             [
              0,
              "#0d0887"
             ],
             [
              0.1111111111111111,
              "#46039f"
             ],
             [
              0.2222222222222222,
              "#7201a8"
             ],
             [
              0.3333333333333333,
              "#9c179e"
             ],
             [
              0.4444444444444444,
              "#bd3786"
             ],
             [
              0.5555555555555556,
              "#d8576b"
             ],
             [
              0.6666666666666666,
              "#ed7953"
             ],
             [
              0.7777777777777778,
              "#fb9f3a"
             ],
             [
              0.8888888888888888,
              "#fdca26"
             ],
             [
              1,
              "#f0f921"
             ]
            ],
            "type": "surface"
           }
          ],
          "table": [
           {
            "cells": {
             "fill": {
              "color": "#EBF0F8"
             },
             "line": {
              "color": "white"
             }
            },
            "header": {
             "fill": {
              "color": "#C8D4E3"
             },
             "line": {
              "color": "white"
             }
            },
            "type": "table"
           }
          ]
         },
         "layout": {
          "annotationdefaults": {
           "arrowcolor": "#2a3f5f",
           "arrowhead": 0,
           "arrowwidth": 1
          },
          "autotypenumbers": "strict",
          "coloraxis": {
           "colorbar": {
            "outlinewidth": 0,
            "ticks": ""
           }
          },
          "colorscale": {
           "diverging": [
            [
             0,
             "#8e0152"
            ],
            [
             0.1,
             "#c51b7d"
            ],
            [
             0.2,
             "#de77ae"
            ],
            [
             0.3,
             "#f1b6da"
            ],
            [
             0.4,
             "#fde0ef"
            ],
            [
             0.5,
             "#f7f7f7"
            ],
            [
             0.6,
             "#e6f5d0"
            ],
            [
             0.7,
             "#b8e186"
            ],
            [
             0.8,
             "#7fbc41"
            ],
            [
             0.9,
             "#4d9221"
            ],
            [
             1,
             "#276419"
            ]
           ],
           "sequential": [
            [
             0,
             "#0d0887"
            ],
            [
             0.1111111111111111,
             "#46039f"
            ],
            [
             0.2222222222222222,
             "#7201a8"
            ],
            [
             0.3333333333333333,
             "#9c179e"
            ],
            [
             0.4444444444444444,
             "#bd3786"
            ],
            [
             0.5555555555555556,
             "#d8576b"
            ],
            [
             0.6666666666666666,
             "#ed7953"
            ],
            [
             0.7777777777777778,
             "#fb9f3a"
            ],
            [
             0.8888888888888888,
             "#fdca26"
            ],
            [
             1,
             "#f0f921"
            ]
           ],
           "sequentialminus": [
            [
             0,
             "#0d0887"
            ],
            [
             0.1111111111111111,
             "#46039f"
            ],
            [
             0.2222222222222222,
             "#7201a8"
            ],
            [
             0.3333333333333333,
             "#9c179e"
            ],
            [
             0.4444444444444444,
             "#bd3786"
            ],
            [
             0.5555555555555556,
             "#d8576b"
            ],
            [
             0.6666666666666666,
             "#ed7953"
            ],
            [
             0.7777777777777778,
             "#fb9f3a"
            ],
            [
             0.8888888888888888,
             "#fdca26"
            ],
            [
             1,
             "#f0f921"
            ]
           ]
          },
          "colorway": [
           "#636efa",
           "#EF553B",
           "#00cc96",
           "#ab63fa",
           "#FFA15A",
           "#19d3f3",
           "#FF6692",
           "#B6E880",
           "#FF97FF",
           "#FECB52"
          ],
          "font": {
           "color": "#2a3f5f"
          },
          "geo": {
           "bgcolor": "white",
           "lakecolor": "white",
           "landcolor": "#E5ECF6",
           "showlakes": true,
           "showland": true,
           "subunitcolor": "white"
          },
          "hoverlabel": {
           "align": "left"
          },
          "hovermode": "closest",
          "mapbox": {
           "style": "light"
          },
          "paper_bgcolor": "white",
          "plot_bgcolor": "#E5ECF6",
          "polar": {
           "angularaxis": {
            "gridcolor": "white",
            "linecolor": "white",
            "ticks": ""
           },
           "bgcolor": "#E5ECF6",
           "radialaxis": {
            "gridcolor": "white",
            "linecolor": "white",
            "ticks": ""
           }
          },
          "scene": {
           "xaxis": {
            "backgroundcolor": "#E5ECF6",
            "gridcolor": "white",
            "gridwidth": 2,
            "linecolor": "white",
            "showbackground": true,
            "ticks": "",
            "zerolinecolor": "white"
           },
           "yaxis": {
            "backgroundcolor": "#E5ECF6",
            "gridcolor": "white",
            "gridwidth": 2,
            "linecolor": "white",
            "showbackground": true,
            "ticks": "",
            "zerolinecolor": "white"
           },
           "zaxis": {
            "backgroundcolor": "#E5ECF6",
            "gridcolor": "white",
            "gridwidth": 2,
            "linecolor": "white",
            "showbackground": true,
            "ticks": "",
            "zerolinecolor": "white"
           }
          },
          "shapedefaults": {
           "line": {
            "color": "#2a3f5f"
           }
          },
          "ternary": {
           "aaxis": {
            "gridcolor": "white",
            "linecolor": "white",
            "ticks": ""
           },
           "baxis": {
            "gridcolor": "white",
            "linecolor": "white",
            "ticks": ""
           },
           "bgcolor": "#E5ECF6",
           "caxis": {
            "gridcolor": "white",
            "linecolor": "white",
            "ticks": ""
           }
          },
          "title": {
           "x": 0.05
          },
          "xaxis": {
           "automargin": true,
           "gridcolor": "white",
           "linecolor": "white",
           "ticks": "",
           "title": {
            "standoff": 15
           },
           "zerolinecolor": "white",
           "zerolinewidth": 2
          },
          "yaxis": {
           "automargin": true,
           "gridcolor": "white",
           "linecolor": "white",
           "ticks": "",
           "title": {
            "standoff": 15
           },
           "zerolinecolor": "white",
           "zerolinewidth": 2
          }
         }
        },
        "title": {
         "text": "Prozentualer Anteil Kommentare pro Content-Format"
        },
        "xaxis": {
         "anchor": "y",
         "domain": [
          0,
          1
         ],
         "tickangle": -45,
         "title": {
          "text": "Content-Format"
         }
        },
        "yaxis": {
         "anchor": "x",
         "domain": [
          0,
          1
         ],
         "title": {
          "text": "Anteil (%)"
         }
        }
       }
      }
     },
     "metadata": {},
     "output_type": "display_data"
    }
   ],
   "source": [
    "comments_by_format = df_posts.groupby('content_type')['comment_count'].sum()\n",
    "comments_pct = (comments_by_format / comments_by_format.sum()) * 100\n",
    "\n",
    "# DataFrame für Plotly\n",
    "df_pct = comments_pct.reset_index()\n",
    "df_pct.columns = ['Content Format', 'Prozentualer Anteil (%)']\n",
    "\n",
    "fig = px.bar(\n",
    "    df_pct,\n",
    "    x='Content Format',\n",
    "    y='Prozentualer Anteil (%)',\n",
    "    title='Prozentualer Anteil Kommentare pro Content-Format',\n",
    "    labels={'Prozentualer Anteil (%)': 'Anteil (%)', 'Content Format': 'Content-Format'},\n",
    "    color='Prozentualer Anteil (%)',\n",
    "    color_continuous_scale='viridis'\n",
    ")\n",
    "\n",
    "fig.update_layout(\n",
    "    xaxis_tickangle=-45,\n",
    "    yaxis=dict(title='Anteil (%)'),\n",
    "    xaxis=dict(title='Content-Format'),\n",
    "    coloraxis_colorbar=dict(title=\"Anteil (%)\")\n",
    ")\n",
    "\n",
    "fig.show()"
   ]
  },
  {
   "cell_type": "code",
   "execution_count": 55,
   "id": "1311b653",
   "metadata": {},
   "outputs": [
    {
     "data": {
      "application/vnd.plotly.v1+json": {
       "config": {
        "plotlyServerURL": "https://plot.ly"
       },
       "data": [
        {
         "hovertemplate": "Anzahl=%{marker.color}<br>Hashtag=%{y}<extra></extra>",
         "legendgroup": "",
         "marker": {
          "color": {
           "bdata": "IAEKAdQAkgCQAGUAQAA+ADoAOgA0AC8ALQArACoAJAAkACQAIwAjAA==",
           "dtype": "i2"
          },
          "coloraxis": "coloraxis",
          "pattern": {
           "shape": ""
          }
         },
         "name": "",
         "orientation": "h",
         "showlegend": false,
         "textposition": "auto",
         "type": "bar",
         "x": {
          "bdata": "IAEKAdQAkgCQAGUAQAA+ADoAOgA0AC8ALQArACoAJAAkACQAIwAjAA==",
          "dtype": "i2"
         },
         "xaxis": "x",
         "y": [
          "#dorfterror",
          "#punk",
          "#punkrock",
          "#punkband",
          "#dorfterroristen",
          "#protestsounds",
          "#trier",
          "#fcknzs",
          "#keinbockaufnazis",
          "#fckafd",
          "#punkmusic",
          "#band",
          "#release",
          "#music",
          "#punksnotdead",
          "#konz",
          "#oberbillig",
          "#exhaus",
          "#rock",
          "#exhausbleibt"
         ],
         "yaxis": "y"
        }
       ],
       "layout": {
        "barmode": "relative",
        "coloraxis": {
         "colorbar": {
          "title": {
           "text": "Anzahl"
          }
         },
         "colorscale": [
          [
           0,
           "#440154"
          ],
          [
           0.1111111111111111,
           "#482878"
          ],
          [
           0.2222222222222222,
           "#3e4989"
          ],
          [
           0.3333333333333333,
           "#31688e"
          ],
          [
           0.4444444444444444,
           "#26828e"
          ],
          [
           0.5555555555555556,
           "#1f9e89"
          ],
          [
           0.6666666666666666,
           "#35b779"
          ],
          [
           0.7777777777777778,
           "#6ece58"
          ],
          [
           0.8888888888888888,
           "#b5de2b"
          ],
          [
           1,
           "#fde725"
          ]
         ]
        },
        "legend": {
         "tracegroupgap": 0
        },
        "template": {
         "data": {
          "bar": [
           {
            "error_x": {
             "color": "#2a3f5f"
            },
            "error_y": {
             "color": "#2a3f5f"
            },
            "marker": {
             "line": {
              "color": "#E5ECF6",
              "width": 0.5
             },
             "pattern": {
              "fillmode": "overlay",
              "size": 10,
              "solidity": 0.2
             }
            },
            "type": "bar"
           }
          ],
          "barpolar": [
           {
            "marker": {
             "line": {
              "color": "#E5ECF6",
              "width": 0.5
             },
             "pattern": {
              "fillmode": "overlay",
              "size": 10,
              "solidity": 0.2
             }
            },
            "type": "barpolar"
           }
          ],
          "carpet": [
           {
            "aaxis": {
             "endlinecolor": "#2a3f5f",
             "gridcolor": "white",
             "linecolor": "white",
             "minorgridcolor": "white",
             "startlinecolor": "#2a3f5f"
            },
            "baxis": {
             "endlinecolor": "#2a3f5f",
             "gridcolor": "white",
             "linecolor": "white",
             "minorgridcolor": "white",
             "startlinecolor": "#2a3f5f"
            },
            "type": "carpet"
           }
          ],
          "choropleth": [
           {
            "colorbar": {
             "outlinewidth": 0,
             "ticks": ""
            },
            "type": "choropleth"
           }
          ],
          "contour": [
           {
            "colorbar": {
             "outlinewidth": 0,
             "ticks": ""
            },
            "colorscale": [
             [
              0,
              "#0d0887"
             ],
             [
              0.1111111111111111,
              "#46039f"
             ],
             [
              0.2222222222222222,
              "#7201a8"
             ],
             [
              0.3333333333333333,
              "#9c179e"
             ],
             [
              0.4444444444444444,
              "#bd3786"
             ],
             [
              0.5555555555555556,
              "#d8576b"
             ],
             [
              0.6666666666666666,
              "#ed7953"
             ],
             [
              0.7777777777777778,
              "#fb9f3a"
             ],
             [
              0.8888888888888888,
              "#fdca26"
             ],
             [
              1,
              "#f0f921"
             ]
            ],
            "type": "contour"
           }
          ],
          "contourcarpet": [
           {
            "colorbar": {
             "outlinewidth": 0,
             "ticks": ""
            },
            "type": "contourcarpet"
           }
          ],
          "heatmap": [
           {
            "colorbar": {
             "outlinewidth": 0,
             "ticks": ""
            },
            "colorscale": [
             [
              0,
              "#0d0887"
             ],
             [
              0.1111111111111111,
              "#46039f"
             ],
             [
              0.2222222222222222,
              "#7201a8"
             ],
             [
              0.3333333333333333,
              "#9c179e"
             ],
             [
              0.4444444444444444,
              "#bd3786"
             ],
             [
              0.5555555555555556,
              "#d8576b"
             ],
             [
              0.6666666666666666,
              "#ed7953"
             ],
             [
              0.7777777777777778,
              "#fb9f3a"
             ],
             [
              0.8888888888888888,
              "#fdca26"
             ],
             [
              1,
              "#f0f921"
             ]
            ],
            "type": "heatmap"
           }
          ],
          "histogram": [
           {
            "marker": {
             "pattern": {
              "fillmode": "overlay",
              "size": 10,
              "solidity": 0.2
             }
            },
            "type": "histogram"
           }
          ],
          "histogram2d": [
           {
            "colorbar": {
             "outlinewidth": 0,
             "ticks": ""
            },
            "colorscale": [
             [
              0,
              "#0d0887"
             ],
             [
              0.1111111111111111,
              "#46039f"
             ],
             [
              0.2222222222222222,
              "#7201a8"
             ],
             [
              0.3333333333333333,
              "#9c179e"
             ],
             [
              0.4444444444444444,
              "#bd3786"
             ],
             [
              0.5555555555555556,
              "#d8576b"
             ],
             [
              0.6666666666666666,
              "#ed7953"
             ],
             [
              0.7777777777777778,
              "#fb9f3a"
             ],
             [
              0.8888888888888888,
              "#fdca26"
             ],
             [
              1,
              "#f0f921"
             ]
            ],
            "type": "histogram2d"
           }
          ],
          "histogram2dcontour": [
           {
            "colorbar": {
             "outlinewidth": 0,
             "ticks": ""
            },
            "colorscale": [
             [
              0,
              "#0d0887"
             ],
             [
              0.1111111111111111,
              "#46039f"
             ],
             [
              0.2222222222222222,
              "#7201a8"
             ],
             [
              0.3333333333333333,
              "#9c179e"
             ],
             [
              0.4444444444444444,
              "#bd3786"
             ],
             [
              0.5555555555555556,
              "#d8576b"
             ],
             [
              0.6666666666666666,
              "#ed7953"
             ],
             [
              0.7777777777777778,
              "#fb9f3a"
             ],
             [
              0.8888888888888888,
              "#fdca26"
             ],
             [
              1,
              "#f0f921"
             ]
            ],
            "type": "histogram2dcontour"
           }
          ],
          "mesh3d": [
           {
            "colorbar": {
             "outlinewidth": 0,
             "ticks": ""
            },
            "type": "mesh3d"
           }
          ],
          "parcoords": [
           {
            "line": {
             "colorbar": {
              "outlinewidth": 0,
              "ticks": ""
             }
            },
            "type": "parcoords"
           }
          ],
          "pie": [
           {
            "automargin": true,
            "type": "pie"
           }
          ],
          "scatter": [
           {
            "fillpattern": {
             "fillmode": "overlay",
             "size": 10,
             "solidity": 0.2
            },
            "type": "scatter"
           }
          ],
          "scatter3d": [
           {
            "line": {
             "colorbar": {
              "outlinewidth": 0,
              "ticks": ""
             }
            },
            "marker": {
             "colorbar": {
              "outlinewidth": 0,
              "ticks": ""
             }
            },
            "type": "scatter3d"
           }
          ],
          "scattercarpet": [
           {
            "marker": {
             "colorbar": {
              "outlinewidth": 0,
              "ticks": ""
             }
            },
            "type": "scattercarpet"
           }
          ],
          "scattergeo": [
           {
            "marker": {
             "colorbar": {
              "outlinewidth": 0,
              "ticks": ""
             }
            },
            "type": "scattergeo"
           }
          ],
          "scattergl": [
           {
            "marker": {
             "colorbar": {
              "outlinewidth": 0,
              "ticks": ""
             }
            },
            "type": "scattergl"
           }
          ],
          "scattermap": [
           {
            "marker": {
             "colorbar": {
              "outlinewidth": 0,
              "ticks": ""
             }
            },
            "type": "scattermap"
           }
          ],
          "scattermapbox": [
           {
            "marker": {
             "colorbar": {
              "outlinewidth": 0,
              "ticks": ""
             }
            },
            "type": "scattermapbox"
           }
          ],
          "scatterpolar": [
           {
            "marker": {
             "colorbar": {
              "outlinewidth": 0,
              "ticks": ""
             }
            },
            "type": "scatterpolar"
           }
          ],
          "scatterpolargl": [
           {
            "marker": {
             "colorbar": {
              "outlinewidth": 0,
              "ticks": ""
             }
            },
            "type": "scatterpolargl"
           }
          ],
          "scatterternary": [
           {
            "marker": {
             "colorbar": {
              "outlinewidth": 0,
              "ticks": ""
             }
            },
            "type": "scatterternary"
           }
          ],
          "surface": [
           {
            "colorbar": {
             "outlinewidth": 0,
             "ticks": ""
            },
            "colorscale": [
             [
              0,
              "#0d0887"
             ],
             [
              0.1111111111111111,
              "#46039f"
             ],
             [
              0.2222222222222222,
              "#7201a8"
             ],
             [
              0.3333333333333333,
              "#9c179e"
             ],
             [
              0.4444444444444444,
              "#bd3786"
             ],
             [
              0.5555555555555556,
              "#d8576b"
             ],
             [
              0.6666666666666666,
              "#ed7953"
             ],
             [
              0.7777777777777778,
              "#fb9f3a"
             ],
             [
              0.8888888888888888,
              "#fdca26"
             ],
             [
              1,
              "#f0f921"
             ]
            ],
            "type": "surface"
           }
          ],
          "table": [
           {
            "cells": {
             "fill": {
              "color": "#EBF0F8"
             },
             "line": {
              "color": "white"
             }
            },
            "header": {
             "fill": {
              "color": "#C8D4E3"
             },
             "line": {
              "color": "white"
             }
            },
            "type": "table"
           }
          ]
         },
         "layout": {
          "annotationdefaults": {
           "arrowcolor": "#2a3f5f",
           "arrowhead": 0,
           "arrowwidth": 1
          },
          "autotypenumbers": "strict",
          "coloraxis": {
           "colorbar": {
            "outlinewidth": 0,
            "ticks": ""
           }
          },
          "colorscale": {
           "diverging": [
            [
             0,
             "#8e0152"
            ],
            [
             0.1,
             "#c51b7d"
            ],
            [
             0.2,
             "#de77ae"
            ],
            [
             0.3,
             "#f1b6da"
            ],
            [
             0.4,
             "#fde0ef"
            ],
            [
             0.5,
             "#f7f7f7"
            ],
            [
             0.6,
             "#e6f5d0"
            ],
            [
             0.7,
             "#b8e186"
            ],
            [
             0.8,
             "#7fbc41"
            ],
            [
             0.9,
             "#4d9221"
            ],
            [
             1,
             "#276419"
            ]
           ],
           "sequential": [
            [
             0,
             "#0d0887"
            ],
            [
             0.1111111111111111,
             "#46039f"
            ],
            [
             0.2222222222222222,
             "#7201a8"
            ],
            [
             0.3333333333333333,
             "#9c179e"
            ],
            [
             0.4444444444444444,
             "#bd3786"
            ],
            [
             0.5555555555555556,
             "#d8576b"
            ],
            [
             0.6666666666666666,
             "#ed7953"
            ],
            [
             0.7777777777777778,
             "#fb9f3a"
            ],
            [
             0.8888888888888888,
             "#fdca26"
            ],
            [
             1,
             "#f0f921"
            ]
           ],
           "sequentialminus": [
            [
             0,
             "#0d0887"
            ],
            [
             0.1111111111111111,
             "#46039f"
            ],
            [
             0.2222222222222222,
             "#7201a8"
            ],
            [
             0.3333333333333333,
             "#9c179e"
            ],
            [
             0.4444444444444444,
             "#bd3786"
            ],
            [
             0.5555555555555556,
             "#d8576b"
            ],
            [
             0.6666666666666666,
             "#ed7953"
            ],
            [
             0.7777777777777778,
             "#fb9f3a"
            ],
            [
             0.8888888888888888,
             "#fdca26"
            ],
            [
             1,
             "#f0f921"
            ]
           ]
          },
          "colorway": [
           "#636efa",
           "#EF553B",
           "#00cc96",
           "#ab63fa",
           "#FFA15A",
           "#19d3f3",
           "#FF6692",
           "#B6E880",
           "#FF97FF",
           "#FECB52"
          ],
          "font": {
           "color": "#2a3f5f"
          },
          "geo": {
           "bgcolor": "white",
           "lakecolor": "white",
           "landcolor": "#E5ECF6",
           "showlakes": true,
           "showland": true,
           "subunitcolor": "white"
          },
          "hoverlabel": {
           "align": "left"
          },
          "hovermode": "closest",
          "mapbox": {
           "style": "light"
          },
          "paper_bgcolor": "white",
          "plot_bgcolor": "#E5ECF6",
          "polar": {
           "angularaxis": {
            "gridcolor": "white",
            "linecolor": "white",
            "ticks": ""
           },
           "bgcolor": "#E5ECF6",
           "radialaxis": {
            "gridcolor": "white",
            "linecolor": "white",
            "ticks": ""
           }
          },
          "scene": {
           "xaxis": {
            "backgroundcolor": "#E5ECF6",
            "gridcolor": "white",
            "gridwidth": 2,
            "linecolor": "white",
            "showbackground": true,
            "ticks": "",
            "zerolinecolor": "white"
           },
           "yaxis": {
            "backgroundcolor": "#E5ECF6",
            "gridcolor": "white",
            "gridwidth": 2,
            "linecolor": "white",
            "showbackground": true,
            "ticks": "",
            "zerolinecolor": "white"
           },
           "zaxis": {
            "backgroundcolor": "#E5ECF6",
            "gridcolor": "white",
            "gridwidth": 2,
            "linecolor": "white",
            "showbackground": true,
            "ticks": "",
            "zerolinecolor": "white"
           }
          },
          "shapedefaults": {
           "line": {
            "color": "#2a3f5f"
           }
          },
          "ternary": {
           "aaxis": {
            "gridcolor": "white",
            "linecolor": "white",
            "ticks": ""
           },
           "baxis": {
            "gridcolor": "white",
            "linecolor": "white",
            "ticks": ""
           },
           "bgcolor": "#E5ECF6",
           "caxis": {
            "gridcolor": "white",
            "linecolor": "white",
            "ticks": ""
           }
          },
          "title": {
           "x": 0.05
          },
          "xaxis": {
           "automargin": true,
           "gridcolor": "white",
           "linecolor": "white",
           "ticks": "",
           "title": {
            "standoff": 15
           },
           "zerolinecolor": "white",
           "zerolinewidth": 2
          },
          "yaxis": {
           "automargin": true,
           "gridcolor": "white",
           "linecolor": "white",
           "ticks": "",
           "title": {
            "standoff": 15
           },
           "zerolinecolor": "white",
           "zerolinewidth": 2
          }
         }
        },
        "title": {
         "text": "Top 20 häufigste Hashtags"
        },
        "xaxis": {
         "anchor": "y",
         "domain": [
          0,
          1
         ],
         "title": {
          "text": "Anzahl"
         }
        },
        "yaxis": {
         "anchor": "x",
         "categoryorder": "total ascending",
         "domain": [
          0,
          1
         ],
         "title": {
          "text": "Hashtag"
         }
        }
       }
      }
     },
     "metadata": {},
     "output_type": "display_data"
    }
   ],
   "source": [
    "all_hashtags = [hashtag.lower() for hashtags in df_posts['caption_hashtags'] for hashtag in (hashtags if hashtags else [])]\n",
    "top_hashtags = Counter(all_hashtags).most_common(20)\n",
    "hashtags, counts = zip(*top_hashtags)\n",
    "\n",
    "# DataFrame für Plotly vorbereiten\n",
    "df_hashtags = pd.DataFrame({\n",
    "    'Hashtag': hashtags,\n",
    "    'Anzahl': counts\n",
    "})\n",
    "\n",
    "# Plotly Balkendiagramm horizontal\n",
    "fig = px.bar(\n",
    "    df_hashtags,\n",
    "    x='Anzahl',\n",
    "    y='Hashtag',\n",
    "    orientation='h',\n",
    "    color='Anzahl',\n",
    "    color_continuous_scale='viridis',\n",
    "    title='Top 20 häufigste Hashtags',\n",
    "    labels={'Anzahl': 'Anzahl', 'Hashtag': 'Hashtag'}\n",
    ")\n",
    "\n",
    "# Sortierung y-Achse (Top von oben)\n",
    "fig.update_layout(yaxis={'categoryorder':'total ascending'})\n",
    "\n",
    "fig.show()\n"
   ]
  },
  {
   "cell_type": "code",
   "execution_count": 56,
   "id": "1724dce5",
   "metadata": {},
   "outputs": [
    {
     "data": {
      "application/vnd.plotly.v1+json": {
       "config": {
        "plotlyServerURL": "https://plot.ly"
       },
       "data": [
        {
         "hoverinfo": "none",
         "line": {
          "color": "#888",
          "width": 1
         },
         "mode": "lines",
         "type": "scatter",
         "x": [
          0,
          -1.048111148790742,
          null,
          0,
          3.111111111111111,
          null,
          0,
          2.4084405664327013,
          null,
          0,
          -0.9603803736198389,
          null,
          0,
          1.2924022626725344,
          null,
          0,
          -3.6844946124594,
          null,
          0,
          3.097500305134637,
          null,
          0,
          -2.884932007541263,
          null,
          0,
          1.6065698806545483,
          null,
          0,
          0.892715761527626,
          null,
          0,
          -3.4381253100898883,
          null,
          0,
          -2.7718685904418807,
          null,
          0,
          0.2472166911610909,
          null,
          0,
          -0.4427572746279978,
          null,
          0,
          2.430287983734522,
          null,
          0,
          0.838493081393144,
          null,
          0,
          -1.2093590178354694,
          null,
          0,
          -3.1983099120483245,
          null,
          0,
          -1.8918198980641572,
          null,
          0,
          -0.10153262504425291,
          null,
          0,
          -1.3481500448741686,
          null,
          0,
          2.930182464656299,
          null,
          0,
          -0.4111317550117129,
          null,
          0,
          -2.515488667234912,
          null,
          0,
          1.4918148891792218,
          null,
          0,
          -3.3278970130871186,
          null,
          0,
          -2.128363287198504,
          null,
          0,
          -2.33716020597207,
          null,
          0,
          -1.8918198980641565,
          null,
          0,
          -1.348150044874169,
          null,
          0,
          0.961386204722058,
          null,
          0,
          1.1915427998744732,
          null,
          0,
          2.8041784427706036,
          null,
          0,
          -2.6610238867762344,
          null,
          0,
          3.090832065528823,
          null,
          0,
          1.764093874502377,
          null,
          0,
          2.0133751983375148,
          null,
          0,
          3.753153222427856,
          null,
          0,
          -3.1060372122146442,
          null,
          0,
          -3.065545267081712,
          null,
          0,
          2.991328095637861,
          null,
          0,
          -1.8814773962225637,
          null,
          0,
          -0.08249525784845683,
          null,
          0,
          -2.8465777480044463,
          null,
          0,
          -0.7909014841575172,
          null,
          0,
          2.592484349552813,
          null,
          0,
          2.7208837171808486,
          null,
          0,
          1.200087815338783,
          null,
          0,
          1.7640938745023749,
          null,
          0,
          -2.337160205972071,
          null,
          0,
          -2.5154886672349113,
          null,
          0,
          2.4084405664327,
          null,
          0,
          0.24721669116109285,
          null,
          0,
          2.813812204500074,
          null,
          0,
          2.8138122045000746,
          null
         ],
         "y": [
          0,
          -2.692051639944195,
          null,
          0,
          0,
          null,
          0,
          1.9693720785164857,
          null,
          0,
          3.653665895540727,
          null,
          0,
          -2.8299662077696133,
          null,
          0,
          1.5570804252695665,
          null,
          0,
          -3.187252465595394,
          null,
          0,
          4.219078584476401,
          null,
          0,
          2.6641969830049432,
          null,
          0,
          2.7474966026304437,
          null,
          0,
          3.1554828679454245,
          null,
          0,
          0.8138940530974647,
          null,
          0,
          -2.878291666936664,
          null,
          0,
          3.079444485851791,
          null,
          0,
          -1.5618512504272837,
          null,
          0,
          -4.1381263690567724,
          null,
          0,
          3.106213430704841,
          null,
          0,
          -0.9391085228047645,
          null,
          0,
          -2.1832765481345233,
          null,
          0,
          3.554105574500228,
          null,
          0,
          2.555028467327019,
          null,
          0,
          1.0454870011146715,
          null,
          0,
          -2.8594841654338055,
          null,
          0,
          -1.4205617823095211,
          null,
          0,
          -2.4738971985045914,
          null,
          0,
          -0.19029603620922578,
          null,
          0,
          -1.9533941563471664,
          null,
          0,
          1.6980462844004782,
          null,
          0,
          2.1832765481345238,
          null,
          0,
          -2.5550284673270185,
          null,
          0,
          -2.958842495140478,
          null,
          0,
          5.880495366554361,
          null,
          0,
          1.802136058185325,
          null,
          0,
          -1.1245580849169072,
          null,
          0,
          0.3546399418816819,
          null,
          0,
          2.287717599331017,
          null,
          0,
          2.0717141026370056,
          null,
          0,
          -0.4306342151420457,
          null,
          0,
          0.17760963379527955,
          null,
          0,
          -0.5305134881903836,
          null,
          0,
          -1.4707370041440713,
          null,
          0,
          -2.751572989875913,
          null,
          0,
          -2.8877107792814356,
          null,
          0,
          0.49261966760535814,
          null,
          0,
          -3.0089013257394215,
          null,
          0,
          1.2746387369248615,
          null,
          0,
          -0.9708093581779103,
          null,
          0,
          2.6278257643574974,
          null,
          0,
          -2.2877175993310184,
          null,
          0,
          -1.6980462844004776,
          null,
          0,
          1.420561782309523,
          null,
          0,
          -1.969372078516487,
          null,
          0,
          2.8782916669366636,
          null,
          0,
          -0.6543239947855433,
          null,
          0,
          0.6543239947855415,
          null
         ]
        },
        {
         "hoverinfo": "text",
         "hovertext": [
          "dorfterror (Zentrum)",
          "muselkanner<br>Kollaborationen: 1",
          "alternativegegenkulturkusel<br>Kollaborationen: 2",
          "blaufuchsband<br>Kollaborationen: 2",
          "dorfterror.fussel<br>Kollaborationen: 5",
          "risiko.deluxe_band<br>Kollaborationen: 2",
          "heliumnationband<br>Kollaborationen: 6",
          "sus.anna.music<br>Kollaborationen: 8",
          "exhausbleibt<br>Kollaborationen: 11",
          "captaincapgras<br>Kollaborationen: 2",
          "christmas_66606<br>Kollaborationen: 1",
          "freidenkeralarmpunk<br>Kollaborationen: 9",
          "honig.asche<br>Kollaborationen: 1",
          "popperklopper_official<br>Kollaborationen: 1",
          "dorfterror.elgato<br>Kollaborationen: 2",
          "toxoplasma_band<br>Kollaborationen: 1",
          "projektbooking<br>Kollaborationen: 7",
          "dorfterror.tier<br>Kollaborationen: 3",
          "kulturgraben<br>Kollaborationen: 3",
          "mercherdesteufels.jesus<br>Kollaborationen: 1",
          "dorfterror.chili<br>Kollaborationen: 4",
          "dug.trier<br>Kollaborationen: 1",
          "beemfestival<br>Kollaborationen: 2",
          "osy_music<br>Kollaborationen: 1",
          "mal_eleve<br>Kollaborationen: 1",
          "solikult<br>Kollaborationen: 1",
          "juz_burglengenfeld<br>Kollaborationen: 3",
          "meerschaumwiesel<br>Kollaborationen: 1",
          "hair_by_gypsy<br>Kollaborationen: 1",
          "fiftyzlotys<br>Kollaborationen: 1",
          "mtc_cologne<br>Kollaborationen: 1",
          "punkfilmfestberlin<br>Kollaborationen: 2",
          "dackelton<br>Kollaborationen: 15",
          "blaecklist061_official<br>Kollaborationen: 3",
          "lottalaerm<br>Kollaborationen: 1",
          "atwsenscheid<br>Kollaborationen: 2",
          "callmebrutus<br>Kollaborationen: 1",
          "buntestrier<br>Kollaborationen: 1",
          "wild_n_free_photography<br>Kollaborationen: 5",
          "juz_auf_der_hoehe<br>Kollaborationen: 2",
          "keinmeterband<br>Kollaborationen: 2",
          "tvleipzig<br>Kollaborationen: 3",
          "minohband<br>Kollaborationen: 3",
          "pinsel_zauberwelt<br>Kollaborationen: 1",
          "indecentbehaviorofficial<br>Kollaborationen: 1",
          "nikl_nkl<br>Kollaborationen: 2",
          "beyondborders161<br>Kollaborationen: 1",
          "von.hoelle.band<br>Kollaborationen: 1",
          "castell_cgn<br>Kollaborationen: 1",
          "subkulturhannover666<br>Kollaborationen: 1",
          "massenkarambolage<br>Kollaborationen: 1",
          "hanfi.massenkarambolage<br>Kollaborationen: 1",
          "tonstudio45<br>Kollaborationen: 2",
          "darmstadtcityrebels<br>Kollaborationen: 1",
          "watzstock_festival<br>Kollaborationen: 1",
          "beckybuddelt<br>Kollaborationen: 1"
         ],
         "marker": {
          "color": "lightblue",
          "line": {
           "color": "black",
           "width": 2
          },
          "showscale": false,
          "size": [
           86.66666666666667,
           46.66666666666667,
           53.333333333333336,
           53.333333333333336,
           73.33333333333334,
           53.333333333333336,
           80,
           93.33333333333333,
           113.33333333333333,
           53.333333333333336,
           46.66666666666667,
           100,
           46.66666666666667,
           46.66666666666667,
           53.333333333333336,
           46.66666666666667,
           86.66666666666667,
           60,
           60,
           46.66666666666667,
           66.66666666666666,
           46.66666666666667,
           53.333333333333336,
           46.66666666666667,
           46.66666666666667,
           46.66666666666667,
           60,
           46.66666666666667,
           46.66666666666667,
           46.66666666666667,
           46.66666666666667,
           53.333333333333336,
           140,
           60,
           46.66666666666667,
           53.333333333333336,
           46.66666666666667,
           46.66666666666667,
           73.33333333333334,
           53.333333333333336,
           53.333333333333336,
           60,
           60,
           46.66666666666667,
           46.66666666666667,
           53.333333333333336,
           46.66666666666667,
           46.66666666666667,
           46.66666666666667,
           46.66666666666667,
           46.66666666666667,
           46.66666666666667,
           53.333333333333336,
           46.66666666666667,
           46.66666666666667,
           46.66666666666667
          ]
         },
         "mode": "markers+text",
         "text": [
          "dorfterror",
          "",
          "",
          "",
          "",
          "",
          "",
          "",
          "",
          "",
          "",
          "",
          "",
          "",
          "",
          "",
          "",
          "",
          "",
          "",
          "",
          "",
          "",
          "",
          "",
          "",
          "",
          "",
          "",
          "",
          "",
          "",
          "",
          "",
          "",
          "",
          "",
          "",
          "",
          "",
          "",
          "",
          "",
          "",
          "",
          "",
          "",
          "",
          "",
          "",
          "",
          "",
          "",
          "",
          "",
          ""
         ],
         "textfont": {
          "size": 12
         },
         "textposition": "bottom center",
         "type": "scatter",
         "x": [
          0,
          -1.048111148790742,
          3.111111111111111,
          2.4084405664327013,
          -0.9603803736198389,
          1.2924022626725344,
          -3.6844946124594,
          3.097500305134637,
          -2.884932007541263,
          1.6065698806545483,
          0.892715761527626,
          -3.4381253100898883,
          -2.7718685904418807,
          0.2472166911610909,
          -0.4427572746279978,
          2.430287983734522,
          0.838493081393144,
          -1.2093590178354694,
          -3.1983099120483245,
          -1.8918198980641572,
          -0.10153262504425291,
          -1.3481500448741686,
          2.930182464656299,
          -0.4111317550117129,
          -2.515488667234912,
          1.4918148891792218,
          -3.3278970130871186,
          -2.128363287198504,
          -2.33716020597207,
          -1.8918198980641565,
          -1.348150044874169,
          0.961386204722058,
          1.1915427998744732,
          2.8041784427706036,
          -2.6610238867762344,
          3.090832065528823,
          1.764093874502377,
          2.0133751983375148,
          3.753153222427856,
          -3.1060372122146442,
          -3.065545267081712,
          2.991328095637861,
          -1.8814773962225637,
          -0.08249525784845683,
          -2.8465777480044463,
          -0.7909014841575172,
          2.592484349552813,
          2.7208837171808486,
          1.200087815338783,
          1.7640938745023749,
          -2.337160205972071,
          -2.5154886672349113,
          2.4084405664327,
          0.24721669116109285,
          2.813812204500074,
          2.8138122045000746
         ],
         "y": [
          0,
          -2.692051639944195,
          0,
          1.9693720785164857,
          3.653665895540727,
          -2.8299662077696133,
          1.5570804252695665,
          -3.187252465595394,
          4.219078584476401,
          2.6641969830049432,
          2.7474966026304437,
          3.1554828679454245,
          0.8138940530974647,
          -2.878291666936664,
          3.079444485851791,
          -1.5618512504272837,
          -4.1381263690567724,
          3.106213430704841,
          -0.9391085228047645,
          -2.1832765481345233,
          3.554105574500228,
          2.555028467327019,
          1.0454870011146715,
          -2.8594841654338055,
          -1.4205617823095211,
          -2.4738971985045914,
          -0.19029603620922578,
          -1.9533941563471664,
          1.6980462844004782,
          2.1832765481345238,
          -2.5550284673270185,
          -2.958842495140478,
          5.880495366554361,
          1.802136058185325,
          -1.1245580849169072,
          0.3546399418816819,
          2.287717599331017,
          2.0717141026370056,
          -0.4306342151420457,
          0.17760963379527955,
          -0.5305134881903836,
          -1.4707370041440713,
          -2.751572989875913,
          -2.8877107792814356,
          0.49261966760535814,
          -3.0089013257394215,
          1.2746387369248615,
          -0.9708093581779103,
          2.6278257643574974,
          -2.2877175993310184,
          -1.6980462844004776,
          1.420561782309523,
          -1.969372078516487,
          2.8782916669366636,
          -0.6543239947855433,
          0.6543239947855415
         ]
        }
       ],
       "layout": {
        "hovermode": "closest",
        "images": [
         {
          "layer": "above",
          "opacity": 1,
          "sizex": 0.2,
          "sizey": 0.2,
          "sizing": "contain",
          "source": "https://scontent-cdg4-2.cdninstagram.com/v/t51.2885-19/468566340_1080483403382431_3800128179714413222_n.jpg?stp=dst-jpg_s320x320_tt6&_nc_ht=scontent-cdg4-2.cdninstagram.com&_nc_cat=107&_nc_oc=Q6cZ2QFMtMF9zvB5aECEDFIfajeSOdMxUHq0yUwvOmNfYOK4wKUQZhe8WiFCR8wg6eJHHgI&_nc_ohc=cl_x3tc0wvgQ7kNvwH6iRrq&_nc_gid=ptLv-dxArep7DJ6QsyiUdA&edm=AOQ1c0wBAAAA&ccb=7-5&oh=00_AfRtmoUvuBlid_D_dP8QtIY88V6xwYBt1Ckz2tPl6nJk1g&oe=68746D70&_nc_sid=8b3546",
          "x": -0.1,
          "xanchor": "center",
          "xref": "x",
          "y": 0.1,
          "yanchor": "middle",
          "yref": "y"
         },
         {
          "layer": "above",
          "opacity": 1,
          "sizex": 0.2,
          "sizey": 0.2,
          "sizing": "contain",
          "source": "https://scontent-gig4-2.cdninstagram.com/v/t51.2885-19/52699500_1006762016200981_3772279542832431104_n.jpg?stp=dst-jpg_s320x320_tt6&_nc_ht=scontent-gig4-2.cdninstagram.com&_nc_cat=101&_nc_oc=Q6cZ2QFtp2oBggFeBQX_FSri0TnODLJywWuzkqwpjKNY8nn_0_Waco0nZC-w3BusWQ6nSMM&_nc_ohc=OXjDD6xFYAAQ7kNvwEqlU5l&_nc_gid=ebotPhv00L9iLEPWaUOnMQ&edm=AOQ1c0wBAAAA&ccb=7-5&oh=00_AfRY03jgxwiVFX8FLe6rh7bPH924N_k3A98n5tAofsmWdQ&oe=687831C8&_nc_sid=8b3546",
          "x": -1.148111148790742,
          "xanchor": "center",
          "xref": "x",
          "y": -2.592051639944195,
          "yanchor": "middle",
          "yref": "y"
         },
         {
          "layer": "above",
          "opacity": 1,
          "sizex": 0.2,
          "sizey": 0.2,
          "sizing": "contain",
          "source": "https://instagram.fgua1-2.fna.fbcdn.net/v/t51.2885-19/245473097_603184974348190_1747705987572965717_n.jpg?stp=dst-jpg_s320x320_tt6&_nc_ht=instagram.fgua1-2.fna.fbcdn.net&_nc_cat=110&_nc_oc=Q6cZ2QFqjsSKe1DBf2-iVCAAVq_oDcV_Esvbtr4OO0lUcYATufd1SM3lNM8csf-aWu8k98c&_nc_ohc=HpV2PUbAklQQ7kNvwHHwObu&_nc_gid=AHEjnH_UVGtstC7FRxV7pw&edm=AOQ1c0wBAAAA&ccb=7-5&oh=00_AfSSmDPART9CGh3HHDrjsQ583ZNX0F9h2DTeC6yhfnyVXg&oe=687841EB&_nc_sid=8b3546",
          "x": 3.011111111111111,
          "xanchor": "center",
          "xref": "x",
          "y": 0.1,
          "yanchor": "middle",
          "yref": "y"
         },
         {
          "layer": "above",
          "opacity": 1,
          "sizex": 0.2,
          "sizey": 0.2,
          "sizing": "contain",
          "source": "https://instagram.feyp2-1.fna.fbcdn.net/v/t51.2885-19/106495440_2681524962084663_2857193811379909526_n.jpg?stp=dst-jpg_s320x320_tt6&_nc_ht=instagram.feyp2-1.fna.fbcdn.net&_nc_cat=103&_nc_oc=Q6cZ2QGv1pQOTe_CO881IGrz0vtpZB6SG_IYWSWemXdnpwhXhN25nnIwgZPZU54vDVdbnLg&_nc_ohc=Iv2QQxqx2fcQ7kNvwHXybJ7&_nc_gid=vtAaB1ufxuEcojcm3pExhQ&edm=AOQ1c0wBAAAA&ccb=7-5&oh=00_AfTApnwLUNu5JiSP7I2hbOmDOUyVUyie53JdGx1N5xH7Hg&oe=68782D56&_nc_sid=8b3546",
          "x": 2.3084405664327012,
          "xanchor": "center",
          "xref": "x",
          "y": 2.0693720785164857,
          "yanchor": "middle",
          "yref": "y"
         },
         {
          "layer": "above",
          "opacity": 1,
          "sizex": 0.2,
          "sizey": 0.2,
          "sizing": "contain",
          "source": "https://scontent-mxp2-1.cdninstagram.com/v/t51.2885-19/491464974_1172407960818935_1915843070830705328_n.jpg?stp=dst-jpg_s320x320_tt6&_nc_ht=scontent-mxp2-1.cdninstagram.com&_nc_cat=111&_nc_oc=Q6cZ2QFxRGO4MIDNnpgDmwrgCN5XY0SzzdAjetoIgDBugNNMXvIM0vjur1Gp89grcDSJgLQ&_nc_ohc=PJMxtDk7Kl4Q7kNvwGF9SVv&_nc_gid=fbpS2tIVVOGZsgEG0Rnw2Q&edm=AOQ1c0wBAAAA&ccb=7-5&oh=00_AfR_25dwbO9iilMfWl5Bcj6VhFqB6t0pdq-DJ588IKdRBQ&oe=68781C5F&_nc_sid=8b3546",
          "x": -1.060380373619839,
          "xanchor": "center",
          "xref": "x",
          "y": 3.753665895540727,
          "yanchor": "middle",
          "yref": "y"
         },
         {
          "layer": "above",
          "opacity": 1,
          "sizex": 0.2,
          "sizey": 0.2,
          "sizing": "contain",
          "source": "https://instagram.fabv6-1.fna.fbcdn.net/v/t51.2885-19/72622995_412013736406809_4543270715570257920_n.jpg?stp=dst-jpg_s320x320_tt6&_nc_ht=instagram.fabv6-1.fna.fbcdn.net&_nc_cat=109&_nc_oc=Q6cZ2QGNTeC0vFJJRpZ07DK5exNRhTETwuSZV_6IIVh5n8fMRJR9OzADiBXVbDdlqVWe-uM&_nc_ohc=kjtnK9e83voQ7kNvwFpl8W5&_nc_gid=X9DbQyScCKks4D3a6k8Obw&edm=AOQ1c0wBAAAA&ccb=7-5&oh=00_AfQ6KLtZ59TYMsBj-oQgKH6nsIEXUawSF-XA-J2dap5DKg&oe=68784069&_nc_sid=8b3546",
          "x": 1.1924022626725344,
          "xanchor": "center",
          "xref": "x",
          "y": -2.729966207769613,
          "yanchor": "middle",
          "yref": "y"
         },
         {
          "layer": "above",
          "opacity": 1,
          "sizex": 0.2,
          "sizey": 0.2,
          "sizing": "contain",
          "source": "https://instagram.fbdo9-1.fna.fbcdn.net/v/t51.2885-19/420629053_403188152334604_3449686714851177899_n.jpg?stp=dst-jpg_s320x320_tt6&_nc_ht=instagram.fbdo9-1.fna.fbcdn.net&_nc_cat=104&_nc_oc=Q6cZ2QFT-3Nwmh0s5WPXtqZ06GNB1IQh5f7bBN-F6Wm6pnp14wtpV9sVItXhDg3Buigv59o&_nc_ohc=Lob335VX3y0Q7kNvwHsg5P4&_nc_gid=GNhjjUolhau6_93JBArwow&edm=AOQ1c0wBAAAA&ccb=7-5&oh=00_AfRTqHL69AzUkI3h43MZNWN3969Q-QygV2qGn5qaC29ddw&oe=6878145B&_nc_sid=8b3546",
          "x": -3.7844946124594,
          "xanchor": "center",
          "xref": "x",
          "y": 1.6570804252695666,
          "yanchor": "middle",
          "yref": "y"
         },
         {
          "layer": "above",
          "opacity": 1,
          "sizex": 0.2,
          "sizey": 0.2,
          "sizing": "contain",
          "source": "https://instagram.feas1-1.fna.fbcdn.net/v/t51.2885-19/459059903_1111861483604619_7998862876590499425_n.jpg?stp=dst-jpg_s320x320_tt6&_nc_ht=instagram.feas1-1.fna.fbcdn.net&_nc_cat=103&_nc_oc=Q6cZ2QH1EMQYK_Sm4dWzcHaJ92kfrZea9ogRjQrHVx_htGI0sJXdFhUN5RuX17FJSsuCpJE&_nc_ohc=CI-2pPMS544Q7kNvwHdqjA_&_nc_gid=r6GYPUiH0EFmLwgoAU8auQ&edm=AOQ1c0wBAAAA&ccb=7-5&oh=00_AfQ7bPAtwHzBrAeIulHwrib1yva3L6deMEGLOk_VHssDfw&oe=68781668&_nc_sid=8b3546",
          "x": 2.9975003051346367,
          "xanchor": "center",
          "xref": "x",
          "y": -3.087252465595394,
          "yanchor": "middle",
          "yref": "y"
         },
         {
          "layer": "above",
          "opacity": 1,
          "sizex": 0.2,
          "sizey": 0.2,
          "sizing": "contain",
          "source": "https://scontent-ham3-1.cdninstagram.com/v/t51.2885-19/120955042_1018560268662999_7227532884264990479_n.jpg?stp=dst-jpg_s320x320_tt6&_nc_ht=scontent-ham3-1.cdninstagram.com&_nc_cat=103&_nc_oc=Q6cZ2QFwSDvHPWa5I5sVPwdG8GVFJVsd6NH7BSAGqjunhHh_ilmdobAHq-6_OC0_s8wOMbo&_nc_ohc=I6Z3jBwXjacQ7kNvwFUnDPf&_nc_gid=tUwr-7OpivVVgXszjS47QQ&edm=AOQ1c0wBAAAA&ccb=7-5&oh=00_AfRgi6Qevh3xNO3G0p1WGIx8icVjkRa_nNalBY5v4G7S-w&oe=6878417C&_nc_sid=8b3546",
          "x": -2.9849320075412633,
          "xanchor": "center",
          "xref": "x",
          "y": 4.319078584476401,
          "yanchor": "middle",
          "yref": "y"
         },
         {
          "layer": "above",
          "opacity": 1,
          "sizex": 0.2,
          "sizey": 0.2,
          "sizing": "contain",
          "source": "https://scontent-waw2-1.cdninstagram.com/v/t51.2885-19/470080487_583495764264536_1665424045491582121_n.jpg?stp=dst-jpg_s320x320_tt6&_nc_ht=scontent-waw2-1.cdninstagram.com&_nc_cat=108&_nc_oc=Q6cZ2QGk3-lWbakyKYgQ4T0gnhZfwoRmHRqtjvnONorCJMeo7RFOkFr84W4QEsXczaPcTCo&_nc_ohc=Cl_NMlE9ipEQ7kNvwHS1HQS&_nc_gid=_-P6YLJUkybGkgUZYfvrSA&edm=AOQ1c0wBAAAA&ccb=7-5&oh=00_AfRI8ZIJ5GbVqcORxMFOA15z5fHPnpIG_CCpLvBgmOHMhA&oe=687840B8&_nc_sid=8b3546",
          "x": 1.5065698806545482,
          "xanchor": "center",
          "xref": "x",
          "y": 2.7641969830049433,
          "yanchor": "middle",
          "yref": "y"
         },
         {
          "layer": "above",
          "opacity": 1,
          "sizex": 0.2,
          "sizey": 0.2,
          "sizing": "contain",
          "source": "https://instagram.frer1-1.fna.fbcdn.net/v/t51.2885-19/455086037_1674025376747600_1248651190387573858_n.jpg?stp=dst-jpg_s320x320_tt6&_nc_ht=instagram.frer1-1.fna.fbcdn.net&_nc_cat=108&_nc_oc=Q6cZ2QE3rYju8TwfSBMeaVvIZ9ax8SFD39g1zD40i6z6tv1W6oqXGvrdBj5jTnf_-LJlL-4&_nc_ohc=nFoBhFAT3loQ7kNvwEw9TMc&_nc_gid=YXwQyXRLAcQaBt63eAalMQ&edm=AOQ1c0wBAAAA&ccb=7-5&oh=00_AfQvB_VuSeoevRZUjbtoL5CQcDiEA8LhDxXAikKD3f2AXw&oe=68781F5B&_nc_sid=8b3546",
          "x": 0.792715761527626,
          "xanchor": "center",
          "xref": "x",
          "y": 2.847496602630444,
          "yanchor": "middle",
          "yref": "y"
         },
         {
          "layer": "above",
          "opacity": 1,
          "sizex": 0.2,
          "sizey": 0.2,
          "sizing": "contain",
          "source": "https://instagram.fsdu12-2.fna.fbcdn.net/v/t51.2885-19/459134351_1904126470069391_1880063712636201_n.jpg?stp=dst-jpg_s320x320_tt6&_nc_ht=instagram.fsdu12-2.fna.fbcdn.net&_nc_cat=111&_nc_oc=Q6cZ2QEoS7L6jok_1cdO1PuUjfMhSQClpjZem146NDqjN255J94hfZxI7B6RJdf7kmYXtmA&_nc_ohc=NoaI2lK7IUAQ7kNvwHh60Y2&_nc_gid=J7UCWOOux7eSDd_OQJn33w&edm=AOQ1c0wBAAAA&ccb=7-5&oh=00_AfQ6CvsWsuN8r113Zz7PywrnfVJUefS5V_Q7c_OuCrc1WQ&oe=68782CE1&_nc_sid=8b3546",
          "x": -3.5381253100898884,
          "xanchor": "center",
          "xref": "x",
          "y": 3.2554828679454246,
          "yanchor": "middle",
          "yref": "y"
         },
         {
          "layer": "above",
          "opacity": 1,
          "sizex": 0.2,
          "sizey": 0.2,
          "sizing": "contain",
          "source": "https://instagram.fskg1-1.fna.fbcdn.net/v/t51.2885-19/480755823_1095321009274198_9222633669794859202_n.jpg?stp=dst-jpg_s320x320_tt6&_nc_ht=instagram.fskg1-1.fna.fbcdn.net&_nc_cat=110&_nc_oc=Q6cZ2QEQGoCfwKxx75YQrIwbjNAZ_4pl86hafxlULbbmAfT8kBWmJ0gbTIj8ckjd_r6VsTk&_nc_ohc=WzKf5CMLaCgQ7kNvwGfT7WE&_nc_gid=CEEtT4PLst1h6g4MRPA9JA&edm=AOQ1c0wBAAAA&ccb=7-5&oh=00_AfR1AWWF-y4iRCWuRGtSLz8l-sLFeG-hw2RcQZXUx3LtRw&oe=68782D66&_nc_sid=8b3546",
          "x": -2.871868590441881,
          "xanchor": "center",
          "xref": "x",
          "y": 0.9138940530974646,
          "yanchor": "middle",
          "yref": "y"
         },
         {
          "layer": "above",
          "opacity": 1,
          "sizex": 0.2,
          "sizey": 0.2,
          "sizing": "contain",
          "source": "https://scontent-waw2-2.cdninstagram.com/v/t51.2885-19/363502145_192796360215600_5939354995415938299_n.jpg?stp=dst-jpg_s320x320_tt6&_nc_ht=scontent-waw2-2.cdninstagram.com&_nc_cat=100&_nc_oc=Q6cZ2QEGkiQsAOFNWUw1l6Z3SgSkbaCWfSxZ6amm3TJnKD3T6ABNQF2ARUBs2iR6PMG7gTs&_nc_ohc=IcMWSM1IfacQ7kNvwGNNzBH&_nc_gid=dHyHa3fpTg4n-zIvBLFY3w&edm=AOQ1c0wBAAAA&ccb=7-5&oh=00_AfREvQE3ibDUeOeJq6jV7hmc5Ams0EJMv6D6OeVGblKh-g&oe=68781B4E&_nc_sid=8b3546",
          "x": 0.1472166911610909,
          "xanchor": "center",
          "xref": "x",
          "y": -2.778291666936664,
          "yanchor": "middle",
          "yref": "y"
         },
         {
          "layer": "above",
          "opacity": 1,
          "sizex": 0.2,
          "sizey": 0.2,
          "sizing": "contain",
          "source": "https://scontent-waw2-2.cdninstagram.com/v/t51.2885-19/470428823_1378183750232257_6390251508465235142_n.jpg?stp=dst-jpg_s320x320_tt6&_nc_ht=scontent-waw2-2.cdninstagram.com&_nc_cat=101&_nc_oc=Q6cZ2QHEa35KvhzJsK6l1Hqpko2GX1xuRdFl0nJnHchWj8kTMRpEEZKtFTqLP9-hJiOPK4M&_nc_ohc=tocDjjkpZnoQ7kNvwFuQIZQ&_nc_gid=H7Jg52KLGcyaZ-tmc2Y-qg&edm=AOQ1c0wBAAAA&ccb=7-5&oh=00_AfRrGNI6RjocAasEASh210JjrKnitB5JuYgpFOIdYebkvQ&oe=687834F5&_nc_sid=8b3546",
          "x": -0.5427572746279978,
          "xanchor": "center",
          "xref": "x",
          "y": 3.179444485851791,
          "yanchor": "middle",
          "yref": "y"
         },
         {
          "layer": "above",
          "opacity": 1,
          "sizex": 0.2,
          "sizey": 0.2,
          "sizing": "contain",
          "source": "https://instagram.fmtt1-2.fna.fbcdn.net/v/t51.2885-19/50076770_357743488381398_2058927040173703168_n.jpg?stp=dst-jpg_s150x150_tt6&_nc_ht=instagram.fmtt1-2.fna.fbcdn.net&_nc_cat=106&_nc_oc=Q6cZ2QF7O6q9kyna8t-LHx4Gxz1F1BVt3rq0Uds_UPaL8QoYSwjar4T-p300p8rh4_IGFmw&_nc_ohc=FwQ05M2fn0AQ7kNvwFGcsyf&_nc_gid=gFSr5Ga_qrRVqoeEyiUaug&edm=AOQ1c0wBAAAA&ccb=7-5&oh=00_AfTja0lObu2n4I3RxH_aK5bWPECrLllibQAETjp8lrA7Sw&oe=68782050&_nc_sid=8b3546",
          "x": 2.330287983734522,
          "xanchor": "center",
          "xref": "x",
          "y": -1.4618512504272836,
          "yanchor": "middle",
          "yref": "y"
         },
         {
          "layer": "above",
          "opacity": 1,
          "sizex": 0.2,
          "sizey": 0.2,
          "sizing": "contain",
          "source": "https://instagram.fdiq2-1.fna.fbcdn.net/v/t51.2885-19/334809354_183664511035224_8700691826738922146_n.jpg?stp=dst-jpg_s320x320_tt6&_nc_ht=instagram.fdiq2-1.fna.fbcdn.net&_nc_cat=100&_nc_oc=Q6cZ2QHlg805evPJHiTFNqnHMgoqclEbdFb0j7gj1AEsF22EvV5huV8kHQL8oICrC3o5NS4&_nc_ohc=HlBW_dkyq8EQ7kNvwHuxHmL&_nc_gid=J2iJ0iiUZq0g43RKh6x8KA&edm=AOQ1c0wBAAAA&ccb=7-5&oh=00_AfQUygSDVu3OCmT7qdgxWaDii_qn-YfkJyBksvFtP7x53w&oe=6878220E&_nc_sid=8b3546",
          "x": 0.7384930813931441,
          "xanchor": "center",
          "xref": "x",
          "y": -4.038126369056773,
          "yanchor": "middle",
          "yref": "y"
         },
         {
          "layer": "above",
          "opacity": 1,
          "sizex": 0.2,
          "sizey": 0.2,
          "sizing": "contain",
          "source": "https://instagram.fnap3-1.fna.fbcdn.net/v/t51.2885-19/485877152_1189963272776719_7351953894259011910_n.jpg?stp=dst-jpg_s320x320_tt6&_nc_ht=instagram.fnap3-1.fna.fbcdn.net&_nc_cat=107&_nc_oc=Q6cZ2QEID7lmpIKfdQYfTI3VZ-Js7HhaOOWaqUzDeP-XzB5XSFyqI01C8Vv63UV8m0RxJvY&_nc_ohc=anwO7JSTZFIQ7kNvwF3SX9B&_nc_gid=poEnetf2XB-F7JJHknS8-Q&edm=AOQ1c0wBAAAA&ccb=7-5&oh=00_AfSXB3YMKGpris1qw-ns7Zad8uKy_CgeCUDKui-bPHRJpQ&oe=68783066&_nc_sid=8b3546",
          "x": -1.3093590178354695,
          "xanchor": "center",
          "xref": "x",
          "y": 3.206213430704841,
          "yanchor": "middle",
          "yref": "y"
         },
         {
          "layer": "above",
          "opacity": 1,
          "sizex": 0.2,
          "sizey": 0.2,
          "sizing": "contain",
          "source": "https://scontent-mrs2-1.cdninstagram.com/v/t51.2885-19/159931637_953996788337781_1013610324857272718_n.jpg?stp=dst-jpg_s320x320_tt6&_nc_ht=scontent-mrs2-1.cdninstagram.com&_nc_cat=109&_nc_oc=Q6cZ2QGpKpiXdTvDiQzvjuVOJ0yThsrvRHR81K0ezNx2ikjfJ1k8_I88L-k1CUofJUwXpRc&_nc_ohc=i270ipAXO58Q7kNvwHKwHYH&_nc_gid=NTmPMN_jvL0oEGwoTc0KhA&edm=AOQ1c0wBAAAA&ccb=7-5&oh=00_AfTDau9zDo1E9y5xExJKF5twU3_HFN3G8jsP7Hamzar97w&oe=687831AD&_nc_sid=8b3546",
          "x": -3.2983099120483246,
          "xanchor": "center",
          "xref": "x",
          "y": -0.8391085228047646,
          "yanchor": "middle",
          "yref": "y"
         },
         {
          "layer": "above",
          "opacity": 1,
          "sizex": 0.2,
          "sizey": 0.2,
          "sizing": "contain",
          "source": "https://instagram.fiev8-2.fna.fbcdn.net/v/t51.2885-19/453881110_3746760638946907_2035332052445244087_n.jpg?stp=dst-jpg_s320x320_tt6&_nc_ht=instagram.fiev8-2.fna.fbcdn.net&_nc_cat=107&_nc_oc=Q6cZ2QHSkqC9aKzfGlg59ibtQa4NcpuflmfWwrbHeoT6yHq9lCCQ2fuFEqLuKx3TV--cerc&_nc_ohc=-SVDcTL24WcQ7kNvwGO9ePs&_nc_gid=AfLN21ley5OANxK4pHscCw&edm=AOQ1c0wBAAAA&ccb=7-5&oh=00_AfS4uOh95M2myb2j5wSck9BAttLEDH1fT7mE_quhrPtJvg&oe=68784362&_nc_sid=8b3546",
          "x": -1.9918198980641573,
          "xanchor": "center",
          "xref": "x",
          "y": -2.0832765481345232,
          "yanchor": "middle",
          "yref": "y"
         },
         {
          "layer": "above",
          "opacity": 1,
          "sizex": 0.2,
          "sizey": 0.2,
          "sizing": "contain",
          "source": "https://instagram.fhex5-1.fna.fbcdn.net/v/t51.2885-19/487447372_1130494302186450_8400313386703716122_n.jpg?stp=dst-jpg_s320x320_tt6&_nc_ht=instagram.fhex5-1.fna.fbcdn.net&_nc_cat=106&_nc_oc=Q6cZ2QGhXCdTdTc2VP6iJn5Q_W1CM4kBulrCuG48cEvhEsUxP0oBr4x930FSQWBbKY-v-2M&_nc_ohc=JPwggLReelAQ7kNvwH_jV98&_nc_gid=_BpkUVUqen8r7Kdw1KiDAQ&edm=AOQ1c0wBAAAA&ccb=7-5&oh=00_AfQmsKuQMxTlmDanFjgpCwKH6gz0_05EjOvuklUq1vOFVg&oe=68782D61&_nc_sid=8b3546",
          "x": -0.2015326250442529,
          "xanchor": "center",
          "xref": "x",
          "y": 3.654105574500228,
          "yanchor": "middle",
          "yref": "y"
         },
         {
          "layer": "above",
          "opacity": 1,
          "sizex": 0.2,
          "sizey": 0.2,
          "sizing": "contain",
          "source": "https://scontent-waw2-2.cdninstagram.com/v/t51.2885-19/387727191_1327671238115958_5665659343167527035_n.jpg?stp=dst-jpg_s320x320_tt6&_nc_ht=scontent-waw2-2.cdninstagram.com&_nc_cat=106&_nc_oc=Q6cZ2QEzY3TUDFvItaixhpqzbvVwej0CZxojXkxfbukfD0IFAymfI9eI-yQ7J3yqkDWNtG8&_nc_ohc=54xOe_i_ymsQ7kNvwHc6YHJ&_nc_gid=BPGs5Pnr1DncdrtnBDlWUw&edm=AOQ1c0wBAAAA&ccb=7-5&oh=00_AfScMg1Rz5548XPY5o3TSrsv9j5FRmjZHCRTAF6tI0wNwQ&oe=6878AC79&_nc_sid=8b3546",
          "x": -1.4481500448741687,
          "xanchor": "center",
          "xref": "x",
          "y": 2.655028467327019,
          "yanchor": "middle",
          "yref": "y"
         },
         {
          "layer": "above",
          "opacity": 1,
          "sizex": 0.2,
          "sizey": 0.2,
          "sizing": "contain",
          "source": "https://scontent-atl3-2.cdninstagram.com/v/t51.2885-19/280985970_1740342492985468_6495327608336838443_n.jpg?stp=dst-jpg_s320x320_tt6&_nc_ht=scontent-atl3-2.cdninstagram.com&_nc_cat=104&_nc_oc=Q6cZ2QEEDBrLCZ60x8vNQFjuQhe99C-QLYJe_JM1Gv6FXbqEDZ4ZsyNFLyHNDBJ7nBnc9Bk&_nc_ohc=jROGziLuCN4Q7kNvwFdWbBw&_nc_gid=d4yG93SYGqHGCGZmq4cziA&edm=AOQ1c0wBAAAA&ccb=7-5&oh=00_AfSgNHyQItsMnAVy85OqL3IQg9RVXjLyeYa469qrnrN1XA&oe=687824B8&_nc_sid=8b3546",
          "x": 2.830182464656299,
          "xanchor": "center",
          "xref": "x",
          "y": 1.1454870011146716,
          "yanchor": "middle",
          "yref": "y"
         },
         {
          "layer": "above",
          "opacity": 1,
          "sizex": 0.2,
          "sizey": 0.2,
          "sizing": "contain",
          "source": "https://instagram.fotp3-3.fna.fbcdn.net/v/t51.2885-19/363253975_6619119768146593_5646802960182479105_n.jpg?stp=dst-jpg_s320x320_tt6&_nc_ht=instagram.fotp3-3.fna.fbcdn.net&_nc_cat=101&_nc_oc=Q6cZ2QH1B5NNh7OWRk5l9QimF_4diHhV8T4YthQppUDLDlRtt2-lFg80e5NGbN7eQpw_zbY&_nc_ohc=Wv-Y10JqkBAQ7kNvwF-BQ8G&_nc_gid=bJvGeUsQONi7NTXkwI0wJQ&edm=AOQ1c0wBAAAA&ccb=7-5&oh=00_AfQmHK9ENvhSLfQcdM8hW4YrDGOPvuWghnwrsBYxbtOyDA&oe=6878CDC3&_nc_sid=8b3546",
          "x": -0.5111317550117129,
          "xanchor": "center",
          "xref": "x",
          "y": -2.7594841654338054,
          "yanchor": "middle",
          "yref": "y"
         },
         {
          "layer": "above",
          "opacity": 1,
          "sizex": 0.2,
          "sizey": 0.2,
          "sizing": "contain",
          "source": "https://instagram.fopo5-2.fna.fbcdn.net/v/t51.2885-19/475426007_1317179155957530_3118214485553151023_n.jpg?stp=dst-jpg_s320x320_tt6&_nc_ht=instagram.fopo5-2.fna.fbcdn.net&_nc_cat=106&_nc_oc=Q6cZ2QH4cXT1-rMTyRwBWp9rzql2O5P96_fXrqyeRRu-LrRTIklwdh2SKtdrjoKRj4AUdlBblkGc0ygwIFYRJU8Ubjb_&_nc_ohc=1W_uxagQwwQQ7kNvwG847YU&_nc_gid=8JivehQRcAzcYCuXTgPQtA&edm=AOQ1c0wBAAAA&ccb=7-5&oh=00_AfRUqLiVlG0RRVRH0zs6FOx2lTRyjmNTEhSEDnpI_T1ovg&oe=6878D210&_nc_sid=8b3546",
          "x": -2.6154886672349122,
          "xanchor": "center",
          "xref": "x",
          "y": -1.320561782309521,
          "yanchor": "middle",
          "yref": "y"
         },
         {
          "layer": "above",
          "opacity": 1,
          "sizex": 0.2,
          "sizey": 0.2,
          "sizing": "contain",
          "source": "https://scontent-fra5-1.cdninstagram.com/v/t51.2885-19/462457807_486745194362808_8481253117300315423_n.jpg?stp=dst-jpg_s320x320_tt6&_nc_ht=scontent-fra5-1.cdninstagram.com&_nc_cat=100&_nc_oc=Q6cZ2QGu_Ci5cU7dk_SUD9NeU8OsD80zdQV43tduBjmNrgUZaxf_W8XsUNO_0ave1Gz7pw0&_nc_ohc=lygc-NbVTuEQ7kNvwEoCqhQ&_nc_gid=RScFSPo_zyoGytfAgXfF8w&edm=AOQ1c0wBAAAA&ccb=7-5&oh=00_AfS70PJguAr7fc1NGuEvITrKZS9Xxh7i8E6EO3vQQMRqPw&oe=68782F5B&_nc_sid=8b3546",
          "x": 1.3918148891792217,
          "xanchor": "center",
          "xref": "x",
          "y": -2.3738971985045914,
          "yanchor": "middle",
          "yref": "y"
         },
         {
          "layer": "above",
          "opacity": 1,
          "sizex": 0.2,
          "sizey": 0.2,
          "sizing": "contain",
          "source": "https://instagram.ftas1-1.fna.fbcdn.net/v/t51.2885-19/308240276_1540680319723053_7521508107279027616_n.jpg?stp=dst-jpg_s150x150_tt6&_nc_ht=instagram.ftas1-1.fna.fbcdn.net&_nc_cat=109&_nc_oc=Q6cZ2QFPZm4o4NK27NaT6xFTDy3s0-bWayXR-bobCXnq0PE57hnNjVzbxL6yE4695_CqRBo&_nc_ohc=GmTqTZtfm98Q7kNvwGt3aGp&_nc_gid=_0JtW113F91ufsxS-n1Efg&edm=AOQ1c0wBAAAA&ccb=7-5&oh=00_AfQwYDe7nYk8whk7aBEsv5iTlFxDkscB81csAnWDUVy5yw&oe=68783B52&_nc_sid=8b3546",
          "x": -3.4278970130871187,
          "xanchor": "center",
          "xref": "x",
          "y": -0.09029603620922577,
          "yanchor": "middle",
          "yref": "y"
         },
         {
          "layer": "above",
          "opacity": 1,
          "sizex": 0.2,
          "sizey": 0.2,
          "sizing": "contain",
          "source": "https://instagram.fpra1-1.fna.fbcdn.net/v/t51.2885-19/437121532_338324862157208_8173258097577696638_n.jpg?stp=dst-jpg_s320x320_tt6&_nc_ht=instagram.fpra1-1.fna.fbcdn.net&_nc_cat=108&_nc_oc=Q6cZ2QHC_vGee8AvVHiwH25Kbn-2YXd_k_49r3kEweuyg9vqeEboLdmW5CqoxYf6GISKv2M&_nc_ohc=WwnrdFJmv5kQ7kNvwGvJuHt&_nc_gid=Zk5paKbOfUmFW4HEE15IWA&edm=AOQ1c0wBAAAA&ccb=7-5&oh=00_AfR7jTkb3Y7Mfr5noXKaBIPJluSAKOe0IV0Ah9_UdHnpwA&oe=6878CBDA&_nc_sid=8b3546",
          "x": -2.228363287198504,
          "xanchor": "center",
          "xref": "x",
          "y": -1.8533941563471663,
          "yanchor": "middle",
          "yref": "y"
         },
         {
          "layer": "above",
          "opacity": 1,
          "sizex": 0.2,
          "sizey": 0.2,
          "sizing": "contain",
          "source": "https://scontent-waw2-2.cdninstagram.com/v/t51.2885-19/457865331_1278442646498347_5518288326486967135_n.jpg?stp=dst-jpg_s320x320_tt6&_nc_ht=scontent-waw2-2.cdninstagram.com&_nc_cat=107&_nc_oc=Q6cZ2QEg-xubPsQNwH2eUaharLOounNWG4EL8AcmzLVm-viqx6p4Xf5v2_oN7gGsdQQGl_U&_nc_ohc=2yV2JpE5kxIQ7kNvwFlCavs&_nc_gid=0d2U0AWmw7utBpjWLDJqxg&edm=AOQ1c0wBAAAA&ccb=7-5&oh=00_AfSYLndU7uGf7_r5aZQJ9mmMxpS5xDP-TwP_21_1rWGKuQ&oe=6878403C&_nc_sid=8b3546",
          "x": -2.43716020597207,
          "xanchor": "center",
          "xref": "x",
          "y": 1.7980462844004783,
          "yanchor": "middle",
          "yref": "y"
         },
         {
          "layer": "above",
          "opacity": 1,
          "sizex": 0.2,
          "sizey": 0.2,
          "sizing": "contain",
          "source": "https://instagram.fman4-2.fna.fbcdn.net/v/t51.2885-19/67726776_411479573043046_2598863923167887360_n.jpg?stp=dst-jpg_s320x320_tt6&_nc_ht=instagram.fman4-2.fna.fbcdn.net&_nc_cat=110&_nc_oc=Q6cZ2QFS9movcUCRThVRFSwoQ86ud5jaGTAkj-e_6qxSOTzj1-t022o5F_pv1Mc4leEja0s&_nc_ohc=FA2yfT0QiBoQ7kNvwFuEk8f&_nc_gid=3nDJhmapOOT2ay3G0Nh1pg&edm=AOQ1c0wBAAAA&ccb=7-5&oh=00_AfTj3twqo2jvwxbTa7pQYCXWmyTyL6Ewr1ILhifE4Nw49g&oe=68782214&_nc_sid=8b3546",
          "x": -1.9918198980641566,
          "xanchor": "center",
          "xref": "x",
          "y": 2.283276548134524,
          "yanchor": "middle",
          "yref": "y"
         },
         {
          "layer": "above",
          "opacity": 1,
          "sizex": 0.2,
          "sizey": 0.2,
          "sizing": "contain",
          "source": "https://scontent-iev1-1.cdninstagram.com/v/t51.2885-19/505770834_18316400674236316_7304201144150012293_n.jpg?stp=dst-jpg_s320x320_tt6&_nc_ht=scontent-iev1-1.cdninstagram.com&_nc_cat=104&_nc_oc=Q6cZ2QEDrx4mFKQw7VTtci6GJDva0fWMOuDnv0-TcLq-XgEm4XGKhxgSRKsRcWBINCpuzi4&_nc_ohc=mYyTr4LasEYQ7kNvwFFg7I0&_nc_gid=PYKktX5XYG7JpxCeHovVrg&edm=AOQ1c0wBAAAA&ccb=7-5&oh=00_AfTWl8FVciSpXqWm_KbdrTRCyBAB6bj41a6IP3pP4ROlpg&oe=6878AC04&_nc_sid=8b3546",
          "x": -1.448150044874169,
          "xanchor": "center",
          "xref": "x",
          "y": -2.4550284673270184,
          "yanchor": "middle",
          "yref": "y"
         },
         {
          "layer": "above",
          "opacity": 1,
          "sizex": 0.2,
          "sizey": 0.2,
          "sizing": "contain",
          "source": "https://instagram.fgla3-1.fna.fbcdn.net/v/t51.2885-19/18579987_420396348335534_9045073337214042112_a.jpg?stp=dst-jpg_s320x320_tt6&_nc_ht=instagram.fgla3-1.fna.fbcdn.net&_nc_cat=102&_nc_oc=Q6cZ2QECVzfxGtpinsPDxdM1mMQyEX8Oz2VODiaFQ1jGIpgjT62Kc49OdmMfVfTYUU1TBXE&_nc_ohc=kH4Ljo6XRIoQ7kNvwGYCsUR&_nc_gid=sDuYm4d9oXOYz5m9C1mQXg&edm=AOQ1c0wBAAAA&ccb=7-5&oh=00_AfQgnA-RwpqefptrUfzqdtuFTNoUpgyDWulRbFszNfr4_g&oe=68783E27&_nc_sid=8b3546",
          "x": 0.8613862047220581,
          "xanchor": "center",
          "xref": "x",
          "y": -2.858842495140478,
          "yanchor": "middle",
          "yref": "y"
         },
         {
          "layer": "above",
          "opacity": 1,
          "sizex": 0.2,
          "sizey": 0.2,
          "sizing": "contain",
          "source": "https://instagram.fuio19-1.fna.fbcdn.net/v/t51.2885-19/46199556_1947872448840441_2090600035979886592_n.jpg?stp=dst-jpg_s150x150_tt6&_nc_ht=instagram.fuio19-1.fna.fbcdn.net&_nc_cat=109&_nc_oc=Q6cZ2QHMKilZQoPqCvxKrdELTARTS74HSHqrYswCaC5MQ9x8obtekD9v62O2Py-1pCuU7F0&_nc_ohc=nlIJi3006w4Q7kNvwFetCtc&_nc_gid=vZbL4Bqm5joHNUtRB2m-RA&edm=AOQ1c0wBAAAA&ccb=7-5&oh=00_AfQ6BvTD-KYZerWpZsxxePP0VO6gagBxvLArZW2yn4opRQ&oe=6878366D&_nc_sid=8b3546",
          "x": 1.0915427998744731,
          "xanchor": "center",
          "xref": "x",
          "y": 5.9804953665543605,
          "yanchor": "middle",
          "yref": "y"
         },
         {
          "layer": "above",
          "opacity": 1,
          "sizex": 0.2,
          "sizey": 0.2,
          "sizing": "contain",
          "source": "https://instagram.fphl1-1.fna.fbcdn.net/v/t51.2885-19/483282913_505497515943517_41578853155498644_n.jpg?stp=dst-jpg_s320x320_tt6&_nc_ht=instagram.fphl1-1.fna.fbcdn.net&_nc_cat=101&_nc_oc=Q6cZ2QFnueeboiz4HdvTQ5ADm5pbBQt0sZv6YEagkHHS0ZMFmgKm_cEOdnKJ2-QB7Uv8iA4&_nc_ohc=pzlB2D4Ouk8Q7kNvwER_u-q&_nc_gid=Fah9ymLqgnRPa-7D1H4mNg&edm=AOQ1c0wBAAAA&ccb=7-5&oh=00_AfTc8-Tenq2KUggJyweCqkSQkEMc9VC1cFPa9JCYUc8OOg&oe=6878315C&_nc_sid=8b3546",
          "x": 2.7041784427706035,
          "xanchor": "center",
          "xref": "x",
          "y": 1.902136058185325,
          "yanchor": "middle",
          "yref": "y"
         },
         {
          "layer": "above",
          "opacity": 1,
          "sizex": 0.2,
          "sizey": 0.2,
          "sizing": "contain",
          "source": "https://instagram.fbaq5-1.fna.fbcdn.net/v/t51.2885-19/367517293_310894664687057_4592765131391982631_n.jpg?stp=dst-jpg_s320x320_tt6&_nc_ht=instagram.fbaq5-1.fna.fbcdn.net&_nc_cat=105&_nc_oc=Q6cZ2QEu2UegdhV4Wblcu_N9qLl0DKwFOUKYi-TRQowhsRV-ixn-OZyAPOKxZsCW77w7XnA&_nc_ohc=_JzO85mgqe4Q7kNvwGLEf73&_nc_gid=pIXLmOFaiIquBQ4eyLM31A&edm=AOQ1c0wBAAAA&ccb=7-5&oh=00_AfQtTfXNllQKhrpZGsDiPK1wCeE3bIwc3fk6jzxgZ3a9gw&oe=68783F90&_nc_sid=8b3546",
          "x": -2.7610238867762344,
          "xanchor": "center",
          "xref": "x",
          "y": -1.0245580849169071,
          "yanchor": "middle",
          "yref": "y"
         },
         {
          "layer": "above",
          "opacity": 1,
          "sizex": 0.2,
          "sizey": 0.2,
          "sizing": "contain",
          "source": "https://instagram.fblq4-1.fna.fbcdn.net/v/t51.2885-19/462706913_759686799620424_7302770293515657158_n.jpg?stp=dst-jpg_s320x320_tt6&_nc_ht=instagram.fblq4-1.fna.fbcdn.net&_nc_cat=100&_nc_oc=Q6cZ2QGX14hg39iVAe4wlCRLxssCuEciPLId8thaEcRN1hzOOn59cyKuiEqB6OrEVVD1kEA&_nc_ohc=44aV1DntS8oQ7kNvwEFDdiJ&_nc_gid=TivWcHlQR87fAwK30i4z5g&edm=AOQ1c0wBAAAA&ccb=7-5&oh=00_AfSZ4g2OcraQH1RVUAz3q_rrGm9g9PWaTqSLol0g7d_JzQ&oe=687816B6&_nc_sid=8b3546",
          "x": 2.990832065528823,
          "xanchor": "center",
          "xref": "x",
          "y": 0.4546399418816819,
          "yanchor": "middle",
          "yref": "y"
         },
         {
          "layer": "above",
          "opacity": 1,
          "sizex": 0.2,
          "sizey": 0.2,
          "sizing": "contain",
          "source": "https://scontent-lax3-2.cdninstagram.com/v/t51.2885-19/473784652_1619111418699630_873671586367300053_n.jpg?stp=dst-jpg_s320x320_tt6&_nc_ht=scontent-lax3-2.cdninstagram.com&_nc_cat=106&_nc_oc=Q6cZ2QH5BKNdLAQBoC1o40Aw712UApWbE8z_qni4GbB5lFgcvVYeQtqsHmYQqXbpYKklB60&_nc_ohc=CeMYsR7zEzMQ7kNvwFeW5TI&_nc_gid=JzdB1Gd1sA4IX2r7vXmfsA&edm=AOQ1c0wBAAAA&ccb=7-5&oh=00_AfTsTi5yvB-U25APWlW23NPP22iogC0h4AFZM_8tPuVW8Q&oe=68784056&_nc_sid=8b3546",
          "x": 1.664093874502377,
          "xanchor": "center",
          "xref": "x",
          "y": 2.387717599331017,
          "yanchor": "middle",
          "yref": "y"
         },
         {
          "layer": "above",
          "opacity": 1,
          "sizex": 0.2,
          "sizey": 0.2,
          "sizing": "contain",
          "source": "https://instagram.ftlv19-3.fna.fbcdn.net/v/t51.2885-19/120176362_407828923543471_4159314002499423393_n.jpg?stp=dst-jpg_s320x320_tt6&_nc_ht=instagram.ftlv19-3.fna.fbcdn.net&_nc_cat=107&_nc_oc=Q6cZ2QHJKMy7C7vAYcBrXuSQMstgRBvFMMj7dV6kaWu7BKX7n6w7GBxfW1DGrpy1X38j5r4&_nc_ohc=w7aNGJMJZXEQ7kNvwFxRG1v&_nc_gid=TtvGr-DSg9Ehgbzto4ii2w&edm=AOQ1c0wBAAAA&ccb=7-5&oh=00_AfQG9SJlmyIXk2yBuSFvZ_nFrkXgAjkg2twru0DvKhMzNQ&oe=68782D3B&_nc_sid=8b3546",
          "x": 1.9133751983375147,
          "xanchor": "center",
          "xref": "x",
          "y": 2.1717141026370057,
          "yanchor": "middle",
          "yref": "y"
         },
         {
          "layer": "above",
          "opacity": 1,
          "sizex": 0.2,
          "sizey": 0.2,
          "sizing": "contain",
          "source": "https://scontent-nrt1-1.cdninstagram.com/v/t51.2885-19/274298720_488080816240967_3241625210585372063_n.jpg?stp=dst-jpg_s320x320_tt6&_nc_ht=scontent-nrt1-1.cdninstagram.com&_nc_cat=111&_nc_oc=Q6cZ2QHT_K_sK1gVvqVqe5gQpzrODUkyxHgXf6gHl13gfY6ShqBfYb9XotoCYvzmsHT91_JaYSRoGOSYHIh7c5MVY63R&_nc_ohc=eadjdZ_aSlUQ7kNvwGHDdZK&_nc_gid=PE1cueAVyPnalzH8HxOr8A&edm=AOQ1c0wBAAAA&ccb=7-5&oh=00_AfSrQIJzF_159OEz_dCU02zwJAzYgwxlrzPgzgsLHF8kGw&oe=68780D5C&_nc_sid=8b3546",
          "x": 3.653153222427856,
          "xanchor": "center",
          "xref": "x",
          "y": -0.3306342151420457,
          "yanchor": "middle",
          "yref": "y"
         },
         {
          "layer": "above",
          "opacity": 1,
          "sizex": 0.2,
          "sizey": 0.2,
          "sizing": "contain",
          "source": "https://instagram.fath5-1.fna.fbcdn.net/v/t51.2885-19/19623659_314484512345680_8977019095077617664_a.jpg?stp=dst-jpg_s320x320_tt6&_nc_ht=instagram.fath5-1.fna.fbcdn.net&_nc_cat=104&_nc_oc=Q6cZ2QHKeZLq8vQrQxKVNGUfvlAy9zmDhW9DA6Yg0p02PF0gF4sUckabWWKH128-w-GwqKc&_nc_ohc=13vlmCdFzwIQ7kNvwGMk1KG&_nc_gid=TiHZGsONBumr-ZfU4KK1bQ&edm=AOQ1c0wBAAAA&ccb=7-5&oh=00_AfQcUHm2luH0RPzzD9htZriR_JDl8ojeyLQvty-Ozsz7kA&oe=6878DA74&_nc_sid=8b3546",
          "x": -3.2060372122146443,
          "xanchor": "center",
          "xref": "x",
          "y": 0.2776096337952796,
          "yanchor": "middle",
          "yref": "y"
         },
         {
          "layer": "above",
          "opacity": 1,
          "sizex": 0.2,
          "sizey": 0.2,
          "sizing": "contain",
          "source": "https://instagram.fbog23-1.fna.fbcdn.net/v/t51.2885-19/379427905_862349875553110_8048486420791923661_n.jpg?stp=dst-jpg_s320x320_tt6&_nc_ht=instagram.fbog23-1.fna.fbcdn.net&_nc_cat=110&_nc_oc=Q6cZ2QFLDD4iGfnwXwIctgdCTEqhuaPU4v0pdDRt7bFo0FC_aE53H3PUDOiCKh27kkgq8qE&_nc_ohc=DMOddRcim90Q7kNvwGHh3Jv&_nc_gid=zJ6_NLkJ0lQ27PkHKwt2cA&edm=AOQ1c0wBAAAA&ccb=7-5&oh=00_AfTbgf02zbwQUgBuRAd9MDa4MU3l1HHcB07XsCr0ZnZGOg&oe=68780CDF&_nc_sid=8b3546",
          "x": -3.165545267081712,
          "xanchor": "center",
          "xref": "x",
          "y": -0.4305134881903836,
          "yanchor": "middle",
          "yref": "y"
         },
         {
          "layer": "above",
          "opacity": 1,
          "sizex": 0.2,
          "sizey": 0.2,
          "sizing": "contain",
          "source": "https://instagram.fsof8-1.fna.fbcdn.net/v/t51.2885-19/62444540_2336384619911015_190403485143924736_n.jpg?stp=dst-jpg_s320x320_tt6&_nc_ht=instagram.fsof8-1.fna.fbcdn.net&_nc_cat=111&_nc_oc=Q6cZ2QE30PnkyulAdQl59d0YBySJto-6nhN564sPz7vDCMpuVCXNjTSN4Y2s_gbr-sV-Qmg&_nc_ohc=ylRNlVepAXIQ7kNvwEcjvJQ&_nc_gid=YdgRLJLUWvLvdQs_Zt_B_w&edm=AOQ1c0wBAAAA&ccb=7-5&oh=00_AfSmQWwVQM-C3WY6LU8kos41Pjj_47vX76Ka5YOlPJPS6A&oe=6878B44B&_nc_sid=8b3546",
          "x": 2.891328095637861,
          "xanchor": "center",
          "xref": "x",
          "y": -1.3707370041440712,
          "yanchor": "middle",
          "yref": "y"
         },
         {
          "layer": "above",
          "opacity": 1,
          "sizex": 0.2,
          "sizey": 0.2,
          "sizing": "contain",
          "source": "https://instagram.ffjr8-1.fna.fbcdn.net/v/t51.2885-19/448892707_1181582709635331_4025896843650017872_n.jpg?stp=dst-jpg_s320x320_tt6&_nc_ht=instagram.ffjr8-1.fna.fbcdn.net&_nc_cat=103&_nc_oc=Q6cZ2QG-txB6ntJTnvdi32zm5Nz-ILld_56ihEkv1Dxn3OEBAm9I4x70FXqI3cX6_ayuhcU&_nc_ohc=7xKRv8ERcSwQ7kNvwEDHOB3&_nc_gid=iDM1IhejPeHnrCuuk-bLXw&edm=AOQ1c0wBAAAA&ccb=7-5&oh=00_AfQKPeCAM62j9_egl_vn7cQhFryT2OzjE0ydH0MopsW2mg&oe=6878437C&_nc_sid=8b3546",
          "x": -1.9814773962225638,
          "xanchor": "center",
          "xref": "x",
          "y": -2.651572989875913,
          "yanchor": "middle",
          "yref": "y"
         },
         {
          "layer": "above",
          "opacity": 1,
          "sizex": 0.2,
          "sizey": 0.2,
          "sizing": "contain",
          "source": "https://instagram.fvix1-1.fna.fbcdn.net/v/t51.2885-19/484337170_673919561966625_4572500785894867472_n.jpg?stp=dst-jpg_s320x320_tt6&_nc_ht=instagram.fvix1-1.fna.fbcdn.net&_nc_cat=109&_nc_oc=Q6cZ2QESPYSsyrPetEOB7wDHHtt7ismIpbpVwcjWiOvo5cThzBw4KOnqpU8dXdRhdJb9Oeg&_nc_ohc=J3SznsR1mXwQ7kNvwFbPJy0&_nc_gid=tnf4YUeN9vPwSzGw1HKhoQ&edm=AOQ1c0wBAAAA&ccb=7-5&oh=00_AfTimgizUKQKCZWy7C6Topwp-RSVOZYlRC1dS0t8H3zNag&oe=6878312F&_nc_sid=8b3546",
          "x": -0.18249525784845683,
          "xanchor": "center",
          "xref": "x",
          "y": -2.7877107792814355,
          "yanchor": "middle",
          "yref": "y"
         },
         {
          "layer": "above",
          "opacity": 1,
          "sizex": 0.2,
          "sizey": 0.2,
          "sizing": "contain",
          "source": "https://instagram.fath4-2.fna.fbcdn.net/v/t51.2885-19/332305804_878699873462771_6463316679201899612_n.jpg?stp=dst-jpg_s320x320_tt6&_nc_ht=instagram.fath4-2.fna.fbcdn.net&_nc_cat=111&_nc_oc=Q6cZ2QFsRQmLH5aZFhLflwEJkz7cnwsiqIk-zenKZHLIohkGQNpsf9jBvrNSeaPdqUzr-KU&_nc_ohc=fyV2vKUD2zsQ7kNvwGaWNuB&_nc_gid=g__gHqAcvjeIwOFbgkNSyw&edm=AOQ1c0wBAAAA&ccb=7-5&oh=00_AfSePdTFWreQyrhZ0otasJwOWQxCeJvp2vFZGXHJmF2S-Q&oe=6878CD90&_nc_sid=8b3546",
          "x": -2.9465777480044464,
          "xanchor": "center",
          "xref": "x",
          "y": 0.5926196676053581,
          "yanchor": "middle",
          "yref": "y"
         },
         {
          "layer": "above",
          "opacity": 1,
          "sizex": 0.2,
          "sizey": 0.2,
          "sizing": "contain",
          "source": "https://scontent-mad1-1.cdninstagram.com/v/t51.2885-19/79227234_2521158354871215_6350065604757553152_n.jpg?stp=dst-jpg_s320x320_tt6&_nc_ht=scontent-mad1-1.cdninstagram.com&_nc_cat=103&_nc_oc=Q6cZ2QGktmg-NCzz3zr13YuzM2vQTGDR3dFN236gpG-9mofLlocGsG9EgASHUT35pHmbyr4&_nc_ohc=OloK1ZXKKJ0Q7kNvwF2b2Ob&_nc_gid=RK6ezpVCfcXWSoN3KY8LVQ&edm=AOQ1c0wBAAAA&ccb=7-5&oh=00_AfQ7hmL42_pywUYqtLXwp5ZPHPuw5cDEa1M-K09AybC4Hw&oe=6878350F&_nc_sid=8b3546",
          "x": -0.8909014841575171,
          "xanchor": "center",
          "xref": "x",
          "y": -2.9089013257394214,
          "yanchor": "middle",
          "yref": "y"
         },
         {
          "layer": "above",
          "opacity": 1,
          "sizex": 0.2,
          "sizey": 0.2,
          "sizing": "contain",
          "source": "https://instagram.fyhz1-1.fna.fbcdn.net/v/t51.2885-19/26067851_1584319084977234_3030089183830999040_n.jpg?stp=dst-jpg_s320x320_tt6&_nc_ht=instagram.fyhz1-1.fna.fbcdn.net&_nc_cat=106&_nc_oc=Q6cZ2QHg31KXZ2Tm1JqXRtPHU6fxujKYYpgauquLigTgjyMuxjwq-xugzh1VnFtIrXA180E&_nc_ohc=6IeF4V56c70Q7kNvwGpBNWW&_nc_gid=xzT9I70pGVCXomjByZdo1w&edm=AOQ1c0wBAAAA&ccb=7-5&oh=00_AfRyzcquxZFilLUxyS1Wsw-BwXqumbmodG1qNCxY_xogzg&oe=6878AAC5&_nc_sid=8b3546",
          "x": 2.492484349552813,
          "xanchor": "center",
          "xref": "x",
          "y": 1.3746387369248616,
          "yanchor": "middle",
          "yref": "y"
         },
         {
          "layer": "above",
          "opacity": 1,
          "sizex": 0.2,
          "sizey": 0.2,
          "sizing": "contain",
          "source": "https://instagram.fomr1-1.fna.fbcdn.net/v/t51.2885-19/334686653_538037298398549_5675398829984005708_n.jpg?stp=dst-jpg_s320x320_tt6&_nc_ht=instagram.fomr1-1.fna.fbcdn.net&_nc_cat=105&_nc_oc=Q6cZ2QHij8IXWNIhFRZxHaAuLC9PDsNmACZol9MSaSa5TddYL-s7miphjuEhOtf9A2Q07ng&_nc_ohc=VUlaAtUw4wYQ7kNvwEo-FiV&_nc_gid=UGVg9hJDyFMVNloR55cuiA&edm=AOQ1c0wBAAAA&ccb=7-5&oh=00_AfR8MCdENt1yACpXlx5bFUrD-XrJDOzCSCOlnC4eqOtR3w&oe=6878D1EE&_nc_sid=8b3546",
          "x": 2.6208837171808486,
          "xanchor": "center",
          "xref": "x",
          "y": -0.8708093581779103,
          "yanchor": "middle",
          "yref": "y"
         },
         {
          "layer": "above",
          "opacity": 1,
          "sizex": 0.2,
          "sizey": 0.2,
          "sizing": "contain",
          "source": "https://scontent-man2-1.cdninstagram.com/v/t51.2885-19/464765103_1071754574440965_4502762650233274455_n.jpg?stp=dst-jpg_s320x320_tt6&_nc_ht=scontent-man2-1.cdninstagram.com&_nc_cat=109&_nc_oc=Q6cZ2QHu5dCYfGrlvrmGxyeM0ZEdq0GuG6-8TXwhxWMLZKfXzISWtKuC_3NojH15HNhUIHE&_nc_ohc=K4jVuzhRMdoQ7kNvwExya7H&_nc_gid=NIcpy7nvG48sJ_5vBPpQSA&edm=AOQ1c0wBAAAA&ccb=7-5&oh=00_AfQG-6cK5ph9KjvFuMDAgIf18pf7923lUZCtgHDFjOXbOA&oe=687832ED&_nc_sid=8b3546",
          "x": 1.100087815338783,
          "xanchor": "center",
          "xref": "x",
          "y": 2.7278257643574975,
          "yanchor": "middle",
          "yref": "y"
         },
         {
          "layer": "above",
          "opacity": 1,
          "sizex": 0.2,
          "sizey": 0.2,
          "sizing": "contain",
          "source": "https://instagram.fiev20-1.fna.fbcdn.net/v/t51.2885-19/385790718_682955653496777_5996312207544608715_n.jpg?stp=dst-jpg_s320x320_tt6&_nc_ht=instagram.fiev20-1.fna.fbcdn.net&_nc_cat=105&_nc_oc=Q6cZ2QEAsWkHmjPuzBg2qaDIm9xlTTzW4bUsDrjNp-oZHn94R4tEIXKV_L9u5-JDiU3eKjY&_nc_ohc=UcUVDasbzOEQ7kNvwF620x4&_nc_gid=eovHGeRY0CazWmwYjVIhBg&edm=AOQ1c0wBAAAA&ccb=7-5&oh=00_AfRm5bgMCy6NnMTz6Gc17AqwjHXew2k5o-iflPmrHm_95g&oe=6878B288&_nc_sid=8b3546",
          "x": 1.6640938745023748,
          "xanchor": "center",
          "xref": "x",
          "y": -2.1877175993310183,
          "yanchor": "middle",
          "yref": "y"
         },
         {
          "layer": "above",
          "opacity": 1,
          "sizex": 0.2,
          "sizey": 0.2,
          "sizing": "contain",
          "source": "https://instagram.fscl20-1.fna.fbcdn.net/v/t51.2885-19/408047933_287482647583849_7905675528445542611_n.jpg?stp=dst-jpg_s320x320_tt6&_nc_ht=instagram.fscl20-1.fna.fbcdn.net&_nc_cat=101&_nc_oc=Q6cZ2QH6FBfih9xWE3PyAlm4lnig4g6fu_0iCF0pJx-8f_k5aNBfxC9ooMhI1_WLs12CcHQ&_nc_ohc=atgU4qy7HmYQ7kNvwFAGuls&_nc_gid=Ebhk_URHNbZCtv5OwFd0Ow&edm=AOQ1c0wBAAAA&ccb=7-5&oh=00_AfQubXE01lzM8UEcqNxIaf6l3seqq-PtnWEgGr8l_zZrKA&oe=6878294E&_nc_sid=8b3546",
          "x": -2.437160205972071,
          "xanchor": "center",
          "xref": "x",
          "y": -1.5980462844004775,
          "yanchor": "middle",
          "yref": "y"
         },
         {
          "layer": "above",
          "opacity": 1,
          "sizex": 0.2,
          "sizey": 0.2,
          "sizing": "contain",
          "source": "https://scontent-bos5-1.cdninstagram.com/v/t51.2885-19/451780044_455309383935826_495973382649017308_n.jpg?stp=dst-jpg_s320x320_tt6&_nc_ht=scontent-bos5-1.cdninstagram.com&_nc_cat=110&_nc_oc=Q6cZ2QF_sf6Ueyqct-FFFigG6q6zmyOT0XSndrJIxOK0CV6A4zKMDd7hvN_vURmUiCt_vuU&_nc_ohc=FHmez3oGABgQ7kNvwHQz6K9&_nc_gid=ekHkroJPrf30akaYTNTT7w&edm=AOQ1c0wBAAAA&ccb=7-5&oh=00_AfTzKf0-ER0dqVIf1-WRPeq2ifODF4RpvWkj436qBgyLhA&oe=687841E4&_nc_sid=8b3546",
          "x": -2.6154886672349114,
          "xanchor": "center",
          "xref": "x",
          "y": 1.520561782309523,
          "yanchor": "middle",
          "yref": "y"
         },
         {
          "layer": "above",
          "opacity": 1,
          "sizex": 0.2,
          "sizey": 0.2,
          "sizing": "contain",
          "source": "https://scontent-icn2-1.cdninstagram.com/v/t51.2885-19/73387330_594084681354479_14083940792926208_n.jpg?stp=dst-jpg_s320x320_tt6&_nc_ht=scontent-icn2-1.cdninstagram.com&_nc_cat=111&_nc_oc=Q6cZ2QEAHWdUvNpEs8PHXbwuHBe6A0bAExtMc15696W0dpOUnyHoRg2lQBPWjLK4Dlu1IJc&_nc_ohc=2vaP4WnV8FEQ7kNvwG2LhNY&_nc_gid=oXfPlhIYJg8ZEqGqjJUscw&edm=AOQ1c0wBAAAA&ccb=7-5&oh=00_AfTFjbCkKHeHKTXWthSsWPiJjMuQP3tT_HL0_w6q2mHQCQ&oe=6878230D&_nc_sid=8b3546",
          "x": 2.3084405664327,
          "xanchor": "center",
          "xref": "x",
          "y": -1.869372078516487,
          "yanchor": "middle",
          "yref": "y"
         },
         {
          "layer": "above",
          "opacity": 1,
          "sizex": 0.2,
          "sizey": 0.2,
          "sizing": "contain",
          "source": "https://scontent-waw2-1.cdninstagram.com/v/t51.2885-19/427662956_700795422228371_4026996892891454954_n.jpg?stp=dst-jpg_s320x320_tt6&_nc_ht=scontent-waw2-1.cdninstagram.com&_nc_cat=111&_nc_oc=Q6cZ2QHa2TtNW092HPxlCP_L-hyV1y9crfHYFtMeSJfUIwdxi5Z3FPktWs89lS5ILhRO_k0&_nc_ohc=3HQQiCqiZg0Q7kNvwETPMTe&_nc_gid=ol68uiZNmvGOj676m4871g&edm=AOQ1c0wBAAAA&ccb=7-5&oh=00_AfQdeHoLUO5wUanK7PUspTxrslGvKk7bs6T1pCpZusvnmQ&oe=68782D57&_nc_sid=8b3546",
          "x": 0.14721669116109284,
          "xanchor": "center",
          "xref": "x",
          "y": 2.9782916669366637,
          "yanchor": "middle",
          "yref": "y"
         },
         {
          "layer": "above",
          "opacity": 1,
          "sizex": 0.2,
          "sizey": 0.2,
          "sizing": "contain",
          "source": "https://scontent-fco2-1.cdninstagram.com/v/t51.2885-19/66807428_302643467173545_1354234936827052032_n.jpg?stp=dst-jpg_s320x320_tt6&_nc_ht=scontent-fco2-1.cdninstagram.com&_nc_cat=109&_nc_oc=Q6cZ2QGiqH-hXOpZIBjHmpxgjElcOFFN2MZjQkeq45Qj7-PG1VXgCje0rEN8WJu_05dqKYo&_nc_ohc=TcGx2mZgz1gQ7kNvwEZRjJp&_nc_gid=cMmrqnRXMjpH8HyJmmJnig&edm=AOQ1c0wBAAAA&ccb=7-5&oh=00_AfQocUEtqd2Jg5-2KDm5YBExFoITZ79G3L6Jux9FX9ImHA&oe=6878234C&_nc_sid=8b3546",
          "x": 2.713812204500074,
          "xanchor": "center",
          "xref": "x",
          "y": -0.5543239947855433,
          "yanchor": "middle",
          "yref": "y"
         },
         {
          "layer": "above",
          "opacity": 1,
          "sizex": 0.2,
          "sizey": 0.2,
          "sizing": "contain",
          "source": "https://instagram.fyhu2-1.fna.fbcdn.net/v/t51.2885-19/501584691_17843865972498360_152032200200505616_n.jpg?stp=dst-jpg_s320x320_tt6&_nc_ht=instagram.fyhu2-1.fna.fbcdn.net&_nc_cat=100&_nc_oc=Q6cZ2QGFM60WMpXTbwPLIYfSYSVWzHhxIuK89w-8yoOcl10YRU1dvk6DjKR-4u_Al_zJbOc&_nc_ohc=KQU0wXoHmVIQ7kNvwFY7GV9&_nc_gid=ZsNQI9fqchJuqSdVcwGPVQ&edm=AOQ1c0wBAAAA&ccb=7-5&oh=00_AfQvCmow7l7FSbtRHsrRG1eqg440kV7JzFiNGXL7xs_KxA&oe=6878238F&_nc_sid=8b3546",
          "x": 2.7138122045000745,
          "xanchor": "center",
          "xref": "x",
          "y": 0.7543239947855415,
          "yanchor": "middle",
          "yref": "y"
         }
        ],
        "margin": {
         "b": 20,
         "l": 5,
         "r": 5,
         "t": 40
        },
        "showlegend": false,
        "template": {
         "data": {
          "bar": [
           {
            "error_x": {
             "color": "#2a3f5f"
            },
            "error_y": {
             "color": "#2a3f5f"
            },
            "marker": {
             "line": {
              "color": "#E5ECF6",
              "width": 0.5
             },
             "pattern": {
              "fillmode": "overlay",
              "size": 10,
              "solidity": 0.2
             }
            },
            "type": "bar"
           }
          ],
          "barpolar": [
           {
            "marker": {
             "line": {
              "color": "#E5ECF6",
              "width": 0.5
             },
             "pattern": {
              "fillmode": "overlay",
              "size": 10,
              "solidity": 0.2
             }
            },
            "type": "barpolar"
           }
          ],
          "carpet": [
           {
            "aaxis": {
             "endlinecolor": "#2a3f5f",
             "gridcolor": "white",
             "linecolor": "white",
             "minorgridcolor": "white",
             "startlinecolor": "#2a3f5f"
            },
            "baxis": {
             "endlinecolor": "#2a3f5f",
             "gridcolor": "white",
             "linecolor": "white",
             "minorgridcolor": "white",
             "startlinecolor": "#2a3f5f"
            },
            "type": "carpet"
           }
          ],
          "choropleth": [
           {
            "colorbar": {
             "outlinewidth": 0,
             "ticks": ""
            },
            "type": "choropleth"
           }
          ],
          "contour": [
           {
            "colorbar": {
             "outlinewidth": 0,
             "ticks": ""
            },
            "colorscale": [
             [
              0,
              "#0d0887"
             ],
             [
              0.1111111111111111,
              "#46039f"
             ],
             [
              0.2222222222222222,
              "#7201a8"
             ],
             [
              0.3333333333333333,
              "#9c179e"
             ],
             [
              0.4444444444444444,
              "#bd3786"
             ],
             [
              0.5555555555555556,
              "#d8576b"
             ],
             [
              0.6666666666666666,
              "#ed7953"
             ],
             [
              0.7777777777777778,
              "#fb9f3a"
             ],
             [
              0.8888888888888888,
              "#fdca26"
             ],
             [
              1,
              "#f0f921"
             ]
            ],
            "type": "contour"
           }
          ],
          "contourcarpet": [
           {
            "colorbar": {
             "outlinewidth": 0,
             "ticks": ""
            },
            "type": "contourcarpet"
           }
          ],
          "heatmap": [
           {
            "colorbar": {
             "outlinewidth": 0,
             "ticks": ""
            },
            "colorscale": [
             [
              0,
              "#0d0887"
             ],
             [
              0.1111111111111111,
              "#46039f"
             ],
             [
              0.2222222222222222,
              "#7201a8"
             ],
             [
              0.3333333333333333,
              "#9c179e"
             ],
             [
              0.4444444444444444,
              "#bd3786"
             ],
             [
              0.5555555555555556,
              "#d8576b"
             ],
             [
              0.6666666666666666,
              "#ed7953"
             ],
             [
              0.7777777777777778,
              "#fb9f3a"
             ],
             [
              0.8888888888888888,
              "#fdca26"
             ],
             [
              1,
              "#f0f921"
             ]
            ],
            "type": "heatmap"
           }
          ],
          "histogram": [
           {
            "marker": {
             "pattern": {
              "fillmode": "overlay",
              "size": 10,
              "solidity": 0.2
             }
            },
            "type": "histogram"
           }
          ],
          "histogram2d": [
           {
            "colorbar": {
             "outlinewidth": 0,
             "ticks": ""
            },
            "colorscale": [
             [
              0,
              "#0d0887"
             ],
             [
              0.1111111111111111,
              "#46039f"
             ],
             [
              0.2222222222222222,
              "#7201a8"
             ],
             [
              0.3333333333333333,
              "#9c179e"
             ],
             [
              0.4444444444444444,
              "#bd3786"
             ],
             [
              0.5555555555555556,
              "#d8576b"
             ],
             [
              0.6666666666666666,
              "#ed7953"
             ],
             [
              0.7777777777777778,
              "#fb9f3a"
             ],
             [
              0.8888888888888888,
              "#fdca26"
             ],
             [
              1,
              "#f0f921"
             ]
            ],
            "type": "histogram2d"
           }
          ],
          "histogram2dcontour": [
           {
            "colorbar": {
             "outlinewidth": 0,
             "ticks": ""
            },
            "colorscale": [
             [
              0,
              "#0d0887"
             ],
             [
              0.1111111111111111,
              "#46039f"
             ],
             [
              0.2222222222222222,
              "#7201a8"
             ],
             [
              0.3333333333333333,
              "#9c179e"
             ],
             [
              0.4444444444444444,
              "#bd3786"
             ],
             [
              0.5555555555555556,
              "#d8576b"
             ],
             [
              0.6666666666666666,
              "#ed7953"
             ],
             [
              0.7777777777777778,
              "#fb9f3a"
             ],
             [
              0.8888888888888888,
              "#fdca26"
             ],
             [
              1,
              "#f0f921"
             ]
            ],
            "type": "histogram2dcontour"
           }
          ],
          "mesh3d": [
           {
            "colorbar": {
             "outlinewidth": 0,
             "ticks": ""
            },
            "type": "mesh3d"
           }
          ],
          "parcoords": [
           {
            "line": {
             "colorbar": {
              "outlinewidth": 0,
              "ticks": ""
             }
            },
            "type": "parcoords"
           }
          ],
          "pie": [
           {
            "automargin": true,
            "type": "pie"
           }
          ],
          "scatter": [
           {
            "fillpattern": {
             "fillmode": "overlay",
             "size": 10,
             "solidity": 0.2
            },
            "type": "scatter"
           }
          ],
          "scatter3d": [
           {
            "line": {
             "colorbar": {
              "outlinewidth": 0,
              "ticks": ""
             }
            },
            "marker": {
             "colorbar": {
              "outlinewidth": 0,
              "ticks": ""
             }
            },
            "type": "scatter3d"
           }
          ],
          "scattercarpet": [
           {
            "marker": {
             "colorbar": {
              "outlinewidth": 0,
              "ticks": ""
             }
            },
            "type": "scattercarpet"
           }
          ],
          "scattergeo": [
           {
            "marker": {
             "colorbar": {
              "outlinewidth": 0,
              "ticks": ""
             }
            },
            "type": "scattergeo"
           }
          ],
          "scattergl": [
           {
            "marker": {
             "colorbar": {
              "outlinewidth": 0,
              "ticks": ""
             }
            },
            "type": "scattergl"
           }
          ],
          "scattermap": [
           {
            "marker": {
             "colorbar": {
              "outlinewidth": 0,
              "ticks": ""
             }
            },
            "type": "scattermap"
           }
          ],
          "scattermapbox": [
           {
            "marker": {
             "colorbar": {
              "outlinewidth": 0,
              "ticks": ""
             }
            },
            "type": "scattermapbox"
           }
          ],
          "scatterpolar": [
           {
            "marker": {
             "colorbar": {
              "outlinewidth": 0,
              "ticks": ""
             }
            },
            "type": "scatterpolar"
           }
          ],
          "scatterpolargl": [
           {
            "marker": {
             "colorbar": {
              "outlinewidth": 0,
              "ticks": ""
             }
            },
            "type": "scatterpolargl"
           }
          ],
          "scatterternary": [
           {
            "marker": {
             "colorbar": {
              "outlinewidth": 0,
              "ticks": ""
             }
            },
            "type": "scatterternary"
           }
          ],
          "surface": [
           {
            "colorbar": {
             "outlinewidth": 0,
             "ticks": ""
            },
            "colorscale": [
             [
              0,
              "#0d0887"
             ],
             [
              0.1111111111111111,
              "#46039f"
             ],
             [
              0.2222222222222222,
              "#7201a8"
             ],
             [
              0.3333333333333333,
              "#9c179e"
             ],
             [
              0.4444444444444444,
              "#bd3786"
             ],
             [
              0.5555555555555556,
              "#d8576b"
             ],
             [
              0.6666666666666666,
              "#ed7953"
             ],
             [
              0.7777777777777778,
              "#fb9f3a"
             ],
             [
              0.8888888888888888,
              "#fdca26"
             ],
             [
              1,
              "#f0f921"
             ]
            ],
            "type": "surface"
           }
          ],
          "table": [
           {
            "cells": {
             "fill": {
              "color": "#EBF0F8"
             },
             "line": {
              "color": "white"
             }
            },
            "header": {
             "fill": {
              "color": "#C8D4E3"
             },
             "line": {
              "color": "white"
             }
            },
            "type": "table"
           }
          ]
         },
         "layout": {
          "annotationdefaults": {
           "arrowcolor": "#2a3f5f",
           "arrowhead": 0,
           "arrowwidth": 1
          },
          "autotypenumbers": "strict",
          "coloraxis": {
           "colorbar": {
            "outlinewidth": 0,
            "ticks": ""
           }
          },
          "colorscale": {
           "diverging": [
            [
             0,
             "#8e0152"
            ],
            [
             0.1,
             "#c51b7d"
            ],
            [
             0.2,
             "#de77ae"
            ],
            [
             0.3,
             "#f1b6da"
            ],
            [
             0.4,
             "#fde0ef"
            ],
            [
             0.5,
             "#f7f7f7"
            ],
            [
             0.6,
             "#e6f5d0"
            ],
            [
             0.7,
             "#b8e186"
            ],
            [
             0.8,
             "#7fbc41"
            ],
            [
             0.9,
             "#4d9221"
            ],
            [
             1,
             "#276419"
            ]
           ],
           "sequential": [
            [
             0,
             "#0d0887"
            ],
            [
             0.1111111111111111,
             "#46039f"
            ],
            [
             0.2222222222222222,
             "#7201a8"
            ],
            [
             0.3333333333333333,
             "#9c179e"
            ],
            [
             0.4444444444444444,
             "#bd3786"
            ],
            [
             0.5555555555555556,
             "#d8576b"
            ],
            [
             0.6666666666666666,
             "#ed7953"
            ],
            [
             0.7777777777777778,
             "#fb9f3a"
            ],
            [
             0.8888888888888888,
             "#fdca26"
            ],
            [
             1,
             "#f0f921"
            ]
           ],
           "sequentialminus": [
            [
             0,
             "#0d0887"
            ],
            [
             0.1111111111111111,
             "#46039f"
            ],
            [
             0.2222222222222222,
             "#7201a8"
            ],
            [
             0.3333333333333333,
             "#9c179e"
            ],
            [
             0.4444444444444444,
             "#bd3786"
            ],
            [
             0.5555555555555556,
             "#d8576b"
            ],
            [
             0.6666666666666666,
             "#ed7953"
            ],
            [
             0.7777777777777778,
             "#fb9f3a"
            ],
            [
             0.8888888888888888,
             "#fdca26"
            ],
            [
             1,
             "#f0f921"
            ]
           ]
          },
          "colorway": [
           "#636efa",
           "#EF553B",
           "#00cc96",
           "#ab63fa",
           "#FFA15A",
           "#19d3f3",
           "#FF6692",
           "#B6E880",
           "#FF97FF",
           "#FECB52"
          ],
          "font": {
           "color": "#2a3f5f"
          },
          "geo": {
           "bgcolor": "white",
           "lakecolor": "white",
           "landcolor": "#E5ECF6",
           "showlakes": true,
           "showland": true,
           "subunitcolor": "white"
          },
          "hoverlabel": {
           "align": "left"
          },
          "hovermode": "closest",
          "mapbox": {
           "style": "light"
          },
          "paper_bgcolor": "white",
          "plot_bgcolor": "#E5ECF6",
          "polar": {
           "angularaxis": {
            "gridcolor": "white",
            "linecolor": "white",
            "ticks": ""
           },
           "bgcolor": "#E5ECF6",
           "radialaxis": {
            "gridcolor": "white",
            "linecolor": "white",
            "ticks": ""
           }
          },
          "scene": {
           "xaxis": {
            "backgroundcolor": "#E5ECF6",
            "gridcolor": "white",
            "gridwidth": 2,
            "linecolor": "white",
            "showbackground": true,
            "ticks": "",
            "zerolinecolor": "white"
           },
           "yaxis": {
            "backgroundcolor": "#E5ECF6",
            "gridcolor": "white",
            "gridwidth": 2,
            "linecolor": "white",
            "showbackground": true,
            "ticks": "",
            "zerolinecolor": "white"
           },
           "zaxis": {
            "backgroundcolor": "#E5ECF6",
            "gridcolor": "white",
            "gridwidth": 2,
            "linecolor": "white",
            "showbackground": true,
            "ticks": "",
            "zerolinecolor": "white"
           }
          },
          "shapedefaults": {
           "line": {
            "color": "#2a3f5f"
           }
          },
          "ternary": {
           "aaxis": {
            "gridcolor": "white",
            "linecolor": "white",
            "ticks": ""
           },
           "baxis": {
            "gridcolor": "white",
            "linecolor": "white",
            "ticks": ""
           },
           "bgcolor": "#E5ECF6",
           "caxis": {
            "gridcolor": "white",
            "linecolor": "white",
            "ticks": ""
           }
          },
          "title": {
           "x": 0.05
          },
          "xaxis": {
           "automargin": true,
           "gridcolor": "white",
           "linecolor": "white",
           "ticks": "",
           "title": {
            "standoff": 15
           },
           "zerolinecolor": "white",
           "zerolinewidth": 2
          },
          "yaxis": {
           "automargin": true,
           "gridcolor": "white",
           "linecolor": "white",
           "ticks": "",
           "title": {
            "standoff": 15
           },
           "zerolinecolor": "white",
           "zerolinewidth": 2
          }
         }
        },
        "title": {
         "text": "Netzwerk: Kollaboratoren von Dorfterror",
         "x": 0.5
        },
        "xaxis": {
         "range": [
          -6,
          6
         ],
         "showgrid": false,
         "showticklabels": false,
         "zeroline": false
        },
        "yaxis": {
         "range": [
          -6,
          6
         ],
         "showgrid": false,
         "showticklabels": false,
         "zeroline": false
        }
       }
      }
     },
     "metadata": {},
     "output_type": "display_data"
    }
   ],
   "source": [
    "dorfterror_profile = session.query(Profile).filter(Profile.username == 'dorfterror').first()\n",
    "\n",
    "# Alle Kollaborationen von Dorfterror laden\n",
    "dorfterror_post_ids = [\n",
    "    p.id for p in session.query(Post).filter(Post.user_posted == dorfterror_profile.username)\n",
    "]\n",
    "\n",
    "collabs = session.query(Collaborator).filter(Collaborator.post_id.in_(dorfterror_post_ids)).all()\n",
    "\n",
    "# Zähle, wie oft jeder Kollaborator mit Dorfterror zusammenarbeitet\n",
    "collab_counts = Counter([c.profile_id for c in collabs])\n",
    "\n",
    "# Profilinfos laden\n",
    "collab_profiles = session.query(Profile).filter(Profile.id.in_(list(collab_counts.keys()))).all()\n",
    "id_to_profile = {p.id: p for p in collab_profiles}\n",
    "\n",
    "# Netzwerk erstellen\n",
    "G = nx.Graph()\n",
    "G.add_node(dorfterror_profile.username, size=1000, image_url=dorfterror_profile.profile_image_link)\n",
    "\n",
    "# Knoten für Kollaboratoren hinzufügen\n",
    "for collab_id, count in collab_counts.items():\n",
    "    profile = id_to_profile.get(collab_id)\n",
    "    if profile:\n",
    "        G.add_node(profile.username, size=300 + count * 100, image_url=profile.profile_image_link)\n",
    "        G.add_edge(dorfterror_profile.username, profile.username)\n",
    "\n",
    "\n",
    "# Layout mit mehr Platz\n",
    "#pos = nx.spring_layout(G, k=1.2, seed=42)\n",
    "\n",
    "import numpy as np\n",
    "\n",
    "def get_distance(p1, p2):\n",
    "    return np.linalg.norm(np.array(p1) - np.array(p2))\n",
    "\n",
    "def resolve_overlaps(pos, sizes, min_dist_factor=1.2, max_iter=200):\n",
    "    \"\"\"\n",
    "    Verschiebt Knoten, falls sie sich basierend auf ihrer Bildgröße überlappen.\n",
    "    \"\"\"\n",
    "    for _ in range(max_iter):\n",
    "        moved = False\n",
    "        for n1 in pos:\n",
    "            for n2 in pos:\n",
    "                if n1 == n2:\n",
    "                    continue\n",
    "                p1, p2 = np.array(pos[n1]), np.array(pos[n2])\n",
    "                dist = get_distance(p1, p2)\n",
    "                min_dist = (sizes[n1] + sizes[n2]) * min_dist_factor / 20  # Skalierung für Abstand\n",
    "\n",
    "                if dist < min_dist:\n",
    "                    # Richtung berechnen, um Knoten zu verschieben\n",
    "                    direction = (p1 - p2) / (dist + 1e-5)\n",
    "                    shift = (min_dist - dist) / 2\n",
    "                    pos[n1] = tuple(p1 + direction * shift)\n",
    "                    pos[n2] = tuple(p2 - direction * shift)\n",
    "                    moved = True\n",
    "        if not moved:\n",
    "            break\n",
    "    return pos\n",
    "\n",
    "\n",
    "# 1. Knoten und Positionen vorbereiten\n",
    "center_node = dorfterror_profile.username\n",
    "other_nodes = [n for n in G.nodes if n != center_node]\n",
    "\n",
    "num_nodes = len(other_nodes)\n",
    "angle_step = 2 * np.pi / max(num_nodes, 1)\n",
    "\n",
    "max_size = max(G.nodes[n][\"size\"] for n in other_nodes) if other_nodes else 1\n",
    "\n",
    "pos_plotly = {center_node: (0, 0)}\n",
    "for i, node in enumerate(sorted(other_nodes)):\n",
    "    angle = i * angle_step\n",
    "    size = G.nodes[node][\"size\"]\n",
    "    radius = 2 + 4 * (size / max_size)\n",
    "    x = np.cos(angle) * radius\n",
    "    y = np.sin(angle) * radius\n",
    "    pos_plotly[node] = (x, y)\n",
    "\n",
    "# 2. Kanten für Linien vorbereiten\n",
    "edge_x = []\n",
    "edge_y = []\n",
    "for edge in G.edges:\n",
    "    x0, y0 = pos_plotly[edge[0]]\n",
    "    x1, y1 = pos_plotly[edge[1]]\n",
    "    edge_x += [x0, x1, None]\n",
    "    edge_y += [y0, y1, None]\n",
    "\n",
    "edge_trace = go.Scatter(\n",
    "    x=edge_x, y=edge_y,\n",
    "    line=dict(width=1, color='#888'),\n",
    "    hoverinfo='none',\n",
    "    mode='lines'\n",
    ")\n",
    "\n",
    "# 3. Knoten vorbereiten (Position, Größe, Hovertext)\n",
    "node_x = []\n",
    "node_y = []\n",
    "node_size = []\n",
    "node_text = []\n",
    "\n",
    "for node in G.nodes:\n",
    "    x, y = pos_plotly[node]\n",
    "    node_x.append(x)\n",
    "    node_y.append(y)\n",
    "    node_size.append(G.nodes[node][\"size\"] / 15 + 20)  # Knotengröße anpassen\n",
    "    if node == center_node:\n",
    "        hovertext = f\"{node} (Zentrum)\"\n",
    "    else:\n",
    "        # Kollabanzahl abrufen\n",
    "        profile_id = None\n",
    "        for pid, prof in id_to_profile.items():\n",
    "            if prof.username == node:\n",
    "                profile_id = pid\n",
    "                break\n",
    "        count = collab_counts.get(profile_id, 0) if profile_id else 0\n",
    "        hovertext = f\"{node}<br>Kollaborationen: {count}\"\n",
    "    node_text.append(hovertext)\n",
    "\n",
    "node_trace = go.Scatter(\n",
    "    x=node_x, y=node_y,\n",
    "    mode='markers+text',\n",
    "    hoverinfo='text',\n",
    "    text=[center_node if node == center_node else \"\" for node in G.nodes],  # Nur Zentrum beschriften\n",
    "    textposition=\"bottom center\",\n",
    "    marker=dict(\n",
    "        showscale=False,\n",
    "        color='lightblue',\n",
    "        size=node_size,\n",
    "        line_width=2,\n",
    "        line_color='black',\n",
    "    ),\n",
    "    textfont=dict(size=12),\n",
    "    hovertext=node_text\n",
    ")\n",
    "\n",
    "# 4. Profilbilder als Layout Images (rund zugeschnitten musst du ggf. vorbearbeiten)\n",
    "images = []\n",
    "for node in G.nodes:\n",
    "    x, y = pos_plotly[node]\n",
    "    size_px = node_size[list(G.nodes).index(node)] * 3  # Pixelgröße der Bilder (Anpassbar)\n",
    "\n",
    "    img_url = G.nodes[node].get('image_url') or \"https://via.placeholder.com/150\"\n",
    "\n",
    "    images.append(dict(\n",
    "        source=img_url,\n",
    "        xref=\"x\", yref=\"y\",\n",
    "        x=x - 0.1, y=y + 0.1,\n",
    "        sizex=0.2, sizey=0.2,\n",
    "        xanchor=\"center\",\n",
    "        yanchor=\"middle\",\n",
    "        layer=\"above\",\n",
    "        sizing=\"contain\",\n",
    "        opacity=1\n",
    "    ))\n",
    "\n",
    "# 5. Plotly Figur erstellen\n",
    "fig = go.Figure(data=[edge_trace, node_trace],\n",
    "                layout=go.Layout(\n",
    "                    title=\"Netzwerk: Kollaboratoren von Dorfterror\",\n",
    "                    title_x=0.5,\n",
    "                    showlegend=False,\n",
    "                    hovermode='closest',\n",
    "                    margin=dict(b=20,l=5,r=5,t=40),\n",
    "                    xaxis=dict(showgrid=False, zeroline=False, showticklabels=False, range=[-6,6]),\n",
    "                    yaxis=dict(showgrid=False, zeroline=False, showticklabels=False, range=[-6,6]),\n",
    "                    images=images\n",
    "                ))\n",
    "\n",
    "fig.show()"
   ]
  },
  {
   "cell_type": "markdown",
   "id": "f6772c33",
   "metadata": {},
   "source": [
    "## Alte Version mit Matplotlib"
   ]
  },
  {
   "cell_type": "code",
   "execution_count": 57,
   "id": "26f26065",
   "metadata": {},
   "outputs": [
    {
     "name": "stdout",
     "output_type": "stream",
     "text": [
      "Fehler bei dorfterror: 403 Client Error: Forbidden for url: https://scontent-cdg4-2.cdninstagram.com/v/t51.2885-19/468566340_1080483403382431_3800128179714413222_n.jpg?stp=dst-jpg_s320x320_tt6&_nc_ht=scontent-cdg4-2.cdninstagram.com&_nc_cat=107&_nc_oc=Q6cZ2QFMtMF9zvB5aECEDFIfajeSOdMxUHq0yUwvOmNfYOK4wKUQZhe8WiFCR8wg6eJHHgI&_nc_ohc=cl_x3tc0wvgQ7kNvwH6iRrq&_nc_gid=ptLv-dxArep7DJ6QsyiUdA&edm=AOQ1c0wBAAAA&ccb=7-5&oh=00_AfRtmoUvuBlid_D_dP8QtIY88V6xwYBt1Ckz2tPl6nJk1g&oe=68746D70&_nc_sid=8b3546\n",
      "Fehler bei muselkanner: 403 Client Error: Forbidden for url: https://scontent-gig4-2.cdninstagram.com/v/t51.2885-19/52699500_1006762016200981_3772279542832431104_n.jpg?stp=dst-jpg_s320x320_tt6&_nc_ht=scontent-gig4-2.cdninstagram.com&_nc_cat=101&_nc_oc=Q6cZ2QFtp2oBggFeBQX_FSri0TnODLJywWuzkqwpjKNY8nn_0_Waco0nZC-w3BusWQ6nSMM&_nc_ohc=OXjDD6xFYAAQ7kNvwEqlU5l&_nc_gid=ebotPhv00L9iLEPWaUOnMQ&edm=AOQ1c0wBAAAA&ccb=7-5&oh=00_AfRY03jgxwiVFX8FLe6rh7bPH924N_k3A98n5tAofsmWdQ&oe=687831C8&_nc_sid=8b3546\n",
      "Fehler bei alternativegegenkulturkusel: 403 Client Error: Forbidden for url: https://instagram.fgua1-2.fna.fbcdn.net/v/t51.2885-19/245473097_603184974348190_1747705987572965717_n.jpg?stp=dst-jpg_s320x320_tt6&_nc_ht=instagram.fgua1-2.fna.fbcdn.net&_nc_cat=110&_nc_oc=Q6cZ2QFqjsSKe1DBf2-iVCAAVq_oDcV_Esvbtr4OO0lUcYATufd1SM3lNM8csf-aWu8k98c&_nc_ohc=HpV2PUbAklQQ7kNvwHHwObu&_nc_gid=AHEjnH_UVGtstC7FRxV7pw&edm=AOQ1c0wBAAAA&ccb=7-5&oh=00_AfSSmDPART9CGh3HHDrjsQ583ZNX0F9h2DTeC6yhfnyVXg&oe=687841EB&_nc_sid=8b3546\n",
      "Fehler bei blaufuchsband: 403 Client Error: Forbidden for url: https://instagram.feyp2-1.fna.fbcdn.net/v/t51.2885-19/106495440_2681524962084663_2857193811379909526_n.jpg?stp=dst-jpg_s320x320_tt6&_nc_ht=instagram.feyp2-1.fna.fbcdn.net&_nc_cat=103&_nc_oc=Q6cZ2QGv1pQOTe_CO881IGrz0vtpZB6SG_IYWSWemXdnpwhXhN25nnIwgZPZU54vDVdbnLg&_nc_ohc=Iv2QQxqx2fcQ7kNvwHXybJ7&_nc_gid=vtAaB1ufxuEcojcm3pExhQ&edm=AOQ1c0wBAAAA&ccb=7-5&oh=00_AfTApnwLUNu5JiSP7I2hbOmDOUyVUyie53JdGx1N5xH7Hg&oe=68782D56&_nc_sid=8b3546\n",
      "Fehler bei dorfterror.fussel: 403 Client Error: Forbidden for url: https://scontent-mxp2-1.cdninstagram.com/v/t51.2885-19/491464974_1172407960818935_1915843070830705328_n.jpg?stp=dst-jpg_s320x320_tt6&_nc_ht=scontent-mxp2-1.cdninstagram.com&_nc_cat=111&_nc_oc=Q6cZ2QFxRGO4MIDNnpgDmwrgCN5XY0SzzdAjetoIgDBugNNMXvIM0vjur1Gp89grcDSJgLQ&_nc_ohc=PJMxtDk7Kl4Q7kNvwGF9SVv&_nc_gid=fbpS2tIVVOGZsgEG0Rnw2Q&edm=AOQ1c0wBAAAA&ccb=7-5&oh=00_AfR_25dwbO9iilMfWl5Bcj6VhFqB6t0pdq-DJ588IKdRBQ&oe=68781C5F&_nc_sid=8b3546\n",
      "Fehler bei risiko.deluxe_band: 403 Client Error: Forbidden for url: https://instagram.fabv6-1.fna.fbcdn.net/v/t51.2885-19/72622995_412013736406809_4543270715570257920_n.jpg?stp=dst-jpg_s320x320_tt6&_nc_ht=instagram.fabv6-1.fna.fbcdn.net&_nc_cat=109&_nc_oc=Q6cZ2QGNTeC0vFJJRpZ07DK5exNRhTETwuSZV_6IIVh5n8fMRJR9OzADiBXVbDdlqVWe-uM&_nc_ohc=kjtnK9e83voQ7kNvwFpl8W5&_nc_gid=X9DbQyScCKks4D3a6k8Obw&edm=AOQ1c0wBAAAA&ccb=7-5&oh=00_AfQ6KLtZ59TYMsBj-oQgKH6nsIEXUawSF-XA-J2dap5DKg&oe=68784069&_nc_sid=8b3546\n",
      "Fehler bei heliumnationband: 403 Client Error: Forbidden for url: https://instagram.fbdo9-1.fna.fbcdn.net/v/t51.2885-19/420629053_403188152334604_3449686714851177899_n.jpg?stp=dst-jpg_s320x320_tt6&_nc_ht=instagram.fbdo9-1.fna.fbcdn.net&_nc_cat=104&_nc_oc=Q6cZ2QFT-3Nwmh0s5WPXtqZ06GNB1IQh5f7bBN-F6Wm6pnp14wtpV9sVItXhDg3Buigv59o&_nc_ohc=Lob335VX3y0Q7kNvwHsg5P4&_nc_gid=GNhjjUolhau6_93JBArwow&edm=AOQ1c0wBAAAA&ccb=7-5&oh=00_AfRTqHL69AzUkI3h43MZNWN3969Q-QygV2qGn5qaC29ddw&oe=6878145B&_nc_sid=8b3546\n",
      "Fehler bei sus.anna.music: 403 Client Error: Forbidden for url: https://instagram.feas1-1.fna.fbcdn.net/v/t51.2885-19/459059903_1111861483604619_7998862876590499425_n.jpg?stp=dst-jpg_s320x320_tt6&_nc_ht=instagram.feas1-1.fna.fbcdn.net&_nc_cat=103&_nc_oc=Q6cZ2QH1EMQYK_Sm4dWzcHaJ92kfrZea9ogRjQrHVx_htGI0sJXdFhUN5RuX17FJSsuCpJE&_nc_ohc=CI-2pPMS544Q7kNvwHdqjA_&_nc_gid=r6GYPUiH0EFmLwgoAU8auQ&edm=AOQ1c0wBAAAA&ccb=7-5&oh=00_AfQ7bPAtwHzBrAeIulHwrib1yva3L6deMEGLOk_VHssDfw&oe=68781668&_nc_sid=8b3546\n",
      "Fehler bei exhausbleibt: 403 Client Error: Forbidden for url: https://scontent-ham3-1.cdninstagram.com/v/t51.2885-19/120955042_1018560268662999_7227532884264990479_n.jpg?stp=dst-jpg_s320x320_tt6&_nc_ht=scontent-ham3-1.cdninstagram.com&_nc_cat=103&_nc_oc=Q6cZ2QFwSDvHPWa5I5sVPwdG8GVFJVsd6NH7BSAGqjunhHh_ilmdobAHq-6_OC0_s8wOMbo&_nc_ohc=I6Z3jBwXjacQ7kNvwFUnDPf&_nc_gid=tUwr-7OpivVVgXszjS47QQ&edm=AOQ1c0wBAAAA&ccb=7-5&oh=00_AfRgi6Qevh3xNO3G0p1WGIx8icVjkRa_nNalBY5v4G7S-w&oe=6878417C&_nc_sid=8b3546\n",
      "Fehler bei captaincapgras: 403 Client Error: Forbidden for url: https://scontent-waw2-1.cdninstagram.com/v/t51.2885-19/470080487_583495764264536_1665424045491582121_n.jpg?stp=dst-jpg_s320x320_tt6&_nc_ht=scontent-waw2-1.cdninstagram.com&_nc_cat=108&_nc_oc=Q6cZ2QGk3-lWbakyKYgQ4T0gnhZfwoRmHRqtjvnONorCJMeo7RFOkFr84W4QEsXczaPcTCo&_nc_ohc=Cl_NMlE9ipEQ7kNvwHS1HQS&_nc_gid=_-P6YLJUkybGkgUZYfvrSA&edm=AOQ1c0wBAAAA&ccb=7-5&oh=00_AfRI8ZIJ5GbVqcORxMFOA15z5fHPnpIG_CCpLvBgmOHMhA&oe=687840B8&_nc_sid=8b3546\n",
      "Fehler bei christmas_66606: 403 Client Error: Forbidden for url: https://instagram.frer1-1.fna.fbcdn.net/v/t51.2885-19/455086037_1674025376747600_1248651190387573858_n.jpg?stp=dst-jpg_s320x320_tt6&_nc_ht=instagram.frer1-1.fna.fbcdn.net&_nc_cat=108&_nc_oc=Q6cZ2QE3rYju8TwfSBMeaVvIZ9ax8SFD39g1zD40i6z6tv1W6oqXGvrdBj5jTnf_-LJlL-4&_nc_ohc=nFoBhFAT3loQ7kNvwEw9TMc&_nc_gid=YXwQyXRLAcQaBt63eAalMQ&edm=AOQ1c0wBAAAA&ccb=7-5&oh=00_AfQvB_VuSeoevRZUjbtoL5CQcDiEA8LhDxXAikKD3f2AXw&oe=68781F5B&_nc_sid=8b3546\n",
      "Fehler bei freidenkeralarmpunk: 403 Client Error: Forbidden for url: https://instagram.fsdu12-2.fna.fbcdn.net/v/t51.2885-19/459134351_1904126470069391_1880063712636201_n.jpg?stp=dst-jpg_s320x320_tt6&_nc_ht=instagram.fsdu12-2.fna.fbcdn.net&_nc_cat=111&_nc_oc=Q6cZ2QEoS7L6jok_1cdO1PuUjfMhSQClpjZem146NDqjN255J94hfZxI7B6RJdf7kmYXtmA&_nc_ohc=NoaI2lK7IUAQ7kNvwHh60Y2&_nc_gid=J7UCWOOux7eSDd_OQJn33w&edm=AOQ1c0wBAAAA&ccb=7-5&oh=00_AfQ6CvsWsuN8r113Zz7PywrnfVJUefS5V_Q7c_OuCrc1WQ&oe=68782CE1&_nc_sid=8b3546\n",
      "Fehler bei honig.asche: 403 Client Error: Forbidden for url: https://instagram.fskg1-1.fna.fbcdn.net/v/t51.2885-19/480755823_1095321009274198_9222633669794859202_n.jpg?stp=dst-jpg_s320x320_tt6&_nc_ht=instagram.fskg1-1.fna.fbcdn.net&_nc_cat=110&_nc_oc=Q6cZ2QEQGoCfwKxx75YQrIwbjNAZ_4pl86hafxlULbbmAfT8kBWmJ0gbTIj8ckjd_r6VsTk&_nc_ohc=WzKf5CMLaCgQ7kNvwGfT7WE&_nc_gid=CEEtT4PLst1h6g4MRPA9JA&edm=AOQ1c0wBAAAA&ccb=7-5&oh=00_AfR1AWWF-y4iRCWuRGtSLz8l-sLFeG-hw2RcQZXUx3LtRw&oe=68782D66&_nc_sid=8b3546\n",
      "Fehler bei popperklopper_official: 403 Client Error: Forbidden for url: https://scontent-waw2-2.cdninstagram.com/v/t51.2885-19/363502145_192796360215600_5939354995415938299_n.jpg?stp=dst-jpg_s320x320_tt6&_nc_ht=scontent-waw2-2.cdninstagram.com&_nc_cat=100&_nc_oc=Q6cZ2QEGkiQsAOFNWUw1l6Z3SgSkbaCWfSxZ6amm3TJnKD3T6ABNQF2ARUBs2iR6PMG7gTs&_nc_ohc=IcMWSM1IfacQ7kNvwGNNzBH&_nc_gid=dHyHa3fpTg4n-zIvBLFY3w&edm=AOQ1c0wBAAAA&ccb=7-5&oh=00_AfREvQE3ibDUeOeJq6jV7hmc5Ams0EJMv6D6OeVGblKh-g&oe=68781B4E&_nc_sid=8b3546\n",
      "Fehler bei dorfterror.elgato: 403 Client Error: Forbidden for url: https://scontent-waw2-2.cdninstagram.com/v/t51.2885-19/470428823_1378183750232257_6390251508465235142_n.jpg?stp=dst-jpg_s320x320_tt6&_nc_ht=scontent-waw2-2.cdninstagram.com&_nc_cat=101&_nc_oc=Q6cZ2QHEa35KvhzJsK6l1Hqpko2GX1xuRdFl0nJnHchWj8kTMRpEEZKtFTqLP9-hJiOPK4M&_nc_ohc=tocDjjkpZnoQ7kNvwFuQIZQ&_nc_gid=H7Jg52KLGcyaZ-tmc2Y-qg&edm=AOQ1c0wBAAAA&ccb=7-5&oh=00_AfRrGNI6RjocAasEASh210JjrKnitB5JuYgpFOIdYebkvQ&oe=687834F5&_nc_sid=8b3546\n",
      "Fehler bei toxoplasma_band: 403 Client Error: Forbidden for url: https://instagram.fmtt1-2.fna.fbcdn.net/v/t51.2885-19/50076770_357743488381398_2058927040173703168_n.jpg?stp=dst-jpg_s150x150_tt6&_nc_ht=instagram.fmtt1-2.fna.fbcdn.net&_nc_cat=106&_nc_oc=Q6cZ2QF7O6q9kyna8t-LHx4Gxz1F1BVt3rq0Uds_UPaL8QoYSwjar4T-p300p8rh4_IGFmw&_nc_ohc=FwQ05M2fn0AQ7kNvwFGcsyf&_nc_gid=gFSr5Ga_qrRVqoeEyiUaug&edm=AOQ1c0wBAAAA&ccb=7-5&oh=00_AfTja0lObu2n4I3RxH_aK5bWPECrLllibQAETjp8lrA7Sw&oe=68782050&_nc_sid=8b3546\n",
      "Fehler bei projektbooking: 403 Client Error: Forbidden for url: https://instagram.fdiq2-1.fna.fbcdn.net/v/t51.2885-19/334809354_183664511035224_8700691826738922146_n.jpg?stp=dst-jpg_s320x320_tt6&_nc_ht=instagram.fdiq2-1.fna.fbcdn.net&_nc_cat=100&_nc_oc=Q6cZ2QHlg805evPJHiTFNqnHMgoqclEbdFb0j7gj1AEsF22EvV5huV8kHQL8oICrC3o5NS4&_nc_ohc=HlBW_dkyq8EQ7kNvwHuxHmL&_nc_gid=J2iJ0iiUZq0g43RKh6x8KA&edm=AOQ1c0wBAAAA&ccb=7-5&oh=00_AfQUygSDVu3OCmT7qdgxWaDii_qn-YfkJyBksvFtP7x53w&oe=6878220E&_nc_sid=8b3546\n",
      "Fehler bei dorfterror.tier: 403 Client Error: Forbidden for url: https://instagram.fnap3-1.fna.fbcdn.net/v/t51.2885-19/485877152_1189963272776719_7351953894259011910_n.jpg?stp=dst-jpg_s320x320_tt6&_nc_ht=instagram.fnap3-1.fna.fbcdn.net&_nc_cat=107&_nc_oc=Q6cZ2QEID7lmpIKfdQYfTI3VZ-Js7HhaOOWaqUzDeP-XzB5XSFyqI01C8Vv63UV8m0RxJvY&_nc_ohc=anwO7JSTZFIQ7kNvwF3SX9B&_nc_gid=poEnetf2XB-F7JJHknS8-Q&edm=AOQ1c0wBAAAA&ccb=7-5&oh=00_AfSXB3YMKGpris1qw-ns7Zad8uKy_CgeCUDKui-bPHRJpQ&oe=68783066&_nc_sid=8b3546\n",
      "Fehler bei kulturgraben: 403 Client Error: Forbidden for url: https://scontent-mrs2-1.cdninstagram.com/v/t51.2885-19/159931637_953996788337781_1013610324857272718_n.jpg?stp=dst-jpg_s320x320_tt6&_nc_ht=scontent-mrs2-1.cdninstagram.com&_nc_cat=109&_nc_oc=Q6cZ2QGpKpiXdTvDiQzvjuVOJ0yThsrvRHR81K0ezNx2ikjfJ1k8_I88L-k1CUofJUwXpRc&_nc_ohc=i270ipAXO58Q7kNvwHKwHYH&_nc_gid=NTmPMN_jvL0oEGwoTc0KhA&edm=AOQ1c0wBAAAA&ccb=7-5&oh=00_AfTDau9zDo1E9y5xExJKF5twU3_HFN3G8jsP7Hamzar97w&oe=687831AD&_nc_sid=8b3546\n",
      "Fehler bei mercherdesteufels.jesus: 403 Client Error: Forbidden for url: https://instagram.fiev8-2.fna.fbcdn.net/v/t51.2885-19/453881110_3746760638946907_2035332052445244087_n.jpg?stp=dst-jpg_s320x320_tt6&_nc_ht=instagram.fiev8-2.fna.fbcdn.net&_nc_cat=107&_nc_oc=Q6cZ2QHSkqC9aKzfGlg59ibtQa4NcpuflmfWwrbHeoT6yHq9lCCQ2fuFEqLuKx3TV--cerc&_nc_ohc=-SVDcTL24WcQ7kNvwGO9ePs&_nc_gid=AfLN21ley5OANxK4pHscCw&edm=AOQ1c0wBAAAA&ccb=7-5&oh=00_AfS4uOh95M2myb2j5wSck9BAttLEDH1fT7mE_quhrPtJvg&oe=68784362&_nc_sid=8b3546\n",
      "Fehler bei dorfterror.chili: 403 Client Error: Forbidden for url: https://instagram.fhex5-1.fna.fbcdn.net/v/t51.2885-19/487447372_1130494302186450_8400313386703716122_n.jpg?stp=dst-jpg_s320x320_tt6&_nc_ht=instagram.fhex5-1.fna.fbcdn.net&_nc_cat=106&_nc_oc=Q6cZ2QGhXCdTdTc2VP6iJn5Q_W1CM4kBulrCuG48cEvhEsUxP0oBr4x930FSQWBbKY-v-2M&_nc_ohc=JPwggLReelAQ7kNvwH_jV98&_nc_gid=_BpkUVUqen8r7Kdw1KiDAQ&edm=AOQ1c0wBAAAA&ccb=7-5&oh=00_AfQmsKuQMxTlmDanFjgpCwKH6gz0_05EjOvuklUq1vOFVg&oe=68782D61&_nc_sid=8b3546\n",
      "Fehler bei dug.trier: 403 Client Error: Forbidden for url: https://scontent-waw2-2.cdninstagram.com/v/t51.2885-19/387727191_1327671238115958_5665659343167527035_n.jpg?stp=dst-jpg_s320x320_tt6&_nc_ht=scontent-waw2-2.cdninstagram.com&_nc_cat=106&_nc_oc=Q6cZ2QEzY3TUDFvItaixhpqzbvVwej0CZxojXkxfbukfD0IFAymfI9eI-yQ7J3yqkDWNtG8&_nc_ohc=54xOe_i_ymsQ7kNvwHc6YHJ&_nc_gid=BPGs5Pnr1DncdrtnBDlWUw&edm=AOQ1c0wBAAAA&ccb=7-5&oh=00_AfScMg1Rz5548XPY5o3TSrsv9j5FRmjZHCRTAF6tI0wNwQ&oe=6878AC79&_nc_sid=8b3546\n",
      "Fehler bei beemfestival: 403 Client Error: Forbidden for url: https://scontent-atl3-2.cdninstagram.com/v/t51.2885-19/280985970_1740342492985468_6495327608336838443_n.jpg?stp=dst-jpg_s320x320_tt6&_nc_ht=scontent-atl3-2.cdninstagram.com&_nc_cat=104&_nc_oc=Q6cZ2QEEDBrLCZ60x8vNQFjuQhe99C-QLYJe_JM1Gv6FXbqEDZ4ZsyNFLyHNDBJ7nBnc9Bk&_nc_ohc=jROGziLuCN4Q7kNvwFdWbBw&_nc_gid=d4yG93SYGqHGCGZmq4cziA&edm=AOQ1c0wBAAAA&ccb=7-5&oh=00_AfSgNHyQItsMnAVy85OqL3IQg9RVXjLyeYa469qrnrN1XA&oe=687824B8&_nc_sid=8b3546\n",
      "Fehler bei osy_music: 403 Client Error: Forbidden for url: https://instagram.fotp3-3.fna.fbcdn.net/v/t51.2885-19/363253975_6619119768146593_5646802960182479105_n.jpg?stp=dst-jpg_s320x320_tt6&_nc_ht=instagram.fotp3-3.fna.fbcdn.net&_nc_cat=101&_nc_oc=Q6cZ2QH1B5NNh7OWRk5l9QimF_4diHhV8T4YthQppUDLDlRtt2-lFg80e5NGbN7eQpw_zbY&_nc_ohc=Wv-Y10JqkBAQ7kNvwF-BQ8G&_nc_gid=bJvGeUsQONi7NTXkwI0wJQ&edm=AOQ1c0wBAAAA&ccb=7-5&oh=00_AfQmHK9ENvhSLfQcdM8hW4YrDGOPvuWghnwrsBYxbtOyDA&oe=6878CDC3&_nc_sid=8b3546\n",
      "Fehler bei mal_eleve: 403 Client Error: Forbidden for url: https://instagram.fopo5-2.fna.fbcdn.net/v/t51.2885-19/475426007_1317179155957530_3118214485553151023_n.jpg?stp=dst-jpg_s320x320_tt6&_nc_ht=instagram.fopo5-2.fna.fbcdn.net&_nc_cat=106&_nc_oc=Q6cZ2QH4cXT1-rMTyRwBWp9rzql2O5P96_fXrqyeRRu-LrRTIklwdh2SKtdrjoKRj4AUdlBblkGc0ygwIFYRJU8Ubjb_&_nc_ohc=1W_uxagQwwQQ7kNvwG847YU&_nc_gid=8JivehQRcAzcYCuXTgPQtA&edm=AOQ1c0wBAAAA&ccb=7-5&oh=00_AfRUqLiVlG0RRVRH0zs6FOx2lTRyjmNTEhSEDnpI_T1ovg&oe=6878D210&_nc_sid=8b3546\n",
      "Fehler bei solikult: 403 Client Error: Forbidden for url: https://scontent-fra5-1.cdninstagram.com/v/t51.2885-19/462457807_486745194362808_8481253117300315423_n.jpg?stp=dst-jpg_s320x320_tt6&_nc_ht=scontent-fra5-1.cdninstagram.com&_nc_cat=100&_nc_oc=Q6cZ2QGu_Ci5cU7dk_SUD9NeU8OsD80zdQV43tduBjmNrgUZaxf_W8XsUNO_0ave1Gz7pw0&_nc_ohc=lygc-NbVTuEQ7kNvwEoCqhQ&_nc_gid=RScFSPo_zyoGytfAgXfF8w&edm=AOQ1c0wBAAAA&ccb=7-5&oh=00_AfS70PJguAr7fc1NGuEvITrKZS9Xxh7i8E6EO3vQQMRqPw&oe=68782F5B&_nc_sid=8b3546\n",
      "Fehler bei juz_burglengenfeld: 403 Client Error: Forbidden for url: https://instagram.ftas1-1.fna.fbcdn.net/v/t51.2885-19/308240276_1540680319723053_7521508107279027616_n.jpg?stp=dst-jpg_s150x150_tt6&_nc_ht=instagram.ftas1-1.fna.fbcdn.net&_nc_cat=109&_nc_oc=Q6cZ2QFPZm4o4NK27NaT6xFTDy3s0-bWayXR-bobCXnq0PE57hnNjVzbxL6yE4695_CqRBo&_nc_ohc=GmTqTZtfm98Q7kNvwGt3aGp&_nc_gid=_0JtW113F91ufsxS-n1Efg&edm=AOQ1c0wBAAAA&ccb=7-5&oh=00_AfQwYDe7nYk8whk7aBEsv5iTlFxDkscB81csAnWDUVy5yw&oe=68783B52&_nc_sid=8b3546\n",
      "Fehler bei meerschaumwiesel: 403 Client Error: Forbidden for url: https://instagram.fpra1-1.fna.fbcdn.net/v/t51.2885-19/437121532_338324862157208_8173258097577696638_n.jpg?stp=dst-jpg_s320x320_tt6&_nc_ht=instagram.fpra1-1.fna.fbcdn.net&_nc_cat=108&_nc_oc=Q6cZ2QHC_vGee8AvVHiwH25Kbn-2YXd_k_49r3kEweuyg9vqeEboLdmW5CqoxYf6GISKv2M&_nc_ohc=WwnrdFJmv5kQ7kNvwGvJuHt&_nc_gid=Zk5paKbOfUmFW4HEE15IWA&edm=AOQ1c0wBAAAA&ccb=7-5&oh=00_AfR7jTkb3Y7Mfr5noXKaBIPJluSAKOe0IV0Ah9_UdHnpwA&oe=6878CBDA&_nc_sid=8b3546\n",
      "Fehler bei hair_by_gypsy: 403 Client Error: Forbidden for url: https://scontent-waw2-2.cdninstagram.com/v/t51.2885-19/457865331_1278442646498347_5518288326486967135_n.jpg?stp=dst-jpg_s320x320_tt6&_nc_ht=scontent-waw2-2.cdninstagram.com&_nc_cat=107&_nc_oc=Q6cZ2QEg-xubPsQNwH2eUaharLOounNWG4EL8AcmzLVm-viqx6p4Xf5v2_oN7gGsdQQGl_U&_nc_ohc=2yV2JpE5kxIQ7kNvwFlCavs&_nc_gid=0d2U0AWmw7utBpjWLDJqxg&edm=AOQ1c0wBAAAA&ccb=7-5&oh=00_AfSYLndU7uGf7_r5aZQJ9mmMxpS5xDP-TwP_21_1rWGKuQ&oe=6878403C&_nc_sid=8b3546\n",
      "Fehler bei fiftyzlotys: 403 Client Error: Forbidden for url: https://instagram.fman4-2.fna.fbcdn.net/v/t51.2885-19/67726776_411479573043046_2598863923167887360_n.jpg?stp=dst-jpg_s320x320_tt6&_nc_ht=instagram.fman4-2.fna.fbcdn.net&_nc_cat=110&_nc_oc=Q6cZ2QFS9movcUCRThVRFSwoQ86ud5jaGTAkj-e_6qxSOTzj1-t022o5F_pv1Mc4leEja0s&_nc_ohc=FA2yfT0QiBoQ7kNvwFuEk8f&_nc_gid=3nDJhmapOOT2ay3G0Nh1pg&edm=AOQ1c0wBAAAA&ccb=7-5&oh=00_AfTj3twqo2jvwxbTa7pQYCXWmyTyL6Ewr1ILhifE4Nw49g&oe=68782214&_nc_sid=8b3546\n",
      "Fehler bei mtc_cologne: 403 Client Error: Forbidden for url: https://scontent-iev1-1.cdninstagram.com/v/t51.2885-19/505770834_18316400674236316_7304201144150012293_n.jpg?stp=dst-jpg_s320x320_tt6&_nc_ht=scontent-iev1-1.cdninstagram.com&_nc_cat=104&_nc_oc=Q6cZ2QEDrx4mFKQw7VTtci6GJDva0fWMOuDnv0-TcLq-XgEm4XGKhxgSRKsRcWBINCpuzi4&_nc_ohc=mYyTr4LasEYQ7kNvwFFg7I0&_nc_gid=PYKktX5XYG7JpxCeHovVrg&edm=AOQ1c0wBAAAA&ccb=7-5&oh=00_AfTWl8FVciSpXqWm_KbdrTRCyBAB6bj41a6IP3pP4ROlpg&oe=6878AC04&_nc_sid=8b3546\n",
      "Fehler bei punkfilmfestberlin: 403 Client Error: Forbidden for url: https://instagram.fgla3-1.fna.fbcdn.net/v/t51.2885-19/18579987_420396348335534_9045073337214042112_a.jpg?stp=dst-jpg_s320x320_tt6&_nc_ht=instagram.fgla3-1.fna.fbcdn.net&_nc_cat=102&_nc_oc=Q6cZ2QECVzfxGtpinsPDxdM1mMQyEX8Oz2VODiaFQ1jGIpgjT62Kc49OdmMfVfTYUU1TBXE&_nc_ohc=kH4Ljo6XRIoQ7kNvwGYCsUR&_nc_gid=sDuYm4d9oXOYz5m9C1mQXg&edm=AOQ1c0wBAAAA&ccb=7-5&oh=00_AfQgnA-RwpqefptrUfzqdtuFTNoUpgyDWulRbFszNfr4_g&oe=68783E27&_nc_sid=8b3546\n",
      "Fehler bei dackelton: 403 Client Error: Forbidden for url: https://instagram.fuio19-1.fna.fbcdn.net/v/t51.2885-19/46199556_1947872448840441_2090600035979886592_n.jpg?stp=dst-jpg_s150x150_tt6&_nc_ht=instagram.fuio19-1.fna.fbcdn.net&_nc_cat=109&_nc_oc=Q6cZ2QHMKilZQoPqCvxKrdELTARTS74HSHqrYswCaC5MQ9x8obtekD9v62O2Py-1pCuU7F0&_nc_ohc=nlIJi3006w4Q7kNvwFetCtc&_nc_gid=vZbL4Bqm5joHNUtRB2m-RA&edm=AOQ1c0wBAAAA&ccb=7-5&oh=00_AfQ6BvTD-KYZerWpZsxxePP0VO6gagBxvLArZW2yn4opRQ&oe=6878366D&_nc_sid=8b3546\n",
      "Fehler bei blaecklist061_official: 403 Client Error: Forbidden for url: https://instagram.fphl1-1.fna.fbcdn.net/v/t51.2885-19/483282913_505497515943517_41578853155498644_n.jpg?stp=dst-jpg_s320x320_tt6&_nc_ht=instagram.fphl1-1.fna.fbcdn.net&_nc_cat=101&_nc_oc=Q6cZ2QFnueeboiz4HdvTQ5ADm5pbBQt0sZv6YEagkHHS0ZMFmgKm_cEOdnKJ2-QB7Uv8iA4&_nc_ohc=pzlB2D4Ouk8Q7kNvwER_u-q&_nc_gid=Fah9ymLqgnRPa-7D1H4mNg&edm=AOQ1c0wBAAAA&ccb=7-5&oh=00_AfTc8-Tenq2KUggJyweCqkSQkEMc9VC1cFPa9JCYUc8OOg&oe=6878315C&_nc_sid=8b3546\n",
      "Fehler bei lottalaerm: 403 Client Error: Forbidden for url: https://instagram.fbaq5-1.fna.fbcdn.net/v/t51.2885-19/367517293_310894664687057_4592765131391982631_n.jpg?stp=dst-jpg_s320x320_tt6&_nc_ht=instagram.fbaq5-1.fna.fbcdn.net&_nc_cat=105&_nc_oc=Q6cZ2QEu2UegdhV4Wblcu_N9qLl0DKwFOUKYi-TRQowhsRV-ixn-OZyAPOKxZsCW77w7XnA&_nc_ohc=_JzO85mgqe4Q7kNvwGLEf73&_nc_gid=pIXLmOFaiIquBQ4eyLM31A&edm=AOQ1c0wBAAAA&ccb=7-5&oh=00_AfQtTfXNllQKhrpZGsDiPK1wCeE3bIwc3fk6jzxgZ3a9gw&oe=68783F90&_nc_sid=8b3546\n",
      "Fehler bei atwsenscheid: 403 Client Error: Forbidden for url: https://instagram.fblq4-1.fna.fbcdn.net/v/t51.2885-19/462706913_759686799620424_7302770293515657158_n.jpg?stp=dst-jpg_s320x320_tt6&_nc_ht=instagram.fblq4-1.fna.fbcdn.net&_nc_cat=100&_nc_oc=Q6cZ2QGX14hg39iVAe4wlCRLxssCuEciPLId8thaEcRN1hzOOn59cyKuiEqB6OrEVVD1kEA&_nc_ohc=44aV1DntS8oQ7kNvwEFDdiJ&_nc_gid=TivWcHlQR87fAwK30i4z5g&edm=AOQ1c0wBAAAA&ccb=7-5&oh=00_AfSZ4g2OcraQH1RVUAz3q_rrGm9g9PWaTqSLol0g7d_JzQ&oe=687816B6&_nc_sid=8b3546\n",
      "Fehler bei callmebrutus: 403 Client Error: Forbidden for url: https://scontent-lax3-2.cdninstagram.com/v/t51.2885-19/473784652_1619111418699630_873671586367300053_n.jpg?stp=dst-jpg_s320x320_tt6&_nc_ht=scontent-lax3-2.cdninstagram.com&_nc_cat=106&_nc_oc=Q6cZ2QH5BKNdLAQBoC1o40Aw712UApWbE8z_qni4GbB5lFgcvVYeQtqsHmYQqXbpYKklB60&_nc_ohc=CeMYsR7zEzMQ7kNvwFeW5TI&_nc_gid=JzdB1Gd1sA4IX2r7vXmfsA&edm=AOQ1c0wBAAAA&ccb=7-5&oh=00_AfTsTi5yvB-U25APWlW23NPP22iogC0h4AFZM_8tPuVW8Q&oe=68784056&_nc_sid=8b3546\n",
      "Fehler bei buntestrier: 403 Client Error: Forbidden for url: https://instagram.ftlv19-3.fna.fbcdn.net/v/t51.2885-19/120176362_407828923543471_4159314002499423393_n.jpg?stp=dst-jpg_s320x320_tt6&_nc_ht=instagram.ftlv19-3.fna.fbcdn.net&_nc_cat=107&_nc_oc=Q6cZ2QHJKMy7C7vAYcBrXuSQMstgRBvFMMj7dV6kaWu7BKX7n6w7GBxfW1DGrpy1X38j5r4&_nc_ohc=w7aNGJMJZXEQ7kNvwFxRG1v&_nc_gid=TtvGr-DSg9Ehgbzto4ii2w&edm=AOQ1c0wBAAAA&ccb=7-5&oh=00_AfQG9SJlmyIXk2yBuSFvZ_nFrkXgAjkg2twru0DvKhMzNQ&oe=68782D3B&_nc_sid=8b3546\n",
      "Fehler bei wild_n_free_photography: 403 Client Error: Forbidden for url: https://scontent-nrt1-1.cdninstagram.com/v/t51.2885-19/274298720_488080816240967_3241625210585372063_n.jpg?stp=dst-jpg_s320x320_tt6&_nc_ht=scontent-nrt1-1.cdninstagram.com&_nc_cat=111&_nc_oc=Q6cZ2QHT_K_sK1gVvqVqe5gQpzrODUkyxHgXf6gHl13gfY6ShqBfYb9XotoCYvzmsHT91_JaYSRoGOSYHIh7c5MVY63R&_nc_ohc=eadjdZ_aSlUQ7kNvwGHDdZK&_nc_gid=PE1cueAVyPnalzH8HxOr8A&edm=AOQ1c0wBAAAA&ccb=7-5&oh=00_AfSrQIJzF_159OEz_dCU02zwJAzYgwxlrzPgzgsLHF8kGw&oe=68780D5C&_nc_sid=8b3546\n",
      "Fehler bei juz_auf_der_hoehe: 403 Client Error: Forbidden for url: https://instagram.fath5-1.fna.fbcdn.net/v/t51.2885-19/19623659_314484512345680_8977019095077617664_a.jpg?stp=dst-jpg_s320x320_tt6&_nc_ht=instagram.fath5-1.fna.fbcdn.net&_nc_cat=104&_nc_oc=Q6cZ2QHKeZLq8vQrQxKVNGUfvlAy9zmDhW9DA6Yg0p02PF0gF4sUckabWWKH128-w-GwqKc&_nc_ohc=13vlmCdFzwIQ7kNvwGMk1KG&_nc_gid=TiHZGsONBumr-ZfU4KK1bQ&edm=AOQ1c0wBAAAA&ccb=7-5&oh=00_AfQcUHm2luH0RPzzD9htZriR_JDl8ojeyLQvty-Ozsz7kA&oe=6878DA74&_nc_sid=8b3546\n",
      "Fehler bei keinmeterband: 403 Client Error: Forbidden for url: https://instagram.fbog23-1.fna.fbcdn.net/v/t51.2885-19/379427905_862349875553110_8048486420791923661_n.jpg?stp=dst-jpg_s320x320_tt6&_nc_ht=instagram.fbog23-1.fna.fbcdn.net&_nc_cat=110&_nc_oc=Q6cZ2QFLDD4iGfnwXwIctgdCTEqhuaPU4v0pdDRt7bFo0FC_aE53H3PUDOiCKh27kkgq8qE&_nc_ohc=DMOddRcim90Q7kNvwGHh3Jv&_nc_gid=zJ6_NLkJ0lQ27PkHKwt2cA&edm=AOQ1c0wBAAAA&ccb=7-5&oh=00_AfTbgf02zbwQUgBuRAd9MDa4MU3l1HHcB07XsCr0ZnZGOg&oe=68780CDF&_nc_sid=8b3546\n",
      "Fehler bei tvleipzig: 403 Client Error: Forbidden for url: https://instagram.fsof8-1.fna.fbcdn.net/v/t51.2885-19/62444540_2336384619911015_190403485143924736_n.jpg?stp=dst-jpg_s320x320_tt6&_nc_ht=instagram.fsof8-1.fna.fbcdn.net&_nc_cat=111&_nc_oc=Q6cZ2QE30PnkyulAdQl59d0YBySJto-6nhN564sPz7vDCMpuVCXNjTSN4Y2s_gbr-sV-Qmg&_nc_ohc=ylRNlVepAXIQ7kNvwEcjvJQ&_nc_gid=YdgRLJLUWvLvdQs_Zt_B_w&edm=AOQ1c0wBAAAA&ccb=7-5&oh=00_AfSmQWwVQM-C3WY6LU8kos41Pjj_47vX76Ka5YOlPJPS6A&oe=6878B44B&_nc_sid=8b3546\n",
      "Fehler bei minohband: 403 Client Error: Forbidden for url: https://instagram.ffjr8-1.fna.fbcdn.net/v/t51.2885-19/448892707_1181582709635331_4025896843650017872_n.jpg?stp=dst-jpg_s320x320_tt6&_nc_ht=instagram.ffjr8-1.fna.fbcdn.net&_nc_cat=103&_nc_oc=Q6cZ2QG-txB6ntJTnvdi32zm5Nz-ILld_56ihEkv1Dxn3OEBAm9I4x70FXqI3cX6_ayuhcU&_nc_ohc=7xKRv8ERcSwQ7kNvwEDHOB3&_nc_gid=iDM1IhejPeHnrCuuk-bLXw&edm=AOQ1c0wBAAAA&ccb=7-5&oh=00_AfQKPeCAM62j9_egl_vn7cQhFryT2OzjE0ydH0MopsW2mg&oe=6878437C&_nc_sid=8b3546\n",
      "Fehler bei pinsel_zauberwelt: 403 Client Error: Forbidden for url: https://instagram.fvix1-1.fna.fbcdn.net/v/t51.2885-19/484337170_673919561966625_4572500785894867472_n.jpg?stp=dst-jpg_s320x320_tt6&_nc_ht=instagram.fvix1-1.fna.fbcdn.net&_nc_cat=109&_nc_oc=Q6cZ2QESPYSsyrPetEOB7wDHHtt7ismIpbpVwcjWiOvo5cThzBw4KOnqpU8dXdRhdJb9Oeg&_nc_ohc=J3SznsR1mXwQ7kNvwFbPJy0&_nc_gid=tnf4YUeN9vPwSzGw1HKhoQ&edm=AOQ1c0wBAAAA&ccb=7-5&oh=00_AfTimgizUKQKCZWy7C6Topwp-RSVOZYlRC1dS0t8H3zNag&oe=6878312F&_nc_sid=8b3546\n",
      "Fehler bei indecentbehaviorofficial: 403 Client Error: Forbidden for url: https://instagram.fath4-2.fna.fbcdn.net/v/t51.2885-19/332305804_878699873462771_6463316679201899612_n.jpg?stp=dst-jpg_s320x320_tt6&_nc_ht=instagram.fath4-2.fna.fbcdn.net&_nc_cat=111&_nc_oc=Q6cZ2QFsRQmLH5aZFhLflwEJkz7cnwsiqIk-zenKZHLIohkGQNpsf9jBvrNSeaPdqUzr-KU&_nc_ohc=fyV2vKUD2zsQ7kNvwGaWNuB&_nc_gid=g__gHqAcvjeIwOFbgkNSyw&edm=AOQ1c0wBAAAA&ccb=7-5&oh=00_AfSePdTFWreQyrhZ0otasJwOWQxCeJvp2vFZGXHJmF2S-Q&oe=6878CD90&_nc_sid=8b3546\n",
      "Fehler bei nikl_nkl: 403 Client Error: Forbidden for url: https://scontent-mad1-1.cdninstagram.com/v/t51.2885-19/79227234_2521158354871215_6350065604757553152_n.jpg?stp=dst-jpg_s320x320_tt6&_nc_ht=scontent-mad1-1.cdninstagram.com&_nc_cat=103&_nc_oc=Q6cZ2QGktmg-NCzz3zr13YuzM2vQTGDR3dFN236gpG-9mofLlocGsG9EgASHUT35pHmbyr4&_nc_ohc=OloK1ZXKKJ0Q7kNvwF2b2Ob&_nc_gid=RK6ezpVCfcXWSoN3KY8LVQ&edm=AOQ1c0wBAAAA&ccb=7-5&oh=00_AfQ7hmL42_pywUYqtLXwp5ZPHPuw5cDEa1M-K09AybC4Hw&oe=6878350F&_nc_sid=8b3546\n",
      "Fehler bei beyondborders161: 403 Client Error: Forbidden for url: https://instagram.fyhz1-1.fna.fbcdn.net/v/t51.2885-19/26067851_1584319084977234_3030089183830999040_n.jpg?stp=dst-jpg_s320x320_tt6&_nc_ht=instagram.fyhz1-1.fna.fbcdn.net&_nc_cat=106&_nc_oc=Q6cZ2QHg31KXZ2Tm1JqXRtPHU6fxujKYYpgauquLigTgjyMuxjwq-xugzh1VnFtIrXA180E&_nc_ohc=6IeF4V56c70Q7kNvwGpBNWW&_nc_gid=xzT9I70pGVCXomjByZdo1w&edm=AOQ1c0wBAAAA&ccb=7-5&oh=00_AfRyzcquxZFilLUxyS1Wsw-BwXqumbmodG1qNCxY_xogzg&oe=6878AAC5&_nc_sid=8b3546\n",
      "Fehler bei von.hoelle.band: 403 Client Error: Forbidden for url: https://instagram.fomr1-1.fna.fbcdn.net/v/t51.2885-19/334686653_538037298398549_5675398829984005708_n.jpg?stp=dst-jpg_s320x320_tt6&_nc_ht=instagram.fomr1-1.fna.fbcdn.net&_nc_cat=105&_nc_oc=Q6cZ2QHij8IXWNIhFRZxHaAuLC9PDsNmACZol9MSaSa5TddYL-s7miphjuEhOtf9A2Q07ng&_nc_ohc=VUlaAtUw4wYQ7kNvwEo-FiV&_nc_gid=UGVg9hJDyFMVNloR55cuiA&edm=AOQ1c0wBAAAA&ccb=7-5&oh=00_AfR8MCdENt1yACpXlx5bFUrD-XrJDOzCSCOlnC4eqOtR3w&oe=6878D1EE&_nc_sid=8b3546\n",
      "Fehler bei castell_cgn: 403 Client Error: Forbidden for url: https://scontent-man2-1.cdninstagram.com/v/t51.2885-19/464765103_1071754574440965_4502762650233274455_n.jpg?stp=dst-jpg_s320x320_tt6&_nc_ht=scontent-man2-1.cdninstagram.com&_nc_cat=109&_nc_oc=Q6cZ2QHu5dCYfGrlvrmGxyeM0ZEdq0GuG6-8TXwhxWMLZKfXzISWtKuC_3NojH15HNhUIHE&_nc_ohc=K4jVuzhRMdoQ7kNvwExya7H&_nc_gid=NIcpy7nvG48sJ_5vBPpQSA&edm=AOQ1c0wBAAAA&ccb=7-5&oh=00_AfQG-6cK5ph9KjvFuMDAgIf18pf7923lUZCtgHDFjOXbOA&oe=687832ED&_nc_sid=8b3546\n",
      "Fehler bei subkulturhannover666: 403 Client Error: Forbidden for url: https://instagram.fiev20-1.fna.fbcdn.net/v/t51.2885-19/385790718_682955653496777_5996312207544608715_n.jpg?stp=dst-jpg_s320x320_tt6&_nc_ht=instagram.fiev20-1.fna.fbcdn.net&_nc_cat=105&_nc_oc=Q6cZ2QEAsWkHmjPuzBg2qaDIm9xlTTzW4bUsDrjNp-oZHn94R4tEIXKV_L9u5-JDiU3eKjY&_nc_ohc=UcUVDasbzOEQ7kNvwF620x4&_nc_gid=eovHGeRY0CazWmwYjVIhBg&edm=AOQ1c0wBAAAA&ccb=7-5&oh=00_AfRm5bgMCy6NnMTz6Gc17AqwjHXew2k5o-iflPmrHm_95g&oe=6878B288&_nc_sid=8b3546\n",
      "Fehler bei massenkarambolage: 403 Client Error: Forbidden for url: https://instagram.fscl20-1.fna.fbcdn.net/v/t51.2885-19/408047933_287482647583849_7905675528445542611_n.jpg?stp=dst-jpg_s320x320_tt6&_nc_ht=instagram.fscl20-1.fna.fbcdn.net&_nc_cat=101&_nc_oc=Q6cZ2QH6FBfih9xWE3PyAlm4lnig4g6fu_0iCF0pJx-8f_k5aNBfxC9ooMhI1_WLs12CcHQ&_nc_ohc=atgU4qy7HmYQ7kNvwFAGuls&_nc_gid=Ebhk_URHNbZCtv5OwFd0Ow&edm=AOQ1c0wBAAAA&ccb=7-5&oh=00_AfQubXE01lzM8UEcqNxIaf6l3seqq-PtnWEgGr8l_zZrKA&oe=6878294E&_nc_sid=8b3546\n",
      "Fehler bei hanfi.massenkarambolage: 403 Client Error: Forbidden for url: https://scontent-bos5-1.cdninstagram.com/v/t51.2885-19/451780044_455309383935826_495973382649017308_n.jpg?stp=dst-jpg_s320x320_tt6&_nc_ht=scontent-bos5-1.cdninstagram.com&_nc_cat=110&_nc_oc=Q6cZ2QF_sf6Ueyqct-FFFigG6q6zmyOT0XSndrJIxOK0CV6A4zKMDd7hvN_vURmUiCt_vuU&_nc_ohc=FHmez3oGABgQ7kNvwHQz6K9&_nc_gid=ekHkroJPrf30akaYTNTT7w&edm=AOQ1c0wBAAAA&ccb=7-5&oh=00_AfTzKf0-ER0dqVIf1-WRPeq2ifODF4RpvWkj436qBgyLhA&oe=687841E4&_nc_sid=8b3546\n",
      "Fehler bei tonstudio45: 403 Client Error: Forbidden for url: https://scontent-icn2-1.cdninstagram.com/v/t51.2885-19/73387330_594084681354479_14083940792926208_n.jpg?stp=dst-jpg_s320x320_tt6&_nc_ht=scontent-icn2-1.cdninstagram.com&_nc_cat=111&_nc_oc=Q6cZ2QEAHWdUvNpEs8PHXbwuHBe6A0bAExtMc15696W0dpOUnyHoRg2lQBPWjLK4Dlu1IJc&_nc_ohc=2vaP4WnV8FEQ7kNvwG2LhNY&_nc_gid=oXfPlhIYJg8ZEqGqjJUscw&edm=AOQ1c0wBAAAA&ccb=7-5&oh=00_AfTFjbCkKHeHKTXWthSsWPiJjMuQP3tT_HL0_w6q2mHQCQ&oe=6878230D&_nc_sid=8b3546\n",
      "Fehler bei darmstadtcityrebels: 403 Client Error: Forbidden for url: https://scontent-waw2-1.cdninstagram.com/v/t51.2885-19/427662956_700795422228371_4026996892891454954_n.jpg?stp=dst-jpg_s320x320_tt6&_nc_ht=scontent-waw2-1.cdninstagram.com&_nc_cat=111&_nc_oc=Q6cZ2QHa2TtNW092HPxlCP_L-hyV1y9crfHYFtMeSJfUIwdxi5Z3FPktWs89lS5ILhRO_k0&_nc_ohc=3HQQiCqiZg0Q7kNvwETPMTe&_nc_gid=ol68uiZNmvGOj676m4871g&edm=AOQ1c0wBAAAA&ccb=7-5&oh=00_AfQdeHoLUO5wUanK7PUspTxrslGvKk7bs6T1pCpZusvnmQ&oe=68782D57&_nc_sid=8b3546\n",
      "Fehler bei watzstock_festival: 403 Client Error: Forbidden for url: https://scontent-fco2-1.cdninstagram.com/v/t51.2885-19/66807428_302643467173545_1354234936827052032_n.jpg?stp=dst-jpg_s320x320_tt6&_nc_ht=scontent-fco2-1.cdninstagram.com&_nc_cat=109&_nc_oc=Q6cZ2QGiqH-hXOpZIBjHmpxgjElcOFFN2MZjQkeq45Qj7-PG1VXgCje0rEN8WJu_05dqKYo&_nc_ohc=TcGx2mZgz1gQ7kNvwEZRjJp&_nc_gid=cMmrqnRXMjpH8HyJmmJnig&edm=AOQ1c0wBAAAA&ccb=7-5&oh=00_AfQocUEtqd2Jg5-2KDm5YBExFoITZ79G3L6Jux9FX9ImHA&oe=6878234C&_nc_sid=8b3546\n",
      "Fehler bei beckybuddelt: 403 Client Error: Forbidden for url: https://instagram.fyhu2-1.fna.fbcdn.net/v/t51.2885-19/501584691_17843865972498360_152032200200505616_n.jpg?stp=dst-jpg_s320x320_tt6&_nc_ht=instagram.fyhu2-1.fna.fbcdn.net&_nc_cat=100&_nc_oc=Q6cZ2QGFM60WMpXTbwPLIYfSYSVWzHhxIuK89w-8yoOcl10YRU1dvk6DjKR-4u_Al_zJbOc&_nc_ohc=KQU0wXoHmVIQ7kNvwFY7GV9&_nc_gid=ZsNQI9fqchJuqSdVcwGPVQ&edm=AOQ1c0wBAAAA&ccb=7-5&oh=00_AfQvCmow7l7FSbtRHsrRG1eqg440kV7JzFiNGXL7xs_KxA&oe=6878238F&_nc_sid=8b3546\n"
     ]
    },
    {
     "data": {
      "image/png": "[encoded data removed]",
      "text/plain": [
       "<Figure size 1600x1600 with 1 Axes>"
      ]
     },
     "metadata": {},
     "output_type": "display_data"
    }
   ],
   "source": [
    "import matplotlib.pyplot as plt\n",
    "from matplotlib.offsetbox import AnnotationBbox, OffsetImage\n",
    "import numpy as np\n",
    "\n",
    "dorfterror_profile = session.query(Profile).filter(Profile.username == 'dorfterror').first()\n",
    "\n",
    "# Alle Kollaborationen von Dorfterror laden\n",
    "dorfterror_post_ids = [\n",
    "    p.id for p in session.query(Post).filter(Post.user_posted == dorfterror_profile.username)\n",
    "]\n",
    "\n",
    "collabs = session.query(Collaborator).filter(Collaborator.post_id.in_(dorfterror_post_ids)).all()\n",
    "\n",
    "# Zähle, wie oft jeder Kollaborator mit Dorfterror zusammenarbeitet\n",
    "collab_counts = Counter([c.profile_id for c in collabs])\n",
    "\n",
    "# Profilinfos laden\n",
    "collab_profiles = session.query(Profile).filter(Profile.id.in_(list(collab_counts.keys()))).all()\n",
    "id_to_profile = {p.id: p for p in collab_profiles}\n",
    "\n",
    "# Netzwerk erstellen\n",
    "G = nx.Graph()\n",
    "G.add_node(dorfterror_profile.username, size=1000, image_url=dorfterror_profile.profile_image_link)\n",
    "\n",
    "# Knoten für Kollaboratoren hinzufügen\n",
    "for collab_id, count in collab_counts.items():\n",
    "    profile = id_to_profile.get(collab_id)\n",
    "    if profile:\n",
    "        G.add_node(profile.username, size=300 + count * 100, image_url=profile.profile_image_link)\n",
    "        G.add_edge(dorfterror_profile.username, profile.username)\n",
    "\n",
    "\n",
    "# Layout mit mehr Platz\n",
    "#pos = nx.spring_layout(G, k=1.2, seed=42)\n",
    "\n",
    "import numpy as np\n",
    "\n",
    "def get_distance(p1, p2):\n",
    "    return np.linalg.norm(np.array(p1) - np.array(p2))\n",
    "\n",
    "def resolve_overlaps(pos, sizes, min_dist_factor=1.2, max_iter=200):\n",
    "    \"\"\"\n",
    "    Verschiebt Knoten, falls sie sich basierend auf ihrer Bildgröße überlappen.\n",
    "    \"\"\"\n",
    "    for _ in range(max_iter):\n",
    "        moved = False\n",
    "        for n1 in pos:\n",
    "            for n2 in pos:\n",
    "                if n1 == n2:\n",
    "                    continue\n",
    "                p1, p2 = np.array(pos[n1]), np.array(pos[n2])\n",
    "                dist = get_distance(p1, p2)\n",
    "                min_dist = (sizes[n1] + sizes[n2]) * min_dist_factor / 20  # Skalierung für Abstand\n",
    "\n",
    "                if dist < min_dist:\n",
    "                    # Richtung berechnen, um Knoten zu verschieben\n",
    "                    direction = (p1 - p2) / (dist + 1e-5)\n",
    "                    shift = (min_dist - dist) / 2\n",
    "                    pos[n1] = tuple(p1 + direction * shift)\n",
    "                    pos[n2] = tuple(p2 - direction * shift)\n",
    "                    moved = True\n",
    "        if not moved:\n",
    "            break\n",
    "    return pos\n",
    "\n",
    "\n",
    "# Schritt 1: Zentrum setzen\n",
    "center_node = dorfterror_profile.username\n",
    "pos = {center_node: (0, 0)}\n",
    "\n",
    "# Schritt 2: Kollaboratoren radial verteilen\n",
    "other_nodes = [n for n in G.nodes if n != center_node]\n",
    "num_nodes = len(other_nodes)\n",
    "angle_step = 2 * np.pi / num_nodes\n",
    "\n",
    "# Maximale Knotengröße für Radiusberechnung\n",
    "max_size = max(G.nodes[n][\"size\"] for n in other_nodes)\n",
    "sizes = {n: G.nodes[n][\"size\"] / 10 for n in G.nodes}  # Bildgröße zur Abstandskalkulation\n",
    "\n",
    "# Erste Platzierung\n",
    "for i, node in enumerate(sorted(other_nodes)):\n",
    "    angle = i * angle_step\n",
    "    size = G.nodes[node][\"size\"]\n",
    "    radius = 2 + 4 * (size / max_size)\n",
    "    x = np.cos(angle) * radius\n",
    "    y = np.sin(angle) * radius\n",
    "    pos[node] = (x, y)\n",
    "\n",
    "# Schritt 3: Überlappungen korrigieren\n",
    "pos = resolve_overlaps(pos, sizes)\n",
    "\n",
    "\n",
    "\n",
    "plt.figure(figsize=(16, 16))\n",
    "ax = plt.gca()\n",
    "nx.draw_networkx_edges(G, pos, alpha=0.3)\n",
    "\n",
    "for node in G.nodes:\n",
    "    x, y = pos[node]\n",
    "    node_size = G.nodes[node]['size']\n",
    "    img_url = G.nodes[node].get('image_url') or \"https://via.placeholder.com/150\"\n",
    "\n",
    "    try:\n",
    "        headers = {\n",
    "            \"User-Agent\": \"Mozilla/5.0\"\n",
    "        }\n",
    "        response = requests.get(img_url, headers=headers, timeout=5)\n",
    "        response.raise_for_status()\n",
    "        img = Image.open(BytesIO(response.content)).convert(\"RGBA\")\n",
    "\n",
    "        size = int(node_size / 10)\n",
    "        img = img.resize((size, size), Image.LANCZOS)\n",
    "\n",
    "        # Runde Maske\n",
    "        mask = Image.new('L', (size, size), 0)\n",
    "        draw_mask = ImageDraw.Draw(mask)\n",
    "        draw_mask.ellipse((0, 0, size, size), fill=255)\n",
    "\n",
    "        # Dünner schwarzer Rand\n",
    "        border_size = 2  # SCHMALER gemacht\n",
    "        bordered_img = Image.new(\"RGBA\", (size + 2 * border_size, size + 2 * border_size), (0, 0, 0, 0))\n",
    "        border_draw = ImageDraw.Draw(bordered_img)\n",
    "        border_draw.ellipse(\n",
    "            (0, 0, size + 2 * border_size, size + 2 * border_size),\n",
    "            fill=(0, 0, 0, 255)  # schwarzer Rand\n",
    "        )\n",
    "\n",
    "        # Bild mit runder Maske einfügen\n",
    "        img.putalpha(mask)\n",
    "        bordered_img.paste(img, (border_size, border_size), img)\n",
    "\n",
    "        # Anzeige als runder Knoten mit dünnem Rand\n",
    "        img_box = OffsetImage(bordered_img, zoom=1)\n",
    "        ab = AnnotationBbox(img_box, (x, y), frameon=False)\n",
    "        ax.add_artist(ab)\n",
    "\n",
    "        # Dynamischer Abstand basierend auf tatsächlicher Bildhöhe in Datenkoordinaten\n",
    "        fig = plt.gcf()\n",
    "        ax = plt.gca()\n",
    "        bbox = ax.get_window_extent().transformed(fig.dpi_scale_trans.inverted())\n",
    "        ax_width, ax_height = bbox.width, bbox.height\n",
    "\n",
    "        # Größe des Bildes in Datenkoordinaten (grob geschätzt)\n",
    "        scale = ax.transData.inverted().transform([(0, 0), (0, size)])\n",
    "        dy = abs(scale[1][1] - scale[0][1])\n",
    "\n",
    "        plt.text(x, y - dy / 2 - 1, node, ha='center', va='top', fontsize=9)\n",
    "\n",
    "\n",
    "    except Exception as e:\n",
    "        print(f\"Fehler bei {node}: {e}\")\n",
    "        # Fallback: grauer Kreis und Text\n",
    "        nx.draw_networkx_nodes(G, pos, nodelist=[node], node_size=node_size, node_color='gray', ax=ax)\n",
    "        plt.text(x, y - 0.1, node, ha='center', va='top', fontsize=9)\n",
    "\n",
    "\n",
    "plt.title('Netzwerk: Kollaboratoren von Dorfterror', fontsize=16)\n",
    "plt.axis('off')\n",
    "plt.show()"
   ]
  },
  {
   "cell_type": "code",
   "execution_count": 58,
   "id": "da36e6c1",
   "metadata": {},
   "outputs": [
    {
     "data": {
      "application/vnd.plotly.v1+json": {
       "config": {
        "plotlyServerURL": "https://plot.ly"
       },
       "data": [
        {
         "hovertemplate": "Anzahl=%{marker.color}<br>Profil=%{y}<extra></extra>",
         "legendgroup": "",
         "marker": {
          "color": {
           "bdata": "SCAeHhcXFBQSEhEREQ8PDg0NDQw=",
           "dtype": "i1"
          },
          "coloraxis": "coloraxis",
          "pattern": {
           "shape": ""
          }
         },
         "name": "",
         "orientation": "h",
         "showlegend": false,
         "textposition": "auto",
         "type": "bar",
         "x": {
          "bdata": "SCAeHhcXFBQSEhEREQ8PDg0NDQw=",
          "dtype": "i1"
         },
         "xaxis": "x",
         "y": [
          "freidenkeralarmpunk",
          "dorfterror",
          "wild_n_free_photography",
          "hdj_konz",
          "the_jeals",
          "heliumnationband",
          "sus.anna.music",
          "risiko.deluxe_band",
          "blaecklist061_official",
          "nig_rock",
          "projektbooking",
          "revolution.inc.band",
          "exhausbleibt",
          "dackelton",
          "kulturgraben",
          "popperklopper_official",
          "minohband",
          "suendflut_official",
          "tufa_trier",
          "dorfterror.fussel"
         ],
         "yaxis": "y"
        }
       ],
       "layout": {
        "barmode": "relative",
        "coloraxis": {
         "colorbar": {
          "title": {
           "text": "Anzahl"
          }
         },
         "colorscale": [
          [
           0,
           "rgb(103,0,31)"
          ],
          [
           0.1,
           "rgb(178,24,43)"
          ],
          [
           0.2,
           "rgb(214,96,77)"
          ],
          [
           0.3,
           "rgb(244,165,130)"
          ],
          [
           0.4,
           "rgb(253,219,199)"
          ],
          [
           0.5,
           "rgb(247,247,247)"
          ],
          [
           0.6,
           "rgb(209,229,240)"
          ],
          [
           0.7,
           "rgb(146,197,222)"
          ],
          [
           0.8,
           "rgb(67,147,195)"
          ],
          [
           0.9,
           "rgb(33,102,172)"
          ],
          [
           1,
           "rgb(5,48,97)"
          ]
         ]
        },
        "height": 600,
        "legend": {
         "tracegroupgap": 0
        },
        "margin": {
         "l": 120
        },
        "template": {
         "data": {
          "bar": [
           {
            "error_x": {
             "color": "#2a3f5f"
            },
            "error_y": {
             "color": "#2a3f5f"
            },
            "marker": {
             "line": {
              "color": "#E5ECF6",
              "width": 0.5
             },
             "pattern": {
              "fillmode": "overlay",
              "size": 10,
              "solidity": 0.2
             }
            },
            "type": "bar"
           }
          ],
          "barpolar": [
           {
            "marker": {
             "line": {
              "color": "#E5ECF6",
              "width": 0.5
             },
             "pattern": {
              "fillmode": "overlay",
              "size": 10,
              "solidity": 0.2
             }
            },
            "type": "barpolar"
           }
          ],
          "carpet": [
           {
            "aaxis": {
             "endlinecolor": "#2a3f5f",
             "gridcolor": "white",
             "linecolor": "white",
             "minorgridcolor": "white",
             "startlinecolor": "#2a3f5f"
            },
            "baxis": {
             "endlinecolor": "#2a3f5f",
             "gridcolor": "white",
             "linecolor": "white",
             "minorgridcolor": "white",
             "startlinecolor": "#2a3f5f"
            },
            "type": "carpet"
           }
          ],
          "choropleth": [
           {
            "colorbar": {
             "outlinewidth": 0,
             "ticks": ""
            },
            "type": "choropleth"
           }
          ],
          "contour": [
           {
            "colorbar": {
             "outlinewidth": 0,
             "ticks": ""
            },
            "colorscale": [
             [
              0,
              "#0d0887"
             ],
             [
              0.1111111111111111,
              "#46039f"
             ],
             [
              0.2222222222222222,
              "#7201a8"
             ],
             [
              0.3333333333333333,
              "#9c179e"
             ],
             [
              0.4444444444444444,
              "#bd3786"
             ],
             [
              0.5555555555555556,
              "#d8576b"
             ],
             [
              0.6666666666666666,
              "#ed7953"
             ],
             [
              0.7777777777777778,
              "#fb9f3a"
             ],
             [
              0.8888888888888888,
              "#fdca26"
             ],
             [
              1,
              "#f0f921"
             ]
            ],
            "type": "contour"
           }
          ],
          "contourcarpet": [
           {
            "colorbar": {
             "outlinewidth": 0,
             "ticks": ""
            },
            "type": "contourcarpet"
           }
          ],
          "heatmap": [
           {
            "colorbar": {
             "outlinewidth": 0,
             "ticks": ""
            },
            "colorscale": [
             [
              0,
              "#0d0887"
             ],
             [
              0.1111111111111111,
              "#46039f"
             ],
             [
              0.2222222222222222,
              "#7201a8"
             ],
             [
              0.3333333333333333,
              "#9c179e"
             ],
             [
              0.4444444444444444,
              "#bd3786"
             ],
             [
              0.5555555555555556,
              "#d8576b"
             ],
             [
              0.6666666666666666,
              "#ed7953"
             ],
             [
              0.7777777777777778,
              "#fb9f3a"
             ],
             [
              0.8888888888888888,
              "#fdca26"
             ],
             [
              1,
              "#f0f921"
             ]
            ],
            "type": "heatmap"
           }
          ],
          "histogram": [
           {
            "marker": {
             "pattern": {
              "fillmode": "overlay",
              "size": 10,
              "solidity": 0.2
             }
            },
            "type": "histogram"
           }
          ],
          "histogram2d": [
           {
            "colorbar": {
             "outlinewidth": 0,
             "ticks": ""
            },
            "colorscale": [
             [
              0,
              "#0d0887"
             ],
             [
              0.1111111111111111,
              "#46039f"
             ],
             [
              0.2222222222222222,
              "#7201a8"
             ],
             [
              0.3333333333333333,
              "#9c179e"
             ],
             [
              0.4444444444444444,
              "#bd3786"
             ],
             [
              0.5555555555555556,
              "#d8576b"
             ],
             [
              0.6666666666666666,
              "#ed7953"
             ],
             [
              0.7777777777777778,
              "#fb9f3a"
             ],
             [
              0.8888888888888888,
              "#fdca26"
             ],
             [
              1,
              "#f0f921"
             ]
            ],
            "type": "histogram2d"
           }
          ],
          "histogram2dcontour": [
           {
            "colorbar": {
             "outlinewidth": 0,
             "ticks": ""
            },
            "colorscale": [
             [
              0,
              "#0d0887"
             ],
             [
              0.1111111111111111,
              "#46039f"
             ],
             [
              0.2222222222222222,
              "#7201a8"
             ],
             [
              0.3333333333333333,
              "#9c179e"
             ],
             [
              0.4444444444444444,
              "#bd3786"
             ],
             [
              0.5555555555555556,
              "#d8576b"
             ],
             [
              0.6666666666666666,
              "#ed7953"
             ],
             [
              0.7777777777777778,
              "#fb9f3a"
             ],
             [
              0.8888888888888888,
              "#fdca26"
             ],
             [
              1,
              "#f0f921"
             ]
            ],
            "type": "histogram2dcontour"
           }
          ],
          "mesh3d": [
           {
            "colorbar": {
             "outlinewidth": 0,
             "ticks": ""
            },
            "type": "mesh3d"
           }
          ],
          "parcoords": [
           {
            "line": {
             "colorbar": {
              "outlinewidth": 0,
              "ticks": ""
             }
            },
            "type": "parcoords"
           }
          ],
          "pie": [
           {
            "automargin": true,
            "type": "pie"
           }
          ],
          "scatter": [
           {
            "fillpattern": {
             "fillmode": "overlay",
             "size": 10,
             "solidity": 0.2
            },
            "type": "scatter"
           }
          ],
          "scatter3d": [
           {
            "line": {
             "colorbar": {
              "outlinewidth": 0,
              "ticks": ""
             }
            },
            "marker": {
             "colorbar": {
              "outlinewidth": 0,
              "ticks": ""
             }
            },
            "type": "scatter3d"
           }
          ],
          "scattercarpet": [
           {
            "marker": {
             "colorbar": {
              "outlinewidth": 0,
              "ticks": ""
             }
            },
            "type": "scattercarpet"
           }
          ],
          "scattergeo": [
           {
            "marker": {
             "colorbar": {
              "outlinewidth": 0,
              "ticks": ""
             }
            },
            "type": "scattergeo"
           }
          ],
          "scattergl": [
           {
            "marker": {
             "colorbar": {
              "outlinewidth": 0,
              "ticks": ""
             }
            },
            "type": "scattergl"
           }
          ],
          "scattermap": [
           {
            "marker": {
             "colorbar": {
              "outlinewidth": 0,
              "ticks": ""
             }
            },
            "type": "scattermap"
           }
          ],
          "scattermapbox": [
           {
            "marker": {
             "colorbar": {
              "outlinewidth": 0,
              "ticks": ""
             }
            },
            "type": "scattermapbox"
           }
          ],
          "scatterpolar": [
           {
            "marker": {
             "colorbar": {
              "outlinewidth": 0,
              "ticks": ""
             }
            },
            "type": "scatterpolar"
           }
          ],
          "scatterpolargl": [
           {
            "marker": {
             "colorbar": {
              "outlinewidth": 0,
              "ticks": ""
             }
            },
            "type": "scatterpolargl"
           }
          ],
          "scatterternary": [
           {
            "marker": {
             "colorbar": {
              "outlinewidth": 0,
              "ticks": ""
             }
            },
            "type": "scatterternary"
           }
          ],
          "surface": [
           {
            "colorbar": {
             "outlinewidth": 0,
             "ticks": ""
            },
            "colorscale": [
             [
              0,
              "#0d0887"
             ],
             [
              0.1111111111111111,
              "#46039f"
             ],
             [
              0.2222222222222222,
              "#7201a8"
             ],
             [
              0.3333333333333333,
              "#9c179e"
             ],
             [
              0.4444444444444444,
              "#bd3786"
             ],
             [
              0.5555555555555556,
              "#d8576b"
             ],
             [
              0.6666666666666666,
              "#ed7953"
             ],
             [
              0.7777777777777778,
              "#fb9f3a"
             ],
             [
              0.8888888888888888,
              "#fdca26"
             ],
             [
              1,
              "#f0f921"
             ]
            ],
            "type": "surface"
           }
          ],
          "table": [
           {
            "cells": {
             "fill": {
              "color": "#EBF0F8"
             },
             "line": {
              "color": "white"
             }
            },
            "header": {
             "fill": {
              "color": "#C8D4E3"
             },
             "line": {
              "color": "white"
             }
            },
            "type": "table"
           }
          ]
         },
         "layout": {
          "annotationdefaults": {
           "arrowcolor": "#2a3f5f",
           "arrowhead": 0,
           "arrowwidth": 1
          },
          "autotypenumbers": "strict",
          "coloraxis": {
           "colorbar": {
            "outlinewidth": 0,
            "ticks": ""
           }
          },
          "colorscale": {
           "diverging": [
            [
             0,
             "#8e0152"
            ],
            [
             0.1,
             "#c51b7d"
            ],
            [
             0.2,
             "#de77ae"
            ],
            [
             0.3,
             "#f1b6da"
            ],
            [
             0.4,
             "#fde0ef"
            ],
            [
             0.5,
             "#f7f7f7"
            ],
            [
             0.6,
             "#e6f5d0"
            ],
            [
             0.7,
             "#b8e186"
            ],
            [
             0.8,
             "#7fbc41"
            ],
            [
             0.9,
             "#4d9221"
            ],
            [
             1,
             "#276419"
            ]
           ],
           "sequential": [
            [
             0,
             "#0d0887"
            ],
            [
             0.1111111111111111,
             "#46039f"
            ],
            [
             0.2222222222222222,
             "#7201a8"
            ],
            [
             0.3333333333333333,
             "#9c179e"
            ],
            [
             0.4444444444444444,
             "#bd3786"
            ],
            [
             0.5555555555555556,
             "#d8576b"
            ],
            [
             0.6666666666666666,
             "#ed7953"
            ],
            [
             0.7777777777777778,
             "#fb9f3a"
            ],
            [
             0.8888888888888888,
             "#fdca26"
            ],
            [
             1,
             "#f0f921"
            ]
           ],
           "sequentialminus": [
            [
             0,
             "#0d0887"
            ],
            [
             0.1111111111111111,
             "#46039f"
            ],
            [
             0.2222222222222222,
             "#7201a8"
            ],
            [
             0.3333333333333333,
             "#9c179e"
            ],
            [
             0.4444444444444444,
             "#bd3786"
            ],
            [
             0.5555555555555556,
             "#d8576b"
            ],
            [
             0.6666666666666666,
             "#ed7953"
            ],
            [
             0.7777777777777778,
             "#fb9f3a"
            ],
            [
             0.8888888888888888,
             "#fdca26"
            ],
            [
             1,
             "#f0f921"
            ]
           ]
          },
          "colorway": [
           "#636efa",
           "#EF553B",
           "#00cc96",
           "#ab63fa",
           "#FFA15A",
           "#19d3f3",
           "#FF6692",
           "#B6E880",
           "#FF97FF",
           "#FECB52"
          ],
          "font": {
           "color": "#2a3f5f"
          },
          "geo": {
           "bgcolor": "white",
           "lakecolor": "white",
           "landcolor": "#E5ECF6",
           "showlakes": true,
           "showland": true,
           "subunitcolor": "white"
          },
          "hoverlabel": {
           "align": "left"
          },
          "hovermode": "closest",
          "mapbox": {
           "style": "light"
          },
          "paper_bgcolor": "white",
          "plot_bgcolor": "#E5ECF6",
          "polar": {
           "angularaxis": {
            "gridcolor": "white",
            "linecolor": "white",
            "ticks": ""
           },
           "bgcolor": "#E5ECF6",
           "radialaxis": {
            "gridcolor": "white",
            "linecolor": "white",
            "ticks": ""
           }
          },
          "scene": {
           "xaxis": {
            "backgroundcolor": "#E5ECF6",
            "gridcolor": "white",
            "gridwidth": 2,
            "linecolor": "white",
            "showbackground": true,
            "ticks": "",
            "zerolinecolor": "white"
           },
           "yaxis": {
            "backgroundcolor": "#E5ECF6",
            "gridcolor": "white",
            "gridwidth": 2,
            "linecolor": "white",
            "showbackground": true,
            "ticks": "",
            "zerolinecolor": "white"
           },
           "zaxis": {
            "backgroundcolor": "#E5ECF6",
            "gridcolor": "white",
            "gridwidth": 2,
            "linecolor": "white",
            "showbackground": true,
            "ticks": "",
            "zerolinecolor": "white"
           }
          },
          "shapedefaults": {
           "line": {
            "color": "#2a3f5f"
           }
          },
          "ternary": {
           "aaxis": {
            "gridcolor": "white",
            "linecolor": "white",
            "ticks": ""
           },
           "baxis": {
            "gridcolor": "white",
            "linecolor": "white",
            "ticks": ""
           },
           "bgcolor": "#E5ECF6",
           "caxis": {
            "gridcolor": "white",
            "linecolor": "white",
            "ticks": ""
           }
          },
          "title": {
           "x": 0.05
          },
          "xaxis": {
           "automargin": true,
           "gridcolor": "white",
           "linecolor": "white",
           "ticks": "",
           "title": {
            "standoff": 15
           },
           "zerolinecolor": "white",
           "zerolinewidth": 2
          },
          "yaxis": {
           "automargin": true,
           "gridcolor": "white",
           "linecolor": "white",
           "ticks": "",
           "title": {
            "standoff": 15
           },
           "zerolinecolor": "white",
           "zerolinewidth": 2
          }
         }
        },
        "title": {
         "text": "Top 20 häufigste markierte Profile"
        },
        "xaxis": {
         "anchor": "y",
         "domain": [
          0,
          1
         ],
         "title": {
          "text": "Anzahl"
         }
        },
        "yaxis": {
         "anchor": "x",
         "categoryorder": "total ascending",
         "domain": [
          0,
          1
         ],
         "title": {
          "text": "Profil"
         }
        }
       }
      }
     },
     "metadata": {},
     "output_type": "display_data"
    }
   ],
   "source": [
    "mentions = [mention.lower() for mentions_list in df_posts['caption_mentions'] for mention in (mentions_list if mentions_list else [])]\n",
    "from collections import Counter\n",
    "top_mentions = Counter(mentions).most_common(20)\n",
    "mention_names, mention_counts = zip(*top_mentions)\n",
    "\n",
    "df_mentions = pd.DataFrame({\n",
    "    'Profil': mention_names,\n",
    "    'Anzahl': mention_counts\n",
    "})\n",
    "\n",
    "fig = px.bar(\n",
    "    df_mentions,\n",
    "    x='Anzahl',\n",
    "    y='Profil',\n",
    "    orientation='h',\n",
    "    color='Anzahl',\n",
    "    color_continuous_scale='RdBu',\n",
    "    title='Top 20 häufigste markierte Profile',\n",
    "    labels={'Anzahl': 'Anzahl', 'Profil': 'Profil'}\n",
    ")\n",
    "\n",
    "fig.update_layout(yaxis={'categoryorder':'total ascending'}, \n",
    "                  margin=dict(l=120), \n",
    "                  height=600)\n",
    "fig.show()"
   ]
  },
  {
   "cell_type": "code",
   "execution_count": 59,
   "id": "e9089aa8",
   "metadata": {},
   "outputs": [
    {
     "data": {
      "application/vnd.plotly.v1+json": {
       "config": {
        "plotlyServerURL": "https://plot.ly"
       },
       "data": [
        {
         "marker": {
          "color": "limegreen",
          "line": {
           "color": "black",
           "width": 1
          }
         },
         "name": "Kommentar-Längen",
         "nbinsx": 30,
         "opacity": 0.75,
         "type": "histogram",
         "x": {
          "bdata": "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",
          "dtype": "i2"
         }
        },
        {
         "line": {
          "color": "red",
          "dash": "dash"
         },
         "mode": "lines",
         "name": "Durchschnitt: 41.7 Zeichen",
         "type": "scatter",
         "x": [
          41.67594202898551,
          41.67594202898551
         ],
         "y": [
          0,
          149.60000000000002
         ]
        }
       ],
       "layout": {
        "bargap": 0.1,
        "height": 450,
        "template": {
         "data": {
          "bar": [
           {
            "error_x": {
             "color": "#2a3f5f"
            },
            "error_y": {
             "color": "#2a3f5f"
            },
            "marker": {
             "line": {
              "color": "#E5ECF6",
              "width": 0.5
             },
             "pattern": {
              "fillmode": "overlay",
              "size": 10,
              "solidity": 0.2
             }
            },
            "type": "bar"
           }
          ],
          "barpolar": [
           {
            "marker": {
             "line": {
              "color": "#E5ECF6",
              "width": 0.5
             },
             "pattern": {
              "fillmode": "overlay",
              "size": 10,
              "solidity": 0.2
             }
            },
            "type": "barpolar"
           }
          ],
          "carpet": [
           {
            "aaxis": {
             "endlinecolor": "#2a3f5f",
             "gridcolor": "white",
             "linecolor": "white",
             "minorgridcolor": "white",
             "startlinecolor": "#2a3f5f"
            },
            "baxis": {
             "endlinecolor": "#2a3f5f",
             "gridcolor": "white",
             "linecolor": "white",
             "minorgridcolor": "white",
             "startlinecolor": "#2a3f5f"
            },
            "type": "carpet"
           }
          ],
          "choropleth": [
           {
            "colorbar": {
             "outlinewidth": 0,
             "ticks": ""
            },
            "type": "choropleth"
           }
          ],
          "contour": [
           {
            "colorbar": {
             "outlinewidth": 0,
             "ticks": ""
            },
            "colorscale": [
             [
              0,
              "#0d0887"
             ],
             [
              0.1111111111111111,
              "#46039f"
             ],
             [
              0.2222222222222222,
              "#7201a8"
             ],
             [
              0.3333333333333333,
              "#9c179e"
             ],
             [
              0.4444444444444444,
              "#bd3786"
             ],
             [
              0.5555555555555556,
              "#d8576b"
             ],
             [
              0.6666666666666666,
              "#ed7953"
             ],
             [
              0.7777777777777778,
              "#fb9f3a"
             ],
             [
              0.8888888888888888,
              "#fdca26"
             ],
             [
              1,
              "#f0f921"
             ]
            ],
            "type": "contour"
           }
          ],
          "contourcarpet": [
           {
            "colorbar": {
             "outlinewidth": 0,
             "ticks": ""
            },
            "type": "contourcarpet"
           }
          ],
          "heatmap": [
           {
            "colorbar": {
             "outlinewidth": 0,
             "ticks": ""
            },
            "colorscale": [
             [
              0,
              "#0d0887"
             ],
             [
              0.1111111111111111,
              "#46039f"
             ],
             [
              0.2222222222222222,
              "#7201a8"
             ],
             [
              0.3333333333333333,
              "#9c179e"
             ],
             [
              0.4444444444444444,
              "#bd3786"
             ],
             [
              0.5555555555555556,
              "#d8576b"
             ],
             [
              0.6666666666666666,
              "#ed7953"
             ],
             [
              0.7777777777777778,
              "#fb9f3a"
             ],
             [
              0.8888888888888888,
              "#fdca26"
             ],
             [
              1,
              "#f0f921"
             ]
            ],
            "type": "heatmap"
           }
          ],
          "histogram": [
           {
            "marker": {
             "pattern": {
              "fillmode": "overlay",
              "size": 10,
              "solidity": 0.2
             }
            },
            "type": "histogram"
           }
          ],
          "histogram2d": [
           {
            "colorbar": {
             "outlinewidth": 0,
             "ticks": ""
            },
            "colorscale": [
             [
              0,
              "#0d0887"
             ],
             [
              0.1111111111111111,
              "#46039f"
             ],
             [
              0.2222222222222222,
              "#7201a8"
             ],
             [
              0.3333333333333333,
              "#9c179e"
             ],
             [
              0.4444444444444444,
              "#bd3786"
             ],
             [
              0.5555555555555556,
              "#d8576b"
             ],
             [
              0.6666666666666666,
              "#ed7953"
             ],
             [
              0.7777777777777778,
              "#fb9f3a"
             ],
             [
              0.8888888888888888,
              "#fdca26"
             ],
             [
              1,
              "#f0f921"
             ]
            ],
            "type": "histogram2d"
           }
          ],
          "histogram2dcontour": [
           {
            "colorbar": {
             "outlinewidth": 0,
             "ticks": ""
            },
            "colorscale": [
             [
              0,
              "#0d0887"
             ],
             [
              0.1111111111111111,
              "#46039f"
             ],
             [
              0.2222222222222222,
              "#7201a8"
             ],
             [
              0.3333333333333333,
              "#9c179e"
             ],
             [
              0.4444444444444444,
              "#bd3786"
             ],
             [
              0.5555555555555556,
              "#d8576b"
             ],
             [
              0.6666666666666666,
              "#ed7953"
             ],
             [
              0.7777777777777778,
              "#fb9f3a"
             ],
             [
              0.8888888888888888,
              "#fdca26"
             ],
             [
              1,
              "#f0f921"
             ]
            ],
            "type": "histogram2dcontour"
           }
          ],
          "mesh3d": [
           {
            "colorbar": {
             "outlinewidth": 0,
             "ticks": ""
            },
            "type": "mesh3d"
           }
          ],
          "parcoords": [
           {
            "line": {
             "colorbar": {
              "outlinewidth": 0,
              "ticks": ""
             }
            },
            "type": "parcoords"
           }
          ],
          "pie": [
           {
            "automargin": true,
            "type": "pie"
           }
          ],
          "scatter": [
           {
            "fillpattern": {
             "fillmode": "overlay",
             "size": 10,
             "solidity": 0.2
            },
            "type": "scatter"
           }
          ],
          "scatter3d": [
           {
            "line": {
             "colorbar": {
              "outlinewidth": 0,
              "ticks": ""
             }
            },
            "marker": {
             "colorbar": {
              "outlinewidth": 0,
              "ticks": ""
             }
            },
            "type": "scatter3d"
           }
          ],
          "scattercarpet": [
           {
            "marker": {
             "colorbar": {
              "outlinewidth": 0,
              "ticks": ""
             }
            },
            "type": "scattercarpet"
           }
          ],
          "scattergeo": [
           {
            "marker": {
             "colorbar": {
              "outlinewidth": 0,
              "ticks": ""
             }
            },
            "type": "scattergeo"
           }
          ],
          "scattergl": [
           {
            "marker": {
             "colorbar": {
              "outlinewidth": 0,
              "ticks": ""
             }
            },
            "type": "scattergl"
           }
          ],
          "scattermap": [
           {
            "marker": {
             "colorbar": {
              "outlinewidth": 0,
              "ticks": ""
             }
            },
            "type": "scattermap"
           }
          ],
          "scattermapbox": [
           {
            "marker": {
             "colorbar": {
              "outlinewidth": 0,
              "ticks": ""
             }
            },
            "type": "scattermapbox"
           }
          ],
          "scatterpolar": [
           {
            "marker": {
             "colorbar": {
              "outlinewidth": 0,
              "ticks": ""
             }
            },
            "type": "scatterpolar"
           }
          ],
          "scatterpolargl": [
           {
            "marker": {
             "colorbar": {
              "outlinewidth": 0,
              "ticks": ""
             }
            },
            "type": "scatterpolargl"
           }
          ],
          "scatterternary": [
           {
            "marker": {
             "colorbar": {
              "outlinewidth": 0,
              "ticks": ""
             }
            },
            "type": "scatterternary"
           }
          ],
          "surface": [
           {
            "colorbar": {
             "outlinewidth": 0,
             "ticks": ""
            },
            "colorscale": [
             [
              0,
              "#0d0887"
             ],
             [
              0.1111111111111111,
              "#46039f"
             ],
             [
              0.2222222222222222,
              "#7201a8"
             ],
             [
              0.3333333333333333,
              "#9c179e"
             ],
             [
              0.4444444444444444,
              "#bd3786"
             ],
             [
              0.5555555555555556,
              "#d8576b"
             ],
             [
              0.6666666666666666,
              "#ed7953"
             ],
             [
              0.7777777777777778,
              "#fb9f3a"
             ],
             [
              0.8888888888888888,
              "#fdca26"
             ],
             [
              1,
              "#f0f921"
             ]
            ],
            "type": "surface"
           }
          ],
          "table": [
           {
            "cells": {
             "fill": {
              "color": "#EBF0F8"
             },
             "line": {
              "color": "white"
             }
            },
            "header": {
             "fill": {
              "color": "#C8D4E3"
             },
             "line": {
              "color": "white"
             }
            },
            "type": "table"
           }
          ]
         },
         "layout": {
          "annotationdefaults": {
           "arrowcolor": "#2a3f5f",
           "arrowhead": 0,
           "arrowwidth": 1
          },
          "autotypenumbers": "strict",
          "coloraxis": {
           "colorbar": {
            "outlinewidth": 0,
            "ticks": ""
           }
          },
          "colorscale": {
           "diverging": [
            [
             0,
             "#8e0152"
            ],
            [
             0.1,
             "#c51b7d"
            ],
            [
             0.2,
             "#de77ae"
            ],
            [
             0.3,
             "#f1b6da"
            ],
            [
             0.4,
             "#fde0ef"
            ],
            [
             0.5,
             "#f7f7f7"
            ],
            [
             0.6,
             "#e6f5d0"
            ],
            [
             0.7,
             "#b8e186"
            ],
            [
             0.8,
             "#7fbc41"
            ],
            [
             0.9,
             "#4d9221"
            ],
            [
             1,
             "#276419"
            ]
           ],
           "sequential": [
            [
             0,
             "#0d0887"
            ],
            [
             0.1111111111111111,
             "#46039f"
            ],
            [
             0.2222222222222222,
             "#7201a8"
            ],
            [
             0.3333333333333333,
             "#9c179e"
            ],
            [
             0.4444444444444444,
             "#bd3786"
            ],
            [
             0.5555555555555556,
             "#d8576b"
            ],
            [
             0.6666666666666666,
             "#ed7953"
            ],
            [
             0.7777777777777778,
             "#fb9f3a"
            ],
            [
             0.8888888888888888,
             "#fdca26"
            ],
            [
             1,
             "#f0f921"
            ]
           ],
           "sequentialminus": [
            [
             0,
             "#0d0887"
            ],
            [
             0.1111111111111111,
             "#46039f"
            ],
            [
             0.2222222222222222,
             "#7201a8"
            ],
            [
             0.3333333333333333,
             "#9c179e"
            ],
            [
             0.4444444444444444,
             "#bd3786"
            ],
            [
             0.5555555555555556,
             "#d8576b"
            ],
            [
             0.6666666666666666,
             "#ed7953"
            ],
            [
             0.7777777777777778,
             "#fb9f3a"
            ],
            [
             0.8888888888888888,
             "#fdca26"
            ],
            [
             1,
             "#f0f921"
            ]
           ]
          },
          "colorway": [
           "#636efa",
           "#EF553B",
           "#00cc96",
           "#ab63fa",
           "#FFA15A",
           "#19d3f3",
           "#FF6692",
           "#B6E880",
           "#FF97FF",
           "#FECB52"
          ],
          "font": {
           "color": "#2a3f5f"
          },
          "geo": {
           "bgcolor": "white",
           "lakecolor": "white",
           "landcolor": "#E5ECF6",
           "showlakes": true,
           "showland": true,
           "subunitcolor": "white"
          },
          "hoverlabel": {
           "align": "left"
          },
          "hovermode": "closest",
          "mapbox": {
           "style": "light"
          },
          "paper_bgcolor": "white",
          "plot_bgcolor": "#E5ECF6",
          "polar": {
           "angularaxis": {
            "gridcolor": "white",
            "linecolor": "white",
            "ticks": ""
           },
           "bgcolor": "#E5ECF6",
           "radialaxis": {
            "gridcolor": "white",
            "linecolor": "white",
            "ticks": ""
           }
          },
          "scene": {
           "xaxis": {
            "backgroundcolor": "#E5ECF6",
            "gridcolor": "white",
            "gridwidth": 2,
            "linecolor": "white",
            "showbackground": true,
            "ticks": "",
            "zerolinecolor": "white"
           },
           "yaxis": {
            "backgroundcolor": "#E5ECF6",
            "gridcolor": "white",
            "gridwidth": 2,
            "linecolor": "white",
            "showbackground": true,
            "ticks": "",
            "zerolinecolor": "white"
           },
           "zaxis": {
            "backgroundcolor": "#E5ECF6",
            "gridcolor": "white",
            "gridwidth": 2,
            "linecolor": "white",
            "showbackground": true,
            "ticks": "",
            "zerolinecolor": "white"
           }
          },
          "shapedefaults": {
           "line": {
            "color": "#2a3f5f"
           }
          },
          "ternary": {
           "aaxis": {
            "gridcolor": "white",
            "linecolor": "white",
            "ticks": ""
           },
           "baxis": {
            "gridcolor": "white",
            "linecolor": "white",
            "ticks": ""
           },
           "bgcolor": "#E5ECF6",
           "caxis": {
            "gridcolor": "white",
            "linecolor": "white",
            "ticks": ""
           }
          },
          "title": {
           "x": 0.05
          },
          "xaxis": {
           "automargin": true,
           "gridcolor": "white",
           "linecolor": "white",
           "ticks": "",
           "title": {
            "standoff": 15
           },
           "zerolinecolor": "white",
           "zerolinewidth": 2
          },
          "yaxis": {
           "automargin": true,
           "gridcolor": "white",
           "linecolor": "white",
           "ticks": "",
           "title": {
            "standoff": 15
           },
           "zerolinecolor": "white",
           "zerolinewidth": 2
          }
         }
        },
        "title": {
         "text": "Durchschnittliche Kommentarlänge: 41.7 Zeichen"
        },
        "width": 700,
        "xaxis": {
         "title": {
          "text": "Länge Kommentar (Zeichen)"
         }
        },
        "yaxis": {
         "title": {
          "text": "Anzahl Kommentare"
         }
        }
       }
      }
     },
     "metadata": {},
     "output_type": "display_data"
    }
   ],
   "source": [
    "comments = session.query(Comment).filter(Comment.text != None).all()\n",
    "df_comments = pd.DataFrame([{\n",
    "    'text_length': len(c.text),\n",
    "    'post_id': c.post_id\n",
    "} for c in comments])\n",
    "\n",
    "import plotly.graph_objects as go\n",
    "import numpy as np\n",
    "\n",
    "\n",
    "hist_data = df_comments['text_length']\n",
    "avg_comment_length = hist_data.mean()\n",
    "\n",
    "fig = go.Figure()\n",
    "\n",
    "fig.add_trace(go.Histogram(\n",
    "    x=hist_data,\n",
    "    nbinsx=30,\n",
    "    name='Kommentar-Längen',\n",
    "    marker=dict(\n",
    "        color='limegreen',     # grelle Farbe\n",
    "        line=dict(color='black', width=1)  # schwarze Umrandung\n",
    "    ),\n",
    "    opacity=0.75\n",
    "))\n",
    "\n",
    "fig.add_trace(go.Scatter(\n",
    "    x=[avg_comment_length, avg_comment_length],\n",
    "    y=[0, hist_data.value_counts().max() * 1.1],\n",
    "    mode='lines',\n",
    "    line=dict(color='red', dash='dash'),\n",
    "    name=f'Durchschnitt: {avg_comment_length:.1f} Zeichen'\n",
    "))\n",
    "\n",
    "fig.update_layout(\n",
    "    title=f'Durchschnittliche Kommentarlänge: {avg_comment_length:.1f} Zeichen',\n",
    "    xaxis_title='Länge Kommentar (Zeichen)',\n",
    "    yaxis_title='Anzahl Kommentare',\n",
    "    bargap=0.1,\n",
    "    width=700,\n",
    "    height=450\n",
    ")\n",
    "\n",
    "fig.show()\n"
   ]
  },
  {
   "cell_type": "code",
   "execution_count": 60,
   "id": "1198cdcd",
   "metadata": {},
   "outputs": [
    {
     "data": {
      "application/vnd.plotly.v1+json": {
       "config": {
        "plotlyServerURL": "https://plot.ly"
       },
       "data": [
        {
         "hovertemplate": "Content-Format=%{x}<br>Durchschnitt Kommentare=%{marker.color}<extra></extra>",
         "legendgroup": "",
         "marker": {
          "color": {
           "bdata": "2hdRrbMvFkDsUbgehesJQAUvp+DlFBhAAAAAAAAACEA=",
           "dtype": "f8"
          },
          "coloraxis": "coloraxis",
          "pattern": {
           "shape": ""
          }
         },
         "name": "",
         "orientation": "v",
         "showlegend": false,
         "textposition": "auto",
         "type": "bar",
         "x": [
          "Carousel",
          "Image",
          "Reel",
          "Video"
         ],
         "xaxis": "x",
         "y": {
          "bdata": "2hdRrbMvFkDsUbgehesJQAUvp+DlFBhAAAAAAAAACEA=",
          "dtype": "f8"
         },
         "yaxis": "y"
        }
       ],
       "layout": {
        "barmode": "relative",
        "coloraxis": {
         "colorbar": {
          "title": {
           "text": "Durchschnitt Kommentare"
          }
         },
         "colorscale": [
          [
           0,
           "#000004"
          ],
          [
           0.1111111111111111,
           "#180f3d"
          ],
          [
           0.2222222222222222,
           "#440f76"
          ],
          [
           0.3333333333333333,
           "#721f81"
          ],
          [
           0.4444444444444444,
           "#9e2f7f"
          ],
          [
           0.5555555555555556,
           "#cd4071"
          ],
          [
           0.6666666666666666,
           "#f1605d"
          ],
          [
           0.7777777777777778,
           "#fd9668"
          ],
          [
           0.8888888888888888,
           "#feca8d"
          ],
          [
           1,
           "#fcfdbf"
          ]
         ]
        },
        "height": 500,
        "legend": {
         "tracegroupgap": 0
        },
        "template": {
         "data": {
          "bar": [
           {
            "error_x": {
             "color": "#2a3f5f"
            },
            "error_y": {
             "color": "#2a3f5f"
            },
            "marker": {
             "line": {
              "color": "#E5ECF6",
              "width": 0.5
             },
             "pattern": {
              "fillmode": "overlay",
              "size": 10,
              "solidity": 0.2
             }
            },
            "type": "bar"
           }
          ],
          "barpolar": [
           {
            "marker": {
             "line": {
              "color": "#E5ECF6",
              "width": 0.5
             },
             "pattern": {
              "fillmode": "overlay",
              "size": 10,
              "solidity": 0.2
             }
            },
            "type": "barpolar"
           }
          ],
          "carpet": [
           {
            "aaxis": {
             "endlinecolor": "#2a3f5f",
             "gridcolor": "white",
             "linecolor": "white",
             "minorgridcolor": "white",
             "startlinecolor": "#2a3f5f"
            },
            "baxis": {
             "endlinecolor": "#2a3f5f",
             "gridcolor": "white",
             "linecolor": "white",
             "minorgridcolor": "white",
             "startlinecolor": "#2a3f5f"
            },
            "type": "carpet"
           }
          ],
          "choropleth": [
           {
            "colorbar": {
             "outlinewidth": 0,
             "ticks": ""
            },
            "type": "choropleth"
           }
          ],
          "contour": [
           {
            "colorbar": {
             "outlinewidth": 0,
             "ticks": ""
            },
            "colorscale": [
             [
              0,
              "#0d0887"
             ],
             [
              0.1111111111111111,
              "#46039f"
             ],
             [
              0.2222222222222222,
              "#7201a8"
             ],
             [
              0.3333333333333333,
              "#9c179e"
             ],
             [
              0.4444444444444444,
              "#bd3786"
             ],
             [
              0.5555555555555556,
              "#d8576b"
             ],
             [
              0.6666666666666666,
              "#ed7953"
             ],
             [
              0.7777777777777778,
              "#fb9f3a"
             ],
             [
              0.8888888888888888,
              "#fdca26"
             ],
             [
              1,
              "#f0f921"
             ]
            ],
            "type": "contour"
           }
          ],
          "contourcarpet": [
           {
            "colorbar": {
             "outlinewidth": 0,
             "ticks": ""
            },
            "type": "contourcarpet"
           }
          ],
          "heatmap": [
           {
            "colorbar": {
             "outlinewidth": 0,
             "ticks": ""
            },
            "colorscale": [
             [
              0,
              "#0d0887"
             ],
             [
              0.1111111111111111,
              "#46039f"
             ],
             [
              0.2222222222222222,
              "#7201a8"
             ],
             [
              0.3333333333333333,
              "#9c179e"
             ],
             [
              0.4444444444444444,
              "#bd3786"
             ],
             [
              0.5555555555555556,
              "#d8576b"
             ],
             [
              0.6666666666666666,
              "#ed7953"
             ],
             [
              0.7777777777777778,
              "#fb9f3a"
             ],
             [
              0.8888888888888888,
              "#fdca26"
             ],
             [
              1,
              "#f0f921"
             ]
            ],
            "type": "heatmap"
           }
          ],
          "histogram": [
           {
            "marker": {
             "pattern": {
              "fillmode": "overlay",
              "size": 10,
              "solidity": 0.2
             }
            },
            "type": "histogram"
           }
          ],
          "histogram2d": [
           {
            "colorbar": {
             "outlinewidth": 0,
             "ticks": ""
            },
            "colorscale": [
             [
              0,
              "#0d0887"
             ],
             [
              0.1111111111111111,
              "#46039f"
             ],
             [
              0.2222222222222222,
              "#7201a8"
             ],
             [
              0.3333333333333333,
              "#9c179e"
             ],
             [
              0.4444444444444444,
              "#bd3786"
             ],
             [
              0.5555555555555556,
              "#d8576b"
             ],
             [
              0.6666666666666666,
              "#ed7953"
             ],
             [
              0.7777777777777778,
              "#fb9f3a"
             ],
             [
              0.8888888888888888,
              "#fdca26"
             ],
             [
              1,
              "#f0f921"
             ]
            ],
            "type": "histogram2d"
           }
          ],
          "histogram2dcontour": [
           {
            "colorbar": {
             "outlinewidth": 0,
             "ticks": ""
            },
            "colorscale": [
             [
              0,
              "#0d0887"
             ],
             [
              0.1111111111111111,
              "#46039f"
             ],
             [
              0.2222222222222222,
              "#7201a8"
             ],
             [
              0.3333333333333333,
              "#9c179e"
             ],
             [
              0.4444444444444444,
              "#bd3786"
             ],
             [
              0.5555555555555556,
              "#d8576b"
             ],
             [
              0.6666666666666666,
              "#ed7953"
             ],
             [
              0.7777777777777778,
              "#fb9f3a"
             ],
             [
              0.8888888888888888,
              "#fdca26"
             ],
             [
              1,
              "#f0f921"
             ]
            ],
            "type": "histogram2dcontour"
           }
          ],
          "mesh3d": [
           {
            "colorbar": {
             "outlinewidth": 0,
             "ticks": ""
            },
            "type": "mesh3d"
           }
          ],
          "parcoords": [
           {
            "line": {
             "colorbar": {
              "outlinewidth": 0,
              "ticks": ""
             }
            },
            "type": "parcoords"
           }
          ],
          "pie": [
           {
            "automargin": true,
            "type": "pie"
           }
          ],
          "scatter": [
           {
            "fillpattern": {
             "fillmode": "overlay",
             "size": 10,
             "solidity": 0.2
            },
            "type": "scatter"
           }
          ],
          "scatter3d": [
           {
            "line": {
             "colorbar": {
              "outlinewidth": 0,
              "ticks": ""
             }
            },
            "marker": {
             "colorbar": {
              "outlinewidth": 0,
              "ticks": ""
             }
            },
            "type": "scatter3d"
           }
          ],
          "scattercarpet": [
           {
            "marker": {
             "colorbar": {
              "outlinewidth": 0,
              "ticks": ""
             }
            },
            "type": "scattercarpet"
           }
          ],
          "scattergeo": [
           {
            "marker": {
             "colorbar": {
              "outlinewidth": 0,
              "ticks": ""
             }
            },
            "type": "scattergeo"
           }
          ],
          "scattergl": [
           {
            "marker": {
             "colorbar": {
              "outlinewidth": 0,
              "ticks": ""
             }
            },
            "type": "scattergl"
           }
          ],
          "scattermap": [
           {
            "marker": {
             "colorbar": {
              "outlinewidth": 0,
              "ticks": ""
             }
            },
            "type": "scattermap"
           }
          ],
          "scattermapbox": [
           {
            "marker": {
             "colorbar": {
              "outlinewidth": 0,
              "ticks": ""
             }
            },
            "type": "scattermapbox"
           }
          ],
          "scatterpolar": [
           {
            "marker": {
             "colorbar": {
              "outlinewidth": 0,
              "ticks": ""
             }
            },
            "type": "scatterpolar"
           }
          ],
          "scatterpolargl": [
           {
            "marker": {
             "colorbar": {
              "outlinewidth": 0,
              "ticks": ""
             }
            },
            "type": "scatterpolargl"
           }
          ],
          "scatterternary": [
           {
            "marker": {
             "colorbar": {
              "outlinewidth": 0,
              "ticks": ""
             }
            },
            "type": "scatterternary"
           }
          ],
          "surface": [
           {
            "colorbar": {
             "outlinewidth": 0,
             "ticks": ""
            },
            "colorscale": [
             [
              0,
              "#0d0887"
             ],
             [
              0.1111111111111111,
              "#46039f"
             ],
             [
              0.2222222222222222,
              "#7201a8"
             ],
             [
              0.3333333333333333,
              "#9c179e"
             ],
             [
              0.4444444444444444,
              "#bd3786"
             ],
             [
              0.5555555555555556,
              "#d8576b"
             ],
             [
              0.6666666666666666,
              "#ed7953"
             ],
             [
              0.7777777777777778,
              "#fb9f3a"
             ],
             [
              0.8888888888888888,
              "#fdca26"
             ],
             [
              1,
              "#f0f921"
             ]
            ],
            "type": "surface"
           }
          ],
          "table": [
           {
            "cells": {
             "fill": {
              "color": "#EBF0F8"
             },
             "line": {
              "color": "white"
             }
            },
            "header": {
             "fill": {
              "color": "#C8D4E3"
             },
             "line": {
              "color": "white"
             }
            },
            "type": "table"
           }
          ]
         },
         "layout": {
          "annotationdefaults": {
           "arrowcolor": "#2a3f5f",
           "arrowhead": 0,
           "arrowwidth": 1
          },
          "autotypenumbers": "strict",
          "coloraxis": {
           "colorbar": {
            "outlinewidth": 0,
            "ticks": ""
           }
          },
          "colorscale": {
           "diverging": [
            [
             0,
             "#8e0152"
            ],
            [
             0.1,
             "#c51b7d"
            ],
            [
             0.2,
             "#de77ae"
            ],
            [
             0.3,
             "#f1b6da"
            ],
            [
             0.4,
             "#fde0ef"
            ],
            [
             0.5,
             "#f7f7f7"
            ],
            [
             0.6,
             "#e6f5d0"
            ],
            [
             0.7,
             "#b8e186"
            ],
            [
             0.8,
             "#7fbc41"
            ],
            [
             0.9,
             "#4d9221"
            ],
            [
             1,
             "#276419"
            ]
           ],
           "sequential": [
            [
             0,
             "#0d0887"
            ],
            [
             0.1111111111111111,
             "#46039f"
            ],
            [
             0.2222222222222222,
             "#7201a8"
            ],
            [
             0.3333333333333333,
             "#9c179e"
            ],
            [
             0.4444444444444444,
             "#bd3786"
            ],
            [
             0.5555555555555556,
             "#d8576b"
            ],
            [
             0.6666666666666666,
             "#ed7953"
            ],
            [
             0.7777777777777778,
             "#fb9f3a"
            ],
            [
             0.8888888888888888,
             "#fdca26"
            ],
            [
             1,
             "#f0f921"
            ]
           ],
           "sequentialminus": [
            [
             0,
             "#0d0887"
            ],
            [
             0.1111111111111111,
             "#46039f"
            ],
            [
             0.2222222222222222,
             "#7201a8"
            ],
            [
             0.3333333333333333,
             "#9c179e"
            ],
            [
             0.4444444444444444,
             "#bd3786"
            ],
            [
             0.5555555555555556,
             "#d8576b"
            ],
            [
             0.6666666666666666,
             "#ed7953"
            ],
            [
             0.7777777777777778,
             "#fb9f3a"
            ],
            [
             0.8888888888888888,
             "#fdca26"
            ],
            [
             1,
             "#f0f921"
            ]
           ]
          },
          "colorway": [
           "#636efa",
           "#EF553B",
           "#00cc96",
           "#ab63fa",
           "#FFA15A",
           "#19d3f3",
           "#FF6692",
           "#B6E880",
           "#FF97FF",
           "#FECB52"
          ],
          "font": {
           "color": "#2a3f5f"
          },
          "geo": {
           "bgcolor": "white",
           "lakecolor": "white",
           "landcolor": "#E5ECF6",
           "showlakes": true,
           "showland": true,
           "subunitcolor": "white"
          },
          "hoverlabel": {
           "align": "left"
          },
          "hovermode": "closest",
          "mapbox": {
           "style": "light"
          },
          "paper_bgcolor": "white",
          "plot_bgcolor": "#E5ECF6",
          "polar": {
           "angularaxis": {
            "gridcolor": "white",
            "linecolor": "white",
            "ticks": ""
           },
           "bgcolor": "#E5ECF6",
           "radialaxis": {
            "gridcolor": "white",
            "linecolor": "white",
            "ticks": ""
           }
          },
          "scene": {
           "xaxis": {
            "backgroundcolor": "#E5ECF6",
            "gridcolor": "white",
            "gridwidth": 2,
            "linecolor": "white",
            "showbackground": true,
            "ticks": "",
            "zerolinecolor": "white"
           },
           "yaxis": {
            "backgroundcolor": "#E5ECF6",
            "gridcolor": "white",
            "gridwidth": 2,
            "linecolor": "white",
            "showbackground": true,
            "ticks": "",
            "zerolinecolor": "white"
           },
           "zaxis": {
            "backgroundcolor": "#E5ECF6",
            "gridcolor": "white",
            "gridwidth": 2,
            "linecolor": "white",
            "showbackground": true,
            "ticks": "",
            "zerolinecolor": "white"
           }
          },
          "shapedefaults": {
           "line": {
            "color": "#2a3f5f"
           }
          },
          "ternary": {
           "aaxis": {
            "gridcolor": "white",
            "linecolor": "white",
            "ticks": ""
           },
           "baxis": {
            "gridcolor": "white",
            "linecolor": "white",
            "ticks": ""
           },
           "bgcolor": "#E5ECF6",
           "caxis": {
            "gridcolor": "white",
            "linecolor": "white",
            "ticks": ""
           }
          },
          "title": {
           "x": 0.05
          },
          "xaxis": {
           "automargin": true,
           "gridcolor": "white",
           "linecolor": "white",
           "ticks": "",
           "title": {
            "standoff": 15
           },
           "zerolinecolor": "white",
           "zerolinewidth": 2
          },
          "yaxis": {
           "automargin": true,
           "gridcolor": "white",
           "linecolor": "white",
           "ticks": "",
           "title": {
            "standoff": 15
           },
           "zerolinecolor": "white",
           "zerolinewidth": 2
          }
         }
        },
        "title": {
         "text": "Durchschnittliche Kommentaranzahl pro Content-Format"
        },
        "width": 700,
        "xaxis": {
         "anchor": "y",
         "domain": [
          0,
          1
         ],
         "tickangle": 45,
         "title": {
          "text": "Content-Format"
         }
        },
        "yaxis": {
         "anchor": "x",
         "domain": [
          0,
          1
         ],
         "title": {
          "text": "Durchschnitt Kommentare"
         }
        }
       }
      }
     },
     "metadata": {},
     "output_type": "display_data"
    }
   ],
   "source": [
    "avg_comments_format = df_posts.groupby('content_type')['comment_count'].mean().reset_index()\n",
    "\n",
    "fig = px.bar(\n",
    "    avg_comments_format,\n",
    "    x='content_type',\n",
    "    y='comment_count',\n",
    "    color='comment_count',\n",
    "    color_continuous_scale='magma',\n",
    "    labels={'content_type': 'Content-Format', 'comment_count': 'Durchschnitt Kommentare'},\n",
    "    title='Durchschnittliche Kommentaranzahl pro Content-Format'\n",
    ")\n",
    "\n",
    "fig.update_layout(\n",
    "    xaxis_tickangle=45,\n",
    "    height=500,\n",
    "    width=700\n",
    ")\n",
    "\n",
    "fig.show()\n",
    "\n"
   ]
  },
  {
   "cell_type": "markdown",
   "id": "92ca98eb",
   "metadata": {},
   "source": [
    "### Follower diagramms"
   ]
  },
  {
   "cell_type": "markdown",
   "id": "6c8e512b",
   "metadata": {},
   "source": [
    "#### Where are the likes coming from?"
   ]
  },
  {
   "cell_type": "code",
   "execution_count": 61,
   "id": "90cca22c",
   "metadata": {},
   "outputs": [
    {
     "data": {
      "application/vnd.plotly.v1+json": {
       "config": {
        "plotlyServerURL": "https://plot.ly"
       },
       "data": [
        {
         "marker": {
          "color": [
           "steelblue",
           "indianred"
          ]
         },
         "text": [
          "74.00%",
          "26.00%"
         ],
         "textposition": "auto",
         "type": "bar",
         "x": [
          "Followers",
          "Non-Followers"
         ],
         "y": [
          0.7400406211517856,
          0.2599593788482144
         ]
        }
       ],
       "layout": {
        "height": 500,
        "template": {
         "data": {
          "bar": [
           {
            "error_x": {
             "color": "#2a3f5f"
            },
            "error_y": {
             "color": "#2a3f5f"
            },
            "marker": {
             "line": {
              "color": "white",
              "width": 0.5
             },
             "pattern": {
              "fillmode": "overlay",
              "size": 10,
              "solidity": 0.2
             }
            },
            "type": "bar"
           }
          ],
          "barpolar": [
           {
            "marker": {
             "line": {
              "color": "white",
              "width": 0.5
             },
             "pattern": {
              "fillmode": "overlay",
              "size": 10,
              "solidity": 0.2
             }
            },
            "type": "barpolar"
           }
          ],
          "carpet": [
           {
            "aaxis": {
             "endlinecolor": "#2a3f5f",
             "gridcolor": "#C8D4E3",
             "linecolor": "#C8D4E3",
             "minorgridcolor": "#C8D4E3",
             "startlinecolor": "#2a3f5f"
            },
            "baxis": {
             "endlinecolor": "#2a3f5f",
             "gridcolor": "#C8D4E3",
             "linecolor": "#C8D4E3",
             "minorgridcolor": "#C8D4E3",
             "startlinecolor": "#2a3f5f"
            },
            "type": "carpet"
           }
          ],
          "choropleth": [
           {
            "colorbar": {
             "outlinewidth": 0,
             "ticks": ""
            },
            "type": "choropleth"
           }
          ],
          "contour": [
           {
            "colorbar": {
             "outlinewidth": 0,
             "ticks": ""
            },
            "colorscale": [
             [
              0,
              "#0d0887"
             ],
             [
              0.1111111111111111,
              "#46039f"
             ],
             [
              0.2222222222222222,
              "#7201a8"
             ],
             [
              0.3333333333333333,
              "#9c179e"
             ],
             [
              0.4444444444444444,
              "#bd3786"
             ],
             [
              0.5555555555555556,
              "#d8576b"
             ],
             [
              0.6666666666666666,
              "#ed7953"
             ],
             [
              0.7777777777777778,
              "#fb9f3a"
             ],
             [
              0.8888888888888888,
              "#fdca26"
             ],
             [
              1,
              "#f0f921"
             ]
            ],
            "type": "contour"
           }
          ],
          "contourcarpet": [
           {
            "colorbar": {
             "outlinewidth": 0,
             "ticks": ""
            },
            "type": "contourcarpet"
           }
          ],
          "heatmap": [
           {
            "colorbar": {
             "outlinewidth": 0,
             "ticks": ""
            },
            "colorscale": [
             [
              0,
              "#0d0887"
             ],
             [
              0.1111111111111111,
              "#46039f"
             ],
             [
              0.2222222222222222,
              "#7201a8"
             ],
             [
              0.3333333333333333,
              "#9c179e"
             ],
             [
              0.4444444444444444,
              "#bd3786"
             ],
             [
              0.5555555555555556,
              "#d8576b"
             ],
             [
              0.6666666666666666,
              "#ed7953"
             ],
             [
              0.7777777777777778,
              "#fb9f3a"
             ],
             [
              0.8888888888888888,
              "#fdca26"
             ],
             [
              1,
              "#f0f921"
             ]
            ],
            "type": "heatmap"
           }
          ],
          "histogram": [
           {
            "marker": {
             "pattern": {
              "fillmode": "overlay",
              "size": 10,
              "solidity": 0.2
             }
            },
            "type": "histogram"
           }
          ],
          "histogram2d": [
           {
            "colorbar": {
             "outlinewidth": 0,
             "ticks": ""
            },
            "colorscale": [
             [
              0,
              "#0d0887"
             ],
             [
              0.1111111111111111,
              "#46039f"
             ],
             [
              0.2222222222222222,
              "#7201a8"
             ],
             [
              0.3333333333333333,
              "#9c179e"
             ],
             [
              0.4444444444444444,
              "#bd3786"
             ],
             [
              0.5555555555555556,
              "#d8576b"
             ],
             [
              0.6666666666666666,
              "#ed7953"
             ],
             [
              0.7777777777777778,
              "#fb9f3a"
             ],
             [
              0.8888888888888888,
              "#fdca26"
             ],
             [
              1,
              "#f0f921"
             ]
            ],
            "type": "histogram2d"
           }
          ],
          "histogram2dcontour": [
           {
            "colorbar": {
             "outlinewidth": 0,
             "ticks": ""
            },
            "colorscale": [
             [
              0,
              "#0d0887"
             ],
             [
              0.1111111111111111,
              "#46039f"
             ],
             [
              0.2222222222222222,
              "#7201a8"
             ],
             [
              0.3333333333333333,
              "#9c179e"
             ],
             [
              0.4444444444444444,
              "#bd3786"
             ],
             [
              0.5555555555555556,
              "#d8576b"
             ],
             [
              0.6666666666666666,
              "#ed7953"
             ],
             [
              0.7777777777777778,
              "#fb9f3a"
             ],
             [
              0.8888888888888888,
              "#fdca26"
             ],
             [
              1,
              "#f0f921"
             ]
            ],
            "type": "histogram2dcontour"
           }
          ],
          "mesh3d": [
           {
            "colorbar": {
             "outlinewidth": 0,
             "ticks": ""
            },
            "type": "mesh3d"
           }
          ],
          "parcoords": [
           {
            "line": {
             "colorbar": {
              "outlinewidth": 0,
              "ticks": ""
             }
            },
            "type": "parcoords"
           }
          ],
          "pie": [
           {
            "automargin": true,
            "type": "pie"
           }
          ],
          "scatter": [
           {
            "fillpattern": {
             "fillmode": "overlay",
             "size": 10,
             "solidity": 0.2
            },
            "type": "scatter"
           }
          ],
          "scatter3d": [
           {
            "line": {
             "colorbar": {
              "outlinewidth": 0,
              "ticks": ""
             }
            },
            "marker": {
             "colorbar": {
              "outlinewidth": 0,
              "ticks": ""
             }
            },
            "type": "scatter3d"
           }
          ],
          "scattercarpet": [
           {
            "marker": {
             "colorbar": {
              "outlinewidth": 0,
              "ticks": ""
             }
            },
            "type": "scattercarpet"
           }
          ],
          "scattergeo": [
           {
            "marker": {
             "colorbar": {
              "outlinewidth": 0,
              "ticks": ""
             }
            },
            "type": "scattergeo"
           }
          ],
          "scattergl": [
           {
            "marker": {
             "colorbar": {
              "outlinewidth": 0,
              "ticks": ""
             }
            },
            "type": "scattergl"
           }
          ],
          "scattermap": [
           {
            "marker": {
             "colorbar": {
              "outlinewidth": 0,
              "ticks": ""
             }
            },
            "type": "scattermap"
           }
          ],
          "scattermapbox": [
           {
            "marker": {
             "colorbar": {
              "outlinewidth": 0,
              "ticks": ""
             }
            },
            "type": "scattermapbox"
           }
          ],
          "scatterpolar": [
           {
            "marker": {
             "colorbar": {
              "outlinewidth": 0,
              "ticks": ""
             }
            },
            "type": "scatterpolar"
           }
          ],
          "scatterpolargl": [
           {
            "marker": {
             "colorbar": {
              "outlinewidth": 0,
              "ticks": ""
             }
            },
            "type": "scatterpolargl"
           }
          ],
          "scatterternary": [
           {
            "marker": {
             "colorbar": {
              "outlinewidth": 0,
              "ticks": ""
             }
            },
            "type": "scatterternary"
           }
          ],
          "surface": [
           {
            "colorbar": {
             "outlinewidth": 0,
             "ticks": ""
            },
            "colorscale": [
             [
              0,
              "#0d0887"
             ],
             [
              0.1111111111111111,
              "#46039f"
             ],
             [
              0.2222222222222222,
              "#7201a8"
             ],
             [
              0.3333333333333333,
              "#9c179e"
             ],
             [
              0.4444444444444444,
              "#bd3786"
             ],
             [
              0.5555555555555556,
              "#d8576b"
             ],
             [
              0.6666666666666666,
              "#ed7953"
             ],
             [
              0.7777777777777778,
              "#fb9f3a"
             ],
             [
              0.8888888888888888,
              "#fdca26"
             ],
             [
              1,
              "#f0f921"
             ]
            ],
            "type": "surface"
           }
          ],
          "table": [
           {
            "cells": {
             "fill": {
              "color": "#EBF0F8"
             },
             "line": {
              "color": "white"
             }
            },
            "header": {
             "fill": {
              "color": "#C8D4E3"
             },
             "line": {
              "color": "white"
             }
            },
            "type": "table"
           }
          ]
         },
         "layout": {
          "annotationdefaults": {
           "arrowcolor": "#2a3f5f",
           "arrowhead": 0,
           "arrowwidth": 1
          },
          "autotypenumbers": "strict",
          "coloraxis": {
           "colorbar": {
            "outlinewidth": 0,
            "ticks": ""
           }
          },
          "colorscale": {
           "diverging": [
            [
             0,
             "#8e0152"
            ],
            [
             0.1,
             "#c51b7d"
            ],
            [
             0.2,
             "#de77ae"
            ],
            [
             0.3,
             "#f1b6da"
            ],
            [
             0.4,
             "#fde0ef"
            ],
            [
             0.5,
             "#f7f7f7"
            ],
            [
             0.6,
             "#e6f5d0"
            ],
            [
             0.7,
             "#b8e186"
            ],
            [
             0.8,
             "#7fbc41"
            ],
            [
             0.9,
             "#4d9221"
            ],
            [
             1,
             "#276419"
            ]
           ],
           "sequential": [
            [
             0,
             "#0d0887"
            ],
            [
             0.1111111111111111,
             "#46039f"
            ],
            [
             0.2222222222222222,
             "#7201a8"
            ],
            [
             0.3333333333333333,
             "#9c179e"
            ],
            [
             0.4444444444444444,
             "#bd3786"
            ],
            [
             0.5555555555555556,
             "#d8576b"
            ],
            [
             0.6666666666666666,
             "#ed7953"
            ],
            [
             0.7777777777777778,
             "#fb9f3a"
            ],
            [
             0.8888888888888888,
             "#fdca26"
            ],
            [
             1,
             "#f0f921"
            ]
           ],
           "sequentialminus": [
            [
             0,
             "#0d0887"
            ],
            [
             0.1111111111111111,
             "#46039f"
            ],
            [
             0.2222222222222222,
             "#7201a8"
            ],
            [
             0.3333333333333333,
             "#9c179e"
            ],
            [
             0.4444444444444444,
             "#bd3786"
            ],
            [
             0.5555555555555556,
             "#d8576b"
            ],
            [
             0.6666666666666666,
             "#ed7953"
            ],
            [
             0.7777777777777778,
             "#fb9f3a"
            ],
            [
             0.8888888888888888,
             "#fdca26"
            ],
            [
             1,
             "#f0f921"
            ]
           ]
          },
          "colorway": [
           "#636efa",
           "#EF553B",
           "#00cc96",
           "#ab63fa",
           "#FFA15A",
           "#19d3f3",
           "#FF6692",
           "#B6E880",
           "#FF97FF",
           "#FECB52"
          ],
          "font": {
           "color": "#2a3f5f"
          },
          "geo": {
           "bgcolor": "white",
           "lakecolor": "white",
           "landcolor": "white",
           "showlakes": true,
           "showland": true,
           "subunitcolor": "#C8D4E3"
          },
          "hoverlabel": {
           "align": "left"
          },
          "hovermode": "closest",
          "mapbox": {
           "style": "light"
          },
          "paper_bgcolor": "white",
          "plot_bgcolor": "white",
          "polar": {
           "angularaxis": {
            "gridcolor": "#EBF0F8",
            "linecolor": "#EBF0F8",
            "ticks": ""
           },
           "bgcolor": "white",
           "radialaxis": {
            "gridcolor": "#EBF0F8",
            "linecolor": "#EBF0F8",
            "ticks": ""
           }
          },
          "scene": {
           "xaxis": {
            "backgroundcolor": "white",
            "gridcolor": "#DFE8F3",
            "gridwidth": 2,
            "linecolor": "#EBF0F8",
            "showbackground": true,
            "ticks": "",
            "zerolinecolor": "#EBF0F8"
           },
           "yaxis": {
            "backgroundcolor": "white",
            "gridcolor": "#DFE8F3",
            "gridwidth": 2,
            "linecolor": "#EBF0F8",
            "showbackground": true,
            "ticks": "",
            "zerolinecolor": "#EBF0F8"
           },
           "zaxis": {
            "backgroundcolor": "white",
            "gridcolor": "#DFE8F3",
            "gridwidth": 2,
            "linecolor": "#EBF0F8",
            "showbackground": true,
            "ticks": "",
            "zerolinecolor": "#EBF0F8"
           }
          },
          "shapedefaults": {
           "line": {
            "color": "#2a3f5f"
           }
          },
          "ternary": {
           "aaxis": {
            "gridcolor": "#DFE8F3",
            "linecolor": "#A2B1C6",
            "ticks": ""
           },
           "baxis": {
            "gridcolor": "#DFE8F3",
            "linecolor": "#A2B1C6",
            "ticks": ""
           },
           "bgcolor": "white",
           "caxis": {
            "gridcolor": "#DFE8F3",
            "linecolor": "#A2B1C6",
            "ticks": ""
           }
          },
          "title": {
           "x": 0.05
          },
          "xaxis": {
           "automargin": true,
           "gridcolor": "#EBF0F8",
           "linecolor": "#EBF0F8",
           "ticks": "",
           "title": {
            "standoff": 15
           },
           "zerolinecolor": "#EBF0F8",
           "zerolinewidth": 2
          },
          "yaxis": {
           "automargin": true,
           "gridcolor": "#EBF0F8",
           "linecolor": "#EBF0F8",
           "ticks": "",
           "title": {
            "standoff": 15
           },
           "zerolinecolor": "#EBF0F8",
           "zerolinewidth": 2
          }
         }
        },
        "title": {
         "text": "Average Like Ratio by Follower Type"
        },
        "width": 600,
        "xaxis": {
         "title": {
          "text": "User Type"
         }
        },
        "yaxis": {
         "tickformat": ".0%",
         "title": {
          "text": "Share of Likes"
         }
        }
       }
      }
     },
     "metadata": {},
     "output_type": "display_data"
    }
   ],
   "source": [
    "likes = session.query(Likes).all()\n",
    "followers = session.query(Follower).all()\n",
    "follower_ids = set(f.profile_id for f in followers)\n",
    "\n",
    "df_likes = pd.DataFrame([{\n",
    "    'profile_id': l.profile_id,\n",
    "    'post_id': l.post_id,\n",
    "    'is_follower': l.profile_id in follower_ids\n",
    "} for l in likes])\n",
    "\n",
    "avg_follower_ratio = df_likes['is_follower'].mean()\n",
    "avg_non_follower_ratio = 1 - avg_follower_ratio\n",
    "\n",
    "# Values from your code\n",
    "labels = ['Followers', 'Non-Followers']\n",
    "values = [avg_follower_ratio, avg_non_follower_ratio]\n",
    "\n",
    "fig = go.Figure(data=[\n",
    "    go.Bar(\n",
    "        x=labels,\n",
    "        y=values,\n",
    "        marker_color=['steelblue', 'indianred'],\n",
    "        text=[f\"{v:.2%}\" for v in values],  # show % labels\n",
    "        textposition='auto'\n",
    "    )\n",
    "])\n",
    "\n",
    "fig.update_layout(\n",
    "    title='Average Like Ratio by Follower Type',\n",
    "    xaxis_title='User Type',\n",
    "    yaxis_title='Share of Likes',\n",
    "    yaxis_tickformat='.0%',\n",
    "    template='plotly_white',\n",
    "    height=500,\n",
    "    width=600\n",
    ")\n",
    "\n",
    "fig.show()\n"
   ]
  },
  {
   "cell_type": "markdown",
   "id": "8b70c201",
   "metadata": {},
   "source": [
    "#### How many followers vs non-followers liked the top posts?"
   ]
  },
  {
   "cell_type": "code",
   "execution_count": 62,
   "id": "d565e931",
   "metadata": {},
   "outputs": [
    {
     "data": {
      "application/vnd.plotly.v1+json": {
       "config": {
        "plotlyServerURL": "https://plot.ly"
       },
       "data": [
        {
         "marker": {
          "color": "steelblue"
         },
         "name": "Follower Likes",
         "type": "bar",
         "x": [
          "Milljiune Leit in Trier...",
          "#fcknzs #keinbockaufnazis #fckfascism #fckdeutschrock...",
          "Nichts ist so beständig...",
          "Das Jahr neigt sich...",
          "Bis gleich in der...",
          "Zwischen Tour und Festivals...",
          "Dorfterror wird 5 Jahre...",
          "#niewiederistjetzt",
          "Hey Leute! 🎸 Ich...",
          "Wir suchen eine Sängerin!..."
         ],
         "y": {
          "bdata": "DQLlAF8B+ABiAPAAkAAYAfQA/QA=",
          "dtype": "i2"
         }
        },
        {
         "marker": {
          "color": "indianred"
         },
         "name": "Non-Follower Likes",
         "type": "bar",
         "x": [
          "Milljiune Leit in Trier...",
          "#fcknzs #keinbockaufnazis #fckfascism #fckdeutschrock...",
          "Nichts ist so beständig...",
          "Das Jahr neigt sich...",
          "Bis gleich in der...",
          "Zwischen Tour und Festivals...",
          "Dorfterror wird 5 Jahre...",
          "#niewiederistjetzt",
          "Hey Leute! 🎸 Ich...",
          "Wir suchen eine Sängerin!..."
         ],
         "y": {
          "bdata": "3QWpAB0ASgDaAEUAoAAWADQAJAA=",
          "dtype": "i2"
         }
        }
       ],
       "layout": {
        "bargap": 0.2,
        "barmode": "stack",
        "height": 600,
        "legend": {
         "title": {
          "text": "Like Source"
         }
        },
        "template": {
         "data": {
          "bar": [
           {
            "error_x": {
             "color": "#2a3f5f"
            },
            "error_y": {
             "color": "#2a3f5f"
            },
            "marker": {
             "line": {
              "color": "white",
              "width": 0.5
             },
             "pattern": {
              "fillmode": "overlay",
              "size": 10,
              "solidity": 0.2
             }
            },
            "type": "bar"
           }
          ],
          "barpolar": [
           {
            "marker": {
             "line": {
              "color": "white",
              "width": 0.5
             },
             "pattern": {
              "fillmode": "overlay",
              "size": 10,
              "solidity": 0.2
             }
            },
            "type": "barpolar"
           }
          ],
          "carpet": [
           {
            "aaxis": {
             "endlinecolor": "#2a3f5f",
             "gridcolor": "#C8D4E3",
             "linecolor": "#C8D4E3",
             "minorgridcolor": "#C8D4E3",
             "startlinecolor": "#2a3f5f"
            },
            "baxis": {
             "endlinecolor": "#2a3f5f",
             "gridcolor": "#C8D4E3",
             "linecolor": "#C8D4E3",
             "minorgridcolor": "#C8D4E3",
             "startlinecolor": "#2a3f5f"
            },
            "type": "carpet"
           }
          ],
          "choropleth": [
           {
            "colorbar": {
             "outlinewidth": 0,
             "ticks": ""
            },
            "type": "choropleth"
           }
          ],
          "contour": [
           {
            "colorbar": {
             "outlinewidth": 0,
             "ticks": ""
            },
            "colorscale": [
             [
              0,
              "#0d0887"
             ],
             [
              0.1111111111111111,
              "#46039f"
             ],
             [
              0.2222222222222222,
              "#7201a8"
             ],
             [
              0.3333333333333333,
              "#9c179e"
             ],
             [
              0.4444444444444444,
              "#bd3786"
             ],
             [
              0.5555555555555556,
              "#d8576b"
             ],
             [
              0.6666666666666666,
              "#ed7953"
             ],
             [
              0.7777777777777778,
              "#fb9f3a"
             ],
             [
              0.8888888888888888,
              "#fdca26"
             ],
             [
              1,
              "#f0f921"
             ]
            ],
            "type": "contour"
           }
          ],
          "contourcarpet": [
           {
            "colorbar": {
             "outlinewidth": 0,
             "ticks": ""
            },
            "type": "contourcarpet"
           }
          ],
          "heatmap": [
           {
            "colorbar": {
             "outlinewidth": 0,
             "ticks": ""
            },
            "colorscale": [
             [
              0,
              "#0d0887"
             ],
             [
              0.1111111111111111,
              "#46039f"
             ],
             [
              0.2222222222222222,
              "#7201a8"
             ],
             [
              0.3333333333333333,
              "#9c179e"
             ],
             [
              0.4444444444444444,
              "#bd3786"
             ],
             [
              0.5555555555555556,
              "#d8576b"
             ],
             [
              0.6666666666666666,
              "#ed7953"
             ],
             [
              0.7777777777777778,
              "#fb9f3a"
             ],
             [
              0.8888888888888888,
              "#fdca26"
             ],
             [
              1,
              "#f0f921"
             ]
            ],
            "type": "heatmap"
           }
          ],
          "histogram": [
           {
            "marker": {
             "pattern": {
              "fillmode": "overlay",
              "size": 10,
              "solidity": 0.2
             }
            },
            "type": "histogram"
           }
          ],
          "histogram2d": [
           {
            "colorbar": {
             "outlinewidth": 0,
             "ticks": ""
            },
            "colorscale": [
             [
              0,
              "#0d0887"
             ],
             [
              0.1111111111111111,
              "#46039f"
             ],
             [
              0.2222222222222222,
              "#7201a8"
             ],
             [
              0.3333333333333333,
              "#9c179e"
             ],
             [
              0.4444444444444444,
              "#bd3786"
             ],
             [
              0.5555555555555556,
              "#d8576b"
             ],
             [
              0.6666666666666666,
              "#ed7953"
             ],
             [
              0.7777777777777778,
              "#fb9f3a"
             ],
             [
              0.8888888888888888,
              "#fdca26"
             ],
             [
              1,
              "#f0f921"
             ]
            ],
            "type": "histogram2d"
           }
          ],
          "histogram2dcontour": [
           {
            "colorbar": {
             "outlinewidth": 0,
             "ticks": ""
            },
            "colorscale": [
             [
              0,
              "#0d0887"
             ],
             [
              0.1111111111111111,
              "#46039f"
             ],
             [
              0.2222222222222222,
              "#7201a8"
             ],
             [
              0.3333333333333333,
              "#9c179e"
             ],
             [
              0.4444444444444444,
              "#bd3786"
             ],
             [
              0.5555555555555556,
              "#d8576b"
             ],
             [
              0.6666666666666666,
              "#ed7953"
             ],
             [
              0.7777777777777778,
              "#fb9f3a"
             ],
             [
              0.8888888888888888,
              "#fdca26"
             ],
             [
              1,
              "#f0f921"
             ]
            ],
            "type": "histogram2dcontour"
           }
          ],
          "mesh3d": [
           {
            "colorbar": {
             "outlinewidth": 0,
             "ticks": ""
            },
            "type": "mesh3d"
           }
          ],
          "parcoords": [
           {
            "line": {
             "colorbar": {
              "outlinewidth": 0,
              "ticks": ""
             }
            },
            "type": "parcoords"
           }
          ],
          "pie": [
           {
            "automargin": true,
            "type": "pie"
           }
          ],
          "scatter": [
           {
            "fillpattern": {
             "fillmode": "overlay",
             "size": 10,
             "solidity": 0.2
            },
            "type": "scatter"
           }
          ],
          "scatter3d": [
           {
            "line": {
             "colorbar": {
              "outlinewidth": 0,
              "ticks": ""
             }
            },
            "marker": {
             "colorbar": {
              "outlinewidth": 0,
              "ticks": ""
             }
            },
            "type": "scatter3d"
           }
          ],
          "scattercarpet": [
           {
            "marker": {
             "colorbar": {
              "outlinewidth": 0,
              "ticks": ""
             }
            },
            "type": "scattercarpet"
           }
          ],
          "scattergeo": [
           {
            "marker": {
             "colorbar": {
              "outlinewidth": 0,
              "ticks": ""
             }
            },
            "type": "scattergeo"
           }
          ],
          "scattergl": [
           {
            "marker": {
             "colorbar": {
              "outlinewidth": 0,
              "ticks": ""
             }
            },
            "type": "scattergl"
           }
          ],
          "scattermap": [
           {
            "marker": {
             "colorbar": {
              "outlinewidth": 0,
              "ticks": ""
             }
            },
            "type": "scattermap"
           }
          ],
          "scattermapbox": [
           {
            "marker": {
             "colorbar": {
              "outlinewidth": 0,
              "ticks": ""
             }
            },
            "type": "scattermapbox"
           }
          ],
          "scatterpolar": [
           {
            "marker": {
             "colorbar": {
              "outlinewidth": 0,
              "ticks": ""
             }
            },
            "type": "scatterpolar"
           }
          ],
          "scatterpolargl": [
           {
            "marker": {
             "colorbar": {
              "outlinewidth": 0,
              "ticks": ""
             }
            },
            "type": "scatterpolargl"
           }
          ],
          "scatterternary": [
           {
            "marker": {
             "colorbar": {
              "outlinewidth": 0,
              "ticks": ""
             }
            },
            "type": "scatterternary"
           }
          ],
          "surface": [
           {
            "colorbar": {
             "outlinewidth": 0,
             "ticks": ""
            },
            "colorscale": [
             [
              0,
              "#0d0887"
             ],
             [
              0.1111111111111111,
              "#46039f"
             ],
             [
              0.2222222222222222,
              "#7201a8"
             ],
             [
              0.3333333333333333,
              "#9c179e"
             ],
             [
              0.4444444444444444,
              "#bd3786"
             ],
             [
              0.5555555555555556,
              "#d8576b"
             ],
             [
              0.6666666666666666,
              "#ed7953"
             ],
             [
              0.7777777777777778,
              "#fb9f3a"
             ],
             [
              0.8888888888888888,
              "#fdca26"
             ],
             [
              1,
              "#f0f921"
             ]
            ],
            "type": "surface"
           }
          ],
          "table": [
           {
            "cells": {
             "fill": {
              "color": "#EBF0F8"
             },
             "line": {
              "color": "white"
             }
            },
            "header": {
             "fill": {
              "color": "#C8D4E3"
             },
             "line": {
              "color": "white"
             }
            },
            "type": "table"
           }
          ]
         },
         "layout": {
          "annotationdefaults": {
           "arrowcolor": "#2a3f5f",
           "arrowhead": 0,
           "arrowwidth": 1
          },
          "autotypenumbers": "strict",
          "coloraxis": {
           "colorbar": {
            "outlinewidth": 0,
            "ticks": ""
           }
          },
          "colorscale": {
           "diverging": [
            [
             0,
             "#8e0152"
            ],
            [
             0.1,
             "#c51b7d"
            ],
            [
             0.2,
             "#de77ae"
            ],
            [
             0.3,
             "#f1b6da"
            ],
            [
             0.4,
             "#fde0ef"
            ],
            [
             0.5,
             "#f7f7f7"
            ],
            [
             0.6,
             "#e6f5d0"
            ],
            [
             0.7,
             "#b8e186"
            ],
            [
             0.8,
             "#7fbc41"
            ],
            [
             0.9,
             "#4d9221"
            ],
            [
             1,
             "#276419"
            ]
           ],
           "sequential": [
            [
             0,
             "#0d0887"
            ],
            [
             0.1111111111111111,
             "#46039f"
            ],
            [
             0.2222222222222222,
             "#7201a8"
            ],
            [
             0.3333333333333333,
             "#9c179e"
            ],
            [
             0.4444444444444444,
             "#bd3786"
            ],
            [
             0.5555555555555556,
             "#d8576b"
            ],
            [
             0.6666666666666666,
             "#ed7953"
            ],
            [
             0.7777777777777778,
             "#fb9f3a"
            ],
            [
             0.8888888888888888,
             "#fdca26"
            ],
            [
             1,
             "#f0f921"
            ]
           ],
           "sequentialminus": [
            [
             0,
             "#0d0887"
            ],
            [
             0.1111111111111111,
             "#46039f"
            ],
            [
             0.2222222222222222,
             "#7201a8"
            ],
            [
             0.3333333333333333,
             "#9c179e"
            ],
            [
             0.4444444444444444,
             "#bd3786"
            ],
            [
             0.5555555555555556,
             "#d8576b"
            ],
            [
             0.6666666666666666,
             "#ed7953"
            ],
            [
             0.7777777777777778,
             "#fb9f3a"
            ],
            [
             0.8888888888888888,
             "#fdca26"
            ],
            [
             1,
             "#f0f921"
            ]
           ]
          },
          "colorway": [
           "#636efa",
           "#EF553B",
           "#00cc96",
           "#ab63fa",
           "#FFA15A",
           "#19d3f3",
           "#FF6692",
           "#B6E880",
           "#FF97FF",
           "#FECB52"
          ],
          "font": {
           "color": "#2a3f5f"
          },
          "geo": {
           "bgcolor": "white",
           "lakecolor": "white",
           "landcolor": "white",
           "showlakes": true,
           "showland": true,
           "subunitcolor": "#C8D4E3"
          },
          "hoverlabel": {
           "align": "left"
          },
          "hovermode": "closest",
          "mapbox": {
           "style": "light"
          },
          "paper_bgcolor": "white",
          "plot_bgcolor": "white",
          "polar": {
           "angularaxis": {
            "gridcolor": "#EBF0F8",
            "linecolor": "#EBF0F8",
            "ticks": ""
           },
           "bgcolor": "white",
           "radialaxis": {
            "gridcolor": "#EBF0F8",
            "linecolor": "#EBF0F8",
            "ticks": ""
           }
          },
          "scene": {
           "xaxis": {
            "backgroundcolor": "white",
            "gridcolor": "#DFE8F3",
            "gridwidth": 2,
            "linecolor": "#EBF0F8",
            "showbackground": true,
            "ticks": "",
            "zerolinecolor": "#EBF0F8"
           },
           "yaxis": {
            "backgroundcolor": "white",
            "gridcolor": "#DFE8F3",
            "gridwidth": 2,
            "linecolor": "#EBF0F8",
            "showbackground": true,
            "ticks": "",
            "zerolinecolor": "#EBF0F8"
           },
           "zaxis": {
            "backgroundcolor": "white",
            "gridcolor": "#DFE8F3",
            "gridwidth": 2,
            "linecolor": "#EBF0F8",
            "showbackground": true,
            "ticks": "",
            "zerolinecolor": "#EBF0F8"
           }
          },
          "shapedefaults": {
           "line": {
            "color": "#2a3f5f"
           }
          },
          "ternary": {
           "aaxis": {
            "gridcolor": "#DFE8F3",
            "linecolor": "#A2B1C6",
            "ticks": ""
           },
           "baxis": {
            "gridcolor": "#DFE8F3",
            "linecolor": "#A2B1C6",
            "ticks": ""
           },
           "bgcolor": "white",
           "caxis": {
            "gridcolor": "#DFE8F3",
            "linecolor": "#A2B1C6",
            "ticks": ""
           }
          },
          "title": {
           "x": 0.05
          },
          "xaxis": {
           "automargin": true,
           "gridcolor": "#EBF0F8",
           "linecolor": "#EBF0F8",
           "ticks": "",
           "title": {
            "standoff": 15
           },
           "zerolinecolor": "#EBF0F8",
           "zerolinewidth": 2
          },
          "yaxis": {
           "automargin": true,
           "gridcolor": "#EBF0F8",
           "linecolor": "#EBF0F8",
           "ticks": "",
           "title": {
            "standoff": 15
           },
           "zerolinecolor": "#EBF0F8",
           "zerolinewidth": 2
          }
         }
        },
        "title": {
         "text": "Top 10 Posts by Likes (Followers vs Non-Followers)"
        },
        "width": 1000,
        "xaxis": {
         "tickangle": 45,
         "title": {
          "text": "Post Caption (Shortened)"
         }
        },
        "yaxis": {
         "title": {
          "text": "Like Count"
         }
        }
       }
      }
     },
     "metadata": {},
     "output_type": "display_data"
    }
   ],
   "source": [
    "# Step 1: Query data\n",
    "likes = session.query(Likes).all()\n",
    "followers = session.query(Follower).all()\n",
    "follower_ids = set(f.profile_id for f in followers)\n",
    "\n",
    "posts = session.query(Post).all()\n",
    "post_map = {p.id: p for p in posts}\n",
    "\n",
    "# Step 2: Count likes\n",
    "post_like_count = defaultdict(lambda: {'follower': 0, 'non_follower': 0})\n",
    "for like in likes:\n",
    "    if like.post_id in post_map:\n",
    "        is_follower = like.profile_id in follower_ids\n",
    "        if is_follower:\n",
    "            post_like_count[like.post_id]['follower'] += 1\n",
    "        else:\n",
    "            post_like_count[like.post_id]['non_follower'] += 1\n",
    "\n",
    "# Step 3: Build DataFrame\n",
    "def caption_snippet(caption, word_count=4):\n",
    "    if not caption:\n",
    "        return \"(No caption)\"\n",
    "    return \" \".join(caption.split()[:word_count]) + (\"...\" if len(caption.split()) > word_count else \"\")\n",
    "\n",
    "df_top_likes = pd.DataFrame([\n",
    "    {\n",
    "        'caption_snippet': caption_snippet(post_map[pid].caption),\n",
    "        'follower': counts['follower'],\n",
    "        'non_follower': counts['non_follower'],\n",
    "        'total': counts['follower'] + counts['non_follower']\n",
    "    }\n",
    "    for pid, counts in post_like_count.items()\n",
    "])\n",
    "\n",
    "df_top_likes = df_top_likes.sort_values('total', ascending=False).head(10)\n",
    "\n",
    "# Step 4: Plotly stacked bar\n",
    "fig = go.Figure(data=[\n",
    "    go.Bar(\n",
    "        name='Follower Likes',\n",
    "        x=df_top_likes['caption_snippet'],\n",
    "        y=df_top_likes['follower'],\n",
    "        marker_color='steelblue'\n",
    "    ),\n",
    "    go.Bar(\n",
    "        name='Non-Follower Likes',\n",
    "        x=df_top_likes['caption_snippet'],\n",
    "        y=df_top_likes['non_follower'],\n",
    "        marker_color='indianred'\n",
    "    )\n",
    "])\n",
    "\n",
    "fig.update_layout(\n",
    "    barmode='stack',\n",
    "    title='Top 10 Posts by Likes (Followers vs Non-Followers)',\n",
    "    xaxis_title='Post Caption (Shortened)',\n",
    "    yaxis_title='Like Count',\n",
    "    xaxis_tickangle=45,\n",
    "    template='plotly_white',\n",
    "    legend=dict(title='Like Source'),\n",
    "    height=600,\n",
    "    width=1000,\n",
    "    bargap=0.2  # smaller gap makes bars thicker\n",
    ")\n",
    "\n",
    "fig.show()\n",
    "\n"
   ]
  },
  {
   "cell_type": "markdown",
   "id": "fa90f29e",
   "metadata": {},
   "source": [
    "#### Likes on a time series"
   ]
  },
  {
   "cell_type": "code",
   "execution_count": 63,
   "id": "f80e721e",
   "metadata": {},
   "outputs": [
    {
     "data": {
      "application/vnd.plotly.v1+json": {
       "config": {
        "plotlyServerURL": "https://plot.ly"
       },
       "data": [
        {
         "hovertemplate": "Month=%{x}<br>Total Likes=%{y}<extra></extra>",
         "legendgroup": "",
         "line": {
          "color": "#636efa",
          "dash": "solid"
         },
         "marker": {
          "symbol": "circle"
         },
         "mode": "lines+markers",
         "name": "",
         "orientation": "v",
         "showlegend": false,
         "type": "scatter",
         "x": [
          "2018-02",
          "2018-04",
          "2018-05",
          "2018-06",
          "2018-07",
          "2018-08",
          "2018-09",
          "2018-10",
          "2018-11",
          "2018-12",
          "2019-01",
          "2019-02",
          "2019-03",
          "2019-04",
          "2019-05",
          "2019-06",
          "2019-07",
          "2019-08",
          "2019-09",
          "2019-10",
          "2019-11",
          "2019-12",
          "2020-01",
          "2020-02",
          "2020-03",
          "2020-04",
          "2020-06",
          "2020-07",
          "2020-09",
          "2020-10",
          "2020-11",
          "2020-12",
          "2021-01",
          "2021-02",
          "2021-03",
          "2021-04",
          "2021-05",
          "2021-07",
          "2021-08",
          "2021-09",
          "2021-11",
          "2021-12",
          "2022-01",
          "2022-02",
          "2022-03",
          "2022-04",
          "2022-05",
          "2022-06",
          "2022-07",
          "2022-08",
          "2022-09",
          "2022-10",
          "2022-11",
          "2022-12",
          "2023-01",
          "2023-02",
          "2023-03",
          "2023-04",
          "2023-05",
          "2023-06",
          "2023-07",
          "2023-08",
          "2023-09",
          "2023-10",
          "2023-11",
          "2023-12",
          "2024-01",
          "2024-02",
          "2024-03",
          "2024-04",
          "2024-05",
          "2024-06",
          "2024-07",
          "2024-08",
          "2024-09",
          "2024-10",
          "2024-11",
          "2024-12",
          "2025-01",
          "2025-02",
          "2025-03",
          "2025-04",
          "2025-05",
          "2025-06",
          "2025-07"
         ],
         "xaxis": "x",
         "y": {
          "bdata": "vwBTAFAAZwCaAJIAMAGNAZ8DeQHuAbQCqwGtAfYBCQJMAfYAsgHZARkDkwEcAYYBHgF8AR8BPQBBAU0AQQBhAOgAjwCZAD4AAgGTAEUAqgA1AIQAugAqAY0DAwEmASABNQI/A9YD+QL2AYIBRgQ5AjcCngCzBfsCuQXRBE0BBgThA1oDpwanA2MFzQm+BeUJqAu+BUAHpQfhCbMJqweTET0LhQWZBHIEfgE=",
          "dtype": "i2"
         },
         "yaxis": "y"
        }
       ],
       "layout": {
        "legend": {
         "tracegroupgap": 0
        },
        "template": {
         "data": {
          "bar": [
           {
            "error_x": {
             "color": "#2a3f5f"
            },
            "error_y": {
             "color": "#2a3f5f"
            },
            "marker": {
             "line": {
              "color": "white",
              "width": 0.5
             },
             "pattern": {
              "fillmode": "overlay",
              "size": 10,
              "solidity": 0.2
             }
            },
            "type": "bar"
           }
          ],
          "barpolar": [
           {
            "marker": {
             "line": {
              "color": "white",
              "width": 0.5
             },
             "pattern": {
              "fillmode": "overlay",
              "size": 10,
              "solidity": 0.2
             }
            },
            "type": "barpolar"
           }
          ],
          "carpet": [
           {
            "aaxis": {
             "endlinecolor": "#2a3f5f",
             "gridcolor": "#C8D4E3",
             "linecolor": "#C8D4E3",
             "minorgridcolor": "#C8D4E3",
             "startlinecolor": "#2a3f5f"
            },
            "baxis": {
             "endlinecolor": "#2a3f5f",
             "gridcolor": "#C8D4E3",
             "linecolor": "#C8D4E3",
             "minorgridcolor": "#C8D4E3",
             "startlinecolor": "#2a3f5f"
            },
            "type": "carpet"
           }
          ],
          "choropleth": [
           {
            "colorbar": {
             "outlinewidth": 0,
             "ticks": ""
            },
            "type": "choropleth"
           }
          ],
          "contour": [
           {
            "colorbar": {
             "outlinewidth": 0,
             "ticks": ""
            },
            "colorscale": [
             [
              0,
              "#0d0887"
             ],
             [
              0.1111111111111111,
              "#46039f"
             ],
             [
              0.2222222222222222,
              "#7201a8"
             ],
             [
              0.3333333333333333,
              "#9c179e"
             ],
             [
              0.4444444444444444,
              "#bd3786"
             ],
             [
              0.5555555555555556,
              "#d8576b"
             ],
             [
              0.6666666666666666,
              "#ed7953"
             ],
             [
              0.7777777777777778,
              "#fb9f3a"
             ],
             [
              0.8888888888888888,
              "#fdca26"
             ],
             [
              1,
              "#f0f921"
             ]
            ],
            "type": "contour"
           }
          ],
          "contourcarpet": [
           {
            "colorbar": {
             "outlinewidth": 0,
             "ticks": ""
            },
            "type": "contourcarpet"
           }
          ],
          "heatmap": [
           {
            "colorbar": {
             "outlinewidth": 0,
             "ticks": ""
            },
            "colorscale": [
             [
              0,
              "#0d0887"
             ],
             [
              0.1111111111111111,
              "#46039f"
             ],
             [
              0.2222222222222222,
              "#7201a8"
             ],
             [
              0.3333333333333333,
              "#9c179e"
             ],
             [
              0.4444444444444444,
              "#bd3786"
             ],
             [
              0.5555555555555556,
              "#d8576b"
             ],
             [
              0.6666666666666666,
              "#ed7953"
             ],
             [
              0.7777777777777778,
              "#fb9f3a"
             ],
             [
              0.8888888888888888,
              "#fdca26"
             ],
             [
              1,
              "#f0f921"
             ]
            ],
            "type": "heatmap"
           }
          ],
          "histogram": [
           {
            "marker": {
             "pattern": {
              "fillmode": "overlay",
              "size": 10,
              "solidity": 0.2
             }
            },
            "type": "histogram"
           }
          ],
          "histogram2d": [
           {
            "colorbar": {
             "outlinewidth": 0,
             "ticks": ""
            },
            "colorscale": [
             [
              0,
              "#0d0887"
             ],
             [
              0.1111111111111111,
              "#46039f"
             ],
             [
              0.2222222222222222,
              "#7201a8"
             ],
             [
              0.3333333333333333,
              "#9c179e"
             ],
             [
              0.4444444444444444,
              "#bd3786"
             ],
             [
              0.5555555555555556,
              "#d8576b"
             ],
             [
              0.6666666666666666,
              "#ed7953"
             ],
             [
              0.7777777777777778,
              "#fb9f3a"
             ],
             [
              0.8888888888888888,
              "#fdca26"
             ],
             [
              1,
              "#f0f921"
             ]
            ],
            "type": "histogram2d"
           }
          ],
          "histogram2dcontour": [
           {
            "colorbar": {
             "outlinewidth": 0,
             "ticks": ""
            },
            "colorscale": [
             [
              0,
              "#0d0887"
             ],
             [
              0.1111111111111111,
              "#46039f"
             ],
             [
              0.2222222222222222,
              "#7201a8"
             ],
             [
              0.3333333333333333,
              "#9c179e"
             ],
             [
              0.4444444444444444,
              "#bd3786"
             ],
             [
              0.5555555555555556,
              "#d8576b"
             ],
             [
              0.6666666666666666,
              "#ed7953"
             ],
             [
              0.7777777777777778,
              "#fb9f3a"
             ],
             [
              0.8888888888888888,
              "#fdca26"
             ],
             [
              1,
              "#f0f921"
             ]
            ],
            "type": "histogram2dcontour"
           }
          ],
          "mesh3d": [
           {
            "colorbar": {
             "outlinewidth": 0,
             "ticks": ""
            },
            "type": "mesh3d"
           }
          ],
          "parcoords": [
           {
            "line": {
             "colorbar": {
              "outlinewidth": 0,
              "ticks": ""
             }
            },
            "type": "parcoords"
           }
          ],
          "pie": [
           {
            "automargin": true,
            "type": "pie"
           }
          ],
          "scatter": [
           {
            "fillpattern": {
             "fillmode": "overlay",
             "size": 10,
             "solidity": 0.2
            },
            "type": "scatter"
           }
          ],
          "scatter3d": [
           {
            "line": {
             "colorbar": {
              "outlinewidth": 0,
              "ticks": ""
             }
            },
            "marker": {
             "colorbar": {
              "outlinewidth": 0,
              "ticks": ""
             }
            },
            "type": "scatter3d"
           }
          ],
          "scattercarpet": [
           {
            "marker": {
             "colorbar": {
              "outlinewidth": 0,
              "ticks": ""
             }
            },
            "type": "scattercarpet"
           }
          ],
          "scattergeo": [
           {
            "marker": {
             "colorbar": {
              "outlinewidth": 0,
              "ticks": ""
             }
            },
            "type": "scattergeo"
           }
          ],
          "scattergl": [
           {
            "marker": {
             "colorbar": {
              "outlinewidth": 0,
              "ticks": ""
             }
            },
            "type": "scattergl"
           }
          ],
          "scattermap": [
           {
            "marker": {
             "colorbar": {
              "outlinewidth": 0,
              "ticks": ""
             }
            },
            "type": "scattermap"
           }
          ],
          "scattermapbox": [
           {
            "marker": {
             "colorbar": {
              "outlinewidth": 0,
              "ticks": ""
             }
            },
            "type": "scattermapbox"
           }
          ],
          "scatterpolar": [
           {
            "marker": {
             "colorbar": {
              "outlinewidth": 0,
              "ticks": ""
             }
            },
            "type": "scatterpolar"
           }
          ],
          "scatterpolargl": [
           {
            "marker": {
             "colorbar": {
              "outlinewidth": 0,
              "ticks": ""
             }
            },
            "type": "scatterpolargl"
           }
          ],
          "scatterternary": [
           {
            "marker": {
             "colorbar": {
              "outlinewidth": 0,
              "ticks": ""
             }
            },
            "type": "scatterternary"
           }
          ],
          "surface": [
           {
            "colorbar": {
             "outlinewidth": 0,
             "ticks": ""
            },
            "colorscale": [
             [
              0,
              "#0d0887"
             ],
             [
              0.1111111111111111,
              "#46039f"
             ],
             [
              0.2222222222222222,
              "#7201a8"
             ],
             [
              0.3333333333333333,
              "#9c179e"
             ],
             [
              0.4444444444444444,
              "#bd3786"
             ],
             [
              0.5555555555555556,
              "#d8576b"
             ],
             [
              0.6666666666666666,
              "#ed7953"
             ],
             [
              0.7777777777777778,
              "#fb9f3a"
             ],
             [
              0.8888888888888888,
              "#fdca26"
             ],
             [
              1,
              "#f0f921"
             ]
            ],
            "type": "surface"
           }
          ],
          "table": [
           {
            "cells": {
             "fill": {
              "color": "#EBF0F8"
             },
             "line": {
              "color": "white"
             }
            },
            "header": {
             "fill": {
              "color": "#C8D4E3"
             },
             "line": {
              "color": "white"
             }
            },
            "type": "table"
           }
          ]
         },
         "layout": {
          "annotationdefaults": {
           "arrowcolor": "#2a3f5f",
           "arrowhead": 0,
           "arrowwidth": 1
          },
          "autotypenumbers": "strict",
          "coloraxis": {
           "colorbar": {
            "outlinewidth": 0,
            "ticks": ""
           }
          },
          "colorscale": {
           "diverging": [
            [
             0,
             "#8e0152"
            ],
            [
             0.1,
             "#c51b7d"
            ],
            [
             0.2,
             "#de77ae"
            ],
            [
             0.3,
             "#f1b6da"
            ],
            [
             0.4,
             "#fde0ef"
            ],
            [
             0.5,
             "#f7f7f7"
            ],
            [
             0.6,
             "#e6f5d0"
            ],
            [
             0.7,
             "#b8e186"
            ],
            [
             0.8,
             "#7fbc41"
            ],
            [
             0.9,
             "#4d9221"
            ],
            [
             1,
             "#276419"
            ]
           ],
           "sequential": [
            [
             0,
             "#0d0887"
            ],
            [
             0.1111111111111111,
             "#46039f"
            ],
            [
             0.2222222222222222,
             "#7201a8"
            ],
            [
             0.3333333333333333,
             "#9c179e"
            ],
            [
             0.4444444444444444,
             "#bd3786"
            ],
            [
             0.5555555555555556,
             "#d8576b"
            ],
            [
             0.6666666666666666,
             "#ed7953"
            ],
            [
             0.7777777777777778,
             "#fb9f3a"
            ],
            [
             0.8888888888888888,
             "#fdca26"
            ],
            [
             1,
             "#f0f921"
            ]
           ],
           "sequentialminus": [
            [
             0,
             "#0d0887"
            ],
            [
             0.1111111111111111,
             "#46039f"
            ],
            [
             0.2222222222222222,
             "#7201a8"
            ],
            [
             0.3333333333333333,
             "#9c179e"
            ],
            [
             0.4444444444444444,
             "#bd3786"
            ],
            [
             0.5555555555555556,
             "#d8576b"
            ],
            [
             0.6666666666666666,
             "#ed7953"
            ],
            [
             0.7777777777777778,
             "#fb9f3a"
            ],
            [
             0.8888888888888888,
             "#fdca26"
            ],
            [
             1,
             "#f0f921"
            ]
           ]
          },
          "colorway": [
           "#636efa",
           "#EF553B",
           "#00cc96",
           "#ab63fa",
           "#FFA15A",
           "#19d3f3",
           "#FF6692",
           "#B6E880",
           "#FF97FF",
           "#FECB52"
          ],
          "font": {
           "color": "#2a3f5f"
          },
          "geo": {
           "bgcolor": "white",
           "lakecolor": "white",
           "landcolor": "white",
           "showlakes": true,
           "showland": true,
           "subunitcolor": "#C8D4E3"
          },
          "hoverlabel": {
           "align": "left"
          },
          "hovermode": "closest",
          "mapbox": {
           "style": "light"
          },
          "paper_bgcolor": "white",
          "plot_bgcolor": "white",
          "polar": {
           "angularaxis": {
            "gridcolor": "#EBF0F8",
            "linecolor": "#EBF0F8",
            "ticks": ""
           },
           "bgcolor": "white",
           "radialaxis": {
            "gridcolor": "#EBF0F8",
            "linecolor": "#EBF0F8",
            "ticks": ""
           }
          },
          "scene": {
           "xaxis": {
            "backgroundcolor": "white",
            "gridcolor": "#DFE8F3",
            "gridwidth": 2,
            "linecolor": "#EBF0F8",
            "showbackground": true,
            "ticks": "",
            "zerolinecolor": "#EBF0F8"
           },
           "yaxis": {
            "backgroundcolor": "white",
            "gridcolor": "#DFE8F3",
            "gridwidth": 2,
            "linecolor": "#EBF0F8",
            "showbackground": true,
            "ticks": "",
            "zerolinecolor": "#EBF0F8"
           },
           "zaxis": {
            "backgroundcolor": "white",
            "gridcolor": "#DFE8F3",
            "gridwidth": 2,
            "linecolor": "#EBF0F8",
            "showbackground": true,
            "ticks": "",
            "zerolinecolor": "#EBF0F8"
           }
          },
          "shapedefaults": {
           "line": {
            "color": "#2a3f5f"
           }
          },
          "ternary": {
           "aaxis": {
            "gridcolor": "#DFE8F3",
            "linecolor": "#A2B1C6",
            "ticks": ""
           },
           "baxis": {
            "gridcolor": "#DFE8F3",
            "linecolor": "#A2B1C6",
            "ticks": ""
           },
           "bgcolor": "white",
           "caxis": {
            "gridcolor": "#DFE8F3",
            "linecolor": "#A2B1C6",
            "ticks": ""
           }
          },
          "title": {
           "x": 0.05
          },
          "xaxis": {
           "automargin": true,
           "gridcolor": "#EBF0F8",
           "linecolor": "#EBF0F8",
           "ticks": "",
           "title": {
            "standoff": 15
           },
           "zerolinecolor": "#EBF0F8",
           "zerolinewidth": 2
          },
          "yaxis": {
           "automargin": true,
           "gridcolor": "#EBF0F8",
           "linecolor": "#EBF0F8",
           "ticks": "",
           "title": {
            "standoff": 15
           },
           "zerolinecolor": "#EBF0F8",
           "zerolinewidth": 2
          }
         }
        },
        "title": {
         "text": "Cumulated Likes Per Month"
        },
        "xaxis": {
         "anchor": "y",
         "domain": [
          0,
          1
         ],
         "tickangle": -45,
         "title": {
          "text": "Month"
         }
        },
        "yaxis": {
         "anchor": "x",
         "domain": [
          0,
          1
         ],
         "title": {
          "text": "Total Likes"
         }
        }
       }
      }
     },
     "metadata": {},
     "output_type": "display_data"
    }
   ],
   "source": [
    "# Convert 'date_local' to datetime and extract month\n",
    "df_posts['date_local'] = pd.to_datetime(df_posts['date_local'])\n",
    "df_posts['month'] = df_posts['date_local'].dt.to_period('M')\n",
    "\n",
    "# Group and prepare data\n",
    "df_monthly = df_posts.groupby('month')['like_count'].sum().reset_index()\n",
    "df_monthly['month'] = df_monthly['month'].astype(str)\n",
    "\n",
    "# Create interactive plot\n",
    "fig = px.line(\n",
    "    df_monthly,\n",
    "    x='month',\n",
    "    y='like_count',\n",
    "    title='Cumulated Likes Per Month',\n",
    "    markers=True,\n",
    "    labels={'month': 'Month', 'like_count': 'Total Likes'}\n",
    ")\n",
    "\n",
    "# Update layout for better readability\n",
    "fig.update_layout(\n",
    "    xaxis_title='Month',\n",
    "    yaxis_title='Total Likes',\n",
    "    xaxis_tickangle=-45,\n",
    "    template='plotly_white'\n",
    ")\n",
    "\n",
    "fig.show()\n"
   ]
  },
  {
   "cell_type": "code",
   "execution_count": 64,
   "id": "fd01809e",
   "metadata": {},
   "outputs": [
    {
     "data": {
      "application/vnd.plotly.v1+json": {
       "config": {
        "plotlyServerURL": "https://plot.ly"
       },
       "data": [
        {
         "hovertemplate": "Post Date=%{x}<br>Likes=%{y}<extra></extra>",
         "legendgroup": "",
         "line": {
          "color": "#636efa",
          "dash": "solid"
         },
         "marker": {
          "symbol": "circle"
         },
         "mode": "lines+markers",
         "name": "",
         "orientation": "v",
         "showlegend": false,
         "type": "scatter",
         "x": [
          "2018-02-11T09:38:19",
          "2018-02-11T09:50:08",
          "2018-02-11T12:30:35",
          "2018-02-11T12:35:16",
          "2018-02-13T09:29:36",
          "2018-02-13T09:33:10",
          "2018-04-21T15:23:22",
          "2018-04-21T21:10:54",
          "2018-05-14T15:22:12",
          "2018-05-27T15:49:51",
          "2018-06-19T05:02:35",
          "2018-06-30T04:06:14",
          "2018-07-11T16:03:14",
          "2018-07-16T16:06:30",
          "2018-07-22T19:20:52",
          "2018-08-17T19:07:49",
          "2018-08-19T11:52:33",
          "2018-08-27T17:55:39",
          "2018-09-01T08:23:13",
          "2018-09-02T20:44:56",
          "2018-09-09T09:03:24",
          "2018-09-25T20:01:18",
          "2018-09-30T15:17:32",
          "2018-10-10T18:29:25",
          "2018-10-11T19:43:51",
          "2018-10-12T20:30:53",
          "2018-10-17T12:16:19",
          "2018-10-30T20:05:15",
          "2018-11-02T18:34:35",
          "2018-11-08T21:04:28",
          "2018-11-11T13:22:04",
          "2018-11-14T16:23:59",
          "2018-11-23T14:03:15",
          "2018-11-23T19:02:50",
          "2018-11-24T18:11:42",
          "2018-12-02T10:59:09",
          "2018-12-08T13:49:33",
          "2018-12-19T20:24:01",
          "2018-12-24T10:17:27",
          "2019-01-01T11:26:04",
          "2019-01-12T12:26:27",
          "2019-01-13T17:48:43",
          "2019-01-16T18:50:58",
          "2019-01-21T19:53:02",
          "2019-01-27T09:27:39",
          "2019-02-04T17:16:37",
          "2019-02-05T11:00:02",
          "2019-02-12T17:29:59",
          "2019-02-17T12:45:54",
          "2019-02-21T20:45:15",
          "2019-02-23T18:06:56",
          "2019-02-24T10:04:12",
          "2019-03-05T14:36:48",
          "2019-03-12T15:20:45",
          "2019-03-19T13:50:09",
          "2019-03-22T12:32:15",
          "2019-03-24T21:05:49",
          "2019-04-01T10:30:55",
          "2019-04-04T04:54:14",
          "2019-04-17T12:03:46",
          "2019-04-19T12:40:03",
          "2019-04-25T12:02:49",
          "2019-04-28T15:15:22",
          "2019-05-08T20:01:02",
          "2019-05-10T08:17:51",
          "2019-05-15T12:42:53",
          "2019-05-21T13:59:50",
          "2019-05-26T13:04:26",
          "2019-05-31T14:07:05",
          "2019-06-02T19:55:45",
          "2019-06-10T14:51:48",
          "2019-06-15T10:04:52",
          "2019-06-19T14:19:48",
          "2019-06-25T12:55:02",
          "2019-07-10T19:07:22",
          "2019-07-15T14:51:10",
          "2019-07-16T12:22:32",
          "2019-08-05T09:55:48",
          "2019-08-08T12:54:59",
          "2019-08-27T13:06:18",
          "2019-09-01T21:12:00",
          "2019-09-03T16:46:05",
          "2019-09-12T12:42:13",
          "2019-09-17T04:46:07",
          "2019-09-25T15:28:24",
          "2019-10-13T16:17:33",
          "2019-10-14T15:00:27",
          "2019-10-20T19:07:51",
          "2019-10-24T19:14:06",
          "2019-10-25T14:24:59",
          "2019-10-26T09:33:52",
          "2019-11-03T12:16:16",
          "2019-11-09T10:52:51",
          "2019-11-13T05:49:29",
          "2019-11-13T15:35:49",
          "2019-11-14T17:00:13",
          "2019-11-15T12:42:50",
          "2019-11-19T09:00:55",
          "2019-11-22T16:21:44",
          "2019-11-26T13:01:30",
          "2019-11-27T11:15:55",
          "2019-12-01T15:23:41",
          "2019-12-03T17:01:33",
          "2019-12-06T07:53:25",
          "2019-12-15T09:52:21",
          "2019-12-31T14:41:07",
          "2020-01-09T13:09:33",
          "2020-01-24T12:20:04",
          "2020-01-27T17:18:09",
          "2020-02-06T11:16:00",
          "2020-02-14T06:41:04",
          "2020-02-14T15:48:26",
          "2020-02-25T13:44:37",
          "2020-03-13T17:39:37",
          "2020-03-21T19:39:58",
          "2020-03-24T10:37:15",
          "2020-03-26T11:21:27",
          "2020-03-31T19:08:03",
          "2020-04-01T13:00:02",
          "2020-04-04T20:39:57",
          "2020-04-20T08:32:56",
          "2020-04-24T14:39:54",
          "2020-04-28T16:48:47",
          "2020-06-01T15:20:37",
          "2020-06-02T13:09:13",
          "2020-06-20T10:02:15",
          "2020-07-28T13:04:30",
          "2020-09-22T06:29:13",
          "2020-09-23T16:10:28",
          "2020-09-24T20:36:28",
          "2020-09-26T15:26:16",
          "2020-09-27T14:14:25",
          "2020-10-06T09:41:58",
          "2020-10-06T11:52:11",
          "2020-11-09T17:59:31",
          "2020-12-24T16:18:19",
          "2021-01-12T18:57:09",
          "2021-01-27T10:56:43",
          "2021-02-19T10:26:38",
          "2021-02-26T16:11:28",
          "2021-03-11T12:02:11",
          "2021-03-30T18:16:06",
          "2021-04-02T12:06:31",
          "2021-05-02T21:18:11",
          "2021-05-08T14:51:53",
          "2021-05-12T09:48:36",
          "2021-07-10T12:41:41",
          "2021-07-29T07:49:02",
          "2021-08-10T21:31:32",
          "2021-09-19T16:58:52",
          "2021-09-22T15:28:38",
          "2021-11-06T14:27:57",
          "2021-12-06T17:51:10",
          "2021-12-31T19:30:38",
          "2022-01-12T10:42:55",
          "2022-01-12T12:15:00",
          "2022-01-12T12:21:35",
          "2022-02-02T15:22:26",
          "2022-02-23T17:59:28",
          "2022-03-01T18:36:31",
          "2022-03-05T15:55:57",
          "2022-03-09T16:35:15",
          "2022-03-09T21:07:22",
          "2022-03-16T08:58:51",
          "2022-03-16T09:48:47",
          "2022-03-17T23:00:00",
          "2022-03-20T20:43:46",
          "2022-03-27T20:07:38",
          "2022-03-31T17:08:15",
          "2022-04-14T16:19:57",
          "2022-04-20T15:03:16",
          "2022-04-26T19:31:41",
          "2022-05-04T18:35:44",
          "2022-05-06T07:57:43",
          "2022-05-23T16:23:26",
          "2022-05-26T16:58:39",
          "2022-05-30T12:01:13",
          "2022-06-01T07:28:58",
          "2022-06-03T20:11:59",
          "2022-06-09T06:46:51",
          "2022-06-23T09:44:47",
          "2022-06-30T13:55:44",
          "2022-07-07T09:36:51",
          "2022-07-08T16:19:00",
          "2022-07-12T07:16:54",
          "2022-07-13T18:20:36",
          "2022-07-15T16:20:57",
          "2022-07-17T12:04:02",
          "2022-07-18T09:15:32",
          "2022-07-26T08:28:53",
          "2022-08-01T14:28:52",
          "2022-08-03T09:23:41",
          "2022-08-07T17:22:03",
          "2022-08-11T22:09:52",
          "2022-08-12T11:23:48",
          "2022-08-15T16:10:26",
          "2022-08-20T14:17:32",
          "2022-08-29T16:54:17",
          "2022-08-31T06:56:52",
          "2022-09-02T08:04:26",
          "2022-09-04T12:04:56",
          "2022-09-06T10:58:12",
          "2022-09-10T11:20:48",
          "2022-09-12T07:48:44",
          "2022-09-12T14:52:24",
          "2022-09-18T11:20:56",
          "2022-09-20T15:49:35",
          "2022-09-24T17:36:45",
          "2022-10-03T18:44:42",
          "2022-10-06T19:21:39",
          "2022-10-09T12:59:22",
          "2022-10-19T20:14:58",
          "2022-10-26T14:42:01",
          "2022-11-11T19:06:07",
          "2022-11-18T11:33:20",
          "2022-11-29T20:44:26",
          "2022-11-30T20:23:47",
          "2022-12-02T08:33:16",
          "2022-12-05T11:58:45",
          "2022-12-13T09:11:29",
          "2022-12-19T09:28:15",
          "2022-12-23T10:42:52",
          "2023-01-02T09:39:34",
          "2023-01-04T09:02:56",
          "2023-01-06T18:19:26",
          "2023-01-10T17:03:29",
          "2023-01-12T17:20:05",
          "2023-01-16T16:59:47",
          "2023-01-18T17:12:27",
          "2023-01-19T23:00:55",
          "2023-02-05T13:35:53",
          "2023-02-06T18:32:17",
          "2023-02-18T23:58:00",
          "2023-02-25T00:10:51",
          "2023-03-09T07:59:22",
          "2023-03-15T11:54:54",
          "2023-03-17T08:00:03",
          "2023-03-21T22:17:07",
          "2023-03-28T05:58:42",
          "2023-03-31T09:13:04",
          "2023-04-08T18:53:13",
          "2023-05-01T15:37:55",
          "2023-05-03T13:37:02",
          "2023-05-05T15:57:08",
          "2023-05-08T13:35:44",
          "2023-05-09T20:11:55",
          "2023-05-12T07:14:52",
          "2023-05-13T07:14:55",
          "2023-05-14T09:27:33",
          "2023-05-17T21:12:32",
          "2023-05-21T09:31:02",
          "2023-05-29T10:48:19",
          "2023-05-31T14:01:04",
          "2023-06-11T13:29:27",
          "2023-06-12T17:54:50",
          "2023-06-15T15:48:50",
          "2023-06-19T21:00:13",
          "2023-06-24T11:13:31",
          "2023-06-27T09:08:30",
          "2023-06-29T15:35:13",
          "2023-07-02T20:35:26",
          "2023-07-05T18:22:43",
          "2023-07-07T16:17:26",
          "2023-07-11T15:43:14",
          "2023-07-14T18:45:56",
          "2023-07-15T21:33:07",
          "2023-07-16T15:20:10",
          "2023-07-19T09:36:35",
          "2023-07-22T16:45:59",
          "2023-07-26T17:58:02",
          "2023-08-01T18:32:24",
          "2023-08-09T11:59:45",
          "2023-08-12T11:11:55",
          "2023-08-15T14:13:27",
          "2023-08-17T11:21:03",
          "2023-08-20T07:20:48",
          "2023-08-22T19:10:39",
          "2023-08-24T16:51:35",
          "2023-08-29T14:36:12",
          "2023-09-05T09:38:18",
          "2023-09-13T11:03:18",
          "2023-10-03T07:21:00",
          "2023-10-10T18:24:53",
          "2023-10-14T17:02:48",
          "2023-10-18T14:07:43",
          "2023-10-22T12:40:44",
          "2023-10-26T15:15:25",
          "2023-10-28T13:30:17",
          "2023-10-31T18:39:44",
          "2023-11-02T15:43:33",
          "2023-11-05T19:21:19",
          "2023-11-07T10:29:31",
          "2023-11-12T11:12:43",
          "2023-11-14T20:46:43",
          "2023-11-18T19:05:27",
          "2023-11-20T19:06:00",
          "2023-11-28T07:59:40",
          "2023-11-30T08:15:34",
          "2023-12-03T17:36:51",
          "2023-12-12T17:41:25",
          "2023-12-19T08:38:15",
          "2023-12-20T11:50:33",
          "2023-12-21T23:21:35",
          "2023-12-27T18:29:48",
          "2023-12-28T15:42:45",
          "2024-01-01T17:45:30",
          "2024-01-02T08:58:00",
          "2024-01-04T14:53:50",
          "2024-01-09T12:51:32",
          "2024-01-14T14:49:46",
          "2024-01-17T08:06:50",
          "2024-01-19T12:53:51",
          "2024-01-22T11:01:46",
          "2024-01-24T08:47:18",
          "2024-01-25T16:33:25",
          "2024-01-25T21:56:39",
          "2024-01-26T06:36:46",
          "2024-01-29T11:11:07",
          "2024-01-30T14:34:12",
          "2024-02-01T17:16:59",
          "2024-02-02T14:41:03",
          "2024-02-04T14:20:53",
          "2024-02-13T17:01:56",
          "2024-02-21T08:28:55",
          "2024-02-26T09:52:29",
          "2024-02-28T18:37:29",
          "2024-03-01T12:49:23",
          "2024-03-04T16:29:23",
          "2024-03-06T15:15:27",
          "2024-03-07T17:57:46",
          "2024-03-08T05:44:56",
          "2024-03-12T05:50:41",
          "2024-03-18T10:12:28",
          "2024-03-20T15:45:49",
          "2024-03-22T16:16:26",
          "2024-03-27T14:30:19",
          "2024-03-29T12:31:19",
          "2024-04-01T08:00:00",
          "2024-04-04T14:26:38",
          "2024-04-09T08:52:37",
          "2024-04-12T13:40:34",
          "2024-04-14T16:48:03",
          "2024-04-15T08:20:46",
          "2024-04-18T09:14:24",
          "2024-04-19T09:26:51",
          "2024-04-20T11:13:30",
          "2024-04-22T07:13:23",
          "2024-04-23T18:17:02",
          "2024-04-25T12:26:44",
          "2024-04-26T05:45:21",
          "2024-04-26T05:46:50",
          "2024-04-26T05:48:11",
          "2024-04-26T08:59:17",
          "2024-04-29T14:03:27",
          "2024-04-30T08:39:30",
          "2024-04-30T09:39:52",
          "2024-05-02T06:27:51",
          "2024-05-05T15:10:26",
          "2024-05-08T15:16:23",
          "2024-05-13T10:10:49",
          "2024-05-13T17:17:42",
          "2024-05-15T14:14:08",
          "2024-05-17T14:19:08",
          "2024-05-20T11:40:56",
          "2024-05-20T18:47:55",
          "2024-05-21T08:19:43",
          "2024-05-23T10:17:21",
          "2024-05-25T14:45:55",
          "2024-05-26T10:53:32",
          "2024-05-28T09:19:17",
          "2024-05-29T14:33:59",
          "2024-06-02T21:14:46",
          "2024-06-03T17:31:06",
          "2024-06-04T11:26:28",
          "2024-06-05T09:27:37",
          "2024-06-06T13:07:52",
          "2024-06-07T12:46:04",
          "2024-06-08T13:22:47",
          "2024-06-09T13:02:03",
          "2024-06-10T16:55:57",
          "2024-06-11T14:48:13",
          "2024-06-12T15:40:53",
          "2024-06-16T18:56:37",
          "2024-06-17T17:15:21",
          "2024-06-19T08:25:10",
          "2024-06-21T14:08:33",
          "2024-06-23T15:43:13",
          "2024-06-27T19:11:24",
          "2024-06-30T08:21:30",
          "2024-07-01T10:23:26",
          "2024-07-03T08:59:32",
          "2024-07-04T09:27:36",
          "2024-07-06T16:23:15",
          "2024-07-09T10:16:47",
          "2024-07-11T16:06:44",
          "2024-07-13T14:56:06",
          "2024-07-14T16:40:18",
          "2024-07-17T13:36:24",
          "2024-07-20T16:17:28",
          "2024-07-21T09:22:04",
          "2024-07-22T20:03:52",
          "2024-07-24T09:31:02",
          "2024-07-26T08:23:59",
          "2024-07-29T08:37:54",
          "2024-07-29T18:40:15",
          "2024-07-31T13:16:30",
          "2024-08-05T15:27:28",
          "2024-08-05T17:10:22",
          "2024-08-06T17:38:55",
          "2024-08-08T11:56:23",
          "2024-08-12T09:04:01",
          "2024-08-17T07:48:17",
          "2024-08-21T13:39:14",
          "2024-08-24T18:37:32",
          "2024-08-26T15:41:33",
          "2024-09-01T16:48:56",
          "2024-09-01T19:49:39",
          "2024-09-02T12:18:45",
          "2024-09-05T14:41:26",
          "2024-09-08T17:38:46",
          "2024-09-09T09:50:18",
          "2024-09-16T08:20:57",
          "2024-09-16T20:07:56",
          "2024-09-17T16:06:19",
          "2024-09-24T09:14:30",
          "2024-09-29T09:08:42",
          "2024-10-02T13:54:26",
          "2024-10-04T16:34:16",
          "2024-10-07T14:11:29",
          "2024-10-08T06:58:42",
          "2024-10-11T09:40:49",
          "2024-10-13T13:09:02",
          "2024-10-18T07:40:05",
          "2024-10-22T07:22:59",
          "2024-10-23T14:28:09",
          "2024-10-27T10:04:12",
          "2024-10-31T10:19:53",
          "2024-11-02T10:01:21",
          "2024-11-03T11:50:29",
          "2024-11-03T17:06:16",
          "2024-11-04T08:39:32",
          "2024-11-06T19:57:37",
          "2024-11-06T21:28:42",
          "2024-11-07T11:19:09",
          "2024-11-09T15:29:57",
          "2024-11-10T09:28:14",
          "2024-11-14T07:50:07",
          "2024-11-19T15:34:46",
          "2024-11-20T15:05:05",
          "2024-11-22T17:14:52",
          "2024-11-24T17:22:41",
          "2024-11-25T08:28:03",
          "2024-11-26T11:07:49",
          "2024-11-29T17:06:50",
          "2024-12-02T12:03:52",
          "2024-12-04T22:21:23",
          "2024-12-06T13:16:24",
          "2024-12-06T13:30:20",
          "2024-12-07T12:22:50",
          "2024-12-10T12:03:41",
          "2024-12-15T13:37:06",
          "2024-12-15T14:49:41",
          "2024-12-16T18:14:25",
          "2024-12-17T11:37:20",
          "2024-12-17T18:02:38",
          "2024-12-18T13:25:37",
          "2024-12-19T18:14:03",
          "2024-12-21T08:23:45",
          "2024-12-22T11:47:06",
          "2024-12-23T13:09:02",
          "2024-12-25T12:32:30",
          "2024-12-30T10:45:16",
          "2024-12-31T14:18:40",
          "2025-01-01T18:28:37",
          "2025-01-05T14:59:01",
          "2025-01-05T18:45:19",
          "2025-01-07T10:37:25",
          "2025-01-13T20:39:03",
          "2025-01-18T12:34:53",
          "2025-01-20T15:27:54",
          "2025-01-21T15:58:47",
          "2025-01-23T16:21:10",
          "2025-01-25T14:33:52",
          "2025-01-26T01:11:24",
          "2025-01-26T23:11:02",
          "2025-01-28T17:50:23",
          "2025-01-29T17:09:03",
          "2025-01-31T13:16:08",
          "2025-02-01T13:32:44",
          "2025-02-03T16:51:05",
          "2025-02-05T16:43:14",
          "2025-02-06T07:14:00",
          "2025-02-07T10:44:15",
          "2025-02-09T15:40:50",
          "2025-02-10T14:33:42",
          "2025-02-11T16:54:56",
          "2025-02-13T13:52:41",
          "2025-02-14T07:01:40",
          "2025-02-15T13:19:08",
          "2025-02-16T12:05:45",
          "2025-02-17T17:15:49",
          "2025-02-18T08:51:34",
          "2025-02-18T11:17:38",
          "2025-02-19T12:26:57",
          "2025-02-20T10:09:42",
          "2025-02-21T10:59:40",
          "2025-02-22T13:48:20",
          "2025-02-23T10:23:48",
          "2025-02-24T12:17:29",
          "2025-02-26T16:34:04",
          "2025-02-27T13:59:48",
          "2025-03-04T07:41:52",
          "2025-03-05T16:58:25",
          "2025-03-08T19:07:11",
          "2025-03-10T15:41:54",
          "2025-03-12T19:16:26",
          "2025-03-13T14:09:16",
          "2025-03-13T14:21:31",
          "2025-03-14T11:01:51",
          "2025-03-14T11:08:38",
          "2025-03-15T19:12:53",
          "2025-03-17T11:57:56",
          "2025-03-17T15:59:07",
          "2025-03-18T17:17:50",
          "2025-03-21T09:40:06",
          "2025-03-21T10:55:42",
          "2025-03-21T13:04:00",
          "2025-03-23T13:38:35",
          "2025-03-24T21:09:14",
          "2025-03-25T10:01:41",
          "2025-03-25T17:33:01",
          "2025-03-27T07:39:40",
          "2025-03-28T10:57:20",
          "2025-03-31T11:48:54",
          "2025-04-04T13:01:18",
          "2025-04-07T07:50:07",
          "2025-04-08T12:04:48",
          "2025-04-13T14:47:08",
          "2025-04-17T16:13:23",
          "2025-04-19T13:49:42",
          "2025-04-21T14:35:37",
          "2025-04-26T18:19:18",
          "2025-04-29T11:46:24",
          "2025-05-05T16:30:22",
          "2025-05-05T17:44:10",
          "2025-05-08T16:27:42",
          "2025-05-10T15:01:03",
          "2025-05-11T17:12:21",
          "2025-05-16T07:04:32",
          "2025-05-22T06:32:16",
          "2025-05-27T15:02:27",
          "2025-06-01T19:38:44",
          "2025-06-06T07:29:45",
          "2025-06-07T05:18:08",
          "2025-06-10T10:22:55",
          "2025-06-15T17:37:53",
          "2025-06-18T19:54:37",
          "2025-06-24T09:15:59",
          "2025-06-27T16:00:06",
          "2025-07-01T09:21:25",
          "2025-07-05T11:32:17",
          "2025-07-06T18:22:53"
         ],
         "xaxis": "x",
         "y": {
          "bdata": "GwAaABsAHgApACgAJQAuACkAJwBBACYAKQBAADEAMwAmADkARAA8AEQAQAAsAGgAUQBeADQAQgBBAEUAWQBLAIQAQAGxAFsAdgA7AG0AYgBcAFUAMgBeAEsAUgB8AE4AagB0AFwAXgBvAFEANABgAFcAWQA1AEMAUwBKAD8ASABTAFEAdwBNAEYAgABXAE8AcABzAD4AagCkAHoANwBFAG0AMgA/AF4AdgBBAGcAaQBGAD4ARABiAE8AOQBhAEMARwBcAEgAOABoAGwAQgBGAEMAXABoAE8AZQBpAEkAiwBJADMAVQA/ACEANgBaAG8AUgAvADIAcQBaAFQAPQA3AC8AOwB1ACsAKQAkAEEAYQCTAFUAXgAxAEoATwA+AFYARwBlAFYAPQBFAFwATgA1ACkAWwBrADQAGwDmAEQAWQBAAFcAWgBAAKIAgABeAEkAOgB4ADkAUgAxAC0AMgAmAHAAOQAmAE0AOgA6AD8ANABnACMAKABZAGUAUgBnAD8APwCaADoAfAB8AEkARQBvAEkAoQBUAF8AWwCIAFgAjwA6AGwAagCTAVYArwBnAIYAWgBgAD0AQwBdAEUAewBCAFsAywAyAWUAWgByANEAOgDQAF4AOwBRAEIAZwCbAGcAngBmAFoAXABKALoAbQCmAJkAbgCVAKsAOQBnACwA9gBuAEUAQAB/AK0AmQBkAGcAUgCKAHcAKwFoAMIAVgCpAFAAqQCvALYAcwCqAFcApQCoAFgA0wC3AIkATgBCAGAAqwBcAIUAZQB9AGAAcQBYAGUAkABZALIAjAB1AHUAoAA5ALMAtAC3AHIAXgA0AI0AtQCAADQANABJALcAWwBYAFwArABpAGMAtADHAFMAhQClAJYAsQClAHIAmABrAEMAQgBJAIYAYwCyAJsAlwBnAK4AVwBiAEAAVwBHAG4AcABYAnkAMAAsAC4AiwCCAG4AKwA7AIQAWQBdAHEARABVAKoAbwBSAG0AXgB2AD4AmgB4AEoA7gALATcAuQCLANMAXABaAKkA4ACEAJ4ApQCvAIoAQgAlABEBrQC8AKcAZAC/AKIA8wCLAKgAuQGnAWMAYABtALwATAChADgABgEKAVkAmwDVAJcA+wCzAIkApgCPAGoATwD4AJMAfgCkADgARgAEAlYAKAGpAM8AegCLAJsAWACjAEgANAGHAN0AYgBTAKoAkwDEAHwAZQBFAKMAiwBAAG0AwgA0ACQAJgBDAR8AuQFNAC0APAB8AHAAnQD5AH0AdQBZAEIAqAD3AGoAhQBoAFoA1QB5AGkAoAB3APEHQAB3AHkATgBjAFcAOACqANIAMgCMAGgAnwBlAFgAmQBtADIAgQC8AHEATgBfAD0AvwDJAJwAWQBRAEEAiADjAGwAoQBMAH8AMwCBAMMAjgA0ALkAawBUAJ4AdwDDALsATgBdAFkAOAHUAIAAjQCBAJ4AHQF8ALUAKAB3AOEAcQByAKEA5gB1AHcAOwA2AIUAwwA=",
          "dtype": "i2"
         },
         "yaxis": "y"
        }
       ],
       "layout": {
        "hovermode": "x unified",
        "legend": {
         "tracegroupgap": 0
        },
        "template": {
         "data": {
          "bar": [
           {
            "error_x": {
             "color": "#2a3f5f"
            },
            "error_y": {
             "color": "#2a3f5f"
            },
            "marker": {
             "line": {
              "color": "white",
              "width": 0.5
             },
             "pattern": {
              "fillmode": "overlay",
              "size": 10,
              "solidity": 0.2
             }
            },
            "type": "bar"
           }
          ],
          "barpolar": [
           {
            "marker": {
             "line": {
              "color": "white",
              "width": 0.5
             },
             "pattern": {
              "fillmode": "overlay",
              "size": 10,
              "solidity": 0.2
             }
            },
            "type": "barpolar"
           }
          ],
          "carpet": [
           {
            "aaxis": {
             "endlinecolor": "#2a3f5f",
             "gridcolor": "#C8D4E3",
             "linecolor": "#C8D4E3",
             "minorgridcolor": "#C8D4E3",
             "startlinecolor": "#2a3f5f"
            },
            "baxis": {
             "endlinecolor": "#2a3f5f",
             "gridcolor": "#C8D4E3",
             "linecolor": "#C8D4E3",
             "minorgridcolor": "#C8D4E3",
             "startlinecolor": "#2a3f5f"
            },
            "type": "carpet"
           }
          ],
          "choropleth": [
           {
            "colorbar": {
             "outlinewidth": 0,
             "ticks": ""
            },
            "type": "choropleth"
           }
          ],
          "contour": [
           {
            "colorbar": {
             "outlinewidth": 0,
             "ticks": ""
            },
            "colorscale": [
             [
              0,
              "#0d0887"
             ],
             [
              0.1111111111111111,
              "#46039f"
             ],
             [
              0.2222222222222222,
              "#7201a8"
             ],
             [
              0.3333333333333333,
              "#9c179e"
             ],
             [
              0.4444444444444444,
              "#bd3786"
             ],
             [
              0.5555555555555556,
              "#d8576b"
             ],
             [
              0.6666666666666666,
              "#ed7953"
             ],
             [
              0.7777777777777778,
              "#fb9f3a"
             ],
             [
              0.8888888888888888,
              "#fdca26"
             ],
             [
              1,
              "#f0f921"
             ]
            ],
            "type": "contour"
           }
          ],
          "contourcarpet": [
           {
            "colorbar": {
             "outlinewidth": 0,
             "ticks": ""
            },
            "type": "contourcarpet"
           }
          ],
          "heatmap": [
           {
            "colorbar": {
             "outlinewidth": 0,
             "ticks": ""
            },
            "colorscale": [
             [
              0,
              "#0d0887"
             ],
             [
              0.1111111111111111,
              "#46039f"
             ],
             [
              0.2222222222222222,
              "#7201a8"
             ],
             [
              0.3333333333333333,
              "#9c179e"
             ],
             [
              0.4444444444444444,
              "#bd3786"
             ],
             [
              0.5555555555555556,
              "#d8576b"
             ],
             [
              0.6666666666666666,
              "#ed7953"
             ],
             [
              0.7777777777777778,
              "#fb9f3a"
             ],
             [
              0.8888888888888888,
              "#fdca26"
             ],
             [
              1,
              "#f0f921"
             ]
            ],
            "type": "heatmap"
           }
          ],
          "histogram": [
           {
            "marker": {
             "pattern": {
              "fillmode": "overlay",
              "size": 10,
              "solidity": 0.2
             }
            },
            "type": "histogram"
           }
          ],
          "histogram2d": [
           {
            "colorbar": {
             "outlinewidth": 0,
             "ticks": ""
            },
            "colorscale": [
             [
              0,
              "#0d0887"
             ],
             [
              0.1111111111111111,
              "#46039f"
             ],
             [
              0.2222222222222222,
              "#7201a8"
             ],
             [
              0.3333333333333333,
              "#9c179e"
             ],
             [
              0.4444444444444444,
              "#bd3786"
             ],
             [
              0.5555555555555556,
              "#d8576b"
             ],
             [
              0.6666666666666666,
              "#ed7953"
             ],
             [
              0.7777777777777778,
              "#fb9f3a"
             ],
             [
              0.8888888888888888,
              "#fdca26"
             ],
             [
              1,
              "#f0f921"
             ]
            ],
            "type": "histogram2d"
           }
          ],
          "histogram2dcontour": [
           {
            "colorbar": {
             "outlinewidth": 0,
             "ticks": ""
            },
            "colorscale": [
             [
              0,
              "#0d0887"
             ],
             [
              0.1111111111111111,
              "#46039f"
             ],
             [
              0.2222222222222222,
              "#7201a8"
             ],
             [
              0.3333333333333333,
              "#9c179e"
             ],
             [
              0.4444444444444444,
              "#bd3786"
             ],
             [
              0.5555555555555556,
              "#d8576b"
             ],
             [
              0.6666666666666666,
              "#ed7953"
             ],
             [
              0.7777777777777778,
              "#fb9f3a"
             ],
             [
              0.8888888888888888,
              "#fdca26"
             ],
             [
              1,
              "#f0f921"
             ]
            ],
            "type": "histogram2dcontour"
           }
          ],
          "mesh3d": [
           {
            "colorbar": {
             "outlinewidth": 0,
             "ticks": ""
            },
            "type": "mesh3d"
           }
          ],
          "parcoords": [
           {
            "line": {
             "colorbar": {
              "outlinewidth": 0,
              "ticks": ""
             }
            },
            "type": "parcoords"
           }
          ],
          "pie": [
           {
            "automargin": true,
            "type": "pie"
           }
          ],
          "scatter": [
           {
            "fillpattern": {
             "fillmode": "overlay",
             "size": 10,
             "solidity": 0.2
            },
            "type": "scatter"
           }
          ],
          "scatter3d": [
           {
            "line": {
             "colorbar": {
              "outlinewidth": 0,
              "ticks": ""
             }
            },
            "marker": {
             "colorbar": {
              "outlinewidth": 0,
              "ticks": ""
             }
            },
            "type": "scatter3d"
           }
          ],
          "scattercarpet": [
           {
            "marker": {
             "colorbar": {
              "outlinewidth": 0,
              "ticks": ""
             }
            },
            "type": "scattercarpet"
           }
          ],
          "scattergeo": [
           {
            "marker": {
             "colorbar": {
              "outlinewidth": 0,
              "ticks": ""
             }
            },
            "type": "scattergeo"
           }
          ],
          "scattergl": [
           {
            "marker": {
             "colorbar": {
              "outlinewidth": 0,
              "ticks": ""
             }
            },
            "type": "scattergl"
           }
          ],
          "scattermap": [
           {
            "marker": {
             "colorbar": {
              "outlinewidth": 0,
              "ticks": ""
             }
            },
            "type": "scattermap"
           }
          ],
          "scattermapbox": [
           {
            "marker": {
             "colorbar": {
              "outlinewidth": 0,
              "ticks": ""
             }
            },
            "type": "scattermapbox"
           }
          ],
          "scatterpolar": [
           {
            "marker": {
             "colorbar": {
              "outlinewidth": 0,
              "ticks": ""
             }
            },
            "type": "scatterpolar"
           }
          ],
          "scatterpolargl": [
           {
            "marker": {
             "colorbar": {
              "outlinewidth": 0,
              "ticks": ""
             }
            },
            "type": "scatterpolargl"
           }
          ],
          "scatterternary": [
           {
            "marker": {
             "colorbar": {
              "outlinewidth": 0,
              "ticks": ""
             }
            },
            "type": "scatterternary"
           }
          ],
          "surface": [
           {
            "colorbar": {
             "outlinewidth": 0,
             "ticks": ""
            },
            "colorscale": [
             [
              0,
              "#0d0887"
             ],
             [
              0.1111111111111111,
              "#46039f"
             ],
             [
              0.2222222222222222,
              "#7201a8"
             ],
             [
              0.3333333333333333,
              "#9c179e"
             ],
             [
              0.4444444444444444,
              "#bd3786"
             ],
             [
              0.5555555555555556,
              "#d8576b"
             ],
             [
              0.6666666666666666,
              "#ed7953"
             ],
             [
              0.7777777777777778,
              "#fb9f3a"
             ],
             [
              0.8888888888888888,
              "#fdca26"
             ],
             [
              1,
              "#f0f921"
             ]
            ],
            "type": "surface"
           }
          ],
          "table": [
           {
            "cells": {
             "fill": {
              "color": "#EBF0F8"
             },
             "line": {
              "color": "white"
             }
            },
            "header": {
             "fill": {
              "color": "#C8D4E3"
             },
             "line": {
              "color": "white"
             }
            },
            "type": "table"
           }
          ]
         },
         "layout": {
          "annotationdefaults": {
           "arrowcolor": "#2a3f5f",
           "arrowhead": 0,
           "arrowwidth": 1
          },
          "autotypenumbers": "strict",
          "coloraxis": {
           "colorbar": {
            "outlinewidth": 0,
            "ticks": ""
           }
          },
          "colorscale": {
           "diverging": [
            [
             0,
             "#8e0152"
            ],
            [
             0.1,
             "#c51b7d"
            ],
            [
             0.2,
             "#de77ae"
            ],
            [
             0.3,
             "#f1b6da"
            ],
            [
             0.4,
             "#fde0ef"
            ],
            [
             0.5,
             "#f7f7f7"
            ],
            [
             0.6,
             "#e6f5d0"
            ],
            [
             0.7,
             "#b8e186"
            ],
            [
             0.8,
             "#7fbc41"
            ],
            [
             0.9,
             "#4d9221"
            ],
            [
             1,
             "#276419"
            ]
           ],
           "sequential": [
            [
             0,
             "#0d0887"
            ],
            [
             0.1111111111111111,
             "#46039f"
            ],
            [
             0.2222222222222222,
             "#7201a8"
            ],
            [
             0.3333333333333333,
             "#9c179e"
            ],
            [
             0.4444444444444444,
             "#bd3786"
            ],
            [
             0.5555555555555556,
             "#d8576b"
            ],
            [
             0.6666666666666666,
             "#ed7953"
            ],
            [
             0.7777777777777778,
             "#fb9f3a"
            ],
            [
             0.8888888888888888,
             "#fdca26"
            ],
            [
             1,
             "#f0f921"
            ]
           ],
           "sequentialminus": [
            [
             0,
             "#0d0887"
            ],
            [
             0.1111111111111111,
             "#46039f"
            ],
            [
             0.2222222222222222,
             "#7201a8"
            ],
            [
             0.3333333333333333,
             "#9c179e"
            ],
            [
             0.4444444444444444,
             "#bd3786"
            ],
            [
             0.5555555555555556,
             "#d8576b"
            ],
            [
             0.6666666666666666,
             "#ed7953"
            ],
            [
             0.7777777777777778,
             "#fb9f3a"
            ],
            [
             0.8888888888888888,
             "#fdca26"
            ],
            [
             1,
             "#f0f921"
            ]
           ]
          },
          "colorway": [
           "#636efa",
           "#EF553B",
           "#00cc96",
           "#ab63fa",
           "#FFA15A",
           "#19d3f3",
           "#FF6692",
           "#B6E880",
           "#FF97FF",
           "#FECB52"
          ],
          "font": {
           "color": "#2a3f5f"
          },
          "geo": {
           "bgcolor": "white",
           "lakecolor": "white",
           "landcolor": "white",
           "showlakes": true,
           "showland": true,
           "subunitcolor": "#C8D4E3"
          },
          "hoverlabel": {
           "align": "left"
          },
          "hovermode": "closest",
          "mapbox": {
           "style": "light"
          },
          "paper_bgcolor": "white",
          "plot_bgcolor": "white",
          "polar": {
           "angularaxis": {
            "gridcolor": "#EBF0F8",
            "linecolor": "#EBF0F8",
            "ticks": ""
           },
           "bgcolor": "white",
           "radialaxis": {
            "gridcolor": "#EBF0F8",
            "linecolor": "#EBF0F8",
            "ticks": ""
           }
          },
          "scene": {
           "xaxis": {
            "backgroundcolor": "white",
            "gridcolor": "#DFE8F3",
            "gridwidth": 2,
            "linecolor": "#EBF0F8",
            "showbackground": true,
            "ticks": "",
            "zerolinecolor": "#EBF0F8"
           },
           "yaxis": {
            "backgroundcolor": "white",
            "gridcolor": "#DFE8F3",
            "gridwidth": 2,
            "linecolor": "#EBF0F8",
            "showbackground": true,
            "ticks": "",
            "zerolinecolor": "#EBF0F8"
           },
           "zaxis": {
            "backgroundcolor": "white",
            "gridcolor": "#DFE8F3",
            "gridwidth": 2,
            "linecolor": "#EBF0F8",
            "showbackground": true,
            "ticks": "",
            "zerolinecolor": "#EBF0F8"
           }
          },
          "shapedefaults": {
           "line": {
            "color": "#2a3f5f"
           }
          },
          "ternary": {
           "aaxis": {
            "gridcolor": "#DFE8F3",
            "linecolor": "#A2B1C6",
            "ticks": ""
           },
           "baxis": {
            "gridcolor": "#DFE8F3",
            "linecolor": "#A2B1C6",
            "ticks": ""
           },
           "bgcolor": "white",
           "caxis": {
            "gridcolor": "#DFE8F3",
            "linecolor": "#A2B1C6",
            "ticks": ""
           }
          },
          "title": {
           "x": 0.05
          },
          "xaxis": {
           "automargin": true,
           "gridcolor": "#EBF0F8",
           "linecolor": "#EBF0F8",
           "ticks": "",
           "title": {
            "standoff": 15
           },
           "zerolinecolor": "#EBF0F8",
           "zerolinewidth": 2
          },
          "yaxis": {
           "automargin": true,
           "gridcolor": "#EBF0F8",
           "linecolor": "#EBF0F8",
           "ticks": "",
           "title": {
            "standoff": 15
           },
           "zerolinecolor": "#EBF0F8",
           "zerolinewidth": 2
          }
         }
        },
        "title": {
         "text": "Likes Timeline for Each Post"
        },
        "xaxis": {
         "anchor": "y",
         "domain": [
          0,
          1
         ],
         "tickangle": -45,
         "title": {
          "text": "Post Date"
         }
        },
        "yaxis": {
         "anchor": "x",
         "domain": [
          0,
          1
         ],
         "title": {
          "text": "Like Count"
         }
        }
       }
      }
     },
     "metadata": {},
     "output_type": "display_data"
    }
   ],
   "source": [
    "# Ensure 'date_local' is datetime and sort\n",
    "df_posts['date_local'] = pd.to_datetime(df_posts['date_local'])\n",
    "df_posts_sorted = df_posts.sort_values(by='date_local')\n",
    "\n",
    "# Interactive timeline plot\n",
    "fig = px.line(\n",
    "    df_posts_sorted,\n",
    "    x='date_local',\n",
    "    y='like_count',\n",
    "    title='Likes Timeline for Each Post',\n",
    "    markers=True,\n",
    "    labels={'date_local': 'Post Date', 'like_count': 'Likes'}\n",
    ")\n",
    "\n",
    "# Customize layout\n",
    "fig.update_layout(\n",
    "    xaxis_title='Post Date',\n",
    "    yaxis_title='Like Count',\n",
    "    xaxis_tickangle=-45,\n",
    "    template='plotly_white',\n",
    "    hovermode='x unified'\n",
    ")\n",
    "\n",
    "fig.show()"
   ]
  },
  {
   "cell_type": "code",
   "execution_count": 65,
   "id": "d2a73d78",
   "metadata": {},
   "outputs": [
    {
     "data": {
      "application/vnd.plotly.v1+json": {
       "config": {
        "plotlyServerURL": "https://plot.ly"
       },
       "data": [
        {
         "hovertemplate": "Post Date=%{x}<br>Likes=%{y}<extra></extra>",
         "legendgroup": "",
         "line": {
          "color": "#636efa",
          "dash": "solid"
         },
         "marker": {
          "symbol": "circle"
         },
         "mode": "lines+markers",
         "name": "",
         "orientation": "v",
         "showlegend": false,
         "type": "scatter",
         "x": [
          "2022-01-12T10:42:55",
          "2022-01-12T12:15:00",
          "2022-01-12T12:21:35",
          "2022-02-02T15:22:26",
          "2022-02-23T17:59:28",
          "2022-03-01T18:36:31",
          "2022-03-05T15:55:57",
          "2022-03-09T16:35:15",
          "2022-03-09T21:07:22",
          "2022-03-16T08:58:51",
          "2022-03-16T09:48:47",
          "2022-03-17T23:00:00",
          "2022-03-20T20:43:46",
          "2022-03-27T20:07:38",
          "2022-03-31T17:08:15",
          "2022-04-14T16:19:57",
          "2022-04-20T15:03:16",
          "2022-04-26T19:31:41",
          "2022-05-04T18:35:44",
          "2022-05-06T07:57:43",
          "2022-05-23T16:23:26",
          "2022-05-26T16:58:39",
          "2022-05-30T12:01:13",
          "2022-06-01T07:28:58",
          "2022-06-03T20:11:59",
          "2022-06-09T06:46:51",
          "2022-06-23T09:44:47",
          "2022-06-30T13:55:44",
          "2022-07-07T09:36:51",
          "2022-07-08T16:19:00",
          "2022-07-12T07:16:54",
          "2022-07-13T18:20:36",
          "2022-07-15T16:20:57",
          "2022-07-17T12:04:02",
          "2022-07-18T09:15:32",
          "2022-07-26T08:28:53",
          "2022-08-01T14:28:52",
          "2022-08-03T09:23:41",
          "2022-08-07T17:22:03",
          "2022-08-11T22:09:52",
          "2022-08-12T11:23:48",
          "2022-08-15T16:10:26",
          "2022-08-20T14:17:32",
          "2022-08-29T16:54:17",
          "2022-08-31T06:56:52",
          "2022-09-02T08:04:26",
          "2022-09-04T12:04:56",
          "2022-09-06T10:58:12",
          "2022-09-10T11:20:48",
          "2022-09-12T07:48:44",
          "2022-09-12T14:52:24",
          "2022-09-18T11:20:56",
          "2022-09-20T15:49:35",
          "2022-09-24T17:36:45",
          "2022-10-03T18:44:42",
          "2022-10-06T19:21:39",
          "2022-10-09T12:59:22",
          "2022-10-19T20:14:58",
          "2022-10-26T14:42:01",
          "2022-11-11T19:06:07",
          "2022-11-18T11:33:20",
          "2022-11-29T20:44:26",
          "2022-11-30T20:23:47",
          "2022-12-02T08:33:16",
          "2022-12-05T11:58:45",
          "2022-12-13T09:11:29",
          "2022-12-19T09:28:15",
          "2022-12-23T10:42:52",
          "2023-01-02T09:39:34",
          "2023-01-04T09:02:56",
          "2023-01-06T18:19:26",
          "2023-01-10T17:03:29",
          "2023-01-12T17:20:05",
          "2023-01-16T16:59:47",
          "2023-01-18T17:12:27",
          "2023-01-19T23:00:55",
          "2023-02-05T13:35:53",
          "2023-02-06T18:32:17",
          "2023-02-18T23:58:00",
          "2023-02-25T00:10:51",
          "2023-03-09T07:59:22",
          "2023-03-15T11:54:54",
          "2023-03-17T08:00:03",
          "2023-03-21T22:17:07",
          "2023-03-28T05:58:42",
          "2023-03-31T09:13:04",
          "2023-04-08T18:53:13",
          "2023-05-01T15:37:55",
          "2023-05-03T13:37:02",
          "2023-05-05T15:57:08",
          "2023-05-08T13:35:44",
          "2023-05-09T20:11:55",
          "2023-05-12T07:14:52",
          "2023-05-13T07:14:55",
          "2023-05-14T09:27:33",
          "2023-05-17T21:12:32",
          "2023-05-21T09:31:02",
          "2023-05-29T10:48:19",
          "2023-05-31T14:01:04",
          "2023-06-11T13:29:27",
          "2023-06-12T17:54:50",
          "2023-06-15T15:48:50",
          "2023-06-19T21:00:13",
          "2023-06-24T11:13:31",
          "2023-06-27T09:08:30",
          "2023-06-29T15:35:13",
          "2023-07-02T20:35:26",
          "2023-07-05T18:22:43",
          "2023-07-07T16:17:26",
          "2023-07-11T15:43:14",
          "2023-07-14T18:45:56",
          "2023-07-15T21:33:07",
          "2023-07-16T15:20:10",
          "2023-07-19T09:36:35",
          "2023-07-22T16:45:59",
          "2023-07-26T17:58:02",
          "2023-08-01T18:32:24",
          "2023-08-09T11:59:45",
          "2023-08-12T11:11:55",
          "2023-08-15T14:13:27",
          "2023-08-17T11:21:03",
          "2023-08-20T07:20:48",
          "2023-08-22T19:10:39",
          "2023-08-24T16:51:35",
          "2023-08-29T14:36:12",
          "2023-09-05T09:38:18",
          "2023-09-13T11:03:18",
          "2023-10-03T07:21:00",
          "2023-10-10T18:24:53",
          "2023-10-14T17:02:48",
          "2023-10-18T14:07:43",
          "2023-10-22T12:40:44",
          "2023-10-26T15:15:25",
          "2023-10-28T13:30:17",
          "2023-10-31T18:39:44",
          "2023-11-02T15:43:33",
          "2023-11-05T19:21:19",
          "2023-11-07T10:29:31",
          "2023-11-12T11:12:43",
          "2023-11-14T20:46:43",
          "2023-11-18T19:05:27",
          "2023-11-20T19:06:00",
          "2023-11-28T07:59:40",
          "2023-11-30T08:15:34",
          "2023-12-03T17:36:51",
          "2023-12-12T17:41:25",
          "2023-12-19T08:38:15",
          "2023-12-20T11:50:33",
          "2023-12-21T23:21:35",
          "2023-12-27T18:29:48",
          "2023-12-28T15:42:45",
          "2024-01-01T17:45:30",
          "2024-01-02T08:58:00",
          "2024-01-04T14:53:50",
          "2024-01-09T12:51:32",
          "2024-01-14T14:49:46",
          "2024-01-17T08:06:50",
          "2024-01-19T12:53:51",
          "2024-01-22T11:01:46",
          "2024-01-24T08:47:18",
          "2024-01-25T16:33:25",
          "2024-01-25T21:56:39",
          "2024-01-26T06:36:46",
          "2024-01-29T11:11:07",
          "2024-01-30T14:34:12",
          "2024-02-01T17:16:59",
          "2024-02-02T14:41:03",
          "2024-02-04T14:20:53",
          "2024-02-13T17:01:56",
          "2024-02-21T08:28:55",
          "2024-02-26T09:52:29",
          "2024-02-28T18:37:29",
          "2024-03-01T12:49:23",
          "2024-03-04T16:29:23",
          "2024-03-06T15:15:27",
          "2024-03-07T17:57:46",
          "2024-03-08T05:44:56",
          "2024-03-12T05:50:41",
          "2024-03-18T10:12:28",
          "2024-03-20T15:45:49",
          "2024-03-22T16:16:26",
          "2024-03-27T14:30:19",
          "2024-03-29T12:31:19",
          "2024-04-01T08:00:00",
          "2024-04-04T14:26:38",
          "2024-04-09T08:52:37",
          "2024-04-12T13:40:34",
          "2024-04-14T16:48:03",
          "2024-04-15T08:20:46",
          "2024-04-18T09:14:24",
          "2024-04-19T09:26:51",
          "2024-04-20T11:13:30",
          "2024-04-22T07:13:23",
          "2024-04-23T18:17:02",
          "2024-04-25T12:26:44",
          "2024-04-26T05:45:21",
          "2024-04-26T05:46:50",
          "2024-04-26T05:48:11",
          "2024-04-26T08:59:17",
          "2024-04-29T14:03:27",
          "2024-04-30T08:39:30",
          "2024-04-30T09:39:52",
          "2024-05-02T06:27:51",
          "2024-05-05T15:10:26",
          "2024-05-08T15:16:23",
          "2024-05-13T10:10:49",
          "2024-05-13T17:17:42",
          "2024-05-15T14:14:08",
          "2024-05-17T14:19:08",
          "2024-05-20T11:40:56",
          "2024-05-20T18:47:55",
          "2024-05-21T08:19:43",
          "2024-05-23T10:17:21",
          "2024-05-25T14:45:55",
          "2024-05-26T10:53:32",
          "2024-05-28T09:19:17",
          "2024-05-29T14:33:59",
          "2024-06-02T21:14:46",
          "2024-06-03T17:31:06",
          "2024-06-04T11:26:28",
          "2024-06-05T09:27:37",
          "2024-06-06T13:07:52",
          "2024-06-07T12:46:04",
          "2024-06-08T13:22:47",
          "2024-06-09T13:02:03",
          "2024-06-10T16:55:57",
          "2024-06-11T14:48:13",
          "2024-06-12T15:40:53",
          "2024-06-16T18:56:37",
          "2024-06-17T17:15:21",
          "2024-06-19T08:25:10",
          "2024-06-21T14:08:33",
          "2024-06-23T15:43:13",
          "2024-06-27T19:11:24",
          "2024-06-30T08:21:30",
          "2024-07-01T10:23:26",
          "2024-07-03T08:59:32",
          "2024-07-04T09:27:36",
          "2024-07-06T16:23:15",
          "2024-07-09T10:16:47",
          "2024-07-11T16:06:44",
          "2024-07-13T14:56:06",
          "2024-07-14T16:40:18",
          "2024-07-17T13:36:24",
          "2024-07-20T16:17:28",
          "2024-07-21T09:22:04",
          "2024-07-22T20:03:52",
          "2024-07-24T09:31:02",
          "2024-07-26T08:23:59",
          "2024-07-29T08:37:54",
          "2024-07-29T18:40:15",
          "2024-07-31T13:16:30",
          "2024-08-05T15:27:28",
          "2024-08-05T17:10:22",
          "2024-08-06T17:38:55",
          "2024-08-08T11:56:23",
          "2024-08-12T09:04:01",
          "2024-08-17T07:48:17",
          "2024-08-21T13:39:14",
          "2024-08-24T18:37:32",
          "2024-08-26T15:41:33",
          "2024-09-01T16:48:56",
          "2024-09-01T19:49:39",
          "2024-09-02T12:18:45",
          "2024-09-05T14:41:26",
          "2024-09-08T17:38:46",
          "2024-09-09T09:50:18",
          "2024-09-16T08:20:57",
          "2024-09-16T20:07:56",
          "2024-09-17T16:06:19",
          "2024-09-24T09:14:30",
          "2024-09-29T09:08:42",
          "2024-10-02T13:54:26",
          "2024-10-04T16:34:16",
          "2024-10-07T14:11:29",
          "2024-10-08T06:58:42",
          "2024-10-11T09:40:49",
          "2024-10-13T13:09:02",
          "2024-10-18T07:40:05",
          "2024-10-22T07:22:59",
          "2024-10-23T14:28:09",
          "2024-10-27T10:04:12",
          "2024-10-31T10:19:53",
          "2024-11-02T10:01:21",
          "2024-11-03T11:50:29",
          "2024-11-03T17:06:16",
          "2024-11-04T08:39:32",
          "2024-11-06T19:57:37",
          "2024-11-06T21:28:42",
          "2024-11-07T11:19:09",
          "2024-11-09T15:29:57",
          "2024-11-10T09:28:14",
          "2024-11-14T07:50:07",
          "2024-11-19T15:34:46",
          "2024-11-20T15:05:05",
          "2024-11-22T17:14:52",
          "2024-11-24T17:22:41",
          "2024-11-25T08:28:03",
          "2024-11-26T11:07:49",
          "2024-11-29T17:06:50",
          "2024-12-02T12:03:52",
          "2024-12-04T22:21:23",
          "2024-12-06T13:16:24",
          "2024-12-06T13:30:20",
          "2024-12-07T12:22:50",
          "2024-12-10T12:03:41",
          "2024-12-15T13:37:06",
          "2024-12-15T14:49:41",
          "2024-12-16T18:14:25",
          "2024-12-17T11:37:20",
          "2024-12-17T18:02:38",
          "2024-12-18T13:25:37",
          "2024-12-19T18:14:03",
          "2024-12-21T08:23:45",
          "2024-12-22T11:47:06",
          "2024-12-23T13:09:02",
          "2024-12-25T12:32:30",
          "2024-12-30T10:45:16",
          "2024-12-31T14:18:40",
          "2025-01-01T18:28:37",
          "2025-01-05T14:59:01",
          "2025-01-05T18:45:19",
          "2025-01-07T10:37:25",
          "2025-01-13T20:39:03",
          "2025-01-18T12:34:53",
          "2025-01-20T15:27:54",
          "2025-01-21T15:58:47",
          "2025-01-23T16:21:10",
          "2025-01-25T14:33:52",
          "2025-01-26T01:11:24",
          "2025-01-26T23:11:02",
          "2025-01-28T17:50:23",
          "2025-01-29T17:09:03",
          "2025-01-31T13:16:08",
          "2025-02-01T13:32:44",
          "2025-02-03T16:51:05",
          "2025-02-05T16:43:14",
          "2025-02-06T07:14:00",
          "2025-02-07T10:44:15",
          "2025-02-09T15:40:50",
          "2025-02-10T14:33:42",
          "2025-02-11T16:54:56",
          "2025-02-13T13:52:41",
          "2025-02-14T07:01:40",
          "2025-02-15T13:19:08",
          "2025-02-16T12:05:45",
          "2025-02-17T17:15:49",
          "2025-02-18T08:51:34",
          "2025-02-18T11:17:38",
          "2025-02-19T12:26:57",
          "2025-02-20T10:09:42",
          "2025-02-21T10:59:40",
          "2025-02-22T13:48:20",
          "2025-02-23T10:23:48",
          "2025-02-24T12:17:29",
          "2025-02-26T16:34:04",
          "2025-02-27T13:59:48",
          "2025-03-04T07:41:52",
          "2025-03-05T16:58:25",
          "2025-03-08T19:07:11",
          "2025-03-10T15:41:54",
          "2025-03-12T19:16:26",
          "2025-03-13T14:09:16",
          "2025-03-13T14:21:31",
          "2025-03-14T11:01:51",
          "2025-03-14T11:08:38",
          "2025-03-15T19:12:53",
          "2025-03-17T11:57:56",
          "2025-03-17T15:59:07",
          "2025-03-18T17:17:50",
          "2025-03-21T09:40:06",
          "2025-03-21T10:55:42",
          "2025-03-21T13:04:00",
          "2025-03-23T13:38:35",
          "2025-03-24T21:09:14",
          "2025-03-25T10:01:41",
          "2025-03-25T17:33:01",
          "2025-03-27T07:39:40",
          "2025-03-28T10:57:20",
          "2025-03-31T11:48:54",
          "2025-04-04T13:01:18",
          "2025-04-07T07:50:07",
          "2025-04-08T12:04:48",
          "2025-04-13T14:47:08",
          "2025-04-17T16:13:23",
          "2025-04-19T13:49:42",
          "2025-04-21T14:35:37",
          "2025-04-26T18:19:18",
          "2025-04-29T11:46:24",
          "2025-05-05T16:30:22",
          "2025-05-05T17:44:10",
          "2025-05-08T16:27:42",
          "2025-05-10T15:01:03",
          "2025-05-11T17:12:21",
          "2025-05-16T07:04:32",
          "2025-05-22T06:32:16",
          "2025-05-27T15:02:27",
          "2025-06-01T19:38:44",
          "2025-06-06T07:29:45",
          "2025-06-07T05:18:08",
          "2025-06-10T10:22:55",
          "2025-06-15T17:37:53",
          "2025-06-18T19:54:37",
          "2025-06-24T09:15:59",
          "2025-06-27T16:00:06",
          "2025-07-01T09:21:25",
          "2025-07-05T11:32:17",
          "2025-07-06T18:22:53"
         ],
         "xaxis": "x",
         "y": {
          "bdata": "awA0ABsA5gBEAFkAQABXAFoAQACiAIAAXgBJADoAeAA5AFIAMQAtADIAJgBwADkAJgBNADoAOgA/ADQAZwAjACgAWQBlAFIAZwA/AD8AmgA6AHwAfABJAEUAbwBJAKEAVABfAFsAiABYAI8AOgBsAGoAkwFWAK8AZwCGAFoAYAA9AEMAXQBFAHsAQgBbAMsAMgFlAFoAcgDRADoA0ABeADsAUQBCAGcAmwBnAJ4AZgBaAFwASgC6AG0ApgCZAG4AlQCrADkAZwAsAPYAbgBFAEAAfwCtAJkAZABnAFIAigB3ACsBaADCAFYAqQBQAKkArwC2AHMAqgBXAKUAqABYANMAtwCJAE4AQgBgAKsAXACFAGUAfQBgAHEAWABlAJAAWQCyAIwAdQB1AKAAOQCzALQAtwByAF4ANACNALUAgAA0ADQASQC3AFsAWABcAKwAaQBjALQAxwBTAIUApQCWALEApQByAJgAawBDAEIASQCGAGMAsgCbAJcAZwCuAFcAYgBAAFcARwBuAHAAWAJ5ADAALAAuAIsAggBuACsAOwCEAFkAXQBxAEQAVQCqAG8AUgBtAF4AdgA+AJoAeABKAO4ACwE3ALkAiwDTAFwAWgCpAOAAhACeAKUArwCKAEIAJQARAa0AvACnAGQAvwCiAPMAiwCoALkBpwFjAGAAbQC8AEwAoQA4AAYBCgFZAJsA1QCXAPsAswCJAKYAjwBqAE8A+ACTAH4ApAA4AEYABAJWACgBqQDPAHoAiwCbAFgAowBIADQBhwDdAGIAUwCqAJMAxAB8AGUARQCjAIsAQABtAMIANAAkACYAQwEfALkBTQAtADwAfABwAJ0A+QB9AHUAWQBCAKgA9wBqAIUAaABaANUAeQBpAKAAdwDxB0AAdwB5AE4AYwBXADgAqgDSADIAjABoAJ8AZQBYAJkAbQAyAIEAvABxAE4AXwA9AL8AyQCcAFkAUQBBAIgA4wBsAKEATAB/ADMAgQDDAI4ANAC5AGsAVACeAHcAwwC7AE4AXQBZADgB1ACAAI0AgQCeAB0BfAC1ACgAdwDhAHEAcgChAOYAdQB3ADsANgCFAMMA",
          "dtype": "i2"
         },
         "yaxis": "y"
        }
       ],
       "layout": {
        "hovermode": "x unified",
        "legend": {
         "tracegroupgap": 0
        },
        "template": {
         "data": {
          "bar": [
           {
            "error_x": {
             "color": "#2a3f5f"
            },
            "error_y": {
             "color": "#2a3f5f"
            },
            "marker": {
             "line": {
              "color": "white",
              "width": 0.5
             },
             "pattern": {
              "fillmode": "overlay",
              "size": 10,
              "solidity": 0.2
             }
            },
            "type": "bar"
           }
          ],
          "barpolar": [
           {
            "marker": {
             "line": {
              "color": "white",
              "width": 0.5
             },
             "pattern": {
              "fillmode": "overlay",
              "size": 10,
              "solidity": 0.2
             }
            },
            "type": "barpolar"
           }
          ],
          "carpet": [
           {
            "aaxis": {
             "endlinecolor": "#2a3f5f",
             "gridcolor": "#C8D4E3",
             "linecolor": "#C8D4E3",
             "minorgridcolor": "#C8D4E3",
             "startlinecolor": "#2a3f5f"
            },
            "baxis": {
             "endlinecolor": "#2a3f5f",
             "gridcolor": "#C8D4E3",
             "linecolor": "#C8D4E3",
             "minorgridcolor": "#C8D4E3",
             "startlinecolor": "#2a3f5f"
            },
            "type": "carpet"
           }
          ],
          "choropleth": [
           {
            "colorbar": {
             "outlinewidth": 0,
             "ticks": ""
            },
            "type": "choropleth"
           }
          ],
          "contour": [
           {
            "colorbar": {
             "outlinewidth": 0,
             "ticks": ""
            },
            "colorscale": [
             [
              0,
              "#0d0887"
             ],
             [
              0.1111111111111111,
              "#46039f"
             ],
             [
              0.2222222222222222,
              "#7201a8"
             ],
             [
              0.3333333333333333,
              "#9c179e"
             ],
             [
              0.4444444444444444,
              "#bd3786"
             ],
             [
              0.5555555555555556,
              "#d8576b"
             ],
             [
              0.6666666666666666,
              "#ed7953"
             ],
             [
              0.7777777777777778,
              "#fb9f3a"
             ],
             [
              0.8888888888888888,
              "#fdca26"
             ],
             [
              1,
              "#f0f921"
             ]
            ],
            "type": "contour"
           }
          ],
          "contourcarpet": [
           {
            "colorbar": {
             "outlinewidth": 0,
             "ticks": ""
            },
            "type": "contourcarpet"
           }
          ],
          "heatmap": [
           {
            "colorbar": {
             "outlinewidth": 0,
             "ticks": ""
            },
            "colorscale": [
             [
              0,
              "#0d0887"
             ],
             [
              0.1111111111111111,
              "#46039f"
             ],
             [
              0.2222222222222222,
              "#7201a8"
             ],
             [
              0.3333333333333333,
              "#9c179e"
             ],
             [
              0.4444444444444444,
              "#bd3786"
             ],
             [
              0.5555555555555556,
              "#d8576b"
             ],
             [
              0.6666666666666666,
              "#ed7953"
             ],
             [
              0.7777777777777778,
              "#fb9f3a"
             ],
             [
              0.8888888888888888,
              "#fdca26"
             ],
             [
              1,
              "#f0f921"
             ]
            ],
            "type": "heatmap"
           }
          ],
          "histogram": [
           {
            "marker": {
             "pattern": {
              "fillmode": "overlay",
              "size": 10,
              "solidity": 0.2
             }
            },
            "type": "histogram"
           }
          ],
          "histogram2d": [
           {
            "colorbar": {
             "outlinewidth": 0,
             "ticks": ""
            },
            "colorscale": [
             [
              0,
              "#0d0887"
             ],
             [
              0.1111111111111111,
              "#46039f"
             ],
             [
              0.2222222222222222,
              "#7201a8"
             ],
             [
              0.3333333333333333,
              "#9c179e"
             ],
             [
              0.4444444444444444,
              "#bd3786"
             ],
             [
              0.5555555555555556,
              "#d8576b"
             ],
             [
              0.6666666666666666,
              "#ed7953"
             ],
             [
              0.7777777777777778,
              "#fb9f3a"
             ],
             [
              0.8888888888888888,
              "#fdca26"
             ],
             [
              1,
              "#f0f921"
             ]
            ],
            "type": "histogram2d"
           }
          ],
          "histogram2dcontour": [
           {
            "colorbar": {
             "outlinewidth": 0,
             "ticks": ""
            },
            "colorscale": [
             [
              0,
              "#0d0887"
             ],
             [
              0.1111111111111111,
              "#46039f"
             ],
             [
              0.2222222222222222,
              "#7201a8"
             ],
             [
              0.3333333333333333,
              "#9c179e"
             ],
             [
              0.4444444444444444,
              "#bd3786"
             ],
             [
              0.5555555555555556,
              "#d8576b"
             ],
             [
              0.6666666666666666,
              "#ed7953"
             ],
             [
              0.7777777777777778,
              "#fb9f3a"
             ],
             [
              0.8888888888888888,
              "#fdca26"
             ],
             [
              1,
              "#f0f921"
             ]
            ],
            "type": "histogram2dcontour"
           }
          ],
          "mesh3d": [
           {
            "colorbar": {
             "outlinewidth": 0,
             "ticks": ""
            },
            "type": "mesh3d"
           }
          ],
          "parcoords": [
           {
            "line": {
             "colorbar": {
              "outlinewidth": 0,
              "ticks": ""
             }
            },
            "type": "parcoords"
           }
          ],
          "pie": [
           {
            "automargin": true,
            "type": "pie"
           }
          ],
          "scatter": [
           {
            "fillpattern": {
             "fillmode": "overlay",
             "size": 10,
             "solidity": 0.2
            },
            "type": "scatter"
           }
          ],
          "scatter3d": [
           {
            "line": {
             "colorbar": {
              "outlinewidth": 0,
              "ticks": ""
             }
            },
            "marker": {
             "colorbar": {
              "outlinewidth": 0,
              "ticks": ""
             }
            },
            "type": "scatter3d"
           }
          ],
          "scattercarpet": [
           {
            "marker": {
             "colorbar": {
              "outlinewidth": 0,
              "ticks": ""
             }
            },
            "type": "scattercarpet"
           }
          ],
          "scattergeo": [
           {
            "marker": {
             "colorbar": {
              "outlinewidth": 0,
              "ticks": ""
             }
            },
            "type": "scattergeo"
           }
          ],
          "scattergl": [
           {
            "marker": {
             "colorbar": {
              "outlinewidth": 0,
              "ticks": ""
             }
            },
            "type": "scattergl"
           }
          ],
          "scattermap": [
           {
            "marker": {
             "colorbar": {
              "outlinewidth": 0,
              "ticks": ""
             }
            },
            "type": "scattermap"
           }
          ],
          "scattermapbox": [
           {
            "marker": {
             "colorbar": {
              "outlinewidth": 0,
              "ticks": ""
             }
            },
            "type": "scattermapbox"
           }
          ],
          "scatterpolar": [
           {
            "marker": {
             "colorbar": {
              "outlinewidth": 0,
              "ticks": ""
             }
            },
            "type": "scatterpolar"
           }
          ],
          "scatterpolargl": [
           {
            "marker": {
             "colorbar": {
              "outlinewidth": 0,
              "ticks": ""
             }
            },
            "type": "scatterpolargl"
           }
          ],
          "scatterternary": [
           {
            "marker": {
             "colorbar": {
              "outlinewidth": 0,
              "ticks": ""
             }
            },
            "type": "scatterternary"
           }
          ],
          "surface": [
           {
            "colorbar": {
             "outlinewidth": 0,
             "ticks": ""
            },
            "colorscale": [
             [
              0,
              "#0d0887"
             ],
             [
              0.1111111111111111,
              "#46039f"
             ],
             [
              0.2222222222222222,
              "#7201a8"
             ],
             [
              0.3333333333333333,
              "#9c179e"
             ],
             [
              0.4444444444444444,
              "#bd3786"
             ],
             [
              0.5555555555555556,
              "#d8576b"
             ],
             [
              0.6666666666666666,
              "#ed7953"
             ],
             [
              0.7777777777777778,
              "#fb9f3a"
             ],
             [
              0.8888888888888888,
              "#fdca26"
             ],
             [
              1,
              "#f0f921"
             ]
            ],
            "type": "surface"
           }
          ],
          "table": [
           {
            "cells": {
             "fill": {
              "color": "#EBF0F8"
             },
             "line": {
              "color": "white"
             }
            },
            "header": {
             "fill": {
              "color": "#C8D4E3"
             },
             "line": {
              "color": "white"
             }
            },
            "type": "table"
           }
          ]
         },
         "layout": {
          "annotationdefaults": {
           "arrowcolor": "#2a3f5f",
           "arrowhead": 0,
           "arrowwidth": 1
          },
          "autotypenumbers": "strict",
          "coloraxis": {
           "colorbar": {
            "outlinewidth": 0,
            "ticks": ""
           }
          },
          "colorscale": {
           "diverging": [
            [
             0,
             "#8e0152"
            ],
            [
             0.1,
             "#c51b7d"
            ],
            [
             0.2,
             "#de77ae"
            ],
            [
             0.3,
             "#f1b6da"
            ],
            [
             0.4,
             "#fde0ef"
            ],
            [
             0.5,
             "#f7f7f7"
            ],
            [
             0.6,
             "#e6f5d0"
            ],
            [
             0.7,
             "#b8e186"
            ],
            [
             0.8,
             "#7fbc41"
            ],
            [
             0.9,
             "#4d9221"
            ],
            [
             1,
             "#276419"
            ]
           ],
           "sequential": [
            [
             0,
             "#0d0887"
            ],
            [
             0.1111111111111111,
             "#46039f"
            ],
            [
             0.2222222222222222,
             "#7201a8"
            ],
            [
             0.3333333333333333,
             "#9c179e"
            ],
            [
             0.4444444444444444,
             "#bd3786"
            ],
            [
             0.5555555555555556,
             "#d8576b"
            ],
            [
             0.6666666666666666,
             "#ed7953"
            ],
            [
             0.7777777777777778,
             "#fb9f3a"
            ],
            [
             0.8888888888888888,
             "#fdca26"
            ],
            [
             1,
             "#f0f921"
            ]
           ],
           "sequentialminus": [
            [
             0,
             "#0d0887"
            ],
            [
             0.1111111111111111,
             "#46039f"
            ],
            [
             0.2222222222222222,
             "#7201a8"
            ],
            [
             0.3333333333333333,
             "#9c179e"
            ],
            [
             0.4444444444444444,
             "#bd3786"
            ],
            [
             0.5555555555555556,
             "#d8576b"
            ],
            [
             0.6666666666666666,
             "#ed7953"
            ],
            [
             0.7777777777777778,
             "#fb9f3a"
            ],
            [
             0.8888888888888888,
             "#fdca26"
            ],
            [
             1,
             "#f0f921"
            ]
           ]
          },
          "colorway": [
           "#636efa",
           "#EF553B",
           "#00cc96",
           "#ab63fa",
           "#FFA15A",
           "#19d3f3",
           "#FF6692",
           "#B6E880",
           "#FF97FF",
           "#FECB52"
          ],
          "font": {
           "color": "#2a3f5f"
          },
          "geo": {
           "bgcolor": "white",
           "lakecolor": "white",
           "landcolor": "white",
           "showlakes": true,
           "showland": true,
           "subunitcolor": "#C8D4E3"
          },
          "hoverlabel": {
           "align": "left"
          },
          "hovermode": "closest",
          "mapbox": {
           "style": "light"
          },
          "paper_bgcolor": "white",
          "plot_bgcolor": "white",
          "polar": {
           "angularaxis": {
            "gridcolor": "#EBF0F8",
            "linecolor": "#EBF0F8",
            "ticks": ""
           },
           "bgcolor": "white",
           "radialaxis": {
            "gridcolor": "#EBF0F8",
            "linecolor": "#EBF0F8",
            "ticks": ""
           }
          },
          "scene": {
           "xaxis": {
            "backgroundcolor": "white",
            "gridcolor": "#DFE8F3",
            "gridwidth": 2,
            "linecolor": "#EBF0F8",
            "showbackground": true,
            "ticks": "",
            "zerolinecolor": "#EBF0F8"
           },
           "yaxis": {
            "backgroundcolor": "white",
            "gridcolor": "#DFE8F3",
            "gridwidth": 2,
            "linecolor": "#EBF0F8",
            "showbackground": true,
            "ticks": "",
            "zerolinecolor": "#EBF0F8"
           },
           "zaxis": {
            "backgroundcolor": "white",
            "gridcolor": "#DFE8F3",
            "gridwidth": 2,
            "linecolor": "#EBF0F8",
            "showbackground": true,
            "ticks": "",
            "zerolinecolor": "#EBF0F8"
           }
          },
          "shapedefaults": {
           "line": {
            "color": "#2a3f5f"
           }
          },
          "ternary": {
           "aaxis": {
            "gridcolor": "#DFE8F3",
            "linecolor": "#A2B1C6",
            "ticks": ""
           },
           "baxis": {
            "gridcolor": "#DFE8F3",
            "linecolor": "#A2B1C6",
            "ticks": ""
           },
           "bgcolor": "white",
           "caxis": {
            "gridcolor": "#DFE8F3",
            "linecolor": "#A2B1C6",
            "ticks": ""
           }
          },
          "title": {
           "x": 0.05
          },
          "xaxis": {
           "automargin": true,
           "gridcolor": "#EBF0F8",
           "linecolor": "#EBF0F8",
           "ticks": "",
           "title": {
            "standoff": 15
           },
           "zerolinecolor": "#EBF0F8",
           "zerolinewidth": 2
          },
          "yaxis": {
           "automargin": true,
           "gridcolor": "#EBF0F8",
           "linecolor": "#EBF0F8",
           "ticks": "",
           "title": {
            "standoff": 15
           },
           "zerolinecolor": "#EBF0F8",
           "zerolinewidth": 2
          }
         }
        },
        "title": {
         "text": "Likes Timeline for Posts Since 2022"
        },
        "xaxis": {
         "anchor": "y",
         "domain": [
          0,
          1
         ],
         "tickangle": -45,
         "title": {
          "text": "Post Date"
         }
        },
        "yaxis": {
         "anchor": "x",
         "domain": [
          0,
          1
         ],
         "title": {
          "text": "Like Count"
         }
        }
       }
      }
     },
     "metadata": {},
     "output_type": "display_data"
    }
   ],
   "source": [
    "# Ensure 'date_local' is datetime\n",
    "df_posts['date_local'] = pd.to_datetime(df_posts['date_local'])\n",
    "\n",
    "# Filter posts from 2022 onwards\n",
    "start_date = datetime(2022, 1, 1)\n",
    "df_recent_posts = df_posts[df_posts['date_local'] >= start_date]\n",
    "\n",
    "# Sort by date\n",
    "df_recent_posts_sorted = df_recent_posts.sort_values(by='date_local')\n",
    "\n",
    "# Create interactive plot\n",
    "fig = px.line(\n",
    "    df_recent_posts_sorted,\n",
    "    x='date_local',\n",
    "    y='like_count',\n",
    "    title='Likes Timeline for Posts Since 2022',\n",
    "    markers=True,\n",
    "    labels={'date_local': 'Post Date', 'like_count': 'Likes'}\n",
    ")\n",
    "\n",
    "# Customize layout\n",
    "fig.update_layout(\n",
    "    xaxis_title='Post Date',\n",
    "    yaxis_title='Like Count',\n",
    "    xaxis_tickangle=-45,\n",
    "    template='plotly_white',\n",
    "    hovermode='x unified'\n",
    ")\n",
    "\n",
    "fig.show()\n"
   ]
  },
  {
   "cell_type": "markdown",
   "id": "6f66ca7f",
   "metadata": {},
   "source": [
    "#### What stats has the average follower?"
   ]
  },
  {
   "cell_type": "code",
   "execution_count": 66,
   "id": "241e1a61",
   "metadata": {},
   "outputs": [
    {
     "data": {
      "application/vnd.plotly.v1+json": {
       "config": {
        "plotlyServerURL": "https://plot.ly"
       },
       "data": [
        {
         "hovertemplate": "Metric=%{x}<br>Average Value=%{text}<extra></extra>",
         "legendgroup": "Followers",
         "marker": {
          "color": "rgb(141,211,199)",
          "pattern": {
           "shape": ""
          }
         },
         "name": "Followers",
         "orientation": "v",
         "showlegend": true,
         "text": {
          "bdata": "byiu7/hWhUA=",
          "dtype": "f8"
         },
         "textposition": "outside",
         "texttemplate": "%{text:.2f}",
         "type": "bar",
         "x": [
          "Followers"
         ],
         "xaxis": "x",
         "y": {
          "bdata": "byiu7/hWhUA=",
          "dtype": "f8"
         },
         "yaxis": "y"
        },
        {
         "hovertemplate": "Metric=%{x}<br>Average Value=%{text}<extra></extra>",
         "legendgroup": "Followees",
         "marker": {
          "color": "rgb(255,255,179)",
          "pattern": {
           "shape": ""
          }
         },
         "name": "Followees",
         "orientation": "v",
         "showlegend": true,
         "text": {
          "bdata": "iTcU13dIlEA=",
          "dtype": "f8"
         },
         "textposition": "outside",
         "texttemplate": "%{text:.2f}",
         "type": "bar",
         "x": [
          "Followees"
         ],
         "xaxis": "x",
         "y": {
          "bdata": "iTcU13dIlEA=",
          "dtype": "f8"
         },
         "yaxis": "y"
        },
        {
         "hovertemplate": "Metric=%{x}<br>Average Value=%{text}<extra></extra>",
         "legendgroup": "Posts",
         "marker": {
          "color": "rgb(190,186,218)",
          "pattern": {
           "shape": ""
          }
         },
         "name": "Posts",
         "orientation": "v",
         "showlegend": true,
         "text": {
          "bdata": "HHe1taKMX0A=",
          "dtype": "f8"
         },
         "textposition": "outside",
         "texttemplate": "%{text:.2f}",
         "type": "bar",
         "x": [
          "Posts"
         ],
         "xaxis": "x",
         "y": {
          "bdata": "HHe1taKMX0A=",
          "dtype": "f8"
         },
         "yaxis": "y"
        },
        {
         "hovertemplate": "Metric=%{x}<br>Average Value=%{text}<extra></extra>",
         "legendgroup": "Likes",
         "marker": {
          "color": "rgb(251,128,114)",
          "pattern": {
           "shape": ""
          }
         },
         "name": "Likes",
         "orientation": "v",
         "showlegend": true,
         "text": {
          "bdata": "ylN4VqcDJkA=",
          "dtype": "f8"
         },
         "textposition": "outside",
         "texttemplate": "%{text:.2f}",
         "type": "bar",
         "x": [
          "Likes"
         ],
         "xaxis": "x",
         "y": {
          "bdata": "ylN4VqcDJkA=",
          "dtype": "f8"
         },
         "yaxis": "y"
        }
       ],
       "layout": {
        "barmode": "relative",
        "legend": {
         "title": {
          "text": "Metric"
         },
         "tracegroupgap": 0
        },
        "template": {
         "data": {
          "bar": [
           {
            "error_x": {
             "color": "#2a3f5f"
            },
            "error_y": {
             "color": "#2a3f5f"
            },
            "marker": {
             "line": {
              "color": "white",
              "width": 0.5
             },
             "pattern": {
              "fillmode": "overlay",
              "size": 10,
              "solidity": 0.2
             }
            },
            "type": "bar"
           }
          ],
          "barpolar": [
           {
            "marker": {
             "line": {
              "color": "white",
              "width": 0.5
             },
             "pattern": {
              "fillmode": "overlay",
              "size": 10,
              "solidity": 0.2
             }
            },
            "type": "barpolar"
           }
          ],
          "carpet": [
           {
            "aaxis": {
             "endlinecolor": "#2a3f5f",
             "gridcolor": "#C8D4E3",
             "linecolor": "#C8D4E3",
             "minorgridcolor": "#C8D4E3",
             "startlinecolor": "#2a3f5f"
            },
            "baxis": {
             "endlinecolor": "#2a3f5f",
             "gridcolor": "#C8D4E3",
             "linecolor": "#C8D4E3",
             "minorgridcolor": "#C8D4E3",
             "startlinecolor": "#2a3f5f"
            },
            "type": "carpet"
           }
          ],
          "choropleth": [
           {
            "colorbar": {
             "outlinewidth": 0,
             "ticks": ""
            },
            "type": "choropleth"
           }
          ],
          "contour": [
           {
            "colorbar": {
             "outlinewidth": 0,
             "ticks": ""
            },
            "colorscale": [
             [
              0,
              "#0d0887"
             ],
             [
              0.1111111111111111,
              "#46039f"
             ],
             [
              0.2222222222222222,
              "#7201a8"
             ],
             [
              0.3333333333333333,
              "#9c179e"
             ],
             [
              0.4444444444444444,
              "#bd3786"
             ],
             [
              0.5555555555555556,
              "#d8576b"
             ],
             [
              0.6666666666666666,
              "#ed7953"
             ],
             [
              0.7777777777777778,
              "#fb9f3a"
             ],
             [
              0.8888888888888888,
              "#fdca26"
             ],
             [
              1,
              "#f0f921"
             ]
            ],
            "type": "contour"
           }
          ],
          "contourcarpet": [
           {
            "colorbar": {
             "outlinewidth": 0,
             "ticks": ""
            },
            "type": "contourcarpet"
           }
          ],
          "heatmap": [
           {
            "colorbar": {
             "outlinewidth": 0,
             "ticks": ""
            },
            "colorscale": [
             [
              0,
              "#0d0887"
             ],
             [
              0.1111111111111111,
              "#46039f"
             ],
             [
              0.2222222222222222,
              "#7201a8"
             ],
             [
              0.3333333333333333,
              "#9c179e"
             ],
             [
              0.4444444444444444,
              "#bd3786"
             ],
             [
              0.5555555555555556,
              "#d8576b"
             ],
             [
              0.6666666666666666,
              "#ed7953"
             ],
             [
              0.7777777777777778,
              "#fb9f3a"
             ],
             [
              0.8888888888888888,
              "#fdca26"
             ],
             [
              1,
              "#f0f921"
             ]
            ],
            "type": "heatmap"
           }
          ],
          "histogram": [
           {
            "marker": {
             "pattern": {
              "fillmode": "overlay",
              "size": 10,
              "solidity": 0.2
             }
            },
            "type": "histogram"
           }
          ],
          "histogram2d": [
           {
            "colorbar": {
             "outlinewidth": 0,
             "ticks": ""
            },
            "colorscale": [
             [
              0,
              "#0d0887"
             ],
             [
              0.1111111111111111,
              "#46039f"
             ],
             [
              0.2222222222222222,
              "#7201a8"
             ],
             [
              0.3333333333333333,
              "#9c179e"
             ],
             [
              0.4444444444444444,
              "#bd3786"
             ],
             [
              0.5555555555555556,
              "#d8576b"
             ],
             [
              0.6666666666666666,
              "#ed7953"
             ],
             [
              0.7777777777777778,
              "#fb9f3a"
             ],
             [
              0.8888888888888888,
              "#fdca26"
             ],
             [
              1,
              "#f0f921"
             ]
            ],
            "type": "histogram2d"
           }
          ],
          "histogram2dcontour": [
           {
            "colorbar": {
             "outlinewidth": 0,
             "ticks": ""
            },
            "colorscale": [
             [
              0,
              "#0d0887"
             ],
             [
              0.1111111111111111,
              "#46039f"
             ],
             [
              0.2222222222222222,
              "#7201a8"
             ],
             [
              0.3333333333333333,
              "#9c179e"
             ],
             [
              0.4444444444444444,
              "#bd3786"
             ],
             [
              0.5555555555555556,
              "#d8576b"
             ],
             [
              0.6666666666666666,
              "#ed7953"
             ],
             [
              0.7777777777777778,
              "#fb9f3a"
             ],
             [
              0.8888888888888888,
              "#fdca26"
             ],
             [
              1,
              "#f0f921"
             ]
            ],
            "type": "histogram2dcontour"
           }
          ],
          "mesh3d": [
           {
            "colorbar": {
             "outlinewidth": 0,
             "ticks": ""
            },
            "type": "mesh3d"
           }
          ],
          "parcoords": [
           {
            "line": {
             "colorbar": {
              "outlinewidth": 0,
              "ticks": ""
             }
            },
            "type": "parcoords"
           }
          ],
          "pie": [
           {
            "automargin": true,
            "type": "pie"
           }
          ],
          "scatter": [
           {
            "fillpattern": {
             "fillmode": "overlay",
             "size": 10,
             "solidity": 0.2
            },
            "type": "scatter"
           }
          ],
          "scatter3d": [
           {
            "line": {
             "colorbar": {
              "outlinewidth": 0,
              "ticks": ""
             }
            },
            "marker": {
             "colorbar": {
              "outlinewidth": 0,
              "ticks": ""
             }
            },
            "type": "scatter3d"
           }
          ],
          "scattercarpet": [
           {
            "marker": {
             "colorbar": {
              "outlinewidth": 0,
              "ticks": ""
             }
            },
            "type": "scattercarpet"
           }
          ],
          "scattergeo": [
           {
            "marker": {
             "colorbar": {
              "outlinewidth": 0,
              "ticks": ""
             }
            },
            "type": "scattergeo"
           }
          ],
          "scattergl": [
           {
            "marker": {
             "colorbar": {
              "outlinewidth": 0,
              "ticks": ""
             }
            },
            "type": "scattergl"
           }
          ],
          "scattermap": [
           {
            "marker": {
             "colorbar": {
              "outlinewidth": 0,
              "ticks": ""
             }
            },
            "type": "scattermap"
           }
          ],
          "scattermapbox": [
           {
            "marker": {
             "colorbar": {
              "outlinewidth": 0,
              "ticks": ""
             }
            },
            "type": "scattermapbox"
           }
          ],
          "scatterpolar": [
           {
            "marker": {
             "colorbar": {
              "outlinewidth": 0,
              "ticks": ""
             }
            },
            "type": "scatterpolar"
           }
          ],
          "scatterpolargl": [
           {
            "marker": {
             "colorbar": {
              "outlinewidth": 0,
              "ticks": ""
             }
            },
            "type": "scatterpolargl"
           }
          ],
          "scatterternary": [
           {
            "marker": {
             "colorbar": {
              "outlinewidth": 0,
              "ticks": ""
             }
            },
            "type": "scatterternary"
           }
          ],
          "surface": [
           {
            "colorbar": {
             "outlinewidth": 0,
             "ticks": ""
            },
            "colorscale": [
             [
              0,
              "#0d0887"
             ],
             [
              0.1111111111111111,
              "#46039f"
             ],
             [
              0.2222222222222222,
              "#7201a8"
             ],
             [
              0.3333333333333333,
              "#9c179e"
             ],
             [
              0.4444444444444444,
              "#bd3786"
             ],
             [
              0.5555555555555556,
              "#d8576b"
             ],
             [
              0.6666666666666666,
              "#ed7953"
             ],
             [
              0.7777777777777778,
              "#fb9f3a"
             ],
             [
              0.8888888888888888,
              "#fdca26"
             ],
             [
              1,
              "#f0f921"
             ]
            ],
            "type": "surface"
           }
          ],
          "table": [
           {
            "cells": {
             "fill": {
              "color": "#EBF0F8"
             },
             "line": {
              "color": "white"
             }
            },
            "header": {
             "fill": {
              "color": "#C8D4E3"
             },
             "line": {
              "color": "white"
             }
            },
            "type": "table"
           }
          ]
         },
         "layout": {
          "annotationdefaults": {
           "arrowcolor": "#2a3f5f",
           "arrowhead": 0,
           "arrowwidth": 1
          },
          "autotypenumbers": "strict",
          "coloraxis": {
           "colorbar": {
            "outlinewidth": 0,
            "ticks": ""
           }
          },
          "colorscale": {
           "diverging": [
            [
             0,
             "#8e0152"
            ],
            [
             0.1,
             "#c51b7d"
            ],
            [
             0.2,
             "#de77ae"
            ],
            [
             0.3,
             "#f1b6da"
            ],
            [
             0.4,
             "#fde0ef"
            ],
            [
             0.5,
             "#f7f7f7"
            ],
            [
             0.6,
             "#e6f5d0"
            ],
            [
             0.7,
             "#b8e186"
            ],
            [
             0.8,
             "#7fbc41"
            ],
            [
             0.9,
             "#4d9221"
            ],
            [
             1,
             "#276419"
            ]
           ],
           "sequential": [
            [
             0,
             "#0d0887"
            ],
            [
             0.1111111111111111,
             "#46039f"
            ],
            [
             0.2222222222222222,
             "#7201a8"
            ],
            [
             0.3333333333333333,
             "#9c179e"
            ],
            [
             0.4444444444444444,
             "#bd3786"
            ],
            [
             0.5555555555555556,
             "#d8576b"
            ],
            [
             0.6666666666666666,
             "#ed7953"
            ],
            [
             0.7777777777777778,
             "#fb9f3a"
            ],
            [
             0.8888888888888888,
             "#fdca26"
            ],
            [
             1,
             "#f0f921"
            ]
           ],
           "sequentialminus": [
            [
             0,
             "#0d0887"
            ],
            [
             0.1111111111111111,
             "#46039f"
            ],
            [
             0.2222222222222222,
             "#7201a8"
            ],
            [
             0.3333333333333333,
             "#9c179e"
            ],
            [
             0.4444444444444444,
             "#bd3786"
            ],
            [
             0.5555555555555556,
             "#d8576b"
            ],
            [
             0.6666666666666666,
             "#ed7953"
            ],
            [
             0.7777777777777778,
             "#fb9f3a"
            ],
            [
             0.8888888888888888,
             "#fdca26"
            ],
            [
             1,
             "#f0f921"
            ]
           ]
          },
          "colorway": [
           "#636efa",
           "#EF553B",
           "#00cc96",
           "#ab63fa",
           "#FFA15A",
           "#19d3f3",
           "#FF6692",
           "#B6E880",
           "#FF97FF",
           "#FECB52"
          ],
          "font": {
           "color": "#2a3f5f"
          },
          "geo": {
           "bgcolor": "white",
           "lakecolor": "white",
           "landcolor": "white",
           "showlakes": true,
           "showland": true,
           "subunitcolor": "#C8D4E3"
          },
          "hoverlabel": {
           "align": "left"
          },
          "hovermode": "closest",
          "mapbox": {
           "style": "light"
          },
          "paper_bgcolor": "white",
          "plot_bgcolor": "white",
          "polar": {
           "angularaxis": {
            "gridcolor": "#EBF0F8",
            "linecolor": "#EBF0F8",
            "ticks": ""
           },
           "bgcolor": "white",
           "radialaxis": {
            "gridcolor": "#EBF0F8",
            "linecolor": "#EBF0F8",
            "ticks": ""
           }
          },
          "scene": {
           "xaxis": {
            "backgroundcolor": "white",
            "gridcolor": "#DFE8F3",
            "gridwidth": 2,
            "linecolor": "#EBF0F8",
            "showbackground": true,
            "ticks": "",
            "zerolinecolor": "#EBF0F8"
           },
           "yaxis": {
            "backgroundcolor": "white",
            "gridcolor": "#DFE8F3",
            "gridwidth": 2,
            "linecolor": "#EBF0F8",
            "showbackground": true,
            "ticks": "",
            "zerolinecolor": "#EBF0F8"
           },
           "zaxis": {
            "backgroundcolor": "white",
            "gridcolor": "#DFE8F3",
            "gridwidth": 2,
            "linecolor": "#EBF0F8",
            "showbackground": true,
            "ticks": "",
            "zerolinecolor": "#EBF0F8"
           }
          },
          "shapedefaults": {
           "line": {
            "color": "#2a3f5f"
           }
          },
          "ternary": {
           "aaxis": {
            "gridcolor": "#DFE8F3",
            "linecolor": "#A2B1C6",
            "ticks": ""
           },
           "baxis": {
            "gridcolor": "#DFE8F3",
            "linecolor": "#A2B1C6",
            "ticks": ""
           },
           "bgcolor": "white",
           "caxis": {
            "gridcolor": "#DFE8F3",
            "linecolor": "#A2B1C6",
            "ticks": ""
           }
          },
          "title": {
           "x": 0.05
          },
          "xaxis": {
           "automargin": true,
           "gridcolor": "#EBF0F8",
           "linecolor": "#EBF0F8",
           "ticks": "",
           "title": {
            "standoff": 15
           },
           "zerolinecolor": "#EBF0F8",
           "zerolinewidth": 2
          },
          "yaxis": {
           "automargin": true,
           "gridcolor": "#EBF0F8",
           "linecolor": "#EBF0F8",
           "ticks": "",
           "title": {
            "standoff": 15
           },
           "zerolinecolor": "#EBF0F8",
           "zerolinewidth": 2
          }
         }
        },
        "title": {
         "text": "Average Metrics per Follower Profile"
        },
        "uniformtext": {
         "minsize": 8,
         "mode": "hide"
        },
        "xaxis": {
         "anchor": "y",
         "categoryarray": [
          "Followers",
          "Followees",
          "Posts",
          "Likes"
         ],
         "categoryorder": "array",
         "domain": [
          0,
          1
         ],
         "title": {
          "text": "Profile Metric"
         }
        },
        "yaxis": {
         "anchor": "x",
         "domain": [
          0,
          1
         ],
         "title": {
          "text": "Average Value"
         }
        }
       }
      }
     },
     "metadata": {},
     "output_type": "display_data"
    }
   ],
   "source": [
    "profiles = session.query(Profile).all()\n",
    "profile_dict = {p.id: p for p in profiles}\n",
    "\n",
    "df_profiles = pd.DataFrame([{\n",
    "    'id': p.id,\n",
    "    'follower_count': p.follower_count or 0,\n",
    "    'followees_count': p.followees_count or 0,\n",
    "    'post_count': p.post_count or 0\n",
    "} for p in profiles if p.id in [f.profile_id for f in followers]])\n",
    "\n",
    "df_followers_stats = pd.DataFrame([{\n",
    "    'profile_id': f.profile_id,\n",
    "    'likes_count': f.likes_count or 0\n",
    "} for f in followers])\n",
    "\n",
    "df_merged = df_profiles.merge(df_followers_stats, left_on='id', right_on='profile_id', how='inner')\n",
    "\n",
    "# Prepare averages dictionary\n",
    "averages = {\n",
    "    'Followers': df_merged['follower_count'].mean(),\n",
    "    'Followees': df_merged['followees_count'].mean(),\n",
    "    'Posts': df_merged['post_count'].mean(),\n",
    "    'Likes': df_merged['likes_count'].mean()\n",
    "}\n",
    "\n",
    "# Convert to DataFrame for Plotly\n",
    "df_avg = pd.DataFrame(list(averages.items()), columns=['Metric', 'Average'])\n",
    "\n",
    "# Create interactive bar chart\n",
    "fig = px.bar(\n",
    "    df_avg,\n",
    "    x='Metric',\n",
    "    y='Average',\n",
    "    text='Average',\n",
    "    title=\"Average Metrics per Follower Profile\",\n",
    "    labels={'Average': 'Average Value'},\n",
    "    color='Metric',\n",
    "    color_discrete_sequence=px.colors.qualitative.Set3\n",
    ")\n",
    "\n",
    "fig.update_traces(texttemplate='%{text:.2f}', textposition='outside')\n",
    "\n",
    "fig.update_layout(\n",
    "    yaxis_title=\"Average Value\",\n",
    "    xaxis_title=\"Profile Metric\",\n",
    "    uniformtext_minsize=8,\n",
    "    uniformtext_mode='hide',\n",
    "    template='plotly_white'\n",
    ")\n",
    "\n",
    "fig.show()\n"
   ]
  },
  {
   "cell_type": "markdown",
   "id": "3a560756",
   "metadata": {},
   "source": [
    "#### Who are the top profile who Like the most?"
   ]
  },
  {
   "cell_type": "code",
   "execution_count": 67,
   "id": "8a661bd2",
   "metadata": {},
   "outputs": [
    {
     "data": {
      "application/vnd.plotly.v1+json": {
       "config": {
        "plotlyServerURL": "https://plot.ly"
       },
       "data": [
        {
         "hovertemplate": "Username=%{x}<br>Number of Likes Given=%{marker.color}<extra></extra>",
         "legendgroup": "",
         "marker": {
          "color": {
           "bdata": "IQIgAhMCDwLjAcEBtwGgAZ8BkQE=",
           "dtype": "i2"
          },
          "coloraxis": "coloraxis",
          "pattern": {
           "shape": ""
          }
         },
         "name": "",
         "orientation": "v",
         "showlegend": false,
         "text": {
          "bdata": "AAAAAAAIgUAAAAAAAACBQAAAAAAAmIBAAAAAAAB4gEAAAAAAADB+QAAAAAAAEHxAAAAAAABwe0AAAAAAAAB6QAAAAAAA8HlAAAAAAAAQeUA=",
          "dtype": "f8"
         },
         "textposition": "outside",
         "type": "bar",
         "x": [
          "lukas.ruth29",
          "wild_n_free_photography",
          "dorfterror.fussel",
          "dorfterror.elgato",
          "boris_truly",
          "_a_n_n_o_u_k",
          "waffel200",
          "oliver.jnsn",
          "joakim_sexy_hexy_hexagon",
          "maxim.maier"
         ],
         "xaxis": "x",
         "y": {
          "bdata": "IQIgAhMCDwLjAcEBtwGgAZ8BkQE=",
          "dtype": "i2"
         },
         "yaxis": "y"
        }
       ],
       "layout": {
        "barmode": "relative",
        "coloraxis": {
         "colorbar": {
          "title": {
           "text": "Number of Likes Given"
          }
         },
         "colorscale": [
          [
           0,
           "rgb(247,251,255)"
          ],
          [
           0.125,
           "rgb(222,235,247)"
          ],
          [
           0.25,
           "rgb(198,219,239)"
          ],
          [
           0.375,
           "rgb(158,202,225)"
          ],
          [
           0.5,
           "rgb(107,174,214)"
          ],
          [
           0.625,
           "rgb(66,146,198)"
          ],
          [
           0.75,
           "rgb(33,113,181)"
          ],
          [
           0.875,
           "rgb(8,81,156)"
          ],
          [
           1,
           "rgb(8,48,107)"
          ]
         ]
        },
        "legend": {
         "tracegroupgap": 0
        },
        "margin": {
         "t": 80
        },
        "template": {
         "data": {
          "bar": [
           {
            "error_x": {
             "color": "#2a3f5f"
            },
            "error_y": {
             "color": "#2a3f5f"
            },
            "marker": {
             "line": {
              "color": "white",
              "width": 0.5
             },
             "pattern": {
              "fillmode": "overlay",
              "size": 10,
              "solidity": 0.2
             }
            },
            "type": "bar"
           }
          ],
          "barpolar": [
           {
            "marker": {
             "line": {
              "color": "white",
              "width": 0.5
             },
             "pattern": {
              "fillmode": "overlay",
              "size": 10,
              "solidity": 0.2
             }
            },
            "type": "barpolar"
           }
          ],
          "carpet": [
           {
            "aaxis": {
             "endlinecolor": "#2a3f5f",
             "gridcolor": "#C8D4E3",
             "linecolor": "#C8D4E3",
             "minorgridcolor": "#C8D4E3",
             "startlinecolor": "#2a3f5f"
            },
            "baxis": {
             "endlinecolor": "#2a3f5f",
             "gridcolor": "#C8D4E3",
             "linecolor": "#C8D4E3",
             "minorgridcolor": "#C8D4E3",
             "startlinecolor": "#2a3f5f"
            },
            "type": "carpet"
           }
          ],
          "choropleth": [
           {
            "colorbar": {
             "outlinewidth": 0,
             "ticks": ""
            },
            "type": "choropleth"
           }
          ],
          "contour": [
           {
            "colorbar": {
             "outlinewidth": 0,
             "ticks": ""
            },
            "colorscale": [
             [
              0,
              "#0d0887"
             ],
             [
              0.1111111111111111,
              "#46039f"
             ],
             [
              0.2222222222222222,
              "#7201a8"
             ],
             [
              0.3333333333333333,
              "#9c179e"
             ],
             [
              0.4444444444444444,
              "#bd3786"
             ],
             [
              0.5555555555555556,
              "#d8576b"
             ],
             [
              0.6666666666666666,
              "#ed7953"
             ],
             [
              0.7777777777777778,
              "#fb9f3a"
             ],
             [
              0.8888888888888888,
              "#fdca26"
             ],
             [
              1,
              "#f0f921"
             ]
            ],
            "type": "contour"
           }
          ],
          "contourcarpet": [
           {
            "colorbar": {
             "outlinewidth": 0,
             "ticks": ""
            },
            "type": "contourcarpet"
           }
          ],
          "heatmap": [
           {
            "colorbar": {
             "outlinewidth": 0,
             "ticks": ""
            },
            "colorscale": [
             [
              0,
              "#0d0887"
             ],
             [
              0.1111111111111111,
              "#46039f"
             ],
             [
              0.2222222222222222,
              "#7201a8"
             ],
             [
              0.3333333333333333,
              "#9c179e"
             ],
             [
              0.4444444444444444,
              "#bd3786"
             ],
             [
              0.5555555555555556,
              "#d8576b"
             ],
             [
              0.6666666666666666,
              "#ed7953"
             ],
             [
              0.7777777777777778,
              "#fb9f3a"
             ],
             [
              0.8888888888888888,
              "#fdca26"
             ],
             [
              1,
              "#f0f921"
             ]
            ],
            "type": "heatmap"
           }
          ],
          "histogram": [
           {
            "marker": {
             "pattern": {
              "fillmode": "overlay",
              "size": 10,
              "solidity": 0.2
             }
            },
            "type": "histogram"
           }
          ],
          "histogram2d": [
           {
            "colorbar": {
             "outlinewidth": 0,
             "ticks": ""
            },
            "colorscale": [
             [
              0,
              "#0d0887"
             ],
             [
              0.1111111111111111,
              "#46039f"
             ],
             [
              0.2222222222222222,
              "#7201a8"
             ],
             [
              0.3333333333333333,
              "#9c179e"
             ],
             [
              0.4444444444444444,
              "#bd3786"
             ],
             [
              0.5555555555555556,
              "#d8576b"
             ],
             [
              0.6666666666666666,
              "#ed7953"
             ],
             [
              0.7777777777777778,
              "#fb9f3a"
             ],
             [
              0.8888888888888888,
              "#fdca26"
             ],
             [
              1,
              "#f0f921"
             ]
            ],
            "type": "histogram2d"
           }
          ],
          "histogram2dcontour": [
           {
            "colorbar": {
             "outlinewidth": 0,
             "ticks": ""
            },
            "colorscale": [
             [
              0,
              "#0d0887"
             ],
             [
              0.1111111111111111,
              "#46039f"
             ],
             [
              0.2222222222222222,
              "#7201a8"
             ],
             [
              0.3333333333333333,
              "#9c179e"
             ],
             [
              0.4444444444444444,
              "#bd3786"
             ],
             [
              0.5555555555555556,
              "#d8576b"
             ],
             [
              0.6666666666666666,
              "#ed7953"
             ],
             [
              0.7777777777777778,
              "#fb9f3a"
             ],
             [
              0.8888888888888888,
              "#fdca26"
             ],
             [
              1,
              "#f0f921"
             ]
            ],
            "type": "histogram2dcontour"
           }
          ],
          "mesh3d": [
           {
            "colorbar": {
             "outlinewidth": 0,
             "ticks": ""
            },
            "type": "mesh3d"
           }
          ],
          "parcoords": [
           {
            "line": {
             "colorbar": {
              "outlinewidth": 0,
              "ticks": ""
             }
            },
            "type": "parcoords"
           }
          ],
          "pie": [
           {
            "automargin": true,
            "type": "pie"
           }
          ],
          "scatter": [
           {
            "fillpattern": {
             "fillmode": "overlay",
             "size": 10,
             "solidity": 0.2
            },
            "type": "scatter"
           }
          ],
          "scatter3d": [
           {
            "line": {
             "colorbar": {
              "outlinewidth": 0,
              "ticks": ""
             }
            },
            "marker": {
             "colorbar": {
              "outlinewidth": 0,
              "ticks": ""
             }
            },
            "type": "scatter3d"
           }
          ],
          "scattercarpet": [
           {
            "marker": {
             "colorbar": {
              "outlinewidth": 0,
              "ticks": ""
             }
            },
            "type": "scattercarpet"
           }
          ],
          "scattergeo": [
           {
            "marker": {
             "colorbar": {
              "outlinewidth": 0,
              "ticks": ""
             }
            },
            "type": "scattergeo"
           }
          ],
          "scattergl": [
           {
            "marker": {
             "colorbar": {
              "outlinewidth": 0,
              "ticks": ""
             }
            },
            "type": "scattergl"
           }
          ],
          "scattermap": [
           {
            "marker": {
             "colorbar": {
              "outlinewidth": 0,
              "ticks": ""
             }
            },
            "type": "scattermap"
           }
          ],
          "scattermapbox": [
           {
            "marker": {
             "colorbar": {
              "outlinewidth": 0,
              "ticks": ""
             }
            },
            "type": "scattermapbox"
           }
          ],
          "scatterpolar": [
           {
            "marker": {
             "colorbar": {
              "outlinewidth": 0,
              "ticks": ""
             }
            },
            "type": "scatterpolar"
           }
          ],
          "scatterpolargl": [
           {
            "marker": {
             "colorbar": {
              "outlinewidth": 0,
              "ticks": ""
             }
            },
            "type": "scatterpolargl"
           }
          ],
          "scatterternary": [
           {
            "marker": {
             "colorbar": {
              "outlinewidth": 0,
              "ticks": ""
             }
            },
            "type": "scatterternary"
           }
          ],
          "surface": [
           {
            "colorbar": {
             "outlinewidth": 0,
             "ticks": ""
            },
            "colorscale": [
             [
              0,
              "#0d0887"
             ],
             [
              0.1111111111111111,
              "#46039f"
             ],
             [
              0.2222222222222222,
              "#7201a8"
             ],
             [
              0.3333333333333333,
              "#9c179e"
             ],
             [
              0.4444444444444444,
              "#bd3786"
             ],
             [
              0.5555555555555556,
              "#d8576b"
             ],
             [
              0.6666666666666666,
              "#ed7953"
             ],
             [
              0.7777777777777778,
              "#fb9f3a"
             ],
             [
              0.8888888888888888,
              "#fdca26"
             ],
             [
              1,
              "#f0f921"
             ]
            ],
            "type": "surface"
           }
          ],
          "table": [
           {
            "cells": {
             "fill": {
              "color": "#EBF0F8"
             },
             "line": {
              "color": "white"
             }
            },
            "header": {
             "fill": {
              "color": "#C8D4E3"
             },
             "line": {
              "color": "white"
             }
            },
            "type": "table"
           }
          ]
         },
         "layout": {
          "annotationdefaults": {
           "arrowcolor": "#2a3f5f",
           "arrowhead": 0,
           "arrowwidth": 1
          },
          "autotypenumbers": "strict",
          "coloraxis": {
           "colorbar": {
            "outlinewidth": 0,
            "ticks": ""
           }
          },
          "colorscale": {
           "diverging": [
            [
             0,
             "#8e0152"
            ],
            [
             0.1,
             "#c51b7d"
            ],
            [
             0.2,
             "#de77ae"
            ],
            [
             0.3,
             "#f1b6da"
            ],
            [
             0.4,
             "#fde0ef"
            ],
            [
             0.5,
             "#f7f7f7"
            ],
            [
             0.6,
             "#e6f5d0"
            ],
            [
             0.7,
             "#b8e186"
            ],
            [
             0.8,
             "#7fbc41"
            ],
            [
             0.9,
             "#4d9221"
            ],
            [
             1,
             "#276419"
            ]
           ],
           "sequential": [
            [
             0,
             "#0d0887"
            ],
            [
             0.1111111111111111,
             "#46039f"
            ],
            [
             0.2222222222222222,
             "#7201a8"
            ],
            [
             0.3333333333333333,
             "#9c179e"
            ],
            [
             0.4444444444444444,
             "#bd3786"
            ],
            [
             0.5555555555555556,
             "#d8576b"
            ],
            [
             0.6666666666666666,
             "#ed7953"
            ],
            [
             0.7777777777777778,
             "#fb9f3a"
            ],
            [
             0.8888888888888888,
             "#fdca26"
            ],
            [
             1,
             "#f0f921"
            ]
           ],
           "sequentialminus": [
            [
             0,
             "#0d0887"
            ],
            [
             0.1111111111111111,
             "#46039f"
            ],
            [
             0.2222222222222222,
             "#7201a8"
            ],
            [
             0.3333333333333333,
             "#9c179e"
            ],
            [
             0.4444444444444444,
             "#bd3786"
            ],
            [
             0.5555555555555556,
             "#d8576b"
            ],
            [
             0.6666666666666666,
             "#ed7953"
            ],
            [
             0.7777777777777778,
             "#fb9f3a"
            ],
            [
             0.8888888888888888,
             "#fdca26"
            ],
            [
             1,
             "#f0f921"
            ]
           ]
          },
          "colorway": [
           "#636efa",
           "#EF553B",
           "#00cc96",
           "#ab63fa",
           "#FFA15A",
           "#19d3f3",
           "#FF6692",
           "#B6E880",
           "#FF97FF",
           "#FECB52"
          ],
          "font": {
           "color": "#2a3f5f"
          },
          "geo": {
           "bgcolor": "white",
           "lakecolor": "white",
           "landcolor": "white",
           "showlakes": true,
           "showland": true,
           "subunitcolor": "#C8D4E3"
          },
          "hoverlabel": {
           "align": "left"
          },
          "hovermode": "closest",
          "mapbox": {
           "style": "light"
          },
          "paper_bgcolor": "white",
          "plot_bgcolor": "white",
          "polar": {
           "angularaxis": {
            "gridcolor": "#EBF0F8",
            "linecolor": "#EBF0F8",
            "ticks": ""
           },
           "bgcolor": "white",
           "radialaxis": {
            "gridcolor": "#EBF0F8",
            "linecolor": "#EBF0F8",
            "ticks": ""
           }
          },
          "scene": {
           "xaxis": {
            "backgroundcolor": "white",
            "gridcolor": "#DFE8F3",
            "gridwidth": 2,
            "linecolor": "#EBF0F8",
            "showbackground": true,
            "ticks": "",
            "zerolinecolor": "#EBF0F8"
           },
           "yaxis": {
            "backgroundcolor": "white",
            "gridcolor": "#DFE8F3",
            "gridwidth": 2,
            "linecolor": "#EBF0F8",
            "showbackground": true,
            "ticks": "",
            "zerolinecolor": "#EBF0F8"
           },
           "zaxis": {
            "backgroundcolor": "white",
            "gridcolor": "#DFE8F3",
            "gridwidth": 2,
            "linecolor": "#EBF0F8",
            "showbackground": true,
            "ticks": "",
            "zerolinecolor": "#EBF0F8"
           }
          },
          "shapedefaults": {
           "line": {
            "color": "#2a3f5f"
           }
          },
          "ternary": {
           "aaxis": {
            "gridcolor": "#DFE8F3",
            "linecolor": "#A2B1C6",
            "ticks": ""
           },
           "baxis": {
            "gridcolor": "#DFE8F3",
            "linecolor": "#A2B1C6",
            "ticks": ""
           },
           "bgcolor": "white",
           "caxis": {
            "gridcolor": "#DFE8F3",
            "linecolor": "#A2B1C6",
            "ticks": ""
           }
          },
          "title": {
           "x": 0.05
          },
          "xaxis": {
           "automargin": true,
           "gridcolor": "#EBF0F8",
           "linecolor": "#EBF0F8",
           "ticks": "",
           "title": {
            "standoff": 15
           },
           "zerolinecolor": "#EBF0F8",
           "zerolinewidth": 2
          },
          "yaxis": {
           "automargin": true,
           "gridcolor": "#EBF0F8",
           "linecolor": "#EBF0F8",
           "ticks": "",
           "title": {
            "standoff": 15
           },
           "zerolinecolor": "#EBF0F8",
           "zerolinewidth": 2
          }
         }
        },
        "title": {
         "text": "Top 10 Profiles That Liked the Most Posts"
        },
        "xaxis": {
         "anchor": "y",
         "domain": [
          0,
          1
         ],
         "tickangle": 45,
         "title": {
          "text": "Username"
         }
        },
        "yaxis": {
         "anchor": "x",
         "domain": [
          0,
          1
         ],
         "range": [
          0,
          626.75
         ],
         "title": {
          "text": "Likes Given"
         }
        }
       }
      }
     },
     "metadata": {},
     "output_type": "display_data"
    }
   ],
   "source": [
    "# Fetch all likes\n",
    "likes = session.query(Likes).all()\n",
    "\n",
    "# Count likes per profile\n",
    "like_counts = Counter([like.profile_id for like in likes if like.profile_id])\n",
    "\n",
    "# Convert to DataFrame\n",
    "df_top_likers = pd.DataFrame(like_counts.items(), columns=['profile_id', 'like_count'])\n",
    "\n",
    "# Map usernames\n",
    "profiles = session.query(Profile).all()\n",
    "profile_map = {p.id: p.username for p in profiles}\n",
    "df_top_likers['username'] = df_top_likers['profile_id'].map(profile_map)\n",
    "\n",
    "# Sort and select top 10\n",
    "df_top_likers = df_top_likers.sort_values('like_count', ascending=False).head(10)\n",
    "\n",
    "# Plot with Plotly\n",
    "fig = px.bar(\n",
    "    df_top_likers,\n",
    "    x='username',\n",
    "    y='like_count',\n",
    "    text='like_count',\n",
    "    title='Top 10 Profiles That Liked the Most Posts',\n",
    "    labels={'like_count': 'Number of Likes Given', 'username': 'Username'},\n",
    "    color='like_count',\n",
    "    color_continuous_scale='Blues'\n",
    ")\n",
    "\n",
    "# Add spacing and improve visibility\n",
    "max_likes = df_top_likers['like_count'].max()\n",
    "fig.update_traces(textposition='outside')\n",
    "\n",
    "fig.update_layout(\n",
    "    yaxis=dict(range=[0, max_likes * 1.15]),  # Add 15% headroom\n",
    "    xaxis_tickangle=45,\n",
    "    template='plotly_white',\n",
    "    margin=dict(t=80),  # More top margin\n",
    "    yaxis_title='Likes Given',\n",
    "    xaxis_title='Username'\n",
    ")\n",
    "\n",
    "fig.show()"
   ]
  }
 ],
 "metadata": {
  "kernelspec": {
   "display_name": "dj-gpt",
   "language": "python",
   "name": "python3"
  },
  "language_info": {
   "codemirror_mode": {
    "name": "ipython",
    "version": 3
   },
   "file_extension": ".py",
   "mimetype": "text/x-python",
   "name": "python",
   "nbconvert_exporter": "python",
   "pygments_lexer": "ipython3",
   "version": "3.12.3"
  }
 },
 "nbformat": 4,
 "nbformat_minor": 5
}
